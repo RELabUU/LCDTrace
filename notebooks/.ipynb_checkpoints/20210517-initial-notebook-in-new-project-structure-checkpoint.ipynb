{
 "cells": [
  {
   "cell_type": "markdown",
   "id": "amber-discovery",
   "metadata": {},
   "source": [
    "# 0. Import Dependencies of the Project"
   ]
  },
  {
   "cell_type": "code",
   "execution_count": 2,
   "id": "aggregate-cambridge",
   "metadata": {},
   "outputs": [],
   "source": [
    "#Import Python Libraries\n",
    "import pandas as pd\n",
    "import pickle\n",
    "import time\n",
    "import numpy as np\n",
    "\n",
    "#Import Self-written Functions\n",
    "import os\n",
    "import sys\n",
    "src_dir = os.path.join(os.getcwd(), '..', 'src')\n",
    "sys.path.append(src_dir)\n",
    "\n",
    "from d00_utils.calculateTimeDifference import calculateTimeDifference #Function to calc time difference\n",
    "from d01_data.loadCommits import loadCommits #Function to load SVN data\n",
    "from d02_intermediate.cleanCommitData import cleanCommitData #Function to clean commit data\n",
    "from d02_intermediate.cleanJiraData import cleanJiraData #Function to clean JIRA data\n",
    "from d03_processing.createCorpusFromDocumentList import createCorpusFromDocumentList #Function to create a corpus\n",
    "from d03_processing.checkValidityTrace import checkValidityTrace #Function to see if a trace is valid\n",
    "from d03_processing.calculateTimeDif import calculateTimeDif #Calculate the time difference between 2 dates in seconds\n",
    "from d03_processing.checkFullnameEqualsEmail import checkFullnameEqualsEmail #Check if fullName is equal to the email\n",
    "from d03_processing.calculateCosineSimilarity import calculateCosineSimilarity #Calculate the cos similarity\n",
    "from d04_modelling.summariseClassDistribution import summariseClassDistribution #Visualize the class distribution\n",
    "from d04_modelling.showModelPerformance import showModelPerformance # Show several performance measures\n",
    "\n"
   ]
  },
  {
   "cell_type": "markdown",
   "id": "skilled-destination",
   "metadata": {},
   "source": [
    "# 1. Load Raw Data"
   ]
  },
  {
   "cell_type": "code",
   "execution_count": null,
   "id": "tight-panel",
   "metadata": {},
   "outputs": [],
   "source": [
    "#Import raw JIRA dataset\n",
    "rawData_JIRA_dataProcessing = pd.read_csv('../data/01_raw/JIRA Mendix.csv')\n",
    "rawData_JIRA_academy = pd.read_excel('../data/01_raw/JIRA Mendix Academy export.xlsx')\n",
    "rawData_JIRA_academyMay = pd.read_excel('../data/01_raw/JIRA Mendix Academy export_15_05_2021.xlsx')\n",
    "\n",
    "#import\n",
    "rawData_SVN_dataProcessing = loadCommits(\"../data/01_raw/data-processing-svn-dump.txt\")\n",
    "rawData_SVN_academy= loadCommits(\"../data/01_raw/academy-svn-dump.txt\")"
   ]
  },
  {
   "cell_type": "markdown",
   "id": "annoying-heater",
   "metadata": {},
   "source": [
    "# 2. Clean Raw Data\n",
    "## 2.1 Clean Raw Data - SVN Data\n",
    "Clean the raw data of the SVN files"
   ]
  },
  {
   "cell_type": "code",
   "execution_count": null,
   "id": "greek-trademark",
   "metadata": {},
   "outputs": [],
   "source": [
    "intermediateData_SVN_dataProcessing = cleanCommitData(rawData_SVN_dataProcessing)\n",
    "intermediateData_SVN_academy = cleanCommitData(rawData_SVN_academy)\n",
    "\n",
    "#Create a temp XLSX file for all intermediate datasets\n",
    "intermediateData_SVN_dataProcessing.to_excel(excel_writer = \"../data/02_intermediate/intermediateData_SVN_dataProcessing.xlsx\", index = False)\n",
    "intermediateData_SVN_academy.to_excel(excel_writer = \"../data/02_intermediate/intermediateData_SVN_academy.xlsx\", index = False)\n",
    "\n",
    "#Create a pickle file for all intermediate datasets\n",
    "intermediateData_SVN_dataProcessing.to_pickle(path= \"../data/02_intermediate/intermediateData_SVN_dataProcessing.pkl\")\n",
    "intermediateData_SVN_academy.to_pickle(path= \"../data/02_intermediate/intermediateData_SVN_academy.pkl\")\n"
   ]
  },
  {
   "cell_type": "markdown",
   "id": "aggregate-arena",
   "metadata": {},
   "source": [
    "## 2.2 Clean Raw Data - JIRA Data\n",
    "Clean the raw data of the JIRA files"
   ]
  },
  {
   "cell_type": "code",
   "execution_count": null,
   "id": "recreational-vocabulary",
   "metadata": {},
   "outputs": [],
   "source": [
    "#Rename key to Issue key\n",
    "rawData_JIRA_academyMay = rawData_JIRA_academyMay.rename({'Key': 'Issue key'}, axis=1)\n",
    "\n",
    "#Clean Data sets\n",
    "intermediateData_JIRA_dataProcessing = cleanJiraData(dataFrame = rawData_JIRA_dataProcessing, cleanComments = True, commentAmount = 39)\n",
    "intermediateData_JIRA_academyMay = cleanJiraData(dataFrame = rawData_JIRA_academyMay, cleanComments = False, commentAmount = 0)\n",
    "\n",
    "#Create a temp XLSX file for all intermediate datasets\n",
    "intermediateData_JIRA_dataProcessing.to_excel(excel_writer = \"../data/02_intermediate/intermediateData_JIRA_dataProcessing.xlsx\", index = False)\n",
    "intermediateData_JIRA_academyMay.to_excel(excel_writer = \"../data/02_intermediate/intermediateData_JIRA_academyMay.xlsx\", index = False)\n",
    "\n",
    "#Create a pickle file for all intermediate datasets\n",
    "intermediateData_JIRA_dataProcessing.to_pickle(path= \"../data/02_intermediate/intermediateData_JIRA_dataProcessing.pkl\")\n",
    "intermediateData_JIRA_academyMay.to_pickle(path= \"../data/02_intermediate/intermediateData_JIRA_academyMay.pkl\")"
   ]
  },
  {
   "cell_type": "markdown",
   "id": "confirmed-female",
   "metadata": {},
   "source": [
    "## 2.3 Clean Raw Data - Create JIRA Corpora\n",
    "Create the corpora for JIRA"
   ]
  },
  {
   "cell_type": "code",
   "execution_count": null,
   "id": "improving-davis",
   "metadata": {},
   "outputs": [],
   "source": [
    "#Create JIRA corpus for dataProcessing dataset\n",
    "intermediateData_JIRA_dataProcessingCorpusSummary = createCorpusFromDocumentList(intermediateData_JIRA_dataProcessing.Summary)\n",
    "intermediateData_JIRA_dataProcessingCorpusDescription = createCorpusFromDocumentList(intermediateData_JIRA_dataProcessing.Description)\n",
    "intermediateData_JIRA_dataProcessingCorpusComments = createCorpusFromDocumentList(intermediateData_JIRA_dataProcessing.Comments)\n",
    "\n",
    "#Create JIRA corpus for academy dataset\n",
    "intermediateData_JIRA_academyMayCorpusSummary = createCorpusFromDocumentList(intermediateData_JIRA_academyMay.Summary)\n",
    "intermediateData_JIRA_academyMayCorpusDescription = createCorpusFromDocumentList(intermediateData_JIRA_academyMay.Description)\n",
    "\n",
    "#Merge all JIRA Corpora into 1 corpus\n",
    "intermediateData_JIRA_dataProcessingCorpus = [i+\" \"+j+\" \"+k for i,j,k in zip(intermediateData_JIRA_dataProcessingCorpusSummary,\n",
    "                                                                             intermediateData_JIRA_dataProcessingCorpusDescription,\n",
    "                                                                             intermediateData_JIRA_dataProcessingCorpusComments)]\n",
    "\n",
    "intermediateData_JIRA_academyMayCorpus = [i+\" \"+j for i,j in zip(intermediateData_JIRA_academyMayCorpusSummary,\n",
    "                                                                 intermediateData_JIRA_academyMayCorpusDescription)]\n",
    "\n",
    "\n",
    "#Save intermediate pickles\n",
    "with open('../data/02_intermediate/intermediateData_JIRA_dataProcessingCorpus.pkl', 'wb') as f:\n",
    "    pickle.dump(intermediateData_JIRA_dataProcessingCorpus, f)\n",
    "with open('../data/02_intermediate/intermediateData_JIRA_academyMayCorpus.pkl', 'wb') as f:\n",
    "    pickle.dump(intermediateData_JIRA_academyMayCorpus, f)"
   ]
  },
  {
   "cell_type": "markdown",
   "id": "boring-hayes",
   "metadata": {},
   "source": [
    "## 2.4 Clean Raw Data - Create SVN Corpora\n",
    "Create the corpora for SVN"
   ]
  },
  {
   "cell_type": "code",
   "execution_count": null,
   "id": "ceramic-crash",
   "metadata": {},
   "outputs": [],
   "source": [
    "#Create corpus for log messages\n",
    "intermediateData_SVN_dataProcessingCorpus = createCorpusFromDocumentList(intermediateData_SVN_dataProcessing.Logs)\n",
    "intermediateData_SVN_academyCorpus = createCorpusFromDocumentList(intermediateData_SVN_academy.Logs)\n",
    "\n",
    "#Save intermediate pickles\n",
    "with open('../data/02_intermediate/intermediateData_SVN_dataProcessingCorpus.pkl', 'wb') as f:\n",
    "    pickle.dump(intermediateData_SVN_dataProcessingCorpus, f)\n",
    "with open('../data/02_intermediate/intermediateData_SVN_academyCorpus.pkl', 'wb') as f:\n",
    "    pickle.dump(intermediateData_SVN_academyCorpus, f)"
   ]
  },
  {
   "cell_type": "markdown",
   "id": "federal-stomach",
   "metadata": {},
   "source": [
    "# 3. Preprocess Data"
   ]
  },
  {
   "cell_type": "code",
   "execution_count": null,
   "id": "individual-helena",
   "metadata": {},
   "outputs": [],
   "source": [
    "#Run this code block when you've restarted the kernel, and want to use previously gained results.\n",
    "intermediateData_JIRA_dataProcessing = pd.read_pickle(\"../data/02_intermediate/intermediateData_JIRA_dataProcessing.pkl\")\n",
    "intermediateData_JIRA_academyMay = pd.read_pickle(\"../data/02_intermediate/intermediateData_JIRA_academyMay.pkl\")\n",
    "\n",
    "intermediateData_SVN_dataProcessing = pd.read_pickle(\"../data/02_intermediate/intermediateData_SVN_dataProcessing.pkl\")\n",
    "intermediateData_SVN_academy = pd.read_pickle(\"../data/02_intermediate/intermediateData_SVN_academy.pkl\")\n",
    "\n",
    "\n",
    "\n",
    "intermediateData_JIRA_dataProcessingCorpus = pd.read_pickle(r'../data/02_intermediate/intermediateData_JIRA_dataProcessingCorpus.pkl')\n",
    "intermediateData_JIRA_academyMayCorpus = pd.read_pickle(r'../data/02_intermediate/intermediateData_JIRA_academyMayCorpus.pkl')\n",
    "intermediateData_SVN_dataProcessingCorpus = pd.read_pickle(r'../data/02_intermediate/intermediateData_SVN_dataProcessingCorpus.pkl')\n",
    "intermediateData_SVN_academyCorpus = pd.read_pickle(r'../data/02_intermediate/intermediateData_SVN_academyCorpus.pkl')"
   ]
  },
  {
   "cell_type": "markdown",
   "id": "subsequent-processor",
   "metadata": {},
   "source": [
    "## 3.0 Preprocess Data - Create cartesian product JIRA x Commits"
   ]
  },
  {
   "cell_type": "code",
   "execution_count": null,
   "id": "professional-tourism",
   "metadata": {},
   "outputs": [],
   "source": [
    "#Create cartesian products JIRA x Commits\n",
    "processedData_dataProcessingCartesian = intermediateData_JIRA_dataProcessing.merge(intermediateData_SVN_dataProcessing, how='cross')\n",
    "processedData_academyCartesian = intermediateData_JIRA_academyMay.merge(intermediateData_SVN_academy, how='cross')"
   ]
  },
  {
   "cell_type": "markdown",
   "id": "julian-recipient",
   "metadata": {},
   "source": [
    "## 3.1 Preprocess Data - Create Labels"
   ]
  },
  {
   "cell_type": "code",
   "execution_count": null,
   "id": "endless-renewal",
   "metadata": {},
   "outputs": [],
   "source": [
    "#Create new dataFrames for the time features\n",
    "processedData_dataProcessingLabels = pd.DataFrame() \n",
    "processedData_academyLabels = pd.DataFrame() \n",
    "\n",
    "#Create a column, which indicates which traces are valid.\n",
    "processedData_dataProcessingLabels[\"is_valid\"] = processedData_dataProcessingCartesian.apply(lambda x: checkValidityTrace(x.Issue_key_jira, x.Issue_key_commit), axis=1)\n",
    "print(\"Finished creating labels for dataProcessing\")\n",
    "processedData_academyLabels[\"is_valid\"] = processedData_academyCartesian.apply(lambda x: checkValidityTrace(x.Issue_key_jira, x.Issue_key_commit), axis=1)\n",
    "print(\"Finished creating labels for academy\")\n",
    "\n",
    "#Save intermediate results\n",
    "processedData_dataProcessingLabels.to_pickle(path= \"../data/03_processed/processedData_dataProcessingLabels.pkl\")\n",
    "processedData_academyLabels.to_pickle(path= \"../data/03_processed/processedData_academyLabels.pkl\")\n",
    "\n",
    "processedData_dataProcessingLabels.head(10)"
   ]
  },
  {
   "cell_type": "markdown",
   "id": "likely-projector",
   "metadata": {},
   "source": [
    "## 3.2 Preprocess Data - Create Time-Related Features"
   ]
  },
  {
   "cell_type": "code",
   "execution_count": null,
   "id": "effective-protest",
   "metadata": {},
   "outputs": [],
   "source": [
    "#Create new dataFrames for the time features\n",
    "processedData_dataProcessingFeaturesTime = pd.DataFrame() \n",
    "processedData_academyFeaturesTime = pd.DataFrame() \n",
    "\n",
    "#Calculate the time features for data Processing Dataset\n",
    "processedData_dataProcessingFeaturesTime['Creation_commit_date_dif'] = processedData_dataProcessingCartesian.apply(lambda x: calculateTimeDif(x.Jira_created_date, x.Commit_date), axis=1)\n",
    "processedData_dataProcessingFeaturesTime['Updated_commit_date_dif'] = processedData_dataProcessingCartesian.apply(lambda x: calculateTimeDif(x.Jira_updated_date, x.Commit_date), axis=1)\n",
    "processedData_dataProcessingFeaturesTime['Resolved_commit_date_dif'] = processedData_dataProcessingCartesian.apply(lambda x: calculateTimeDif(x.Jira_resolved_date, x.Commit_date), axis=1)\n",
    "print(\"Finished data Processing\")\n",
    "\n",
    "\n",
    "#Calculate the time features for academy Dataset\n",
    "processedData_academyFeaturesTime['Creation_commit_date_dif'] = processedData_academyCartesian.apply(lambda x: calculateTimeDif(x.Jira_created_date, x.Commit_date), axis=1)\n",
    "processedData_academyFeaturesTime['Updated_commit_date_dif'] = processedData_academyCartesian.apply(lambda x: calculateTimeDif(x.Jira_updated_date, x.Commit_date), axis=1)\n",
    "processedData_academyFeaturesTime['Resolved_commit_date_dif'] = processedData_academyCartesian.apply(lambda x: calculateTimeDif(x.Jira_resolved_date, x.Commit_date), axis=1)\n",
    "print(\"Finished academy\")\n",
    "\n",
    "#Create a pickle file for all intermediate datasets\n",
    "processedData_dataProcessingFeaturesTime.to_pickle(path= \"../data/03_processed/processedData_dataProcessingFeaturesTime.pkl\")\n",
    "processedData_academyFeaturesTime.to_pickle(path= \"../data/03_processed/processedData_academyFeaturesTime.pkl\")"
   ]
  },
  {
   "cell_type": "markdown",
   "id": "continuing-monster",
   "metadata": {},
   "source": [
    "## 3.3 Preprocess Data - Create Stakeholder-Related Features"
   ]
  },
  {
   "cell_type": "code",
   "execution_count": null,
   "id": "structural-giving",
   "metadata": {},
   "outputs": [],
   "source": [
    "#Create new dataFrames for the Stakeholder features\n",
    "processedData_dataProcessingFeaturesStakeholder = pd.DataFrame() \n",
    "processedData_academyFeaturesStakeholder = pd.DataFrame() \n",
    "\n",
    "processedData_dataProcessingFeaturesStakeholder['Assignee_is_commiter'] = processedData_dataProcessingCartesian.apply(lambda x: checkFullnameEqualsEmail(x.Assignee, x.Email), axis=1)\n",
    "print(\"Finished dataProcessing\")\n",
    "processedData_academyFeaturesStakeholder['Assignee_is_commiter'] = processedData_academyCartesian.apply(lambda x: checkFullnameEqualsEmail(x.Assignee, x.Email), axis=1)\n",
    "print(\"Finished academy\")\n",
    "\n",
    "#Create a pickle file for all intermediate datasets\n",
    "processedData_dataProcessingFeaturesStakeholder.to_pickle(path= \"../data/03_processed/processedData_dataProcessingFeaturesStakeholder.pkl\")\n",
    "processedData_academyFeaturesStakeholder.to_pickle(path= \"../data/03_processed/processedData_academyFeaturesStakeholder.pkl\")"
   ]
  },
  {
   "cell_type": "markdown",
   "id": "thick-matrix",
   "metadata": {},
   "source": [
    "## 3.4 Preprocess Data - Create Cosine Similarity Features\n",
    "\n",
    "### 3.4.1 DataProcessing - Cosine Similarity"
   ]
  },
  {
   "cell_type": "code",
   "execution_count": null,
   "id": "clinical-feature",
   "metadata": {},
   "outputs": [],
   "source": [
    "#Start timer\n",
    "startTime = time.time() \n",
    "\n",
    "#Create new dataFrame\n",
    "processedData_dataProcessingFeaturesVsmJiraToCommitSummary = pd.DataFrame() \n",
    "\n",
    "#Calculate cosine similarity for each trace\n",
    "processedData_dataProcessingFeaturesVsmJiraToCommitSummary[\"vsm_jira_to_commit_summary\"] = processedData_dataProcessingCartesian.apply(lambda x: calculateCosineSimilarity(x.Summary, x.Logs, intermediateData_JIRA_dataProcessingCorpus), \n",
    "                                                            axis=1)\n",
    "\n",
    "#Save results in pickle\n",
    "processedData_dataProcessingFeaturesVsmJiraToCommitSummary.to_pickle(path= \"../data/03_processed/processedData_dataProcessingFeaturesVsmJiraToCommitSummary.pkl\")\n",
    "\n",
    "endTime = time.time()\n",
    "timeDifference = calculateTimeDifference(startTime=startTime, endTime=endTime)\n",
    "print(\"Finished creating 'VSM - Summary JIRA -> SVN' after \" + timeDifference)"
   ]
  },
  {
   "cell_type": "markdown",
   "id": "continental-current",
   "metadata": {},
   "source": [
    "# ------ Test"
   ]
  },
  {
   "cell_type": "code",
   "execution_count": null,
   "id": "authentic-family",
   "metadata": {},
   "outputs": [],
   "source": [
    "from sklearn.feature_extraction.text import TfidfTransformer \n",
    "from sklearn.feature_extraction.text import CountVectorizer \n",
    "from sklearn.metrics.pairwise import cosine_similarity\n",
    "import pandas as pd\n",
    "\n",
    "\n",
    "def calc_vector_representation(document, corpus):\n",
    "    #instantiate CountVectorizer() \n",
    "    cv = CountVectorizer()\n",
    "    \n",
    "    # Generate the word counts for the corpus\n",
    "    word_count_vector = cv.fit_transform(corpus)\n",
    "    tfidf_transformer = TfidfTransformer(smooth_idf = True, use_idf = True) \n",
    "    tfidf_transformer.fit(word_count_vector)\n",
    "    \n",
    "    #Transform document type to a string\n",
    "    documentString = document\n",
    "    \n",
    "    #Calculate the Term Frequency of the document\n",
    "    inputDocs = [documentString] \n",
    "\n",
    "    # count matrix \n",
    "    count_vector = cv.transform(inputDocs) \n",
    " \n",
    "    #tf-idf scores \n",
    "    tf_idf_vector = tfidf_transformer.transform(count_vector)\n",
    "\n",
    "    feature_names = cv.get_feature_names() \n",
    " \n",
    "    #get tfidf vector for first document \n",
    "    document_vector=tf_idf_vector[0] \n",
    " \n",
    "    #print the scores \n",
    "    \n",
    "    # place tf-idf values in a pandas data frame \n",
    "    df = pd.DataFrame(document_vector.T.todense(), index=feature_names, columns=[\"tfidf\"]) \n",
    "    df.sort_values(by=[\"tfidf\"],ascending=False)\n",
    "\n",
    "    return(document_vector.T.todense())\n",
    "\n",
    "def calculateCosineSimilarityTest(document1, document2, corpus):\n",
    "    #Transform document to string type\n",
    "    document1String = ' '.join(document1)\n",
    "    document2String = ' '.join(document2)\n",
    "\n",
    "    vector1 = calc_vector_representation(document1String, corpus)\n",
    "    vector2 = calc_vector_representation(document2String, corpus)\n",
    "    \n",
    "    #The cosine similarity. Produces NaN if no terms are found in the corpus.   \n",
    "    result = cosine_similarity(vector1, vector2)\n",
    "    return(result)\n",
    "\n",
    "\n",
    "#Start timer\n",
    "startTime = time.time() \n",
    "\n",
    "#Create new dataFrame\n",
    "processedData_dataProcessingFeaturesVsmCommitToJiraSummary = pd.DataFrame() \n",
    "\n",
    "#Calculate cosine similarity for each trace\n",
    "processedData_dataProcessingFeaturesVsmCommitToJiraSummary[\"vsm_commit_to_jira_summary\"] = processedData_dataProcessingCartesian.apply(lambda x: calculateCosineSimilarityTest(x.Summary, x.Logs, intermediateData_SVN_dataProcessingCorpus), \n",
    "                                                            axis=1)\n",
    "\n",
    "#Save results in pickle\n",
    "processedData_dataProcessingFeaturesVsmCommitToJiraSummary.to_pickle(path= \"../data/03_processed/processedData_dataProcessingFeaturesVsmCommitToJiraSummary.pkl\")\n",
    "\n",
    "endTime = time.time()\n",
    "timeDifference = calculateTimeDifference(startTime=startTime, endTime=endTime)\n",
    "print(\"Finished creating 'VSM - Summary SVN -> JIRA' after \" + timeDifference)"
   ]
  },
  {
   "cell_type": "code",
   "execution_count": null,
   "id": "designing-picking",
   "metadata": {},
   "outputs": [],
   "source": [
    "processedData_dataProcessingFeaturesVsmCommitToJiraSummary.head(20)"
   ]
  },
  {
   "cell_type": "code",
   "execution_count": null,
   "id": "existing-royalty",
   "metadata": {},
   "outputs": [],
   "source": [
    "#Start timer\n",
    "startTime = time.time() \n",
    "\n",
    "#Create new dataFrame\n",
    "processedData_dataProcessingFeaturesVsmCommitToJiraSummary = pd.DataFrame() \n",
    "\n",
    "#Calculate cosine similarity for each trace\n",
    "processedData_dataProcessingFeaturesVsmCommitToJiraSummary[\"vsm_commit_to_jira_summary\"] = processedData_dataProcessingCartesian.apply(lambda x: calculateCosineSimilarity(x.Summary, x.Logs, intermediateData_SVN_dataProcessingCorpus), \n",
    "                                                            axis=1)\n",
    "\n",
    "#Save results in pickle\n",
    "processedData_dataProcessingFeaturesVsmCommitToJiraSummary.to_pickle(path= \"../data/03_processed/processedData_dataProcessingFeaturesVsmCommitToJiraSummary.pkl\")\n",
    "\n",
    "endTime = time.time()\n",
    "timeDifference = calculateTimeDifference(startTime=startTime, endTime=endTime)\n",
    "print(\"Finished creating 'VSM - Summary SVN -> JIRA' after \" + timeDifference)"
   ]
  },
  {
   "cell_type": "code",
   "execution_count": null,
   "id": "clear-animal",
   "metadata": {},
   "outputs": [],
   "source": [
    "#Start timer\n",
    "startTime = time.time() \n",
    "\n",
    "#Create new dataFrame\n",
    "processedData_dataProcessingFeaturesVsmJiraToCommitDescription = pd.DataFrame() \n",
    "\n",
    "#Calculate cosine similarity for each trace\n",
    "processedData_dataProcessingFeaturesVsmJiraToCommitDescription[\"vsm_jira_to_commit_description\"] = processedData_dataProcessingCartesian.apply(lambda x: calculateCosineSimilarity(x.Description, x.Logs, intermediateData_JIRA_dataProcessingCorpus), \n",
    "                                                            axis=1)\n",
    "\n",
    "#Save results in pickle\n",
    "processedData_dataProcessingFeaturesVsmJiraToCommitDescription.to_pickle(path= \"../data/03_processed/processedData_dataProcessingFeaturesVsmJiraToCommitDescription.pkl\")\n",
    "\n",
    "endTime = time.time()\n",
    "timeDifference = calculateTimeDifference(startTime=startTime, endTime=endTime)\n",
    "print(\"Finished creating 'VSM - Description JIRA -> SVN' after \" + timeDifference)"
   ]
  },
  {
   "cell_type": "code",
   "execution_count": null,
   "id": "improving-dividend",
   "metadata": {},
   "outputs": [],
   "source": [
    "#Start timer\n",
    "startTime = time.time() \n",
    "\n",
    "#Create new dataFrame\n",
    "processedData_dataProcessingFeaturesVsmCommitToJiraDescription = pd.DataFrame() \n",
    "\n",
    "#Calculate cosine similarity for each trace\n",
    "processedData_dataProcessingFeaturesVsmCommitToJiraDescription[\"vsm_commit_to_jira_description\"] = processedData_dataProcessingCartesian.apply(lambda x: calculateCosineSimilarity(x.Description, x.Logs, intermediateData_SVN_dataProcessingCorpus), \n",
    "                                                            axis=1)\n",
    "\n",
    "#Save results in pickle\n",
    "processedData_dataProcessingFeaturesVsmCommitToJiraDescription.to_pickle(path= \"../data/03_processed/processedData_dataProcessingFeaturesVsmCommitToJiraDescription.pkl\")\n",
    "\n",
    "endTime = time.time()\n",
    "timeDifference = calculateTimeDifference(startTime=startTime, endTime=endTime)\n",
    "print(\"Finished creating 'VSM - Description SVN -> JIRA' after \" + timeDifference)"
   ]
  },
  {
   "cell_type": "code",
   "execution_count": null,
   "id": "nonprofit-signature",
   "metadata": {},
   "outputs": [],
   "source": [
    "#Start timer\n",
    "startTime = time.time() \n",
    "\n",
    "#Create new dataFrame\n",
    "processedData_dataProcessingFeaturesVsmJiraToCommitComments = pd.DataFrame() \n",
    "\n",
    "#Calculate cosine similarity for each trace\n",
    "processedData_dataProcessingFeaturesVsmJiraToCommitComments[\"vsm_jira_to_commit_description\"] = processedData_dataProcessingCartesian.apply(lambda x: calculateCosineSimilarity(x.Comments, x.Logs, intermediateData_JIRA_dataProcessingCorpus), \n",
    "                                                            axis=1)\n",
    "\n",
    "#Save results in pickle\n",
    "processedData_dataProcessingFeaturesVsmJiraToCommitComments.to_pickle(path= \"../data/03_processed/processedData_dataProcessingFeaturesVsmJiraToCommitComments.pkl\")\n",
    "\n",
    "endTime = time.time()\n",
    "timeDifference = calculateTimeDifference(startTime=startTime, endTime=endTime)\n",
    "print(\"Finished creating 'VSM - Comments JIRA -> SVN' after \" + timeDifference)"
   ]
  },
  {
   "cell_type": "code",
   "execution_count": null,
   "id": "excited-middle",
   "metadata": {},
   "outputs": [],
   "source": [
    "#Start timer\n",
    "startTime = time.time() \n",
    "\n",
    "#Create new dataFrame\n",
    "processedData_dataProcessingFeaturesVsmCommitToJiraComments = pd.DataFrame() \n",
    "\n",
    "#Calculate cosine similarity for each trace\n",
    "processedData_dataProcessingFeaturesVsmCommitToJiraComments[\"vsm_commit_to_jira_comments\"] = processedData_dataProcessingCartesian.apply(lambda x: calculateCosineSimilarity(x.Comments, x.Logs, intermediateData_SVN_dataProcessingCorpus), \n",
    "                                                            axis=1)\n",
    "\n",
    "#Save results in pickle\n",
    "processedData_dataProcessingFeaturesVsmCommitToJiraComments.to_pickle(path= \"../data/03_processed/processedData_dataProcessingFeaturesVsmCommitToJiraComments.pkl\")\n",
    "\n",
    "endTime = time.time()\n",
    "timeDifference = calculateTimeDifference(startTime=startTime, endTime=endTime)\n",
    "print(\"Finished creating 'VSM - Comments SVN -> JIRA' after \" + timeDifference)"
   ]
  },
  {
   "cell_type": "code",
   "execution_count": null,
   "id": "enormous-struggle",
   "metadata": {},
   "outputs": [],
   "source": [
    "#Read intermediate results\n",
    "processedData_dataProcessingFeaturesVsmJiraToCommitSummary = pd.read_pickle(r'../data/03_processed/processedData_dataProcessingFeaturesVsmJiraToCommitSummary.pkl')\n",
    "processedData_dataProcessingFeaturesVsmJiraToCommitDescription = pd.read_pickle(r'../data/03_processed/processedData_dataProcessingFeaturesVsmJiraToCommitDescription.pkl')\n",
    "processedData_dataProcessingFeaturesVsmCommitToJiraSummary = pd.read_pickle(r'../data/03_processed/processedData_dataProcessingFeaturesVsmCommitToJiraSummary.pkl')\n",
    "processedData_dataProcessingFeaturesVsmCommitToJiraDescription = pd.read_pickle(r'../data/03_processed/processedData_dataProcessingFeaturesVsmCommitToJiraDescription.pkl')\n",
    "\n",
    "#Merge all dataframes into 1\n",
    "processedData_dataProcessingFeaturesVsm = pd.concat([processedData_dataProcessingFeaturesVsmJiraToCommitSummary,\n",
    "                                                     processedData_dataProcessingFeaturesVsmJiraToCommitDescription,\n",
    "                                                     processedData_dataProcessingFeaturesVsmCommitToJiraSummary,\n",
    "                                                     processedData_dataProcessingFeaturesVsmCommitToJiraDescription], axis=1)\n",
    "#Save intermediate results\n",
    "processedData_dataProcessingFeaturesVsm.to_pickle(path= \"../data/03_processed/processedData_dataProcessingFeaturesVsm.pkl\")\n",
    "\n",
    "processedData_dataProcessingFeaturesVsm.head(10)"
   ]
  },
  {
   "cell_type": "markdown",
   "id": "usual-raising",
   "metadata": {},
   "source": [
    "### 3.4.2 Academy - Cosine Similarity"
   ]
  },
  {
   "cell_type": "code",
   "execution_count": null,
   "id": "average-thanks",
   "metadata": {},
   "outputs": [],
   "source": [
    "#Start timer\n",
    "startTime = time.time() \n",
    "\n",
    "#Create new dataFrame\n",
    "processedData_academyFeaturesVsmJiraToCommitSummary = pd.DataFrame() \n",
    "\n",
    "#Calculate cosine similarity for each trace\n",
    "processedData_academyFeaturesVsmJiraToCommitSummary[\"vsm_jira_to_commit_summary\"] = processedData_academyCartesian.apply(lambda x: calculateCosineSimilarity(x.Summary, x.Logs, intermediateData_JIRA_academyMayCorpus), \n",
    "                                                            axis=1)\n",
    "\n",
    "#Save results in pickle\n",
    "processedData_academyFeaturesVsmJiraToCommitSummary.to_pickle(path= \"../data/03_processed/processedData_dataProcessingFeaturesVsmJiraToCommitSummary.pkl\")\n",
    "\n",
    "endTime = time.time()\n",
    "timeDifference = calculateTimeDifference(startTime=startTime, endTime=endTime)\n",
    "print(\"Finished creating 'VSM - Summary JIRA -> SVN' after \" + timeDifference)"
   ]
  },
  {
   "cell_type": "code",
   "execution_count": null,
   "id": "august-guard",
   "metadata": {},
   "outputs": [],
   "source": [
    "#Start timer\n",
    "startTime = time.time() \n",
    "\n",
    "#Create new dataFrame\n",
    "processedData_academyFeaturesVsmCommitToJiraDescription = pd.DataFrame() \n",
    "\n",
    "#Calculate cosine similarity for each trace\n",
    "processedData_academyFeaturesVsmCommitToJiraDescription[\"vsm_commit_to_jira_description\"] = processedData_academyCartesian.apply(lambda x: calculateCosineSimilarity(x.Description, x.Logs, intermediateData_SVN_academyMayCorpus), \n",
    "                                                            axis=1)\n",
    "\n",
    "#Save results in pickle\n",
    "processedData_academyFeaturesVsmCommitToJiraDescription.to_pickle(path= \"../data/03_processed/processedData_academyFeaturesVsmCommitToJiraDescription.pkl\")\n",
    "\n",
    "endTime = time.time()\n",
    "timeDifference = calculateTimeDifference(startTime=startTime, endTime=endTime)\n",
    "print(\"Finished creating 'VSM - Summary SVN -> JIRA' after \" + timeDifference)"
   ]
  },
  {
   "cell_type": "code",
   "execution_count": null,
   "id": "apparent-usage",
   "metadata": {},
   "outputs": [],
   "source": [
    "#Start timer\n",
    "startTime = time.time() \n",
    "\n",
    "#Create new dataFrame\n",
    "processedData_academyFeaturesVsmJiraToCommitDescription = pd.DataFrame() \n",
    "\n",
    "#Calculate cosine similarity for each trace\n",
    "processedData_academyFeaturesVsmJiraToCommitDescription[\"vsm_jira_to_commit_description\"] = processedData_academyCartesian.apply(lambda x: calculateCosineSimilarity(x.Description, x.Logs, intermediateData_JIRA_academyMayCorpus), \n",
    "                                                            axis=1)\n",
    "\n",
    "#Save results in pickle\n",
    "processedData_academyFeaturesVsmJiraToCommitDescription.to_pickle(path= \"../data/03_processed/processedData_academyFeaturesVsmJiraToCommitDescription.pkl\")\n",
    "\n",
    "endTime = time.time()\n",
    "timeDifference = calculateTimeDifference(startTime=startTime, endTime=endTime)\n",
    "print(\"Finished creating 'VSM - Description JIRA -> SVN' after \" + timeDifference)"
   ]
  },
  {
   "cell_type": "code",
   "execution_count": null,
   "id": "quality-thompson",
   "metadata": {},
   "outputs": [],
   "source": [
    "#Start timer\n",
    "startTime = time.time() \n",
    "\n",
    "#Create new dataFrame\n",
    "processedData_academyFeaturesVsmCommitToJiraSummary = pd.DataFrame() \n",
    "\n",
    "#Calculate cosine similarity for each trace\n",
    "processedData_academyFeaturesVsmCommitToJiraSummary[\"vsm_commit_to_jira_summary\"] = processedData_academyCartesian.apply(lambda x: calculateCosineSimilarity(x.Summary, x.Logs, intermediateData_SVN_academyMayCorpus), \n",
    "                                                            axis=1)\n",
    "\n",
    "#Save results in pickle\n",
    "processedData_academyFeaturesVsmCommitToJiraSummary.to_pickle(path= \"../data/03_processed/processedData_academyFeaturesVsmCommitToJiraSummary.pkl\")\n",
    "\n",
    "endTime = time.time()\n",
    "timeDifference = calculateTimeDifference(startTime=startTime, endTime=endTime)\n",
    "print(\"Finished creating 'VSM - Summary SVN -> JIRA' after \" + timeDifference)"
   ]
  },
  {
   "cell_type": "markdown",
   "id": "thick-notice",
   "metadata": {},
   "source": [
    "## 3.5 Preprocess Data - Load and transform feature families needed for training"
   ]
  },
  {
   "cell_type": "code",
   "execution_count": 168,
   "id": "wireless-anime",
   "metadata": {},
   "outputs": [],
   "source": [
    "#Load Features\n",
    "processedData_dataProcessingFeaturesTime = pd.read_pickle(r'../data/03_processed/processedData_dataProcessingFeaturesTime.pkl')\n",
    "processedData_dataProcessingFeaturesStakeholder = pd.read_pickle(r'../data/03_processed/processedData_dataProcessingFeaturesStakeholder.pkl')\n",
    "processedData_dataProcessingFeaturesVsm = pd.read_pickle(r'../data/03_processed/processedData_dataProcessingFeaturesVsm.pkl')\n",
    "\n",
    "\n",
    "processedData_dataProcessingFeaturesVsmJiraToCommitComments = pd.read_pickle(r'../data/03_processed/processedData_dataProcessingFeaturesVsmJiraToCommitComments.pkl')\n",
    "processedData_dataProcessingFeaturesVsmCommitToJiraComments = pd.read_pickle(r'../data/03_processed/processedData_dataProcessingFeaturesVsmCommitToJiraComments.pkl')\n",
    "\n",
    "#Merge features into 1 dataframe\n",
    "processedData_dataProcessingFeatures = pd.concat([processedData_dataProcessingFeaturesTime,\n",
    "                                                  processedData_dataProcessingFeaturesStakeholder,\n",
    "                                                  processedData_dataProcessingFeaturesVsm,\n",
    "                                                  processedData_dataProcessingFeaturesVsmJiraToCommitComments,\n",
    "                                                  processedData_dataProcessingFeaturesVsmCommitToJiraComments\n",
    "                                                 ], axis=1)\n",
    "#Set the NaN to 0\n",
    "processedData_dataProcessingFeatures = processedData_dataProcessingFeatures.fillna(0)\n",
    "\n",
    "#Transform pandas data frame into numpy arrays\n",
    "processedData_dataProcessingFeatures = np.array(processedData_dataProcessingFeatures)\n",
    "\n",
    "#Load labels\n",
    "processedData_dataProcessingLabels = pd.read_pickle(r'../data/03_processed/processedData_dataProcessingLabels.pkl')\n",
    "processedData_dataProcessingLabels = np.array(processedData_dataProcessingLabels[\"is_valid\"])\n",
    "\n",
    "\n",
    "\n",
    "#########################################################################################################\n",
    "\n",
    "#Load Features\n",
    "processedData_academyFeaturesTime = pd.read_pickle(r'../data/03_processed/processedData_academyFeaturesTime.pkl')\n",
    "processedData_academyFeaturesStakeholder = pd.read_pickle(r'../data/03_processed/processedData_academyFeaturesStakeholder.pkl')\n",
    "\n",
    "#Merge features into 1 dataframe\n",
    "processedData_academyFeatures = pd.concat([processedData_academyFeaturesTime,\n",
    "                                           processedData_academyFeaturesStakeholder], axis=1)\n",
    "#Set the NaN to 0\n",
    "processedData_academyFeatures = processedData_academyFeatures.fillna(0)\n",
    "\n",
    "#Transform pandas data frame into numpy arrays\n",
    "processedData_academyFeatures = np.array(processedData_academyFeatures)\n",
    "\n",
    "#Load labels\n",
    "processedData_academyLabels = pd.read_pickle(r'../data/03_processed/processedData_academyLabels.pkl')\n",
    "processedData_academyLabels = np.array(processedData_academyLabels[\"is_valid\"])"
   ]
  },
  {
   "cell_type": "markdown",
   "id": "ecological-pasta",
   "metadata": {},
   "source": [
    "# 4. Modeling\n",
    "First select which data set to train:\n"
   ]
  },
  {
   "cell_type": "code",
   "execution_count": 169,
   "id": "occupational-river",
   "metadata": {},
   "outputs": [],
   "source": [
    "features = processedData_dataProcessingFeatures\n",
    "labels = processedData_dataProcessingLabels"
   ]
  },
  {
   "cell_type": "markdown",
   "id": "completed-spencer",
   "metadata": {},
   "source": [
    "## 4.1 Create a Test and Training set"
   ]
  },
  {
   "cell_type": "code",
   "execution_count": 170,
   "id": "laden-norfolk",
   "metadata": {},
   "outputs": [],
   "source": [
    "# Using Skicit-learn to split data into training and testing sets\n",
    "from sklearn.model_selection import train_test_split\n",
    "\n",
    "# Split the data into training and testing sets\n",
    "(modelsData_trainFeatures, \n",
    " modelsData_testFeatures, \n",
    " modelsData_trainLabels, \n",
    " modelsData_testLabels) = train_test_split(features,\n",
    "                                           labels,\n",
    "                                           test_size = 0.25)"
   ]
  },
  {
   "cell_type": "markdown",
   "id": "neither-somalia",
   "metadata": {},
   "source": [
    "## 4.2 Modeling - Rebalancing the Training set\n",
    "Select a dataset for modelling"
   ]
  },
  {
   "cell_type": "code",
   "execution_count": 171,
   "id": "mysterious-lewis",
   "metadata": {},
   "outputs": [
    {
     "name": "stdout",
     "output_type": "stream",
     "text": [
      "Counter({False: 24976, True: 341})\n"
     ]
    },
    {
     "data": {
      "image/png": "[encoded data removed]",
      "text/plain": [
       "<Figure size 432x288 with 1 Axes>"
      ]
     },
     "metadata": {
      "needs_background": "light"
     },
     "output_type": "display_data"
    },
    {
     "name": "stdout",
     "output_type": "stream",
     "text": [
      "Counter({False: 4994, True: 2497})\n"
     ]
    },
    {
     "data": {
      "image/png": "[encoded data removed]",
      "text/plain": [
       "<Figure size 432x288 with 1 Axes>"
      ]
     },
     "metadata": {
      "needs_background": "light"
     },
     "output_type": "display_data"
    }
   ],
   "source": [
    "# Oversample with SMOTE and random undersample for imbalanced dataset\n",
    "from imblearn.over_sampling import SMOTE\n",
    "from imblearn.under_sampling import RandomUnderSampler\n",
    "from imblearn.pipeline import Pipeline\n",
    "\n",
    "#Visualise class distribution before rebalancing\n",
    "summariseClassDistribution(modelsData_trainFeatures, \n",
    "                           modelsData_trainLabels)\n",
    "\n",
    "# define pipeline\n",
    "over = SMOTE(sampling_strategy=0.1)\n",
    "under = RandomUnderSampler(sampling_strategy=0.5)\n",
    "steps = [('o', over), ('u', under)]\n",
    "pipeline = Pipeline(steps=steps)\n",
    "\n",
    "# transform the dataset\n",
    "modelsData_trainFeatures, modelsData_trainLabels = pipeline.fit_resample(modelsData_trainFeatures, modelsData_trainLabels)\n",
    "\n",
    "#Visualise class distribution after rebalancing\n",
    "summariseClassDistribution(modelsData_trainFeatures, \n",
    "                           modelsData_trainLabels)"
   ]
  },
  {
   "cell_type": "markdown",
   "id": "announced-packet",
   "metadata": {},
   "source": [
    "## 4.3 Modeling - Random Forest"
   ]
  },
  {
   "cell_type": "code",
   "execution_count": 175,
   "id": "sudden-geneva",
   "metadata": {},
   "outputs": [
    {
     "ename": "ValueError",
     "evalue": "X has 4 features, but DecisionTreeClassifier is expecting 10 features as input.",
     "output_type": "error",
     "traceback": [
      "\u001b[1;31m---------------------------------------------------------------------------\u001b[0m",
      "\u001b[1;31mValueError\u001b[0m                                Traceback (most recent call last)",
      "\u001b[1;32m<ipython-input-175-67e7c129d67c>\u001b[0m in \u001b[0;36m<module>\u001b[1;34m\u001b[0m\n\u001b[0;32m      9\u001b[0m \u001b[1;33m\u001b[0m\u001b[0m\n\u001b[0;32m     10\u001b[0m \u001b[1;31m#Display the model performance\u001b[0m\u001b[1;33m\u001b[0m\u001b[1;33m\u001b[0m\u001b[1;33m\u001b[0m\u001b[0m\n\u001b[1;32m---> 11\u001b[1;33m showModelPerformance(trainedModel = rf, \n\u001b[0m\u001b[0;32m     12\u001b[0m                      \u001b[0mtestFeatures\u001b[0m \u001b[1;33m=\u001b[0m \u001b[0mprocessedData_academyFeatures\u001b[0m\u001b[1;33m,\u001b[0m\u001b[1;33m\u001b[0m\u001b[1;33m\u001b[0m\u001b[0m\n\u001b[0;32m     13\u001b[0m                      testLabels = processedData_academyLabels)\n",
      "\u001b[1;32m~\\OneDrive\\UU\\Master\\12. Master Thesis\\TRAM\\notebooks\\..\\src\\d04_modelling\\showModelPerformance.py\u001b[0m in \u001b[0;36mshowModelPerformance\u001b[1;34m(trainedModel, testFeatures, testLabels)\u001b[0m\n\u001b[0;32m     13\u001b[0m \u001b[1;32mdef\u001b[0m \u001b[0mshowModelPerformance\u001b[0m\u001b[1;33m(\u001b[0m\u001b[0mtrainedModel\u001b[0m\u001b[1;33m,\u001b[0m \u001b[0mtestFeatures\u001b[0m\u001b[1;33m,\u001b[0m \u001b[0mtestLabels\u001b[0m\u001b[1;33m)\u001b[0m\u001b[1;33m:\u001b[0m\u001b[1;33m\u001b[0m\u001b[1;33m\u001b[0m\u001b[0m\n\u001b[0;32m     14\u001b[0m     \u001b[1;31m# Use the forest's predict method on the test data\u001b[0m\u001b[1;33m\u001b[0m\u001b[1;33m\u001b[0m\u001b[1;33m\u001b[0m\u001b[0m\n\u001b[1;32m---> 15\u001b[1;33m     \u001b[0mpredictionLabels\u001b[0m \u001b[1;33m=\u001b[0m \u001b[0mtrainedModel\u001b[0m\u001b[1;33m.\u001b[0m\u001b[0mpredict\u001b[0m\u001b[1;33m(\u001b[0m\u001b[0mtestFeatures\u001b[0m\u001b[1;33m)\u001b[0m\u001b[1;33m\u001b[0m\u001b[1;33m\u001b[0m\u001b[0m\n\u001b[0m\u001b[0;32m     16\u001b[0m \u001b[1;33m\u001b[0m\u001b[0m\n\u001b[0;32m     17\u001b[0m     \u001b[0maccuracyValue\u001b[0m \u001b[1;33m=\u001b[0m \u001b[0maccuracy_score\u001b[0m\u001b[1;33m(\u001b[0m\u001b[0mtestLabels\u001b[0m\u001b[1;33m.\u001b[0m\u001b[0mastype\u001b[0m\u001b[1;33m(\u001b[0m\u001b[0mbool\u001b[0m\u001b[1;33m)\u001b[0m\u001b[1;33m,\u001b[0m \u001b[0mpredictionLabels\u001b[0m\u001b[1;33m)\u001b[0m\u001b[1;33m\u001b[0m\u001b[1;33m\u001b[0m\u001b[0m\n",
      "\u001b[1;32mC:\\Python39\\lib\\site-packages\\sklearn\\ensemble\\_forest.py\u001b[0m in \u001b[0;36mpredict\u001b[1;34m(self, X)\u001b[0m\n\u001b[0;32m    628\u001b[0m             \u001b[0mThe\u001b[0m \u001b[0mpredicted\u001b[0m \u001b[0mclasses\u001b[0m\u001b[1;33m.\u001b[0m\u001b[1;33m\u001b[0m\u001b[1;33m\u001b[0m\u001b[0m\n\u001b[0;32m    629\u001b[0m         \"\"\"\n\u001b[1;32m--> 630\u001b[1;33m         \u001b[0mproba\u001b[0m \u001b[1;33m=\u001b[0m \u001b[0mself\u001b[0m\u001b[1;33m.\u001b[0m\u001b[0mpredict_proba\u001b[0m\u001b[1;33m(\u001b[0m\u001b[0mX\u001b[0m\u001b[1;33m)\u001b[0m\u001b[1;33m\u001b[0m\u001b[1;33m\u001b[0m\u001b[0m\n\u001b[0m\u001b[0;32m    631\u001b[0m \u001b[1;33m\u001b[0m\u001b[0m\n\u001b[0;32m    632\u001b[0m         \u001b[1;32mif\u001b[0m \u001b[0mself\u001b[0m\u001b[1;33m.\u001b[0m\u001b[0mn_outputs_\u001b[0m \u001b[1;33m==\u001b[0m \u001b[1;36m1\u001b[0m\u001b[1;33m:\u001b[0m\u001b[1;33m\u001b[0m\u001b[1;33m\u001b[0m\u001b[0m\n",
      "\u001b[1;32mC:\\Python39\\lib\\site-packages\\sklearn\\ensemble\\_forest.py\u001b[0m in \u001b[0;36mpredict_proba\u001b[1;34m(self, X)\u001b[0m\n\u001b[0;32m    672\u001b[0m         \u001b[0mcheck_is_fitted\u001b[0m\u001b[1;33m(\u001b[0m\u001b[0mself\u001b[0m\u001b[1;33m)\u001b[0m\u001b[1;33m\u001b[0m\u001b[1;33m\u001b[0m\u001b[0m\n\u001b[0;32m    673\u001b[0m         \u001b[1;31m# Check data\u001b[0m\u001b[1;33m\u001b[0m\u001b[1;33m\u001b[0m\u001b[1;33m\u001b[0m\u001b[0m\n\u001b[1;32m--> 674\u001b[1;33m         \u001b[0mX\u001b[0m \u001b[1;33m=\u001b[0m \u001b[0mself\u001b[0m\u001b[1;33m.\u001b[0m\u001b[0m_validate_X_predict\u001b[0m\u001b[1;33m(\u001b[0m\u001b[0mX\u001b[0m\u001b[1;33m)\u001b[0m\u001b[1;33m\u001b[0m\u001b[1;33m\u001b[0m\u001b[0m\n\u001b[0m\u001b[0;32m    675\u001b[0m \u001b[1;33m\u001b[0m\u001b[0m\n\u001b[0;32m    676\u001b[0m         \u001b[1;31m# Assign chunk of trees to jobs\u001b[0m\u001b[1;33m\u001b[0m\u001b[1;33m\u001b[0m\u001b[1;33m\u001b[0m\u001b[0m\n",
      "\u001b[1;32mC:\\Python39\\lib\\site-packages\\sklearn\\ensemble\\_forest.py\u001b[0m in \u001b[0;36m_validate_X_predict\u001b[1;34m(self, X)\u001b[0m\n\u001b[0;32m    420\u001b[0m         \u001b[0mcheck_is_fitted\u001b[0m\u001b[1;33m(\u001b[0m\u001b[0mself\u001b[0m\u001b[1;33m)\u001b[0m\u001b[1;33m\u001b[0m\u001b[1;33m\u001b[0m\u001b[0m\n\u001b[0;32m    421\u001b[0m \u001b[1;33m\u001b[0m\u001b[0m\n\u001b[1;32m--> 422\u001b[1;33m         \u001b[1;32mreturn\u001b[0m \u001b[0mself\u001b[0m\u001b[1;33m.\u001b[0m\u001b[0mestimators_\u001b[0m\u001b[1;33m[\u001b[0m\u001b[1;36m0\u001b[0m\u001b[1;33m]\u001b[0m\u001b[1;33m.\u001b[0m\u001b[0m_validate_X_predict\u001b[0m\u001b[1;33m(\u001b[0m\u001b[0mX\u001b[0m\u001b[1;33m,\u001b[0m \u001b[0mcheck_input\u001b[0m\u001b[1;33m=\u001b[0m\u001b[1;32mTrue\u001b[0m\u001b[1;33m)\u001b[0m\u001b[1;33m\u001b[0m\u001b[1;33m\u001b[0m\u001b[0m\n\u001b[0m\u001b[0;32m    423\u001b[0m \u001b[1;33m\u001b[0m\u001b[0m\n\u001b[0;32m    424\u001b[0m     \u001b[1;33m@\u001b[0m\u001b[0mproperty\u001b[0m\u001b[1;33m\u001b[0m\u001b[1;33m\u001b[0m\u001b[0m\n",
      "\u001b[1;32mC:\\Python39\\lib\\site-packages\\sklearn\\tree\\_classes.py\u001b[0m in \u001b[0;36m_validate_X_predict\u001b[1;34m(self, X, check_input)\u001b[0m\n\u001b[0;32m    400\u001b[0m         \u001b[1;34m\"\"\"Validate the training data on predict (probabilities).\"\"\"\u001b[0m\u001b[1;33m\u001b[0m\u001b[1;33m\u001b[0m\u001b[0m\n\u001b[0;32m    401\u001b[0m         \u001b[1;32mif\u001b[0m \u001b[0mcheck_input\u001b[0m\u001b[1;33m:\u001b[0m\u001b[1;33m\u001b[0m\u001b[1;33m\u001b[0m\u001b[0m\n\u001b[1;32m--> 402\u001b[1;33m             X = self._validate_data(X, dtype=DTYPE, accept_sparse=\"csr\",\n\u001b[0m\u001b[0;32m    403\u001b[0m                                     reset=False)\n\u001b[0;32m    404\u001b[0m             if issparse(X) and (X.indices.dtype != np.intc or\n",
      "\u001b[1;32mC:\\Python39\\lib\\site-packages\\sklearn\\base.py\u001b[0m in \u001b[0;36m_validate_data\u001b[1;34m(self, X, y, reset, validate_separately, **check_params)\u001b[0m\n\u001b[0;32m    435\u001b[0m \u001b[1;33m\u001b[0m\u001b[0m\n\u001b[0;32m    436\u001b[0m         \u001b[1;32mif\u001b[0m \u001b[0mcheck_params\u001b[0m\u001b[1;33m.\u001b[0m\u001b[0mget\u001b[0m\u001b[1;33m(\u001b[0m\u001b[1;34m'ensure_2d'\u001b[0m\u001b[1;33m,\u001b[0m \u001b[1;32mTrue\u001b[0m\u001b[1;33m)\u001b[0m\u001b[1;33m:\u001b[0m\u001b[1;33m\u001b[0m\u001b[1;33m\u001b[0m\u001b[0m\n\u001b[1;32m--> 437\u001b[1;33m             \u001b[0mself\u001b[0m\u001b[1;33m.\u001b[0m\u001b[0m_check_n_features\u001b[0m\u001b[1;33m(\u001b[0m\u001b[0mX\u001b[0m\u001b[1;33m,\u001b[0m \u001b[0mreset\u001b[0m\u001b[1;33m=\u001b[0m\u001b[0mreset\u001b[0m\u001b[1;33m)\u001b[0m\u001b[1;33m\u001b[0m\u001b[1;33m\u001b[0m\u001b[0m\n\u001b[0m\u001b[0;32m    438\u001b[0m \u001b[1;33m\u001b[0m\u001b[0m\n\u001b[0;32m    439\u001b[0m         \u001b[1;32mreturn\u001b[0m \u001b[0mout\u001b[0m\u001b[1;33m\u001b[0m\u001b[1;33m\u001b[0m\u001b[0m\n",
      "\u001b[1;32mC:\\Python39\\lib\\site-packages\\sklearn\\base.py\u001b[0m in \u001b[0;36m_check_n_features\u001b[1;34m(self, X, reset)\u001b[0m\n\u001b[0;32m    363\u001b[0m \u001b[1;33m\u001b[0m\u001b[0m\n\u001b[0;32m    364\u001b[0m         \u001b[1;32mif\u001b[0m \u001b[0mn_features\u001b[0m \u001b[1;33m!=\u001b[0m \u001b[0mself\u001b[0m\u001b[1;33m.\u001b[0m\u001b[0mn_features_in_\u001b[0m\u001b[1;33m:\u001b[0m\u001b[1;33m\u001b[0m\u001b[1;33m\u001b[0m\u001b[0m\n\u001b[1;32m--> 365\u001b[1;33m             raise ValueError(\n\u001b[0m\u001b[0;32m    366\u001b[0m                 \u001b[1;34mf\"X has {n_features} features, but {self.__class__.__name__} \"\u001b[0m\u001b[1;33m\u001b[0m\u001b[1;33m\u001b[0m\u001b[0m\n\u001b[0;32m    367\u001b[0m                 f\"is expecting {self.n_features_in_} features as input.\")\n",
      "\u001b[1;31mValueError\u001b[0m: X has 4 features, but DecisionTreeClassifier is expecting 10 features as input."
     ]
    }
   ],
   "source": [
    "# Import the model we are using\n",
    "from sklearn.ensemble import RandomForestClassifier\n",
    "\n",
    "# Instantiate model with 100 decision trees\n",
    "rf = RandomForestClassifier(n_estimators = )\n",
    "\n",
    "# Train the model on training data\n",
    "rf.fit(modelsData_trainFeatures, modelsData_trainLabels.astype(bool));\n",
    "\n",
    "#Display the model performance    \n",
    "showModelPerformance(trainedModel = rf, \n",
    "                     testFeatures = modelsData_testFeatures, \n",
    "                     testLabels = modelsData_testLabels)"
   ]
  },
  {
   "cell_type": "markdown",
   "id": "powerful-survivor",
   "metadata": {},
   "source": [
    "## 4.4 Modeling - XGBoost"
   ]
  },
  {
   "cell_type": "code",
   "execution_count": 173,
   "id": "indirect-audio",
   "metadata": {},
   "outputs": [
    {
     "name": "stderr",
     "output_type": "stream",
     "text": [
      "C:\\Users\\rande\\AppData\\Roaming\\Python\\Python39\\site-packages\\xgboost\\sklearn.py:1146: UserWarning: The use of label encoder in XGBClassifier is deprecated and will be removed in a future release. To remove this warning, do the following: 1) Pass option use_label_encoder=False when constructing XGBClassifier object; and 2) Encode your labels (y) as integers starting with 0, i.e. 0, 1, 2, ..., [num_class - 1].\n",
      "  warnings.warn(label_encoder_deprecation_msg, UserWarning)\n"
     ]
    },
    {
     "name": "stdout",
     "output_type": "stream",
     "text": [
      "[12:00:31] WARNING: C:/Users/Administrator/workspace/xgboost-win64_release_1.4.0/src/learner.cc:1095: Starting in XGBoost 1.3.0, the default evaluation metric used with the objective 'binary:logistic' was changed from 'error' to 'logloss'. Explicitly set eval_metric if you'd like to restore the old behavior.\n",
      "Legend\n",
      "Recall -  measures the fraction of relevant links that are retrieved\n",
      "Precision - measures the fraction of retrieved links that are relevant\n",
      "F-measure - measures the harmonic mean of recall and precision\n",
      "F2-measure - favors recall\n",
      "F0.5-measure - favors precision\n",
      "Average Precision - summarizes a precision-recall curve as the weighted mean of precisions achieved at each threshold\n",
      "\n",
      "   Accuracy  Precision    Recall        F1       F2      F0.5  \\\n",
      "0  0.975116   0.326316  0.837838  0.469697  0.63786  0.371703   \n",
      "\n",
      "   Average Precision  \n",
      "0           0.275533  \n",
      "\n",
      "--------------------------------------------------------------------\n"
     ]
    },
    {
     "data": {
      "image/png": "[encoded data removed]",
      "text/plain": [
       "<Figure size 432x288 with 1 Axes>"
      ]
     },
     "metadata": {
      "needs_background": "light"
     },
     "output_type": "display_data"
    },
    {
     "data": {
      "image/png": "[encoded data removed]",
      "text/plain": [
       "<Figure size 432x288 with 1 Axes>"
      ]
     },
     "metadata": {
      "needs_background": "light"
     },
     "output_type": "display_data"
    },
    {
     "data": {
      "image/png": "[encoded data removed]",
      "text/plain": [
       "<Figure size 432x288 with 1 Axes>"
      ]
     },
     "metadata": {
      "needs_background": "light"
     },
     "output_type": "display_data"
    }
   ],
   "source": [
    "import xgboost as xgb\n",
    "\n",
    "# Instantiate xgboost\n",
    "GXBoost = xgb.XGBClassifier(#scale_pos_weight=1,\n",
    "                            learning_rate=0.17,\n",
    "                            colsample_bytree = 0.5,\n",
    "                            subsample = 0.9,\n",
    "                            objective='binary:logistic',\n",
    "                            n_estimators=500,\n",
    "                            max_depth=9,\n",
    "                            gamma=0.02\n",
    "                           # seed=27\n",
    ")\n",
    "\n",
    "\n",
    "\n",
    "# Train the model on training data\n",
    "GXBoost.fit(modelsData_trainFeatures, modelsData_trainLabels);\n",
    "\n",
    "#Display the model performance    \n",
    "showModelPerformance(trainedModel = GXBoost, \n",
    "                     testFeatures = modelsData_testFeatures, \n",
    "                     testLabels = modelsData_testLabels)"
   ]
  },
  {
   "cell_type": "markdown",
   "id": "prospective-testimony",
   "metadata": {},
   "source": [
    "# Hyperparameter Tuning"
   ]
  },
  {
   "cell_type": "code",
   "execution_count": 117,
   "id": "guilty-chair",
   "metadata": {},
   "outputs": [
    {
     "name": "stderr",
     "output_type": "stream",
     "text": [
      "C:\\Users\\rande\\AppData\\Roaming\\Python\\Python39\\site-packages\\xgboost\\sklearn.py:1146: UserWarning: The use of label encoder in XGBClassifier is deprecated and will be removed in a future release. To remove this warning, do the following: 1) Pass option use_label_encoder=False when constructing XGBClassifier object; and 2) Encode your labels (y) as integers starting with 0, i.e. 0, 1, 2, ..., [num_class - 1].\n",
      "  warnings.warn(label_encoder_deprecation_msg, UserWarning)\n"
     ]
    },
    {
     "name": "stdout",
     "output_type": "stream",
     "text": [
      "[03:20:41] WARNING: C:/Users/Administrator/workspace/xgboost-win64_release_1.4.0/src/learner.cc:1095: Starting in XGBoost 1.3.0, the default evaluation metric used with the objective 'binary:logistic' was changed from 'error' to 'logloss'. Explicitly set eval_metric if you'd like to restore the old behavior.\n",
      "Best Score: 0.9648012532962368\n",
      "Best Hyperparameters: {'subsample': 0.9, 'n_estimators': 500, 'max_depth': 9, 'learning_rate': 0.17, 'gamma': 0.02, 'colsample_bytree': 0.5}\n",
      "Finished after 17411.853681325912 sec\n"
     ]
    }
   ],
   "source": [
    "startTime = time.time()\n",
    "\n",
    "# random search logistic regression model on the sonar dataset\n",
    "from scipy.stats import loguniform\n",
    "from pandas import read_csv\n",
    "from sklearn.linear_model import LogisticRegression\n",
    "from sklearn.model_selection import RepeatedStratifiedKFold\n",
    "from sklearn.model_selection import RandomizedSearchCV\n",
    "\n",
    "# define model\n",
    "model = xgb.XGBClassifier()\n",
    "# define evaluation\n",
    "cv = RepeatedStratifiedKFold(n_splits=10, n_repeats=3, random_state=1)\n",
    "# define search space\n",
    "space = dict()\n",
    "space['n_estimators'] = [200, 250, 300, 350, 400, 450, 500, 550, 600, 650, 700, 750, 800, 850, 900, 950, 1000]\n",
    "space['max_depth'] = [2, 3, 4, 5, 6, 7, 8, 9, 10]\n",
    "space['subsample'] = [0.5, 0.6, 0.7, 0.8, 0.9]\n",
    "space['gamma'] = [0.01, 0.02, 0.03, 0.04, 0.05]\n",
    "space['colsample_bytree'] = [0.3, 0.4, 0.5, 0.6, 0.7, 0.8, 0.9]\n",
    "space['learning_rate'] = [0.1, 0.11, 0.12, 0.13, 0.14, 0.15, 0.16, 0.17, 0.18, 0.19, 0.2]\n",
    "\n",
    "\n",
    "# define search\n",
    "search = RandomizedSearchCV(model, space, n_iter=500, scoring='precision', n_jobs=-1, cv=cv, random_state=1)\n",
    "# execute search\n",
    "result = search.fit(modelsData_trainFeatures, modelsData_trainLabels)\n",
    "# summarize result\n",
    "print('Best Score: %s' % result.best_score_)\n",
    "print('Best Hyperparameters: %s' % result.best_params_)\n",
    "\n",
    "timeDif = str(time.time() - startTime)\n",
    "print(\"Finished after \" + timeDif + \" sec\")"
   ]
  },
  {
   "cell_type": "code",
   "execution_count": null,
   "id": "special-moment",
   "metadata": {},
   "outputs": [],
   "source": []
  }
 ],
 "metadata": {
  "kernelspec": {
   "display_name": "Python 3",
   "language": "python",
   "name": "python3"
  },
  "language_info": {
   "codemirror_mode": {
    "name": "ipython",
    "version": 3
   },
   "file_extension": ".py",
   "mimetype": "text/x-python",
   "name": "python",
   "nbconvert_exporter": "python",
   "pygments_lexer": "ipython3",
   "version": "3.9.2"
  }
 },
 "nbformat": 4,
 "nbformat_minor": 5
}
