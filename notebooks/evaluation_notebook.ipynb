{
 "cells": [
  {
   "cell_type": "markdown",
   "id": "quality-leader",
   "metadata": {},
   "source": [
    "# Notebook for model evaluation\n"
   ]
  },
  {
   "cell_type": "markdown",
   "metadata": {},
   "source": [
    "Notes on this notebook\n",
    "\n",
    "1. Currently, the notebook picks the required feature files from the results folder. Maybe this is not sufficient if it is wished to run the evaluation notebook parallel to the feature generation notebook."
   ]
  },
  {
   "cell_type": "code",
   "execution_count": null,
   "metadata": {},
   "outputs": [],
   "source": [
    "import pandas as pd\n",
    "import numpy as np\n",
    "\n",
    "#Import self-written functions\n",
    "import os\n",
    "import sys\n",
    "src_dir = os.path.join(os.getcwd(), '..', 'src')\n",
    "sys.path.append(src_dir)\n",
    "\n",
    "from d04_model_evaluation.model_evaluation import *"
   ]
  },
  {
   "cell_type": "code",
   "execution_count": null,
   "metadata": {},
   "outputs": [],
   "source": [
    "#Get processed feature data\n",
    "features_all_df = pd.read_excel(f'../results/1. Trace Link Feature Data/features_non-normalized.xlsx')\n",
    "features_all_normalized_df = pd.read_excel(f'../results/1. Trace Link Feature Data/features_normalized.xlsx')\n",
    "\n",
    "#Get number of features to pass to importance_array (model_evalution.py)\n",
    "n_features_df = features_all_df.shape[1]\n",
    "n_features_normalized_df = features_all_normalized_df.shape[1]"
   ]
  },
  {
   "cell_type": "code",
   "execution_count": null,
   "metadata": {},
   "outputs": [],
   "source": [
    "#Get processed feature data of created subsets\n",
    "features_all_df = pd.read_excel(f'../results/5. Feature selection subsets/features_subset_non-normalised.xlsx')\n",
    "features_all_normalized_df = pd.read_excel(f'../results/5. Feature selection subsets/features_subset_normalized.xlsx')\n",
    "\n",
    "#Get number of features to pass to importance_array (model_evalution.py)\n",
    "n_features_df = features_all_df.shape[1]\n",
    "n_features_normalized_df = features_all_normalized_df.shape[1]"
   ]
  },
  {
   "cell_type": "markdown",
   "metadata": {},
   "source": [
    "Perform additional preprocessing"
   ]
  },
  {
   "cell_type": "code",
   "execution_count": null,
   "metadata": {},
   "outputs": [],
   "source": [
    "#Set the NaN to 0\n",
    "features_all_df = features_all_df.fillna(0)\n",
    "features_all_normalized_df = features_all_normalized_df.fillna(0)\n",
    "\n",
    "#Saving feature names for later use\n",
    "feature_name_df = list(features_all_df.columns)\n",
    "feature_name_normalised_df = list(features_all_normalized_df.columns)\n",
    "\n",
    "#Transform pandas data frame into numpy arrays\n",
    "features_all_array = np.array(features_all_df)\n",
    "features_all_normalized_array = np.array(features_all_normalized_df)\n",
    "\n",
    "#Load labels\n",
    "labels_df = pd.read_pickle(r'../data/03_processed/labels_df.pkl')\n",
    "labels_array = np.array(labels_df[\"is_valid\"])"
   ]
  },
  {
   "cell_type": "markdown",
   "id": "quality-leader",
   "metadata": {},
   "source": [
    "# 4 Evaluation - Non-normalized\n",
    "## Random Forest"
   ]
  },
  {
   "cell_type": "code",
   "execution_count": null,
   "metadata": {},
   "outputs": [],
   "source": [
    "generate_evaluation_metrics(rebalancing_strategy = 'none', \n",
    "                            classification_algorithm = 'random_forests', \n",
    "                            data = features_all_array, \n",
    "                            labels = labels_array, \n",
    "                            feature_names = feature_name_df,\n",
    "                            is_normalized = False,\n",
    "                            n_runs = 2,\n",
    "                            n_features = n_features_df)\n",
    "\n",
    "generate_evaluation_metrics(rebalancing_strategy = 'over', \n",
    "                            classification_algorithm = 'random_forests', \n",
    "                            data = features_all_array, \n",
    "                            labels = labels_array, \n",
    "                            feature_names = feature_name_df,\n",
    "                            is_normalized = False,\n",
    "                            n_runs = 2,\n",
    "                            n_features = n_features_df)\n",
    "\n",
    "generate_evaluation_metrics(rebalancing_strategy = 'under', \n",
    "                            classification_algorithm = 'random_forests', \n",
    "                            data = features_all_array, \n",
    "                            labels = labels_array, \n",
    "                            feature_names = feature_name_df,\n",
    "                            is_normalized = False,\n",
    "                            n_runs = 2,\n",
    "                            n_features = n_features_df)\n",
    "\n",
    "generate_evaluation_metrics(rebalancing_strategy = '5050', \n",
    "                            classification_algorithm = 'random_forests', \n",
    "                            data = features_all_array, \n",
    "                            labels = labels_array, \n",
    "                            feature_names = feature_name_df,\n",
    "                            is_normalized = False,\n",
    "                            n_runs = 2,\n",
    "                            n_features = n_features_df)"
   ]
  },
  {
   "cell_type": "markdown",
   "id": "going-cooler",
   "metadata": {},
   "source": [
    "## XGBoost"
   ]
  },
  {
   "cell_type": "code",
   "execution_count": null,
   "id": "strategic-monaco",
   "metadata": {},
   "outputs": [],
   "source": [
    "generate_evaluation_metrics(rebalancing_strategy = 'none', \n",
    "                            classification_algorithm = 'xg_boost', \n",
    "                            data = features_all_array, \n",
    "                            labels = labels_array, \n",
    "                            feature_names = feature_name_df,\n",
    "                            is_normalized = False,\n",
    "                            n_runs = 2,\n",
    "                            n_features = n_features_df)\n",
    "\n",
    "generate_evaluation_metrics(rebalancing_strategy = 'over', \n",
    "                            classification_algorithm = 'xg_boost', \n",
    "                            data = features_all_array, \n",
    "                            labels = labels_array,\n",
    "                            feature_names = feature_name_df,\n",
    "                            is_normalized = False,\n",
    "                            n_runs = 2,\n",
    "                            n_features = n_features_df)\n",
    "\n",
    "generate_evaluation_metrics(rebalancing_strategy = 'under', \n",
    "                            classification_algorithm = 'xg_boost', \n",
    "                            data = features_all_array, \n",
    "                            labels = labels_array, \n",
    "                            feature_names = feature_name_df,\n",
    "                            is_normalized = False,\n",
    "                            n_runs = 2,\n",
    "                            n_features = n_features_df)\n",
    "\n",
    "generate_evaluation_metrics(rebalancing_strategy = '5050', \n",
    "                            classification_algorithm = 'xg_boost', \n",
    "                            data = features_all_array, \n",
    "                            labels = labels_array, \n",
    "                            feature_names = feature_name_df,\n",
    "                            is_normalized = False,\n",
    "                            n_runs = 2,\n",
    "                            n_features = n_features_df)"
   ]
  },
  {
   "cell_type": "markdown",
   "id": "enormous-calculator",
   "metadata": {},
   "source": [
    "## LightGBM"
   ]
  },
  {
   "cell_type": "code",
   "execution_count": null,
   "id": "handmade-homework",
   "metadata": {},
   "outputs": [],
   "source": [
    "generate_evaluation_metrics(rebalancing_strategy = 'none', \n",
    "                            classification_algorithm = 'light_gbm', \n",
    "                            data = features_all_array, \n",
    "                            labels = labels_array, \n",
    "                            feature_names = feature_name_df,\n",
    "                            is_normalized = False,\n",
    "                            n_runs = 2,\n",
    "                            n_features = n_features_df)\n",
    "\n",
    "generate_evaluation_metrics(rebalancing_strategy = 'over', \n",
    "                            classification_algorithm = 'light_gbm', \n",
    "                            data = features_all_array, \n",
    "                            labels = labels_array, \n",
    "                            feature_names = feature_name_df,\n",
    "                            is_normalized = False,\n",
    "                            n_runs = 2,\n",
    "                            n_features = n_features_df)\n",
    "\n",
    "generate_evaluation_metrics(rebalancing_strategy = 'under', \n",
    "                            classification_algorithm = 'light_gbm', \n",
    "                            data = features_all_array, \n",
    "                            labels = labels_array, \n",
    "                            feature_names = feature_name_df,\n",
    "                            is_normalized = False,\n",
    "                            n_runs = 2,\n",
    "                            n_features = n_features_df)\n",
    "\n",
    "generate_evaluation_metrics(rebalancing_strategy = '5050', \n",
    "                            classification_algorithm = 'light_gbm', \n",
    "                            data = features_all_array, \n",
    "                            labels = labels_array, \n",
    "                            feature_names = feature_name_df,\n",
    "                            is_normalized = False,\n",
    "                            n_runs = 2,\n",
    "                            n_features = n_features_df)"
   ]
  },
  {
   "cell_type": "markdown",
   "id": "quality-leader",
   "metadata": {},
   "source": [
    "# 4 Evaluation - Normalized\n",
    "## Random Forest"
   ]
  },
  {
   "cell_type": "code",
   "execution_count": null,
   "id": "manual-chambers",
   "metadata": {},
   "outputs": [],
   "source": [
    "generate_evaluation_metrics(rebalancing_strategy = 'none', \n",
    "                            classification_algorithm = 'random_forests', \n",
    "                            data = features_all_normalized_array, \n",
    "                            labels = labels_array, \n",
    "                            feature_names = feature_name_normalised_df,\n",
    "                            is_normalized = True,\n",
    "                            n_runs = 2,\n",
    "                            n_features = n_features_normalized_df)\n",
    "\n",
    "generate_evaluation_metrics(rebalancing_strategy = 'over', \n",
    "                            classification_algorithm = 'random_forests', \n",
    "                            data = features_all_normalized_array, \n",
    "                            labels = labels_array,\n",
    "                            feature_names = feature_name_normalised_df,\n",
    "                            is_normalized = True,\n",
    "                            n_runs = 2,\n",
    "                            n_features = n_features_normalized_df)\n",
    "\n",
    "generate_evaluation_metrics(rebalancing_strategy = 'under', \n",
    "                            classification_algorithm = 'random_forests', \n",
    "                            data = features_all_normalized_array, \n",
    "                            labels = labels_array, \n",
    "                            feature_names = feature_name_normalised_df,\n",
    "                            is_normalized = True,\n",
    "                            n_runs = 2,\n",
    "                            n_features = n_features_normalized_df)\n",
    "\n",
    "generate_evaluation_metrics(rebalancing_strategy = '5050', \n",
    "                            classification_algorithm = 'random_forests', \n",
    "                            data = features_all_normalized_array, \n",
    "                            labels = labels_array, \n",
    "                            feature_names = feature_name_normalised_df,\n",
    "                            is_normalized = True,\n",
    "                            n_runs = 2,\n",
    "                            n_features = n_features_normalized_df)"
   ]
  },
  {
   "cell_type": "markdown",
   "id": "going-cooler",
   "metadata": {},
   "source": [
    "## XGBoost"
   ]
  },
  {
   "cell_type": "code",
   "execution_count": null,
   "metadata": {},
   "outputs": [],
   "source": [
    "generate_evaluation_metrics(rebalancing_strategy = 'none', \n",
    "                            classification_algorithm = 'xg_boost', \n",
    "                            data = features_all_normalized_array, \n",
    "                            labels = labels_array, \n",
    "                            feature_names = feature_name_normalised_df,\n",
    "                            is_normalized = True,\n",
    "                            n_runs = 2,\n",
    "                            n_features = n_features_normalized_df)\n",
    "\n",
    "generate_evaluation_metrics(rebalancing_strategy = 'over', \n",
    "                            classification_algorithm = 'xg_boost', \n",
    "                            data = features_all_normalized_array, \n",
    "                            labels = labels_array, \n",
    "                            feature_names = feature_name_normalised_df,\n",
    "                            is_normalized = True,\n",
    "                            n_runs = 2,\n",
    "                            n_features = n_features_normalized_df)\n",
    "\n",
    "generate_evaluation_metrics(rebalancing_strategy = 'under', \n",
    "                            classification_algorithm = 'xg_boost', \n",
    "                            data = features_all_normalized_array, \n",
    "                            labels = labels_array, \n",
    "                            feature_names = feature_name_normalised_df,\n",
    "                            is_normalized = True,\n",
    "                            n_runs = 2,\n",
    "                            n_features = n_features_normalized_df)\n",
    "\n",
    "generate_evaluation_metrics(rebalancing_strategy = '5050', \n",
    "                            classification_algorithm = 'xg_boost', \n",
    "                            data = features_all_normalized_array, \n",
    "                            labels = labels_array, \n",
    "                            feature_names = feature_name_normalised_df,\n",
    "                            is_normalized = True,\n",
    "                            n_runs = 2,\n",
    "                            n_features = n_features_normalized_df)"
   ]
  },
  {
   "cell_type": "markdown",
   "id": "phantom-binding",
   "metadata": {},
   "source": [
    "## LightGBM"
   ]
  },
  {
   "cell_type": "code",
   "execution_count": null,
   "id": "conventional-diana",
   "metadata": {},
   "outputs": [],
   "source": [
    "generate_evaluation_metrics(rebalancing_strategy = 'none', \n",
    "                            classification_algorithm = 'light_gbm', \n",
    "                            data = features_all_normalized_array, \n",
    "                            labels = labels_array, \n",
    "                            feature_names = feature_name_normalised_df,\n",
    "                            is_normalized = True,\n",
    "                            n_runs = 2,\n",
    "                            n_features = n_features_normalized_df)\n",
    "\n",
    "generate_evaluation_metrics(rebalancing_strategy = 'over', \n",
    "                            classification_algorithm = 'light_gbm', \n",
    "                            data = features_all_normalized_array, \n",
    "                            labels = labels_array, \n",
    "                            feature_names = feature_name_normalised_df,\n",
    "                            is_normalized = True,\n",
    "                            n_runs = 2,\n",
    "                            n_features = n_features_normalized_df)\n",
    "\n",
    "generate_evaluation_metrics(rebalancing_strategy = 'under', \n",
    "                            classification_algorithm = 'light_gbm', \n",
    "                            data = features_all_normalized_array, \n",
    "                            labels = labels_array, \n",
    "                            feature_names = feature_name_normalised_df,\n",
    "                            is_normalized = True,\n",
    "                            n_runs = 2,\n",
    "                            n_features = n_features_normalized_df)\n",
    "\n",
    "generate_evaluation_metrics(rebalancing_strategy = '5050', \n",
    "                            classification_algorithm = 'light_gbm', \n",
    "                            data = features_all_normalized_array, \n",
    "                            labels = labels_array, \n",
    "                            feature_names = feature_name_normalised_df,\n",
    "                            is_normalized = True,\n",
    "                            n_runs = 2,\n",
    "                            n_features = n_features_normalized_df)"
   ]
  }
 ],
 "metadata": {
  "kernelspec": {
   "display_name": "Python 3.9.0 64-bit",
   "language": "python",
   "name": "python3"
  },
  "language_info": {
   "codemirror_mode": {
    "name": "ipython",
    "version": 3
   },
   "file_extension": ".py",
   "mimetype": "text/x-python",
   "name": "python",
   "nbconvert_exporter": "python",
   "pygments_lexer": "ipython3",
   "version": "3.9.0"
  },
  "orig_nbformat": 4,
  "vscode": {
   "interpreter": {
    "hash": "aee8b7b246df8f9039afb4144a1f6fd8d2ca17a180786b69acc140d282b71a49"
   }
  }
 },
 "nbformat": 4,
 "nbformat_minor": 2
}
