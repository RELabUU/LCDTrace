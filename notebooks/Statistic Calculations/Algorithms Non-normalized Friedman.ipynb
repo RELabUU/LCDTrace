{
 "cells": [
  {
   "cell_type": "markdown",
   "id": "heated-accent",
   "metadata": {},
   "source": [
    "This notebooks contain the calculations for the Friedman test and Nemenyi test for comparing the different algorithms.\n",
    "We only chose to compare the Best scores for each scenario.\n",
    "\n",
    "Trace Maintenance: No rebalancing and focusing on the F05 score.\n",
    "Trace Reccomendation: 5050 rebalancing and focussing on the F2 score.\n",
    "\n"
   ]
  },
  {
   "cell_type": "code",
   "execution_count": 1,
   "id": "early-estimate",
   "metadata": {},
   "outputs": [],
   "source": [
    "from scipy import stats\n",
    "import scikit_posthocs as sp\n",
    "import numpy as np\n",
    "\n",
    "#https://www.statology.org/nemenyi-test-python/"
   ]
  },
  {
   "cell_type": "markdown",
   "id": "auburn-surprise",
   "metadata": {},
   "source": [
    "# None (F0.5)"
   ]
  },
  {
   "cell_type": "code",
   "execution_count": 2,
   "id": "understood-semester",
   "metadata": {},
   "outputs": [
    {
     "name": "stdout",
     "output_type": "stream",
     "text": [
      "FriedmanchisquareResult(statistic=23.411764705882327, pvalue=8.245175199961621e-06)\n",
      "       0      1      2\n",
      "0  1.000  0.001  0.900\n",
      "1  0.001  1.000  0.001\n",
      "2  0.900  0.001  1.000\n"
     ]
    }
   ],
   "source": [
    "none_rf_f05 = [0.666667,0.72327,0.684713,0.687919,0.693431,0.675182,0.711679,0.706107,0.714286,0.716783,0.652174,0.666667,0.583333,0.610465,0.539773,0.691489,0.59375,0.664894,0.579268,0.639535,0.487805,0.566038,0.714286,0.777778,0.877193,0.606061,0.819672,0.737705,0.754717,0.849057]\n",
    "none_xgboost_f05 = [0.821256,0.767635,0.841014,0.829694,0.772532,0.8,0.809179,0.83004,0.784753,0.779221,0.78125,0.770548,0.769231,0.783582,0.783133,0.789474,0.733333,0.783333,0.850694,0.78125,0.819672,0.777778,0.724638,0.714286,0.615385,0.612245,0.797101,0.737705,0.844156,0.692308]\n",
    "none_lightgbm_f05 = [0.751174,0.779221,0.7173,0.788889,0.799087,0.751295,0.755814,0.806452,0.73991,0.868545,0.609375,0.540541,0.723684,0.502874,0.574713,0.660112,0.675287,0.558824,0.596591,0.335366,0.065574,0.253807,0.57971,0.684932,0.133333,0.57377,0.127796,0.57971,0.438596,0.786517]\n",
    "\n",
    "\n",
    "#perform Friedman Test\n",
    "print(stats.friedmanchisquare(none_rf_f05, none_xgboost_f05, none_lightgbm_f05))\n",
    "\n",
    "#combine three groups into one array\n",
    "none_data_f05 = np.array([none_rf_f05, none_xgboost_f05, none_lightgbm_f05])\n",
    "\n",
    "#perform Nemenyi post-hoc test\n",
    "print(sp.posthoc_nemenyi_friedman(none_data_f05.T))"
   ]
  },
  {
   "cell_type": "markdown",
   "id": "sacred-collins",
   "metadata": {},
   "source": [
    "# 5050 (F2)"
   ]
  },
  {
   "cell_type": "code",
   "execution_count": 7,
   "id": "hairy-evening",
   "metadata": {},
   "outputs": [
    {
     "name": "stdout",
     "output_type": "stream",
     "text": [
      "FriedmanchisquareResult(statistic=39.46666666666664, pvalue=2.6910528298762287e-09)\n",
      "       0         1         2\n",
      "0  1.000  0.001000  0.001000\n",
      "1  0.001  1.000000  0.848105\n",
      "2  0.001  0.848105  1.000000\n"
     ]
    }
   ],
   "source": [
    "fiftyfifty_rf_f2 = [0.684685,0.629699,0.670841,0.698529,0.696203,0.629562,0.642202,0.619224,0.710383,0.659341,0.548628,0.5,0.580569,0.569007,0.513447,0.677966,0.58548,0.620525,0.57554,0.623529,0.625,0.588235,0.705882,0.617284,0.574713,0.375,0.632911,0.465116,0.609756,0.379747]\n",
    "fiftyfifty_xgboost_f2 = [0.807018,0.819964,0.711679,0.836268,0.828924,0.818345,0.796848,0.776614,0.810345,0.799649,0.668934,0.665083,0.73991,0.702948,0.740319,0.719178,0.749441,0.702948,0.752212,0.733945,0.722222,0.617978,0.604396,0.625,0.697674,0.60241,0.697674,0.681818,0.722222,0.666667]\n",
    "fiftyfifty_lightgbm_f2 = [0.821918,0.716912,0.793515,0.769231,0.789474,0.763889,0.871022,0.802469,0.809859,0.824468,0.797414,0.682819,0.720524,0.717489,0.704846,0.726681,0.679724,0.730337,0.640177,0.641593,0.769231,0.722222,0.659341,0.752688,0.581395,0.736842,0.795455,0.647059,0.645161,0.730337]\n",
    "\n",
    "#perform Friedman Test\n",
    "print(stats.friedmanchisquare(fiftyfifty_rf_f2, fiftyfifty_xgboost_f2, fiftyfifty_lightgbm_f2))\n",
    "\n",
    "#combine three groups into one array\n",
    "fiftyfifty_data_f2 = np.array([fiftyfifty_rf_f2, fiftyfifty_xgboost_f2, fiftyfifty_lightgbm_f2])\n",
    "\n",
    "#perform Nemenyi post-hoc test\n",
    "print(sp.posthoc_nemenyi_friedman(fiftyfifty_data_f2.T))"
   ]
  },
  {
   "cell_type": "code",
   "execution_count": null,
   "id": "secure-enough",
   "metadata": {},
   "outputs": [],
   "source": []
  }
 ],
 "metadata": {
  "kernelspec": {
   "display_name": "Python 3",
   "language": "python",
   "name": "python3"
  },
  "language_info": {
   "codemirror_mode": {
    "name": "ipython",
    "version": 3
   },
   "file_extension": ".py",
   "mimetype": "text/x-python",
   "name": "python",
   "nbconvert_exporter": "python",
   "pygments_lexer": "ipython3",
   "version": "3.9.2"
  }
 },
 "nbformat": 4,
 "nbformat_minor": 5
}
