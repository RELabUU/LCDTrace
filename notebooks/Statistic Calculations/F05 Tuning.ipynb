{
 "cells": [
  {
   "cell_type": "code",
   "execution_count": 2,
   "id": "median-foundation",
   "metadata": {},
   "outputs": [],
   "source": [
    "import numpy as np\n",
    "import pandas as pd\n",
    "import seaborn as sns\n",
    "import matplotlib.pyplot as plt"
   ]
  },
  {
   "cell_type": "code",
   "execution_count": 10,
   "id": "blind-california",
   "metadata": {},
   "outputs": [
    {
     "data": {
      "text/plain": [
       "array([['Cross-Validation', 'Cross-Validation', 'Cross-Validation',\n",
       "        'Cross-Validation', 'Cross-Validation', 'Cross-Validation',\n",
       "        'Cross-Validation', 'Cross-Validation', 'Cross-Validation',\n",
       "        'Cross-Validation', 'Cross-Validation', 'Cross-Validation',\n",
       "        'Cross-Validation', 'Cross-Validation', 'Cross-Validation',\n",
       "        'Cross-Validation', 'Cross-Validation', 'Cross-Validation',\n",
       "        'Cross-Validation', 'Cross-Validation', 'Cross-Validation',\n",
       "        'Cross-Validation', 'Cross-Validation', 'Cross-Validation',\n",
       "        'Cross-Validation']], dtype='<U16')"
      ]
     },
     "execution_count": 10,
     "metadata": {},
     "output_type": "execute_result"
    }
   ],
   "source": [
    "\n",
    "#Y-axis\n",
    "f05_score = [0.8329283861320473]\n",
    "\n",
    "#X-axis\n",
    "Dataset = \n",
    "\n",
    "category_f05\n",
    "\n"
   ]
  },
  {
   "cell_type": "code",
   "execution_count": null,
   "id": "union-rapid",
   "metadata": {},
   "outputs": [],
   "source": [
    "ax = sns.boxplot(x=\"day\",\n",
    "                 y=\"total_bill\",\n",
    "                 hue=\"smoker\",\n",
    "                 data=tips,\n",
    "                 palette=\"Set3\")"
   ]
  }
 ],
 "metadata": {
  "kernelspec": {
   "display_name": "Python 3",
   "language": "python",
   "name": "python3"
  },
  "language_info": {
   "codemirror_mode": {
    "name": "ipython",
    "version": 3
   },
   "file_extension": ".py",
   "mimetype": "text/x-python",
   "name": "python",
   "nbconvert_exporter": "python",
   "pygments_lexer": "ipython3",
   "version": "3.9.2"
  }
 },
 "nbformat": 4,
 "nbformat_minor": 5
}
