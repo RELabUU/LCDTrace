{
 "cells": [
  {
   "cell_type": "code",
   "execution_count": null,
   "metadata": {},
   "outputs": [],
   "source": [
    "import pandas as pd \n",
    "import numpy as np \n",
    "from featurewiz import featurewiz"
   ]
  },
  {
   "cell_type": "code",
   "execution_count": null,
   "metadata": {},
   "outputs": [],
   "source": [
    "#Get processed feature data\n",
    "features_all_df = pd.read_excel(f'../results/1. Trace Link Feature Data/features_non-normalized.xlsx')\n",
    "features_all_normalized_df = pd.read_excel(f'../results/1. Trace Link Feature Data/features_normalized.xlsx')\n",
    "\n",
    "#Load label dataframe\n",
    "labels_df = pd.read_pickle(r'../data/03_processed/labels_df.pkl')\n",
    "\n",
    "# Combine dataframes (features and labels) and encode Bool values of label to integers\n",
    "features_all_df['is_valid'] = labels_df['is_valid']\n",
    "features_all_df['is_valid'] = labels_df['is_valid'].values\n",
    "features_all_df['is_valid'] = features_all_df['is_valid'].astype(int)\n",
    "\n",
    "features_all_normalized_df['is_valid'] = labels_df['is_valid']\n",
    "features_all_normalized_df['is_valid'] = labels_df['is_valid'].values\n",
    "features_all_normalized_df['is_valid'] = features_all_normalized_df['is_valid'].astype(int)"
   ]
  },
  {
   "cell_type": "markdown",
   "metadata": {},
   "source": [
    "Additional preprocessing"
   ]
  },
  {
   "cell_type": "code",
   "execution_count": null,
   "metadata": {},
   "outputs": [],
   "source": [
    "#Set the NaN to 0\n",
    "features_all_df = features_all_df.fillna(0)\n",
    "features_all_normalized_df = features_all_normalized_df.fillna(0)"
   ]
  },
  {
   "cell_type": "markdown",
   "metadata": {},
   "source": [
    "Start feature selection process by FeatureWiz"
   ]
  },
  {
   "cell_type": "code",
   "execution_count": null,
   "metadata": {},
   "outputs": [],
   "source": [
    "# State target\n",
    "target = 'is_valid'\n",
    "\n",
    "features, train = featurewiz(features_all_df, target, corr_limit=0.7, verbose=0, sep=\",\", header=0, test_data=\"\", feature_engg=\"\", category_encoders=\"\")\n",
    "\n",
    "# create subset of original dataframe on output of selection process\n",
    "feature_subset = features_all_df[features]\n",
    "\n",
    "# Export subset of features as .xslx file\n",
    "feature_subset.to_excel(excel_writer = \"../results/5. Feature selection subsets/features_subset_non-normalised.xlsx\", index = False)\n",
    "\n",
    "#Create .txt file with selected features\n",
    "selected_features = open(\"../results/5. Feature selection subsets/selected_subset_non-normalised.txt\", \"w\")\n",
    "for element in features:\n",
    "    selected_features.write(element + \"\\n\")\n",
    "selected_features.close()"
   ]
  },
  {
   "cell_type": "code",
   "execution_count": null,
   "metadata": {},
   "outputs": [],
   "source": [
    "# State target\n",
    "target = 'is_valid'\n",
    "\n",
    "features, train = featurewiz(features_all_normalized_df, target, corr_limit=0.7, verbose=0, sep=\",\", header=0, test_data=\"\", feature_engg=\"\", category_encoders=\"\")\n",
    "\n",
    "# create subset of original dataframe on output of selection process\n",
    "features_subset_normalized = features_all_normalized_df[features]\n",
    "\n",
    "# Export subset of features as .xslx file\n",
    "features_subset_normalized.to_excel(excel_writer = \"../results/5. Feature selection subsets/features_subset_normalized.xlsx\", index = False)\n",
    "\n",
    "#Create .txt file with selected features\n",
    "selected_features = open(\"../results/5. Feature selection subsets/selected_subset_normalised.txt\", \"w\")\n",
    "for element in features:\n",
    "    selected_features.write(element + \"\\n\")\n",
    "selected_features.close()"
   ]
  }
 ],
 "metadata": {
  "kernelspec": {
   "display_name": "Python 3.9.0 64-bit",
   "language": "python",
   "name": "python3"
  },
  "language_info": {
   "codemirror_mode": {
    "name": "ipython",
    "version": 3
   },
   "file_extension": ".py",
   "mimetype": "text/x-python",
   "name": "python",
   "nbconvert_exporter": "python",
   "pygments_lexer": "ipython3",
   "version": "3.9.0"
  },
  "orig_nbformat": 4,
  "vscode": {
   "interpreter": {
    "hash": "aee8b7b246df8f9039afb4144a1f6fd8d2ca17a180786b69acc140d282b71a49"
   }
  }
 },
 "nbformat": 4,
 "nbformat_minor": 2
}
