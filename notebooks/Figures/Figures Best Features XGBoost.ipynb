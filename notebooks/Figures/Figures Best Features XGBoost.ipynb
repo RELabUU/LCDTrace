{
 "cells": [
  {
   "cell_type": "code",
   "execution_count": 1,
   "id": "finite-crest",
   "metadata": {},
   "outputs": [],
   "source": [
    "import pandas as pd\n",
    "import matplotlib.pyplot as plt\n",
    "import numpy as np"
   ]
  },
  {
   "cell_type": "code",
   "execution_count": 6,
   "id": "needed-verification",
   "metadata": {},
   "outputs": [
    {
     "data": {
      "text/plain": [
       "{'whiskers': [<matplotlib.lines.Line2D at 0x270365cd520>,\n",
       "  <matplotlib.lines.Line2D at 0x270365cd9a0>,\n",
       "  <matplotlib.lines.Line2D at 0x27034495a30>,\n",
       "  <matplotlib.lines.Line2D at 0x270344955e0>,\n",
       "  <matplotlib.lines.Line2D at 0x27033b76eb0>,\n",
       "  <matplotlib.lines.Line2D at 0x27033b8ebb0>,\n",
       "  <matplotlib.lines.Line2D at 0x2703691e040>,\n",
       "  <matplotlib.lines.Line2D at 0x2703691e3d0>,\n",
       "  <matplotlib.lines.Line2D at 0x27036926970>,\n",
       "  <matplotlib.lines.Line2D at 0x27036926d00>,\n",
       "  <matplotlib.lines.Line2D at 0x2703693b2e0>,\n",
       "  <matplotlib.lines.Line2D at 0x2703693b670>,\n",
       "  <matplotlib.lines.Line2D at 0x27036947c10>,\n",
       "  <matplotlib.lines.Line2D at 0x27036947fa0>,\n",
       "  <matplotlib.lines.Line2D at 0x2703695d580>,\n",
       "  <matplotlib.lines.Line2D at 0x2703695d910>,\n",
       "  <matplotlib.lines.Line2D at 0x2703696beb0>,\n",
       "  <matplotlib.lines.Line2D at 0x27036975280>,\n",
       "  <matplotlib.lines.Line2D at 0x27036981850>,\n",
       "  <matplotlib.lines.Line2D at 0x27036981be0>],\n",
       " 'caps': [<matplotlib.lines.Line2D at 0x270365cd400>,\n",
       "  <matplotlib.lines.Line2D at 0x270365cdc40>,\n",
       "  <matplotlib.lines.Line2D at 0x27034495100>,\n",
       "  <matplotlib.lines.Line2D at 0x270344951f0>,\n",
       "  <matplotlib.lines.Line2D at 0x2703379d880>,\n",
       "  <matplotlib.lines.Line2D at 0x27033c5f910>,\n",
       "  <matplotlib.lines.Line2D at 0x2703691e760>,\n",
       "  <matplotlib.lines.Line2D at 0x2703691eaf0>,\n",
       "  <matplotlib.lines.Line2D at 0x270369300d0>,\n",
       "  <matplotlib.lines.Line2D at 0x27036930460>,\n",
       "  <matplotlib.lines.Line2D at 0x2703693ba00>,\n",
       "  <matplotlib.lines.Line2D at 0x2703693bd90>,\n",
       "  <matplotlib.lines.Line2D at 0x27036951370>,\n",
       "  <matplotlib.lines.Line2D at 0x27036951700>,\n",
       "  <matplotlib.lines.Line2D at 0x2703695dca0>,\n",
       "  <matplotlib.lines.Line2D at 0x2703696b070>,\n",
       "  <matplotlib.lines.Line2D at 0x27036975610>,\n",
       "  <matplotlib.lines.Line2D at 0x270369759a0>,\n",
       "  <matplotlib.lines.Line2D at 0x27036981f70>,\n",
       "  <matplotlib.lines.Line2D at 0x2703698d340>],\n",
       " 'boxes': [<matplotlib.lines.Line2D at 0x270344a73a0>,\n",
       "  <matplotlib.lines.Line2D at 0x270365dab80>,\n",
       "  <matplotlib.lines.Line2D at 0x27033b697c0>,\n",
       "  <matplotlib.lines.Line2D at 0x27036917c70>,\n",
       "  <matplotlib.lines.Line2D at 0x270369265e0>,\n",
       "  <matplotlib.lines.Line2D at 0x27036930f10>,\n",
       "  <matplotlib.lines.Line2D at 0x27036947880>,\n",
       "  <matplotlib.lines.Line2D at 0x2703695d1f0>,\n",
       "  <matplotlib.lines.Line2D at 0x2703696bb20>,\n",
       "  <matplotlib.lines.Line2D at 0x270369814c0>],\n",
       " 'medians': [<matplotlib.lines.Line2D at 0x270365cd760>,\n",
       "  <matplotlib.lines.Line2D at 0x27033b2ad60>,\n",
       "  <matplotlib.lines.Line2D at 0x2702372a880>,\n",
       "  <matplotlib.lines.Line2D at 0x2703691ee80>,\n",
       "  <matplotlib.lines.Line2D at 0x270369307f0>,\n",
       "  <matplotlib.lines.Line2D at 0x27036947160>,\n",
       "  <matplotlib.lines.Line2D at 0x27036951a90>,\n",
       "  <matplotlib.lines.Line2D at 0x2703696b400>,\n",
       "  <matplotlib.lines.Line2D at 0x27036975d30>,\n",
       "  <matplotlib.lines.Line2D at 0x2703698d6d0>],\n",
       " 'fliers': [<matplotlib.lines.Line2D at 0x270365da040>,\n",
       "  <matplotlib.lines.Line2D at 0x27033b54b80>,\n",
       "  <matplotlib.lines.Line2D at 0x27036917850>,\n",
       "  <matplotlib.lines.Line2D at 0x27036926250>,\n",
       "  <matplotlib.lines.Line2D at 0x27036930b80>,\n",
       "  <matplotlib.lines.Line2D at 0x270369474f0>,\n",
       "  <matplotlib.lines.Line2D at 0x27036951e20>,\n",
       "  <matplotlib.lines.Line2D at 0x2703696b790>,\n",
       "  <matplotlib.lines.Line2D at 0x27036981130>,\n",
       "  <matplotlib.lines.Line2D at 0x2703698da60>],\n",
       " 'means': []}"
      ]
     },
     "execution_count": 6,
     "metadata": {},
     "output_type": "execute_result"
    },
    {
     "data": {
      "image/png": "[encoded data removed]",
      "text/plain": [
       "<Figure size 432x288 with 1 Axes>"
      ]
     },
     "metadata": {
      "needs_background": "light"
     },
     "output_type": "display_data"
    }
   ],
   "source": [
    "dealService_Resolved_commit_date_dif = np.random.normal(100, 10, 200)\n",
    "dealService_Updated_commit_date_dif = np.random.normal(90, 20, 200)\n",
    "dealService_Assignee_is_commiter = np.random.normal(80, 30, 200)\n",
    "dealService_JiraSummariesAsQuery_maxEntropy = np.random.normal(70, 40, 200)\n",
    "dealService_vsm_logs_jira_as_query = np.random.normal(100, 10, 200)\n",
    "dealService_vsm_svn_jira_jira_as_query = np.random.normal(90, 20, 200)\n",
    "dealService_total_term_count_jira = np.random.normal(80, 30, 200)\n",
    "dealService_vsm_svn_jira_svn_as_query = np.random.normal(70, 40, 200)\n",
    "dealService_JiraSummariesAsQuery_avgSCQ = np.random.normal(100, 10, 200)\n",
    "dealService_overlap_percentage_compared_to_svn = np.random.normal(90, 20, 200)\n",
    "\n",
    "\n",
    "data = [dealService_Resolved_commit_date_dif,\n",
    "dealService_Updated_commit_date_dif,\n",
    "dealService_Assignee_is_commiter,\n",
    "dealService_JiraSummariesAsQuery_maxEntropy ,\n",
    "dealService_vsm_logs_jira_as_query,\n",
    "dealService_vsm_svn_jira_jira_as_query,\n",
    "dealService_total_term_count_jira,\n",
    "dealService_vsm_svn_jira_svn_as_query,\n",
    "dealService_JiraSummariesAsQuery_avgSCQ,\n",
    "dealService_overlap_percentage_compared_to_svn,\n",
    "       ]\n",
    "\n",
    "\n",
    "fig1, ax1 = plt.subplots()\n",
    "ax1.set_title('Basic Plot')\n",
    "ax1.boxplot(data, vert=False, hue)"
   ]
  },
  {
   "cell_type": "code",
   "execution_count": 9,
   "id": "republican-machinery",
   "metadata": {},
   "outputs": [
    {
     "ename": "NameError",
     "evalue": "name 'boxplot' is not defined",
     "output_type": "error",
     "traceback": [
      "\u001b[1;31m---------------------------------------------------------------------------\u001b[0m",
      "\u001b[1;31mNameError\u001b[0m                                 Traceback (most recent call last)",
      "\u001b[1;32m<ipython-input-9-331969b52293>\u001b[0m in \u001b[0;36m<module>\u001b[1;34m\u001b[0m\n\u001b[0;32m     29\u001b[0m \u001b[1;33m\u001b[0m\u001b[0m\n\u001b[0;32m     30\u001b[0m \u001b[1;31m# first boxplot pair\u001b[0m\u001b[1;33m\u001b[0m\u001b[1;33m\u001b[0m\u001b[1;33m\u001b[0m\u001b[0m\n\u001b[1;32m---> 31\u001b[1;33m \u001b[0mbp\u001b[0m \u001b[1;33m=\u001b[0m \u001b[0mboxplot\u001b[0m\u001b[1;33m(\u001b[0m\u001b[0mA\u001b[0m\u001b[1;33m,\u001b[0m \u001b[0mpositions\u001b[0m \u001b[1;33m=\u001b[0m \u001b[1;33m[\u001b[0m\u001b[1;36m1\u001b[0m\u001b[1;33m,\u001b[0m \u001b[1;36m2\u001b[0m\u001b[1;33m]\u001b[0m\u001b[1;33m,\u001b[0m \u001b[0mwidths\u001b[0m \u001b[1;33m=\u001b[0m \u001b[1;36m0.6\u001b[0m\u001b[1;33m)\u001b[0m\u001b[1;33m\u001b[0m\u001b[1;33m\u001b[0m\u001b[0m\n\u001b[0m\u001b[0;32m     32\u001b[0m \u001b[0msetBoxColors\u001b[0m\u001b[1;33m(\u001b[0m\u001b[0mbp\u001b[0m\u001b[1;33m)\u001b[0m\u001b[1;33m\u001b[0m\u001b[1;33m\u001b[0m\u001b[0m\n\u001b[0;32m     33\u001b[0m \u001b[1;33m\u001b[0m\u001b[0m\n",
      "\u001b[1;31mNameError\u001b[0m: name 'boxplot' is not defined"
     ]
    },
    {
     "data": {
      "image/png": "[encoded data removed]",
      "text/plain": [
       "<Figure size 432x288 with 1 Axes>"
      ]
     },
     "metadata": {
      "needs_background": "light"
     },
     "output_type": "display_data"
    }
   ],
   "source": []
  },
  {
   "cell_type": "code",
   "execution_count": null,
   "id": "different-setup",
   "metadata": {},
   "outputs": [],
   "source": []
  }
 ],
 "metadata": {
  "kernelspec": {
   "display_name": "Python 3",
   "language": "python",
   "name": "python3"
  },
  "language_info": {
   "codemirror_mode": {
    "name": "ipython",
    "version": 3
   },
   "file_extension": ".py",
   "mimetype": "text/x-python",
   "name": "python",
   "nbconvert_exporter": "python",
   "pygments_lexer": "ipython3",
   "version": "3.9.2"
  }
 },
 "nbformat": 4,
 "nbformat_minor": 5
}
