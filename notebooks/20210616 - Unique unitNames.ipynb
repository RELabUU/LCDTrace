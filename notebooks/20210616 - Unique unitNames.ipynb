{
 "cells": [
  {
   "cell_type": "code",
   "execution_count": 1,
   "id": "handled-prediction",
   "metadata": {},
   "outputs": [],
   "source": [
    "#Import Python Libraries\n",
    "import pandas as pd\n",
    "import pickle\n",
    "import time\n",
    "import numpy as np\n",
    "\n",
    "#Import Self-written Functions\n",
    "import os\n",
    "import sys\n",
    "src_dir = os.path.join(os.getcwd(), '..', 'src')\n",
    "sys.path.append(src_dir)\n",
    "\n",
    "from d00_utils.calculateTimeDifference import calculateTimeDifference #Function to calc time difference\n",
    "from d01_data.loadCommits import loadCommits #Function to load SVN data\n",
    "from d02_intermediate.cleanCommitData import cleanCommitData #Function to clean commit data\n",
    "from d02_intermediate.cleanJiraData import cleanJiraData #Function to clean JIRA data\n",
    "\n",
    "from d03_processing.createFittedTF_IDF import createFittedTF_IDF #Function to see if a trace is valid\n",
    "from d03_processing.createCorpusFromDocumentList import createCorpusFromDocumentList #Function to create a corpus\n",
    "from d03_processing.checkValidityTrace import checkValidityTrace #Function to see if a trace is valid\n",
    "from d03_processing.calculateTimeDif import calculateTimeDif #Calculate the time difference between 2 dates in seconds\n",
    "from d03_processing.checkFullnameEqualsEmail import checkFullnameEqualsEmail #Check if fullName is equal to the email\n",
    "from d03_processing.calculateCosineSimilarity import calculateCosineSimilarity #Calculate the cos similarity\n",
    "from d03_processing.calculateDocumentStatistics import calculateUniqueWordCount\n",
    "from d03_processing.calculateDocumentStatistics import calculateTotalWordCount\n",
    "from d03_processing.calculateDocumentStatistics import calculateOverlapBetweenDocuments\n",
    "\n",
    "from d04_modelling.summariseClassDistribution import summariseClassDistribution #Visualize the class distribution\n",
    "from d04_modelling.showModelPerformance import showModelPerformance # Show several performance measures\n",
    "\n",
    "#Display full value of a column\n",
    "pd.set_option('display.max_colwidth', None)\n",
    "\n",
    "#Display all columns\n",
    "pd.set_option('display.max_columns', None)\n",
    "pd.set_option('display.max_rows', None)"
   ]
  },
  {
   "cell_type": "markdown",
   "id": "solved-sellers",
   "metadata": {},
   "source": [
    "# 1. Load Raw Data"
   ]
  },
  {
   "cell_type": "code",
   "execution_count": 2,
   "id": "amended-religious",
   "metadata": {},
   "outputs": [],
   "source": [
    "#Set dataset\n",
    "\n",
    "datasetDirectory = \"\""
   ]
  },
  {
   "cell_type": "code",
   "execution_count": 3,
   "id": "played-favor",
   "metadata": {},
   "outputs": [],
   "source": [
    "#Import raw JIRA dataset\n",
    "rawData_JIRA_dataProcessing = pd.read_csv('../data/01_raw/JIRA Mendix.csv')\n",
    "rawData_JIRA_academy = pd.read_excel('../data/01_raw/JIRA Mendix Academy export.xlsx')\n",
    "rawData_JIRA_academyMay = pd.read_excel('../data/01_raw/JIRA Mendix Academy export_15_05_2021.xlsx')\n",
    "\n",
    "#import\n",
    "rawData_SVN_dataProcessing = loadCommits(\"../data/01_raw/data-processing-svn-dump.txt\")\n",
    "rawData_SVN_academy= loadCommits(\"../data/01_raw/academy-svn-dump.txt\")"
   ]
  },
  {
   "cell_type": "markdown",
   "id": "numerical-utility",
   "metadata": {},
   "source": [
    "# 2. Clean Raw Data\n",
    "## 2.1 Clean Raw Data - SVN Data\n",
    "Clean the raw data of the SVN files"
   ]
  },
  {
   "cell_type": "code",
   "execution_count": 27,
   "id": "institutional-squad",
   "metadata": {},
   "outputs": [],
   "source": [
    "from datetime import datetime\n",
    "import re\n",
    "import pandas as pd\n",
    "import string\n",
    "\n",
    "#nltk for NLP \n",
    "import nltk\n",
    "from nltk.tokenize import word_tokenize\n",
    "from nltk.corpus import stopwords\n",
    "from nltk.stem import PorterStemmer\n",
    "from nltk.util import ngrams\n",
    "\n",
    "#Function to transform natural text into unigram tokens\n",
    "def preprocessNaturalLanguage(text, porterStemmer, cachedStopWords):\n",
    "    string_text = str(text)\n",
    "    #lowercase the string\n",
    "    lower_case_string = string_text.lower()\n",
    "    \n",
    "    #Remove interpunction\n",
    "    no_interpunction = lower_case_string.translate(str.maketrans('','',string.punctuation))\n",
    "    \n",
    "    #Remove numbers\n",
    "    no_numbers = ''.join([i for i in no_interpunction if not i.isdigit()])\n",
    "    \n",
    "    #tokenize string\n",
    "    tokens = word_tokenize(no_interpunction)\n",
    "    \n",
    "    #remove stopwords\n",
    "    tokens_without_sw = [word for word in tokens if not word in cachedStopWords]\n",
    "    \n",
    "    #Stem the tokens\n",
    "    stemmedToken = list(map(porterStemmer.stem, tokens_without_sw))\n",
    "\n",
    "    return(stemmedToken)\n",
    "\n",
    "#Function to transform natural text into n-gram tokens\n",
    "def preprocessNGrams(text, porterStemmer, cachedStopWords, nGramSize):\n",
    "    string_text = str(text)\n",
    "    \n",
    "    #lowercase the string\n",
    "    lower_case_string = string_text.lower()\n",
    "    \n",
    "    #Remove interpunction\n",
    "    no_interpunction = lower_case_string.translate(str.maketrans('','',string.punctuation))\n",
    "    \n",
    "    #Remove numbers\n",
    "    no_numbers = ''.join([i for i in no_interpunction if not i.isdigit()])\n",
    "    \n",
    "    #tokenize string\n",
    "    tokens = word_tokenize(no_interpunction)\n",
    "    \n",
    "    #Create the ngrams\n",
    "    ngrams = list(nltk.ngrams(tokens, nGramSize))\n",
    "    \n",
    "    #remove all the n-grams containing a stopword\n",
    "    cleanNGrams = [ngram for ngram in ngrams if not any(stop in ngram for stop in cachedStopWords)]\n",
    "    \n",
    "    #Stem the tokens\n",
    "    stemmedNGrams = []\n",
    "    for ngram in cleanNGrams:\n",
    "        stemmed = list(map(porterStemmer.stem, ngram))\n",
    "        stemmedNGrams.append(stemmed)\n",
    "    return(stemmedNGrams)\n",
    "\n",
    "#Function to transform date into a date object\n",
    "def preprocessCommitDate(date_string):\n",
    "    date_time_obj = datetime.strptime(date_string, '%Y-%m-%dT%H:%M:%S.%fZ')  \n",
    "    return(date_time_obj)\n",
    "    \n",
    "#Remove the found Issue key from the log\n",
    "def removeIssueKey(log_message):\n",
    "    issue_keys = re.findall(r\"LRN+.[0-9]+|AFM+.[0-9]+|MA+.[0-9]+\", log_message)\n",
    "    log_message_without_key = log_message\n",
    "    for issue_key in issue_keys:\n",
    "        log_message_without_key = log_message_without_key.replace(issue_key, \"\")\n",
    "    return(log_message_without_key)\n",
    "\n",
    "def unitNamesLambdaFunc(unitName, stemmer):\n",
    "    #Lower case\n",
    "    unitNameLowered = unitName.lower()\n",
    "    \n",
    "    #Remove interpunction\n",
    "    noInterpunction = unitNameLowered.translate(str.maketrans('','',string.punctuation))\n",
    "    \n",
    "    #Remove numbers\n",
    "    noNumbers = ''.join([i for i in noInterpunction if not i.isdigit()])\n",
    "    \n",
    "    stemmendUnitName = stemmer.stem(noInterpunction)\n",
    "    \n",
    "    \n",
    "    return(stemmendUnitName)\n",
    "    \n",
    "\n",
    "def preprocessUnitNames(unitName, porterStemmer, cachedStopWords):\n",
    "    if (isinstance(unitName, str)):\n",
    "        #Split camelCasing\n",
    "        #print(unitName)\n",
    "        unitNameList = list(unitName.split(\" \"))\n",
    "        #print(unitNameList)\n",
    "        unitNameArray = np.array(unitNameList)\n",
    "        uniqueUnitNames = np.unique(unitNameArray)\n",
    "\n",
    "\n",
    "        uniqueUnitNamesString = ' '.join(uniqueUnitNames)\n",
    "        unitNameSplitStringList = re.split('_| ', uniqueUnitNamesString)\n",
    "\n",
    "        #unitNameSplitList = re.sub('([A-Z][a-z]+)', r' \\1', re.sub('([A-Z]+)', r' \\1', uniqueUnitNamesString)).split()\n",
    "        \n",
    "        porterStemmer = PorterStemmer() #create an object of class PorterStemmer\n",
    "        \n",
    "        #Preprocess each split found.\n",
    "        unitNameLowered = list(map(lambda unitName: unitNamesLambdaFunc(unitName, porterStemmer), \n",
    "                                   unitNameSplitStringList))\n",
    "        \n",
    "        #Check for stopwords\n",
    "        tokensWithoutSW = [word for word in unitNameLowered if not word in cachedStopWords]\n",
    "\n",
    "        return(unitNameLowered)\n",
    "\n",
    "def preprocessNGramsUnitNames(unitName, porterStemmer, cachedStopWords, nGramSize):\n",
    "    if (isinstance(unitName, str)):\n",
    "        #Split camelCasing\n",
    "        #print(unitName)\n",
    "        unitNameList = list(unitName.split(\" \"))\n",
    "        #print(unitNameList)\n",
    "        unitNameArray = np.array(unitNameList)\n",
    "        uniqueUnitNames = np.unique(unitNameArray)\n",
    "\n",
    "\n",
    "        uniqueUnitNamesString = ' '.join(uniqueUnitNames)\n",
    "        unitNameSplitStringList = re.split('_| ', uniqueUnitNamesString)\n",
    "        #Split camelCasing\n",
    "        unitNameSplitList = re.sub('([A-Z][a-z]+)', r' \\1', re.sub('([A-Z]+)', r' \\1', unitName)).split()\n",
    "        \n",
    "        cleanedUnitNames = []\n",
    "        for unitNameSplit in unitNameSplitStringList:\n",
    "            #Lower case unit names\n",
    "            lowerCased = unitNameSplit.lower()\n",
    "\n",
    "            #Remove interpunction\n",
    "            removedInterpunction = lowerCased.translate(str.maketrans('','',string.punctuation))\n",
    "            cleanedUnitNames.append(removedInterpunction)\n",
    "            \n",
    "        #Transform to string (needed for tokenizer\n",
    "        unitNameString = ' '.join(cleanedUnitNames)\n",
    "\n",
    "        #Tokenzize words\n",
    "        tokenized = word_tokenize(unitNameString)\n",
    "        \n",
    "        #Create the ngrams\n",
    "        ngrams = list(nltk.ngrams(tokenized, nGramSize))\n",
    "        \n",
    "        porterStemmer = PorterStemmer() #create an object of class PorterStemmer\n",
    "        \n",
    "        #remove all the n-grams containing a stopword\n",
    "        cleanNGrams = [ngram for ngram in ngrams if not any(stop in ngram for stop in cachedStopWords)]\n",
    "    \n",
    "        #Stem the tokens\n",
    "        stemmedNGrams = []\n",
    "        for ngram in cleanNGrams:\n",
    "            stemmed = list(map(porterStemmer.stem, ngram))\n",
    "            stemmedNGrams.append(stemmed)\n",
    "            \n",
    "        return(stemmedNGrams)\n",
    "\n",
    "#Method to clean all columns of the provided data\n",
    "def cleanCommitData(rawCommitData): \n",
    "    #create an object of class PorterStemmer\n",
    "    porterStemmer = PorterStemmer()\n",
    "    \n",
    "    #Find all stopwords\n",
    "    cachedStopWords = stopwords.words(\"english\")\n",
    "    \n",
    "    #Remove all revisions without an issue key in the log message\n",
    "    commit_df = rawCommitData[rawCommitData[\"related_issue_key\"].notna()]\n",
    "\n",
    "    #Execute cleaning methods on dataset\n",
    "    cleaned_commit_logs = commit_df['log'].apply(lambda x: removeIssueKey(x))\n",
    "    processed_commit_logs = cleaned_commit_logs.apply(lambda x: preprocessNaturalLanguage(x, porterStemmer, cachedStopWords))\n",
    "    processed_commit_logs_2grams = cleaned_commit_logs.apply(lambda x: preprocessNGrams(x, porterStemmer, cachedStopWords, 2))\n",
    "    processed_commit_logs_3grams = cleaned_commit_logs.apply(lambda x: preprocessNGrams(x, porterStemmer, cachedStopWords, 3))\n",
    "    processed_date_times = commit_df['date'].apply(lambda x: preprocessCommitDate(x))\n",
    "    processed_unit_names = commit_df['impacted_unit_names'].apply(lambda x: preprocessUnitNames(x, porterStemmer, cachedStopWords))\n",
    "    processed_unit_names_2grams = commit_df['impacted_unit_names'].apply(lambda x: preprocessNGramsUnitNames(x, porterStemmer, cachedStopWords, 2))\n",
    "    processed_unit_names_3grams = commit_df['impacted_unit_names'].apply(lambda x: preprocessNGramsUnitNames(x, porterStemmer, cachedStopWords, 3))\n",
    "    \n",
    "\n",
    "    #Put all data together into a new dataframe\n",
    "    commit_data = {'Revision': commit_df[\"revision\"],\n",
    "               'Email' : commit_df[\"email\"],\n",
    "               'Commit_date': processed_date_times,\n",
    "               \"Issue_key_commit\": commit_df[\"related_issue_key\"],\n",
    "               'Logs': processed_commit_logs, \n",
    "               'Logs_2grams': processed_commit_logs_2grams, \n",
    "               'Logs_3grams': processed_commit_logs_3grams, \n",
    "               'Unit_names': processed_unit_names,\n",
    "               'Unit_names_2grams': processed_unit_names_2grams,\n",
    "               'Unit_names_3grams': processed_unit_names_3grams,\n",
    "               'Commit_natural_text': processed_commit_logs + processed_unit_names,\n",
    "               'Commit_natural_text_2grams': processed_commit_logs_2grams + processed_unit_names_2grams,\n",
    "               'Commit_natural_text_3grams': processed_commit_logs_3grams + processed_unit_names_3grams\n",
    "               }\n",
    "               \n",
    "    commit_processed_df = pd.DataFrame(data=commit_data)\n",
    "\n",
    "    return(commit_processed_df)"
   ]
  },
  {
   "cell_type": "code",
   "execution_count": 28,
   "id": "monetary-billion",
   "metadata": {},
   "outputs": [
    {
     "name": "stdout",
     "output_type": "stream",
     "text": [
      "Finished cleaning after 0 minutes and 11.07300066947937 seconds\n"
     ]
    }
   ],
   "source": [
    "#Start timer\n",
    "startTime = time.time() \n",
    "\n",
    "intermediateData_SVN_dataProcessing = cleanCommitData(rawData_SVN_dataProcessing)\n",
    "intermediateData_SVN_academy = cleanCommitData(rawData_SVN_academy)\n",
    "\n",
    "#Create a temp XLSX file for all intermediate datasets\n",
    "intermediateData_SVN_dataProcessing.to_excel(excel_writer = \"../data/02_intermediate/intermediateData_SVN_dataProcessing.xlsx\", index = False)\n",
    "intermediateData_SVN_academy.to_excel(excel_writer = \"../data/02_intermediate/intermediateData_SVN_academy.xlsx\", index = False)\n",
    "\n",
    "#Create a pickle file for all intermediate datasets\n",
    "intermediateData_SVN_dataProcessing.to_pickle(path= \"../data/02_intermediate/intermediateData_SVN_dataProcessing.pkl\")\n",
    "intermediateData_SVN_academy.to_pickle(path= \"../data/02_intermediate/intermediateData_SVN_academy.pkl\")\n",
    "\n",
    "endTime = time.time()\n",
    "timeDifference = calculateTimeDifference(startTime=startTime, endTime=endTime)\n",
    "print(\"Finished cleaning after \" + timeDifference)"
   ]
  },
  {
   "cell_type": "code",
   "execution_count": 29,
   "id": "miniature-input",
   "metadata": {},
   "outputs": [
    {
     "name": "stderr",
     "output_type": "stream",
     "text": [
      "[nltk_data] Downloading package averaged_perceptron_tagger to\n",
      "[nltk_data]     C:\\Users\\rande\\AppData\\Roaming\\nltk_data...\n",
      "[nltk_data]   Package averaged_perceptron_tagger is already up-to-\n",
      "[nltk_data]       date!\n"
     ]
    }
   ],
   "source": [
    "import re\n",
    "\n",
    "import string\n",
    "#nltk for NLP \n",
    "import nltk\n",
    "from nltk.tokenize import word_tokenize\n",
    "from nltk.tag  import pos_tag\n",
    "from nltk.corpus import stopwords\n",
    "from nltk.stem import PorterStemmer\n",
    "from datetime import datetime\n",
    "import numpy as np\n",
    "import pandas as pd\n",
    "import time\n",
    "nltk.download('averaged_perceptron_tagger')\n",
    "\n",
    "\n",
    "#Function to clean the comments\n",
    "def clean_comments(comment):\n",
    "    try:\n",
    "        commentDates = re.findall(r\"[0-9]{2} [A-Z][a-z]{2} [0-9]{4} [0-9]{2}:[0-9]{2};[a-zA-Z0-9_]{24};\", comment)\n",
    "        accountIds = re.findall(r\"\\[~accountid:[a-zA-Z0-9]{24}\\]\", comment)\n",
    "               \n",
    "        \n",
    "        cleanedComment = comment.replace(\"nan\",'')\n",
    "        for commentDate in commentDates:\n",
    "            cleanedComment = cleanedComment.replace(commentDate,'')\n",
    "        \n",
    "        for accountId in accountIds: \n",
    "            cleanedComment = cleanedComment.replace(accountId,'')\n",
    "        \n",
    "        return(cleanedComment)\n",
    "    except:\n",
    "        return(\"\")\n",
    "\n",
    "def preprocess(text, porterStemmer, cachedStopwords):\n",
    "    string_text = str(text)\n",
    "    #lowercase the string\n",
    "    lower_case_string = string_text.lower()\n",
    "    \n",
    "    #Remove interpunction\n",
    "    no_interpunction = lower_case_string.translate(str.maketrans('','',string.punctuation))\n",
    "    \n",
    "    #Remove numbers\n",
    "    no_numbers = ''.join([i for i in no_interpunction if not i.isdigit()])\n",
    "    \n",
    "    #tokenize string\n",
    "    tokens = word_tokenize(no_numbers)\n",
    "    \n",
    "    #remove stopwords\n",
    "    tokens_without_sw = [word for word in tokens if not word in cachedStopwords]\n",
    "    \n",
    "    #Stem the tokens\n",
    "    stemmedToken = list(map(porterStemmer.stem, tokens_without_sw))\n",
    "\n",
    "    return(stemmedToken)\n",
    "\n",
    "def preprocessNGrams(text, porterStemmer, cachedStopWords, nGramSize):\n",
    "    string_text = str(text)\n",
    "    \n",
    "    #lowercase the string\n",
    "    lower_case_string = string_text.lower()\n",
    "    \n",
    "    #Remove interpunction\n",
    "    no_interpunction = lower_case_string.translate(str.maketrans('','',string.punctuation))\n",
    "    \n",
    "    #Remove numbers\n",
    "    no_numbers = ''.join([i for i in no_interpunction if not i.isdigit()])\n",
    "    \n",
    "    #tokenize string\n",
    "    tokens = word_tokenize(no_numbers)\n",
    "    \n",
    "    #Create the ngrams\n",
    "    ngrams = list(nltk.ngrams(tokens, nGramSize))\n",
    "    \n",
    "    #remove all the n-grams containing a stopword\n",
    "    cleanNGrams = [ngram for ngram in ngrams if not any(stop in ngram for stop in cachedStopWords)]\n",
    "    \n",
    "    #Stem the tokens\n",
    "    stemmedNGrams = []\n",
    "    for ngram in cleanNGrams:\n",
    "        stemmed = list(map(porterStemmer.stem, ngram))\n",
    "        stemmedNGrams.append(stemmed)\n",
    "    return(stemmedNGrams)\n",
    "\n",
    "#Function to transform date into a date object\n",
    "def preprocess_jira_date(date_string):\n",
    "    if(isinstance(date_string, str)):\n",
    "        try:\n",
    "            date_time_obj = datetime.strptime(date_string, '%d %b %Y %H:%M')\n",
    "        except:\n",
    "            date_time_obj = datetime.strptime(date_string, '%Y-%m-%d %H:%M:%S:%f')\n",
    "        return(date_time_obj)\n",
    "    elif(isinstance(date_string, datetime)): \n",
    "        return(date_string)\n",
    "    else:\n",
    "        return(np.nan)\n",
    "    \n",
    "    \n",
    "def findVerbs(tokenList):\n",
    "    posTags = pos_tag(tokenList)\n",
    "    verbAbrList = ['VBP', 'VBG', 'VBN', 'VBP', 'VBZ', 'RB', 'RBR', 'RBS']\n",
    "    verbList = []\n",
    "    for posTag in posTags:\n",
    "        if posTag[1] in verbAbrList:\n",
    "            verbList.append(posTag[0])\n",
    "    return(verbList)\n",
    "\n",
    "#Preprocess all the features and transform to the format needed for further processing.\n",
    "def preprocessJiraData(cleanDataFrame, preprocessComments, porterStemmer, cachedStopWords, startTime):\n",
    "    if (preprocessComments == True):\n",
    "        nOfSteps = '4'\n",
    "    else:\n",
    "        nOfSteps = '3'\n",
    "\n",
    "    #preprocess Summaries\n",
    "    jira_summaries = cleanDataFrame['Summary'].apply(lambda x: preprocess(x, porterStemmer, cachedStopWords))\n",
    "    jira_summaries_2grams = cleanDataFrame['Summary'].apply(lambda x: preprocessNGrams(x, porterStemmer, cachedStopWords, 2))\n",
    "    jira_summaries_3grams = cleanDataFrame['Summary'].apply(lambda x: preprocessNGrams(x, porterStemmer, cachedStopWords, 3))\n",
    "    \n",
    "    endTimeCleaningSummaries = time.time() - startTime\n",
    "    print(\"1/\" + nOfSteps + \") Finished Cleaning Summaries after \" + str(endTimeCleaningSummaries) + \" sec\")\n",
    "\n",
    "    #preprocess Descriptions\n",
    "    jira_descriptions = cleanDataFrame['Description'].apply(lambda x: preprocess(x, porterStemmer, cachedStopWords))\n",
    "    jira_descriptions_2grams = cleanDataFrame['Description'].apply(lambda x: preprocessNGrams(x, porterStemmer, cachedStopWords, 2))\n",
    "    jira_descriptions_3grams = cleanDataFrame['Description'].apply(lambda x: preprocessNGrams(x, porterStemmer, cachedStopWords, 2))\n",
    "    \n",
    "    endTimeCleaningDescriptions = time.time() - startTime\n",
    "    print(\"2/\" + nOfSteps + \") Finished Cleaning Description after \" + str(endTimeCleaningDescriptions) + \" sec\")\n",
    "\n",
    "    #preprocess Dates\n",
    "    jira_creation = cleanDataFrame['Created'].apply(lambda x: preprocess_jira_date(x))\n",
    "    jira_updated = cleanDataFrame['Updated'].apply(lambda x: preprocess_jira_date(x))\n",
    "    jira_resolved = cleanDataFrame['Resolved'].apply(lambda x: preprocess_jira_date(x))\n",
    "    endTimeCleaningDates = time.time() - startTime\n",
    "    print(\"3/\" + nOfSteps + \") Finished Cleaning Dates after \" + str(endTimeCleaningDates) + \" sec\")\n",
    "\n",
    "    #Comments take too long for a test run.\n",
    "    if (preprocessComments == True):\n",
    "        jira_comments = cleanDataFrame['Comments'].apply(lambda x: preprocess(x, porterStemmer, cachedStopWords))\n",
    "        jira_comments_2grams = cleanDataFrame['Comments'].apply(lambda x: preprocessNGrams(x, porterStemmer, cachedStopWords, 2))\n",
    "        jira_comments_3grams = cleanDataFrame['Comments'].apply(lambda x: preprocessNGrams(x, porterStemmer, cachedStopWords, 2))\n",
    "        endTimeCleaningComments = time.time() - startTime\n",
    "        print(\"4/\" + nOfSteps + \") Finished Cleaning Comments after \" + str(endTimeCleaningComments) + \" sec\")\n",
    "\n",
    "         #create JIRA corpus by merging Summary and Description\n",
    "        jira_data = {'Issue_key_jira': cleanDataFrame['Issue key'], \n",
    "             'Assignee': cleanDataFrame['Assignee'],\n",
    "             'Jira_created_date': jira_creation, \n",
    "             'Jira_updated_date': jira_updated, \n",
    "             'Jira_resolved_date': jira_resolved, \n",
    "             'Summary': jira_summaries, \n",
    "             'Summary_2grams': jira_summaries_2grams,\n",
    "             'Summary_3grams': jira_summaries_3grams, \n",
    "             'Description': jira_descriptions,\n",
    "             'Description_2grams': jira_descriptions_2grams,\n",
    "             'Description_3grams': jira_descriptions_3grams,\n",
    "             'Comments': jira_comments,\n",
    "             'Comments_2grams': jira_comments_2grams,\n",
    "             'Comments_3grams': jira_comments_3grams,\n",
    "             'Jira_natural_text': jira_summaries +  jira_descriptions + jira_comments,\n",
    "             'Jira_natural_text_2grams': jira_summaries_2grams +  jira_descriptions_2grams + jira_comments_2grams,\n",
    "             'Jira_natural_text_3grams': jira_summaries_3grams +  jira_descriptions_3grams + jira_comments_3grams}\n",
    "    else:\n",
    "         #create JIRA corpus by merging Summary and Description\n",
    "        jira_data = {'Issue_key_jira': cleanDataFrame['Issue key'], \n",
    "             'Assignee': cleanDataFrame['Assignee'],\n",
    "             'Jira_created_date': jira_creation, \n",
    "             'Jira_updated_date': jira_updated, \n",
    "             'Jira_resolved_date': jira_resolved, \n",
    "             'Summary': jira_summaries,\n",
    "             'Summary_2grams': jira_summaries_2grams,\n",
    "             'Summary_3grams': jira_summaries_3grams,\n",
    "             'Description': jira_descriptions,\n",
    "             'Description_2grams': jira_descriptions_2grams,\n",
    "             'Description_3grams': jira_descriptions_3grams,\n",
    "             'Jira_natural_text': jira_summaries +  jira_descriptions,\n",
    "             'Jira_natural_text_2grams': jira_summaries_2grams +  jira_descriptions_2grams,\n",
    "             'Jira_natural_text_3grams': jira_summaries_3grams +  jira_descriptions_3grams}\n",
    "\n",
    "    jira_processed_df = pd.DataFrame(data=jira_data)\n",
    "    \n",
    "    #Find verbs\n",
    "    jira_processed_df['verbs'] = jira_processed_df['Jira_natural_text'].apply(lambda x: findVerbs(x))\n",
    "    \n",
    "    return(jira_processed_df)\n",
    "\n",
    "#Input dataframe and num of_comments, and bool to determine if comments need to be cleaned\n",
    "def cleanJiraData(dataFrame, cleanComments, commentAmount):\n",
    "    startTime = time.time()\n",
    "\n",
    "    #create an object of class PorterStemmer\n",
    "    porterStemmer = PorterStemmer()\n",
    "    \n",
    "    #Find all stopwords\n",
    "    cachedStopWords = stopwords.words(\"english\")\n",
    "\n",
    "    if (cleanComments == True):\n",
    "        #Subset only all comments \n",
    "        loc_first_comment = dataFrame.columns.get_loc('Comment') # Variable storing the col location of the 1st comment\n",
    "    \n",
    "        dataFrame[\"Comments\"] = dataFrame.iloc[:,loc_first_comment:loc_first_comment+commentAmount].apply(\n",
    "            lambda x: \" \".join(x.astype(str)), axis=1)\n",
    "    \n",
    "        #First remove the date and comment string from the comments\n",
    "        dataFrame[\"Comments\"] = dataFrame[\"Comments\"].apply(lambda x: clean_comments(x))\n",
    "\n",
    "        #Subset JIRA ID, Summary, Description, comments\n",
    "        jira_issues_subset = dataFrame[[\"Issue key\", \"Assignee\", \"Summary\", \"Description\", \"Comments\", \"Created\", \"Resolved\", \"Updated\"]]\n",
    "        cleanedAndProcessedJiraData = preprocessJiraData(jira_issues_subset, preprocessComments = True, porterStemmer = porterStemmer, cachedStopWords = cachedStopWords, startTime = startTime)\n",
    "        return(cleanedAndProcessedJiraData)\n",
    "    else: \n",
    "        jira_issues_subset = dataFrame[[\"Issue key\", \"Assignee\", \"Summary\", \"Description\", \"Created\", \"Resolved\", \"Updated\"]]\n",
    "        cleanedAndProcessedJiraData = preprocessJiraData(jira_issues_subset, preprocessComments = False, porterStemmer = porterStemmer, cachedStopWords = cachedStopWords, startTime = startTime)\n",
    "        return(cleanedAndProcessedJiraData)\n"
   ]
  },
  {
   "cell_type": "code",
   "execution_count": 30,
   "id": "indie-living",
   "metadata": {},
   "outputs": [
    {
     "name": "stdout",
     "output_type": "stream",
     "text": [
      "1/3) Finished Cleaning Summaries after 0.054303646087646484 sec\n",
      "2/3) Finished Cleaning Description after 0.2866494655609131 sec\n",
      "3/3) Finished Cleaning Dates after 0.2886486053466797 sec\n",
      "1/3) Finished Cleaning Summaries after 0.6934523582458496 sec\n",
      "2/3) Finished Cleaning Description after 6.887400150299072 sec\n",
      "3/3) Finished Cleaning Dates after 6.89537787437439 sec\n"
     ]
    }
   ],
   "source": [
    "#Rename key to Issue key\n",
    "rawData_JIRA_academyMay = rawData_JIRA_academyMay.rename({'Key': 'Issue key'}, axis=1)\n",
    "\n",
    "#Clean Data sets\n",
    "intermediateData_JIRA_dataProcessing = cleanJiraData(dataFrame = rawData_JIRA_dataProcessing, cleanComments = False, commentAmount = 39)\n",
    "intermediateData_JIRA_academyMay = cleanJiraData(dataFrame = rawData_JIRA_academyMay, cleanComments = False, commentAmount = 0)\n",
    "\n",
    "#Create a temp XLSX file for all intermediate datasets\n",
    "intermediateData_JIRA_dataProcessing.to_excel(excel_writer = \"../data/02_intermediate/intermediateData_JIRA_dataProcessing.xlsx\", index = False)\n",
    "intermediateData_JIRA_academyMay.to_excel(excel_writer = \"../data/02_intermediate/intermediateData_JIRA_academyMay.xlsx\", index = False)\n",
    "\n",
    "#Create a pickle file for all intermediate datasets\n",
    "intermediateData_JIRA_dataProcessing.to_pickle(path= \"../data/02_intermediate/intermediateData_JIRA_dataProcessing.pkl\")\n",
    "intermediateData_JIRA_academyMay.to_pickle(path= \"../data/02_intermediate/intermediateData_JIRA_academyMay.pkl\")"
   ]
  },
  {
   "cell_type": "markdown",
   "id": "contrary-omega",
   "metadata": {},
   "source": [
    "## 2.4 Clean Raw Data - Create JIRA Corpora\n",
    "Create the corpora for JIRA UNIGRAM"
   ]
  },
  {
   "cell_type": "code",
   "execution_count": 31,
   "id": "vietnamese-globe",
   "metadata": {},
   "outputs": [],
   "source": [
    "def createCorpusFromDocumentList(token_column):\n",
    "    token_list = token_column.tolist()\n",
    "    corpus_list = []\n",
    "    \n",
    "    for document in token_list:\n",
    "        #Only join to the string when a list. When it is not a list, then it is np.NaN, thus no changes\n",
    "        if(isinstance(document, list)):\n",
    "            #Transform list to a string for SKLEARN to accept the input.\n",
    "            token_string = ' '.join(document)\n",
    "        \n",
    "            #Add string to the corpus list\n",
    "            corpus_list.append(token_string)\n",
    "    return(corpus_list)"
   ]
  },
  {
   "cell_type": "code",
   "execution_count": 32,
   "id": "experienced-middle",
   "metadata": {},
   "outputs": [],
   "source": [
    "#Create JIRA corpus for dataProcessing dataset\n",
    "intermediateData_JIRA_dataProcessingCorpusSummary = createCorpusFromDocumentList(intermediateData_JIRA_dataProcessing.Summary)\n",
    "intermediateData_JIRA_dataProcessingCorpusDescription = createCorpusFromDocumentList(intermediateData_JIRA_dataProcessing.Description)\n",
    "#intermediateData_JIRA_dataProcessingCorpusComments = createCorpusFromDocumentList(intermediateData_JIRA_dataProcessing.Comments)\n",
    "\n",
    "#Create JIRA corpus for academy dataset\n",
    "intermediateData_JIRA_academyMayCorpusSummary = createCorpusFromDocumentList(intermediateData_JIRA_academyMay.Summary)\n",
    "intermediateData_JIRA_academyMayCorpusDescription = createCorpusFromDocumentList(intermediateData_JIRA_academyMay.Description)\n",
    "\n",
    "#Merge all JIRA Corpora into 1 corpus\n",
    "intermediateData_JIRA_dataProcessingCorpus = [i+\" \"+j for i,j in zip(intermediateData_JIRA_dataProcessingCorpusSummary,\n",
    "                                                                             intermediateData_JIRA_dataProcessingCorpusDescription,\n",
    "                                                                             #intermediateData_JIRA_dataProcessingCorpusComments\n",
    "                                                                            )]\n",
    "\n",
    "intermediateData_JIRA_academyMayCorpus = [i+\" \"+j for i,j in zip(intermediateData_JIRA_academyMayCorpusSummary,\n",
    "                                                                 intermediateData_JIRA_academyMayCorpusDescription)]\n",
    "\n",
    "\n",
    "#Save intermediate pickles\n",
    "with open('../data/02_intermediate/intermediateData_JIRA_dataProcessingCorpus.pkl', 'wb') as f:\n",
    "    pickle.dump(intermediateData_JIRA_dataProcessingCorpus, f)\n",
    "with open('../data/02_intermediate/intermediateData_JIRA_academyMayCorpus.pkl', 'wb') as f:\n",
    "    pickle.dump(intermediateData_JIRA_academyMayCorpus, f)"
   ]
  },
  {
   "cell_type": "markdown",
   "id": "tutorial-multimedia",
   "metadata": {},
   "source": [
    "Bigram corpora"
   ]
  },
  {
   "cell_type": "code",
   "execution_count": 33,
   "id": "mexican-oxford",
   "metadata": {},
   "outputs": [],
   "source": [
    "def createCorpusNGrams(tokenColumn):\n",
    "    tokenList = tokenColumn.tolist()\n",
    "    corpusList = []\n",
    "    \n",
    "    #Transform to strings\n",
    "    for document in tokenList:\n",
    "        if(isinstance(document, list)):\n",
    "            for ngram in document:\n",
    "                ngramString = ' '.join(ngram)\n",
    "                corpusList.append(ngramString)         \n",
    "    return(corpusList)"
   ]
  },
  {
   "cell_type": "code",
   "execution_count": 34,
   "id": "square-hygiene",
   "metadata": {},
   "outputs": [],
   "source": [
    "#Create JIRA corpus for dataProcessing dataset\n",
    "intermediateData_JIRA_dataProcessingCorpusSummary_2grams = createCorpusNGrams(intermediateData_JIRA_dataProcessing.Summary_2grams)\n",
    "intermediateData_JIRA_dataProcessingCorpusDescription_2grams = createCorpusNGrams(intermediateData_JIRA_dataProcessing.Description_2grams)\n",
    "#intermediateData_JIRA_dataProcessingCorpusComments_2grams = createCorpusNGrams(intermediateData_JIRA_dataProcessing.Comments_2grams)\n",
    "\n",
    "#Create JIRA corpus for academy dataset\n",
    "#intermediateData_JIRA_academyMayCorpusSummary = createCorpusFromDocumentList(intermediateData_JIRA_academyMay.Summary)\n",
    "#intermediateData_JIRA_academyMayCorpusDescription = createCorpusFromDocumentList(intermediateData_JIRA_academyMay.Description)\n",
    "\n",
    "#Merge all JIRA Corpora into 1 corpus\n",
    "intermediateData_JIRA_dataProcessingCorpus_2gram = [i+\" \"+j for i,j in zip(intermediateData_JIRA_dataProcessingCorpusSummary_2grams,\n",
    "                                                                             intermediateData_JIRA_dataProcessingCorpusDescription_2grams,\n",
    "                                                                             #intermediateData_JIRA_dataProcessingCorpusComments_2grams\n",
    "                                                                                  )]\n",
    "\n",
    "#intermediateData_JIRA_academyMayCorpus = [i+\" \"+j for i,j in zip(intermediateData_JIRA_academyMayCorpusSummary,\n",
    "#                                                                 intermediateData_JIRA_academyMayCorpusDescription)]\n",
    "\n",
    "\n",
    "#Save intermediate pickles\n",
    "with open('../data/02_intermediate/intermediateData_JIRA_dataProcessingCorpus_2gram.pkl', 'wb') as f:\n",
    "    pickle.dump(intermediateData_JIRA_dataProcessingCorpus_2gram, f)\n",
    "#with open('../data/02_intermediate/intermediateData_JIRA_academyMayCorpus.pkl', 'wb') as f:\n",
    "#    pickle.dump(intermediateData_JIRA_academyMayCorpus, f)"
   ]
  },
  {
   "cell_type": "markdown",
   "id": "legislative-intranet",
   "metadata": {},
   "source": [
    "## 2.4 Clean Raw Data - Create SVN Corpora\n",
    "Create the corpora for SVN"
   ]
  },
  {
   "cell_type": "code",
   "execution_count": 35,
   "id": "attractive-firewall",
   "metadata": {},
   "outputs": [],
   "source": [
    "intermediateData_SVN_dataProcessing = pd.read_pickle(\"../data/02_intermediate/intermediateData_SVN_dataProcessing.pkl\")"
   ]
  },
  {
   "cell_type": "code",
   "execution_count": 36,
   "id": "electoral-witness",
   "metadata": {},
   "outputs": [],
   "source": [
    "#Create corpus for log messages\n",
    "intermediateData_SVNLogs_dataProcessingCorpus = createCorpusFromDocumentList(intermediateData_SVN_dataProcessing.Logs)\n",
    "intermediateData_SVNLogs_academyCorpus = createCorpusFromDocumentList(intermediateData_SVN_academy.Logs)\n",
    "intermediateData_SVNLogs_academyCorpus = createCorpusFromDocumentList(intermediateData_SVN_academy.Logs)\n",
    "\n",
    "#Create corpus for unit names\n",
    "intermediateData_SVNUnitNames_dataProcessingCorpus = createCorpusFromDocumentList(intermediateData_SVN_dataProcessing.Unit_names)\n",
    "intermediateData_SVNUnitNames_academyCorpus = createCorpusFromDocumentList(intermediateData_SVN_academy.Unit_names)\n",
    "\n",
    "#Create corpus for entire commit (log message + model)\n",
    "intermediateData_SVN_dataProcessingCorpusAll = createCorpusFromDocumentList(intermediateData_SVN_dataProcessing.Logs + intermediateData_SVN_dataProcessing.Unit_names)\n",
    "\n",
    "#Save intermediate pickles\n",
    "with open('../data/02_intermediate/intermediateData_SVNLogs_dataProcessingCorpus.pkl', 'wb') as f:\n",
    "    pickle.dump(intermediateData_SVNLogs_dataProcessingCorpus, f)\n",
    "with open('../data/02_intermediate/intermediateData_SVNLogs_academyCorpus.pkl', 'wb') as f:\n",
    "    pickle.dump(intermediateData_SVNLogs_academyCorpus, f)\n",
    "with open('../data/02_intermediate/intermediateData_SVNUnitNames_dataProcessingCorpus.pkl', 'wb') as f:\n",
    "    pickle.dump(intermediateData_SVNUnitNames_dataProcessingCorpus, f)\n",
    "with open('../data/02_intermediate/intermediateData_SVNUnitNames_academyCorpus.pkl', 'wb') as f:\n",
    "    pickle.dump(intermediateData_SVNUnitNames_academyCorpus, f)\n",
    "with open('../data/02_intermediate/intermediateData_SVN_dataProcessingCorpusAll.pkl', 'wb') as f:\n",
    "    pickle.dump(intermediateData_SVN_dataProcessingCorpusAll, f)"
   ]
  },
  {
   "cell_type": "markdown",
   "id": "scheduled-baghdad",
   "metadata": {},
   "source": [
    "bigram corpora"
   ]
  },
  {
   "cell_type": "code",
   "execution_count": 37,
   "id": "boxed-server",
   "metadata": {},
   "outputs": [],
   "source": [
    "intermediateData_SVNLogs_dataProcessingCorpus_2gram = createCorpusNGrams(intermediateData_SVN_dataProcessing.Logs_2grams)\n",
    "intermediateData_SVNUnitNames_dataProcessingCorpus_2gram = createCorpusNGrams(intermediateData_SVN_dataProcessing.Unit_names_2grams)\n",
    "with open('../data/02_intermediate/intermediateData_SVNLogs_dataProcessingCorpus_2gram.pkl', 'wb') as f:\n",
    "    pickle.dump(intermediateData_SVNLogs_dataProcessingCorpus_2gram, f)\n",
    "    \n",
    "    \n",
    "with open('../data/02_intermediate/intermediateData_SVNUnitNames_dataProcessingCorpus_2gram.pkl', 'wb') as f:\n",
    "    pickle.dump(intermediateData_SVNUnitNames_dataProcessingCorpus_2gram, f)"
   ]
  },
  {
   "cell_type": "code",
   "execution_count": 38,
   "id": "sudden-community",
   "metadata": {},
   "outputs": [
    {
     "name": "stdout",
     "output_type": "stream",
     "text": [
      "['act datacategori', 'datacategori save', 'save act', 'act datacontrol', 'datacontrol save', 'save act', 'act datasubject', 'datasubject save', 'save act', 'act processingactivitywizard', 'processingactivitywizard step1', 'step1 step2', 'step2 act', 'act processorsafeguard', 'processorsafeguard save', 'save act', 'act region', 'region save', 'save bco', 'bco securitymeasur', 'securitymeasur save', 'save datacategori', 'datacategori newedit', 'newedit datacontrol', 'datacontrol newedit', 'newedit datasubject', 'datasubject newedit', 'newedit depart', 'depart region', 'region set', 'set processorsafeguard', 'processorsafeguard newedit', 'newedit region', 'region newedit', 'newedit sub', 'sub valid', 'valid step1', 'act datacategori', 'datacategori save', 'save act', 'act datacontrol', 'datacontrol save', 'save act', 'act datasubject', 'datasubject save', 'save act', 'act gotostepx', 'gotostepx invaliddata', 'invaliddata act', 'act newstep', 'newstep cancel', 'cancel act', 'act processingactivityform', 'processingactivityform step2', 'step2 step1', 'step1 act', 'act processingactivityform', 'processingactivityform step2', 'step2 step3', 'step3 act', 'act processingactivityform', 'processingactivityform step2', 'step2 step4', 'step4 act', 'act processingactivityform', 'processingactivityform step2', 'step2 step5', 'step5 act', 'act processingactivityform', 'processingactivityform step2', 'step2 step6', 'step6 act', 'act processingactivityform', 'processingactivityform step2', 'step2 step7', 'step7 act', 'act processingactivitywizard', 'processingactivitywizard step1', 'step1 step2', 'step2 act', 'act processingactivitywizard', 'processingactivitywizard step1', 'step1 step3', 'step3 act', 'act processingactivitywizard', 'processingactivitywizard step1', 'step1 step4', 'step4 act', 'act processingactivitywizard', 'processingactivitywizard step1', 'step1 step5', 'step5 act', 'act processingactivitywizard', 'processingactivitywizard step1', 'step1 step6', 'step6 act', 'act processingactivitywizard', 'processingactivitywizard step1', 'step1 step7', 'step7 act', 'act processorsafeguard', 'processorsafeguard save', 'save act', 'act region', 'region save', 'save confirmform', 'confirmform movetodifferentpag', 'movetodifferentpag processingactivityform', 'processingactivityform step1', 'step1 processingactivityform', 'processingactivityform step', 'step 5', '5 processingact', 'processingact form', 'form step2', 'step2 processingact', 'processingact form', 'form step4', 'step4 processingact', 'processingact form', 'form step6', 'step6 processingact', 'processingact form', 'form step7', 'step7 sub', 'sub valid', 'valid step1', 'step1 sub', 'sub valid', 'valid step2', 'act processingactivityform', 'processingactivityform step2', 'step2 step1', 'step1 act', 'act processingactivityform', 'processingactivityform step2', 'step2 step3', 'step3 act', 'act processingactivityform', 'processingactivityform step2', 'step2 step4', 'step4 act', 'act processingactivityform', 'processingactivityform step2', 'step2 step5', 'step5 act', 'act processingactivityform', 'processingactivityform step2', 'step2 step6', 'step6 act', 'act processingactivityform', 'processingactivityform step2', 'step2 step7', 'step7 act', 'act processingactivityform', 'processingactivityform step3', 'step3 step1', 'step1 act', 'act processingactivityform', 'processingactivityform step3', 'step3 step2', 'step2 act', 'act processingactivityform', 'processingactivityform step3', 'step3 step4', 'step4 act', 'act processingactivityform', 'processingactivityform step3', 'step3 step5', 'step5 act', 'act processingactivityform', 'processingactivityform step3', 'step3 step6', 'step6 act', 'act processingactivityform', 'processingactivityform step3', 'step3 step7', 'step7 confirmform', 'confirmform datacategori', 'datacategori confirmform', 'confirmform datasubject', 'datasubject movetodifferentpag', 'movetodifferentpag processingactivityform', 'processingactivityform step3', 'step3 processingact', 'processingact form', 'form step2', 'step2 sub', 'sub valid', 'valid step3', 'sub valid', 'valid step3', 'act processingactivityform', 'processingactivityform step6', 'step6 step1', 'step1 act', 'act processingactivityform', 'processingactivityform step6', 'step6 step2', 'step2 act', 'act processingactivityform', 'processingactivityform step6', 'step6 step3', 'step3 act', 'act processingactivityform', 'processingactivityform step6', 'step6 step4', 'step4 act', 'act processingactivityform', 'processingactivityform step6', 'step6 step5', 'step5 act', 'act processingactivityform', 'processingactivityform step6', 'step6 step7', 'step7 act', 'act processingactivityform', 'processingactivityform step7', 'step7 step1', 'step1 act', 'act processingactivityform', 'processingactivityform step7', 'step7 step2', 'step2 act', 'act processingactivityform', 'processingactivityform step7', 'step7 step3', 'step3 act', 'act processingactivityform', 'processingactivityform step7', 'step7 step4', 'step4 act', 'act processingactivityform', 'processingactivityform step7', 'step7 step5', 'step5 act', 'act processingactivityform', 'processingactivityform step7', 'step7 step6', 'step6 act', 'act processingact', 'processingact form', 'form finish', 'finish act', 'act saveprocessor', 'saveprocessor confirmform', 'confirmform processor', 'processor confirmform', 'confirmform securitymeasur', 'securitymeasur confirmform', 'confirmform securitymeasur', 'securitymeasur submit', 'submit movetodifferentpag', 'movetodifferentpag processingact', 'processingact form', 'form step6', 'step6 processingact', 'processingact form', 'form step7', 'step7 sub', 'sub processingact', 'processingact submitinvalid', 'submitinvalid sub', 'sub valid', 'valid step6', 'step6 sub', 'sub valid', 'valid step7', 'ds selectableobjectsprocessor', 'selectableobjectsprocessor feedbackwidget', 'feedbackwidget och', 'och addprocessor', 'addprocessor processor', 'processor processingact', 'processingact link', 'link view', 'view saml', 'saml overview', 'processingact form', 'form step6', 'step6 processingact', 'processingact view', 'view process', 'process activ', 'activ overview', 'overview processor', 'processor processingact', 'processingact link', 'link view', 'view processor', 'processor processingact', 'processingact link', 'link view', 'view admin', 'och addprocessor', 'addprocessor processor', 'processor processingact', 'processingact link', 'link view', 'act savenewprocessor', 'savenewprocessor och', 'och addprocessor', 'addprocessor processor', 'processor newedit', 'ds selectableobjectsprocessor', 'processor processingact', 'processingact link', 'link view', 'view admin', 'act processor', 'processor processingact', 'processingact linkview', 'linkview save', 'act processor', 'processor processingact', 'processingact linkview', 'linkview save', 'save och', 'och processorsafeguard', 'usprivacyshield processingact', 'processingact form', 'form step6', 'step6 processingact', 'processingact view', 'view process', 'process activ', 'activ overview', 'overview processor', 'processor processingact', 'processingact link', 'link view', 'view processor', 'processor processingact', 'processingact link', 'link view', 'view admin', 'act datacategoryview', 'datacategoryview save', 'save act', 'act datasubjecttoprocessingact', 'datasubjecttoprocessingact save', 'save act', 'act processingactivityform', 'processingactivityform step2', 'step2 step3', 'step3 act', 'act processingactivityform', 'processingactivityform step3', 'step3 4', '4 act', 'act processingactivityform', 'processingactivityform step4', 'step4 step5', 'step5 act', 'act processingactivityform', 'processingactivityform step6', 'step6 step7', 'step7 act', 'act processingactivitywizard', 'processingactivitywizard step1', 'step1 step2', 'step2 act', 'act processingact', 'processingact form', 'form step5', 'step5 step6', 'step6 act', 'act processingact', 'processingact save', 'save act', 'act processor', 'processor processingact', 'processingact linkview', 'linkview save', 'save act', 'act removesecuritymeasurelink', 'removesecuritymeasurelink act', 'act savesecuritymeasur', 'savesecuritymeasur processingactivityform', 'processingactivityform step3', 'step3 process', 'process activ', 'activ overview', 'act appset', 'appset save', 'save act', 'act counter', 'counter creat', 'creat act', 'act counter', 'counter updat', 'updat act', 'act prefer', 'prefer getorcr', 'getorcr act', 'act showdevpopup', 'showdevpopup aco', 'aco account', 'action activesess', 'activesess administr', 'administr administr', 'administr overview', 'overview afterstartup', 'afterstartup appset', 'appset overview', 'overview beforeshutdown', 'beforeshutdown configuratoremail', 'configuratoremail constant', 'constant ds', 'ds account', 'account getcurr', 'getcurr ds', 'ds personalprefer', 'personalprefer getorcr', 'getorcr email', 'email emailadministr', 'emailadministr overview', 'overview emailtemplatedetail', 'emailtemplatedetail emailtempl', 'emailtempl newedit', 'newedit gener', 'gener home', 'home configur', 'configur icon', 'icon imag', 'imag integr', 'integr overview', 'overview layout', 'layout lognod', 'lognod login', 'login main', 'main menu', 'menu mxobject', 'mxobject overview', 'overview myprofil', 'myprofil view', 'view navig', 'navig user', 'user personalprefer', 'personalprefer view', 'view process', 'process activ', 'activ overview', 'overview runtimeinst', 'runtimeinst samlconfigur', 'samlconfigur overview', 'overview scheduledev', 'scheduledev set', 'set set', 'set complianceadmin', 'complianceadmin overview', 'overview system', 'system user', 'user user', 'user overview', 'overview readm', 'readm resourc', 'processor processingact', 'processingact link', 'link view', 'view processor', 'processor processingact', 'processingact link', 'link view', 'view admin', 'processor processingact', 'processingact link', 'link view', 'view processor', 'processor processingact', 'processingact link', 'link view', 'view admin', 'act datacategori', 'datacategori legalbasi', 'legalbasi removelink', 'removelink act', 'act datacategori', 'datacategori save', 'save act', 'act datacontrol', 'datacontrol save', 'save act', 'act datasubject', 'datasubject save', 'save act', 'act depart', 'depart save', 'save act', 'act legalbas', 'legalbas closepag', 'closepag act', 'act legalbas', 'legalbas datacategori', 'datacategori save', 'save act', 'act legalbasi', 'legalbasi save', 'save act', 'act processingactivityform', 'processingactivityform step2', 'step2 step1', 'step1 act', 'act processingactivityform', 'processingactivityform step2', 'step2 step3', 'step3 act', 'act processingactivityform', 'processingactivityform step2', 'step2 step4', 'step4 act', 'act processingactivityform', 'processingactivityform step2', 'step2 step5', 'step5 act', 'act processingactivityform', 'processingactivityform step2', 'step2 step6', 'step6 act', 'act processingactivityform', 'processingactivityform step2', 'step2 step7', 'step7 act', 'act processingactivityform', 'processingactivityform step3', 'step3 step1', 'step1 act', 'act processingactivityform', 'processingactivityform step3', 'step3 step2', 'step2 act', 'act processingactivityform', 'processingactivityform step3', 'step3 step4', 'step4 act', 'act processingactivityform', 'processingactivityform step3', 'step3 step5', 'step5 act', 'act processingactivityform', 'processingactivityform step3', 'step3 step6', 'step6 act', 'act processingactivityform', 'processingactivityform step3', 'step3 step7', 'step7 act', 'act processingactivityform', 'processingactivityform step6', 'step6 step1', 'step1 act', 'act processingactivityform', 'processingactivityform step6', 'step6 step2', 'step2 act', 'act processingactivityform', 'processingactivityform step6', 'step6 step3', 'step3 act', 'act processingactivityform', 'processingactivityform step6', 'step6 step4', 'step4 act', 'act processingactivityform', 'processingactivityform step6', 'step6 step5', 'step5 act', 'act processingactivityform', 'processingactivityform step6', 'step6 step7', 'step7 act', 'act processingactivityform', 'processingactivityform step7', 'step7 step1', 'step1 act', 'act processingactivityform', 'processingactivityform step7', 'step7 step2', 'step2 act', 'act processingactivityform', 'processingactivityform step7', 'step7 step3', 'step3 act', 'act processingactivityform', 'processingactivityform step7', 'step7 step4', 'step4 act', 'act processingactivityform', 'processingactivityform step7', 'step7 step5', 'step5 act', 'act processingactivityform', 'processingactivityform step7', 'step7 step6', 'step6 act', 'act processingactivitywizard', 'processingactivitywizard step1', 'step1 step2', 'step2 act', 'act processingactivitywizard', 'processingactivitywizard step1', 'step1 step3', 'step3 act', 'act processingactivitywizard', 'processingactivitywizard step1', 'step1 step4', 'step4 act', 'act processingactivitywizard', 'processingactivitywizard step1', 'step1 step5', 'step5 act', 'act processingactivitywizard', 'processingactivitywizard step1', 'step1 step6', 'step6 act', 'act processingactivitywizard', 'processingactivitywizard step1', 'step1 step7', 'step7 act', 'act processingact', 'processingact dataactivitylink', 'dataactivitylink remov', 'remov act', 'act processingact', 'processingact datacategori', 'datacategori save', 'save act', 'act processingact', 'processingact datasubject', 'datasubject save', 'save act', 'act processingact', 'processingact form', 'form finish', 'finish act', 'act processingact', 'processingact gotostepx', 'gotostepx invaliddata', 'invaliddata act', 'act processingact', 'processingact hidedetail', 'hidedetail act', 'act processingact', 'processingact newstep', 'newstep cancel', 'cancel act', 'act processingact', 'processingact openview', 'openview act', 'act processingact', 'processingact receiv', 'receiv creat', 'creat act', 'act processingact', 'processingact securitymeasur', 'securitymeasur remov', 'remov act', 'act processingact', 'processingact showdetail', 'showdetail act', 'act processingact', 'processingact step4', 'step4 step5', 'step5 act', 'act processingact', 'processingact step5', 'step5 step6', 'step6 act', 'act processorsafeguard', 'processorsafeguard save', 'save act', 'act processor', 'processor processingact', 'processingact save', 'save act', 'act processor', 'processor save', 'save act', 'act receiv', 'receiv save', 'save act', 'act region', 'region save', 'save act', 'act securitymeasur', 'securitymeasur save', 'save act', 'act securitymeasur', 'securitymeasur save', 'save administr', 'administr base', 'base categori', 'categori configur', 'configur confirmform', 'confirmform datacategori', 'datacategori confirmform', 'confirmform datasubject', 'datasubject confirmform', 'confirmform processor', 'processor confirmform', 'confirmform securitymeasur', 'securitymeasur ds', 'ds legalbas', 'legalbas selectablelegalbas', 'selectablelegalbas ds', 'ds legalbas', 'legalbas select', 'select ds', 'ds processingact', 'processingact datasubject', 'datasubject ds', 'ds processingact', 'processingact step3', 'step3 datacategoryremovefromlist', 'datacategoryremovefromlist data', 'data datasubject', 'datasubject view', 'view depart', 'depart home', 'home legal', 'legal lognod', 'lognod measur', 'measur och', 'och processingact', 'processingact datasubject', 'datasubject add', 'add och', 'och processingact', 'processingact securitymeasur', 'securitymeasur add', 'add och', 'och processor', 'processor add', 'add processingact', 'processingact processingactivityform', 'processingactivityform step3', 'step3 processingactivityform', 'processingactivityform step', 'step 5', '5 processingact', 'processingact datacategoryview', 'datacategoryview processingact', 'processingact form', 'form step4', 'step4 processingact', 'processingact form', 'form step6', 'step6 processingact', 'processingact form', 'form step7', 'step7 processingact', 'processingact legalbasisview', 'legalbasisview processingact', 'processingact overview', 'overview processingact', 'processingact view', 'view processor', 'processor processor', 'processor newedit', 'newedit processor', 'processor processingact', 'processingact link', 'link view', 'view processor', 'processor processingact', 'processingact link', 'link view', 'view admin', 'admin receiv', 'receiv newedit', 'newedit safeguard', 'safeguard secur', 'secur securitymeasur', 'securitymeasur view', 'view subject', 'subject val', 'val datacategori', 'datacategori val', 'val datacontrol', 'datacontrol val', 'val datasubject', 'datasubject val', 'val depart', 'depart val', 'val legalbas', 'legalbas val', 'val processingact', 'processingact step1', 'step1 val', 'val processingact', 'processingact step2', 'step2 val', 'val processingact', 'processingact step3', 'step3 val', 'val processingact', 'processingact step6', 'step6 val', 'val processingact', 'processingact step7', 'step7 val', 'val processor', 'processor val', 'val processorsafeguard', 'processorsafeguard val', 'val receiv', 'receiv val', 'val region', 'region val', 'val securitymeasur', 'securitymeasur wizard', 'depart overview', 'act processingactivityform', 'processingactivityform step3', 'step3 4', '4 processingactivityform', 'processingactivityform step3', 'depart overview', 'overview depart', 'depart processown', 'processown edit', 'edit depart', 'depart processown', 'processown view', 'view processown', 'processown overview', 'depart processown', 'processown view', 'depart processown', 'processown edit', 'ds depart', 'depart nonprocessown', 'nonprocessown depart', 'depart selectuserasprocessown', 'depart selectuserasprocessown', 'depart overview', 'overview depart', 'depart processown', 'processown edit', 'edit set', 'set complianceadmin', 'complianceadmin overview', 'ds depart', 'depart region', 'region onestr', 'onestr depart', 'depart overview', 'overview processown', 'processown overview', 'act datacategori', 'datacategori legalbasi', 'legalbasi removelink', 'removelink act', 'act legalbas', 'legalbas closepag', 'closepag act', 'act processingact', 'processingact hidedetail', 'hidedetail act', 'act processingact', 'processingact openview', 'openview act', 'act processingact', 'processingact showdetail', 'showdetail act', 'act processor', 'processor shownewedit', 'shownewedit ds', 'ds legalbas', 'legalbas select', 'select ds', 'ds processingperregionperdepart', 'depart overview', '001 100', 'activesess administr', 'administr overview', 'overview appset', 'appset overview', 'overview atla', 'atla default', 'default atla', 'atla topbar', 'topbar atla', 'atla topbar', 'topbar master', 'master atla', 'atla ui', 'ui resourc', 'resourc atla', 'atla ui', 'ui resourc', 'resourc version', 'version avatar', 'avatar tile', 'tile breadcrumb', 'breadcrumb block', 'block content', 'content dashboard', 'dashboard templat', 'templat dashboard', 'dashboard card', 'card row', 'row datacategori', 'datacategori overview', 'overview datacontrol', 'datacontrol overview', 'overview datasubject', 'datasubject overview', 'overview depart', 'depart overview', 'overview design', 'design detailpag', 'detailpag templat', 'templat emailadministr', 'emailadministr overview', 'overview feedbackwidget', 'feedbackwidget home', 'home home', 'home configur', 'configur hybrid', 'hybrid hybridphon', 'hybridphon default', 'default hybridphon', 'hybridphon sidebar', 'sidebar integr', 'integr overview', 'overview layout', 'layout legalbas', 'legalbas overview', 'overview managemyaccount', 'managemyaccount mendix', 'mendix mobilefeatur', 'mobilefeatur mxobject', 'mxobject overview', 'overview myaccount', 'myaccount myprofil', 'myprofil view', 'view nativ', 'nativ nativephon', 'nativephon default', 'default nativephon', 'nativephon fullpag', 'fullpag nativephon', 'nativephon topbaronli', 'topbaronli nativ', 'nativ content', 'content navig', 'navig user', 'user pagehead', 'pagehead peopl', 'peopl listview', 'listview phone', 'phone popuplayout', 'popuplayout processingactivityform', 'processingactivityform step1', 'step1 processingactivityform', 'processingactivityform step3', 'step3 processingactivityform', 'processingactivityform step', 'step 5', '5 processingact', 'processingact admindeletepag', 'admindeletepag processingact', 'processingact form', 'form step2', 'step2 processingact', 'processingact form', 'form step6', 'step6 processingact', 'processingact overview', 'overview processingact', 'processingact view', 'view processorsafeguard', 'processorsafeguard overview', 'overview region', 'region overview', 'overview respons', 'respons runtimeinst', 'runtimeinst samlconfigur', 'samlconfigur overview', 'overview scheduledev', 'scheduledev securitymeasur', 'securitymeasur overview', 'overview system', 'system tablet', 'tablet tablet', 'tablet default', 'default user', 'user overview', 'overview version', 'version wizard', 'wizard vertic', 'vertic wizardpag', 'wizardpag templat', 'templat layout', '820 act', 'act datacategori', 'datacategori legalbasi', 'legalbasi removelink', 'removelink act', 'act depart', 'depart processown', 'processown cancel', 'cancel act', 'act depart', 'depart processown', 'processown remov', 'remov act', 'act depart', 'depart processown', 'processown save', 'save act', 'act depart', 'depart processown', 'processown toggl', 'toggl act', 'act legalbas', 'legalbas closepag', 'closepag act', 'act legalbas', 'legalbas datacategori', 'datacategori save', 'save act', 'act processingactivityform', 'processingactivityform step2', 'step2 step1', 'step1 act', 'act processingactivityform', 'processingactivityform step2', 'step2 step3', 'step3 act', 'act processingactivityform', 'processingactivityform step2', 'step2 step4', 'step4 act', 'act processingactivityform', 'processingactivityform step2', 'step2 step5', 'step5 act', 'act processingactivityform', 'processingactivityform step2', 'step2 step6', 'step6 act', 'act processingactivityform', 'processingactivityform step2', 'step2 step7', 'step7 act', 'act processingactivityform', 'processingactivityform step3', 'step3 4', '4 act', 'act processingactivityform', 'processingactivityform step3', 'step3 step1', 'step1 act', 'act processingactivityform', 'processingactivityform step3', 'step3 step2', 'step2 act', 'act processingactivityform', 'processingactivityform step3', 'step3 step4', 'step4 act', 'act processingactivityform', 'processingactivityform step3', 'step3 step5', 'step5 act', 'act processingactivityform', 'processingactivityform step3', 'step3 step6', 'step6 act', 'act processingactivityform', 'processingactivityform step3', 'step3 step7', 'step7 act', 'act processingactivityform', 'processingactivityform step6', 'step6 step1', 'step1 act', 'act processingactivityform', 'processingactivityform step6', 'step6 step2', 'step2 act', 'act processingactivityform', 'processingactivityform step6', 'step6 step3', 'step3 act', 'act processingactivityform', 'processingactivityform step6', 'step6 step4', 'step4 act', 'act processingactivityform', 'processingactivityform step6', 'step6 step5', 'step5 act', 'act processingactivityform', 'processingactivityform step6', 'step6 step7', 'step7 act', 'act processingactivityform', 'processingactivityform step7', 'step7 step1', 'step1 act', 'act processingactivityform', 'processingactivityform step7', 'step7 step2', 'step2 act', 'act processingactivityform', 'processingactivityform step7', 'step7 step3', 'step3 act', 'act processingactivityform', 'processingactivityform step7', 'step7 step4', 'step4 act', 'act processingactivityform', 'processingactivityform step7', 'step7 step5', 'step5 act', 'act processingactivityform', 'processingactivityform step7', 'step7 step6', 'step6 act', 'act processingactivitywizard', 'processingactivitywizard step1', 'step1 step2', 'step2 act', 'act processingactivitywizard', 'processingactivitywizard step1', 'step1 step3', 'step3 act', 'act processingactivitywizard', 'processingactivitywizard step1', 'step1 step4', 'step4 act', 'act processingactivitywizard', 'processingactivitywizard step1', 'step1 step5', 'step5 act', 'act processingactivitywizard', 'processingactivitywizard step1', 'step1 step6', 'step6 act', 'act processingactivitywizard', 'processingactivitywizard step1', 'step1 step7', 'step7 act', 'act processingact', 'processingact dataactivitylink', 'dataactivitylink remov', 'remov act', 'act processingact', 'processingact datacategori', 'datacategori save', 'save act', 'act processingact', 'processingact datasubject', 'datasubject save', 'save act', 'act processingact', 'processingact form', 'form finish', 'finish act', 'act processingact', 'processingact form', 'form step2', 'step2 datasubjectremovefromlist', 'datasubjectremovefromlist act', 'act processingact', 'processingact gotostepx', 'gotostepx invaliddata', 'invaliddata act', 'act processingact', 'processingact hidedetail', 'hidedetail act', 'act processingact', 'processingact newstep', 'newstep cancel', 'cancel act', 'act processingact', 'processingact openbusinessact', 'openbusinessact act', 'act processingact', 'processingact openview', 'openview act', 'act processingact', 'processingact receiv', 'receiv creat', 'creat act', 'act processingact', 'processingact securitymeasur', 'securitymeasur remov', 'remov act', 'act processingact', 'processingact showdetail', 'showdetail act', 'act processingact', 'processingact step4', 'step4 step5', 'step5 act', 'act processingact', 'processingact step5', 'step5 step6', 'step6 act', 'act processingact', 'processingact submitinvalid', 'submitinvalid act', 'act processor', 'processor processingact', 'processingact save', 'save act', 'act processor', 'processor save', 'save act', 'act processor', 'processor shownewedit', 'shownewedit act', 'act receiv', 'receiv save', 'save act', 'act securitymeasur', 'securitymeasur save', 'save asserttru', 'asserttru asserttru', 'asserttru 2', '2 assign', 'assign base64decod', 'base64decod base64decodetofil', 'base64decodetofil base64encod', 'base64encod base64encodefil', 'base64encodefil batch', 'batch clone', 'clone communitycommon', 'communitycommon confirmform', 'confirmform datacategori', 'datacategori confirmform', 'confirmform datasubject', 'datasubject confirmform', 'confirmform processor', 'processor confirmform', 'confirmform securitymeasur', 'securitymeasur confirmform', 'confirmform securitymeasur', 'securitymeasur submit', 'submit constant', 'constant createlognod', 'createlognod createuserifnotexist', 'createuserifnotexist ds', 'ds depart', 'depart region', 'region onestr', 'onestr ds', 'ds depart', 'depart selectableobject', 'selectableobject ds', 'ds layouthelp', 'layouthelp retrieveorcr', 'retrieveorcr ds', 'ds legalbas', 'legalbas selectablelegalbas', 'selectablelegalbas ds', 'ds legalbas', 'legalbas select', 'select ds', 'ds processingactivityform', 'processingactivityform step7', 'step7 securitymeasureremovefromlist', 'securitymeasureremovefromlist 2', '2 ds', 'ds processingact', 'processingact datasubject', 'datasubject ds', 'ds processingact', 'processingact step3', 'step3 datacategoryremovefromlist', 'datacategoryremovefromlist ds', 'ds processingperregionperdepart', 'processingperregionperdepart ds', 'ds selectableobjectsprocessor', 'selectableobjectsprocessor datasubject', 'datasubject view', 'view datepartselector', 'datepartselector datetim', 'datetim datetimetolong', 'datetimetolong decryptstr', 'decryptstr deepclon', 'deepclon delay', 'delay depart', 'depart overview', 'overview depart', 'depart processown', 'processown edit', 'edit depart', 'depart processown', 'processown view', 'view depart', 'depart selectuserasprocessown', 'selectuserasprocessown duplicatefiledocu', 'duplicatefiledocu duplicateimagedocu', 'duplicateimagedocu emailaddressregex', 'emailaddressregex encryptstr', 'encryptstr endtransact', 'endtransact enumerationfromstr', 'enumerationfromstr escapehtml', 'escapehtml executemicroflow', 'executemicroflow filedocumentfromfil', 'filedocumentfromfil filefromfiledocu', 'filefromfiledocu file', 'file guidorempti', 'guidorempti guidregex', 'guidregex generatehmac', 'generatehmac sha256', 'sha256 generatehmac', 'generatehmac sha256', 'sha256 hash', 'hash getapplicationurl', 'getapplicationurl getcfinstanceindex', 'getcfinstanceindex getdefaultlanguag', 'getdefaultlanguag getfilecontentsfromresourc', 'getfilecontentsfromresourc getimagedimens', 'getimagedimens getintfromdatetim', 'getintfromdatetim getruntimevers', 'getruntimevers htmlencod', 'htmlencod htmltoplaintext', 'htmltoplaintext hash', 'hash home', 'home identifi', 'identifi imag', 'imag collect', 'collect imag', 'imag isemptystr', 'isemptystr isindevelop', 'isindevelop isnotemptystr', 'isnotemptystr isstringsimplifi', 'isstringsimplifi loglevel', 'loglevel lognod', 'lognod log', 'log longtodatetim', 'longtodatetim mergemultiplepdf', 'mergemultiplepdf mergemultiplepdf', 'mergemultiplepdf maxatonc', 'maxatonc misc', 'misc monthsbetween', 'monthsbetween och', 'och layouthelp', 'layouthelp refresh', 'refresh och', 'och processingact', 'processingact datasubject', 'datasubject add', 'add och', 'och processingact', 'processingact securitymeasur', 'securitymeasur add', 'add och', 'och processorsafeguard', 'usprivacyshield och', 'och processor', 'processor add', 'add och', 'och refreshregion', 'refreshregion ole', 'ole processingact', 'processingact datacategori', 'datacategori save', 'save orm', 'orm overlaypdfdocu', 'overlaypdfdocu owner', 'owner parsedatetimewithtimezon', 'parsedatetimewithtimezon process', 'process processown', 'processown overview', 'overview processingactivityform', 'processingactivityform step1', 'step1 processingactivityform', 'processingactivityform step3', 'step3 processingactivityform', 'processingactivityform step', 'step 5', '5 processingact', 'processingact datacategoryview', 'datacategoryview processingact', 'processingact form', 'form step2', 'step2 processingact', 'processingact form', 'form step4', 'step4 processingact', 'processingact form', 'form step6', 'step6 processingact', 'processingact form', 'form step7', 'step7 processingact', 'processingact legalbasisview', 'legalbasisview processor', 'processor processingact', 'processingact link', 'link view', 'view randomhash', 'randomhash randomstr', 'randomstr randomstrongpassword', 'randomstrongpassword receiv', 'receiv newedit', 'newedit regexquot', 'regexquot regexreplaceal', 'regexreplaceal regex', 'regex removeend', 'removeend runmicroflowasyncinqueu', 'runmicroflowasyncinqueu sanitizerpolici', 'sanitizerpolici securitymeasur', 'securitymeasur view', 'view set', 'set complianceadmin', 'complianceadmin overview', 'overview standardencod', 'standardencod starttransact', 'starttransact stringfromfil', 'stringfromfil stringleftpad', 'stringleftpad stringrightpad', 'stringrightpad stringsimplifi', 'stringsimplifi stringsplit', 'stringsplit stringtofil', 'stringtofil stringtrim', 'stringtrim stringutil', 'stringutil substitutetempl', 'substitutetempl substitutetemplate2', 'substitutetemplate2 substringaft', 'substringaft substringafterlast', 'substringafterlast substringbefor', 'substringbefor substringbeforelast', 'substringbeforelast throwexcept', 'throwexcept throwwebserviceexcept', 'throwwebserviceexcept timemeasureend', 'timemeasureend timemeasurestart', 'timemeasurestart updateuserhelp', 'updateuserhelp xsssanit', 'xsssanit yearsbetween', 'yearsbetween intern', 'intern resourc', 'resourc version', 'version commitinseparatedatabasetransact', 'commitinseparatedatabasetransact commitwithoutev', 'commitwithoutev copyattribut', 'copyattribut deleteal', 'deleteal encryptmemberifchang', 'encryptmemberifchang executemicroflowasus', 'executemicroflowasus executemicroflowasus', 'executemicroflowasus 1', '1 executemicroflowasus', 'executemicroflowasus 2', '2 executemicroflowinbackground', 'executemicroflowinbackground executemicroflowinbatch', 'executemicroflowinbatch executeunverifiedmicroflowasus', 'executeunverifiedmicroflowasus executeunverifiedmicroflowasus', 'executeunverifiedmicroflowasus 1', '1 executeunverifiedmicroflowasus', 'executeunverifiedmicroflowasus 2', '2 executeunverifiedmicroflowinbackground', 'executeunverifiedmicroflowinbackground executeunverifiedmicroflowinbatch', 'executeunverifiedmicroflowinbatch getcreatedbyus', 'getcreatedbyus getfiles', 'getfiles getguid', 'getguid getlastchangedbyus', 'getlastchangedbyus getoriginalvalueasstr', 'getoriginalvalueasstr gettypeasstr', 'gettypeasstr memberhaschang', 'memberhaschang objecthaschang', 'objecthaschang objectisnew', 'objectisnew recommitinbatch', 'recommitinbatch refreshclass', 'refreshclass refreshclassbyobject', 'refreshclassbyobject retrieveurl', 'retrieveurl storeurltofiledocu', 'act processor', 'processor processingact', 'processingact save', 'save act', 'act processor', 'processor save', 'save och', 'och processor', 'processor add', 'add processor', 'processor newedit', 'newedit val', 'val processoract', 'processoract link', 'depart overview', 'act processingactivityform', 'processingactivityform step2', 'step2 step1', 'step1 act', 'act processingactivityform', 'processingactivityform step2', 'step2 step3', 'step3 act', 'act processingactivityform', 'processingactivityform step2', 'step2 step4', 'step4 act', 'act processingactivityform', 'processingactivityform step2', 'step2 step5', 'step5 act', 'act processingactivityform', 'processingactivityform step2', 'step2 step6', 'step6 act', 'act processingactivityform', 'processingactivityform step2', 'step2 step7', 'step7 act', 'act processingactivityform', 'processingactivityform step3', 'step3 4', '4 act', 'act processingactivityform', 'processingactivityform step3', 'step3 step1', 'step1 act', 'act processingactivityform', 'processingactivityform step3', 'step3 step2', 'step2 act', 'act processingactivityform', 'processingactivityform step3', 'step3 step4', 'step4 act', 'act processingactivityform', 'processingactivityform step3', 'step3 step5', 'step5 act', 'act processingactivityform', 'processingactivityform step3', 'step3 step6', 'step6 act', 'act processingactivityform', 'processingactivityform step3', 'step3 step7', 'step7 act', 'act processingactivityform', 'processingactivityform step6', 'step6 step1', 'step1 act', 'act processingactivityform', 'processingactivityform step6', 'step6 step2', 'step2 act', 'act processingactivityform', 'processingactivityform step6', 'step6 step3', 'step3 act', 'act processingactivityform', 'processingactivityform step6', 'step6 step4', 'step4 act', 'act processingactivityform', 'processingactivityform step6', 'step6 step5', 'step5 act', 'act processingactivityform', 'processingactivityform step6', 'step6 step7', 'step7 act', 'act processingactivityform', 'processingactivityform step7', 'step7 step1', 'step1 act', 'act processingactivityform', 'processingactivityform step7', 'step7 step2', 'step2 act', 'act processingactivityform', 'processingactivityform step7', 'step7 step3', 'step3 act', 'act processingactivityform', 'processingactivityform step7', 'step7 step4', 'step4 act', 'act processingactivityform', 'processingactivityform step7', 'step7 step5', 'step5 act', 'act processingactivityform', 'processingactivityform step7', 'step7 step6', 'step6 act', 'act processingactivitywizard', 'processingactivitywizard step1', 'step1 step2', 'step2 act', 'act processingactivitywizard', 'processingactivitywizard step1', 'step1 step3', 'step3 act', 'act processingactivitywizard', 'processingactivitywizard step1', 'step1 step4', 'step4 act', 'act processingactivitywizard', 'processingactivitywizard step1', 'step1 step5', 'step5 act', 'act processingactivitywizard', 'processingactivitywizard step1', 'step1 step6', 'step6 act', 'act processingactivitywizard', 'processingactivitywizard step1', 'step1 step7', 'step7 act', 'act processingact', 'processingact dataactivitylink', 'dataactivitylink remov', 'remov act', 'act processingact', 'processingact datacategori', 'datacategori cancel', 'cancel act', 'act processingact', 'processingact datacategori', 'datacategori save', 'save act', 'act processingact', 'processingact datasubject', 'datasubject save', 'save act', 'act processingact', 'processingact form', 'form step2', 'step2 datasubjectremovefromlist', 'datasubjectremovefromlist act', 'act processingact', 'processingact new', 'new administr', 'administr act', 'act processingact', 'processingact new', 'new processown', 'processown ds', 'ds processingact', 'processingact datasubject', 'datasubject ds', 'ds processingact', 'processingact step3', 'step3 datacategoryremovefromlist', 'datacategoryremovefromlist datasubject', 'datasubject view', 'view home', 'home och', 'och layouthelp', 'layouthelp refresh', 'refresh och', 'och processingact', 'processingact datasubject', 'datasubject add', 'add och', 'och refreshregion', 'refreshregion processingactivityform', 'processingactivityform step1', 'step1 processingact', 'processingact datacategoryview', 'act datacategori', 'datacategori legalbasi', 'legalbasi removelink', 'removelink act', 'act legalbas', 'legalbas closepag', 'closepag act', 'act legalbas', 'legalbas datacategori', 'datacategori save', 'save act', 'act processingact', 'processingact step4', 'step4 step5', 'step5 act', 'act processingact', 'processingact step5', 'step5 step6', 'step6 ds', 'ds legalbas', 'legalbas selectablelegalbas', 'selectablelegalbas processingactivityform', 'processingactivityform step3', 'step3 processingact', 'processingact form', 'form step4', 'step4 processingact', 'processingact legalbasisview', 'act processingact', 'processingact receiv', 'receiv creat', 'creat act', 'act processor', 'processor processingact', 'processingact save', 'save act', 'act processor', 'processor save', 'save act', 'act processor', 'processor showedit', 'showedit act', 'act processor', 'processor shownew', 'shownew act', 'act receiv', 'receiv save', 'save confirmform', 'confirmform processor', 'processor ds', 'ds selectableobjectsprocessor', 'selectableobjectsprocessor och', 'och processor', 'processor add', 'add processingact', 'processingact datacategoryview', 'datacategoryview processingact', 'processingact form', 'form step6', 'step6 processor', 'processor newedit', 'newedit processor', 'processor processingact', 'processingact link', 'link view', 'view processor', 'processor processingact', 'processingact link', 'link view', 'view admin', 'admin receiv', 'receiv newedit', 'newedit val', 'val receiv', 'act processingact', 'processingact form', 'form finish', 'finish act', 'act processingact', 'processingact gotostepx', 'gotostepx invaliddata', 'invaliddata act', 'act processingact', 'processingact newstep', 'newstep cancel', 'cancel act', 'act processingact', 'processingact securitymeasur', 'securitymeasur remov', 'remov act', 'act processingact', 'processingact submitinvalid', 'submitinvalid act', 'act securitymeasur', 'securitymeasur save', 'save confirmform', 'confirmform securitymeasur', 'securitymeasur confirmform', 'confirmform securitymeasur', 'securitymeasur submit', 'submit ds', 'ds processingactivityform', 'processingactivityform step7', 'step7 securitymeasureremovefromlist', 'securitymeasureremovefromlist 2', '2 och', 'och processingact', 'processingact securitymeasur', 'securitymeasur add', 'add processingact', 'processingact form', 'form step6', 'step6 processingact', 'processingact form', 'form step7', 'step7 securitymeasur', 'securitymeasur view', 'view val', 'val processingact', 'processingact step7', 'administr overview', 'overview datacategori', 'datacategori overview', 'overview datacontrol', 'datacontrol overview', 'overview datasubject', 'datasubject overview', 'overview home', 'home home', 'home configur', 'configur legalbas', 'legalbas overview', 'overview processingactivityform', 'processingactivityform step1', 'step1 processingactivityform', 'processingactivityform step1', 'step1 new', 'new processingactivityform', 'processingactivityform step2', 'step2 new', 'new processingactivityform', 'processingactivityform step3', 'step3 processingactivityform', 'processingactivityform step', 'step 5', '5 processingact', 'processingact admindeletepag', 'admindeletepag processingact', 'processingact form', 'form step2', 'step2 processingact', 'processingact form', 'form step4', 'step4 processingact', 'processingact form', 'form step6', 'step6 processingact', 'processingact form', 'form step7', 'step7 processingact', 'processingact overview', 'overview processorsafeguard', 'processorsafeguard overview', 'overview region', 'region overview', 'overview securitymeasur', 'securitymeasur overview', 'overview set', 'set complianceadmin', 'complianceadmin overview', 'overview user', 'user overview', 'processingactivityform step1', 'step1 processor', 'processor processingact', 'processingact link', 'link view', 'view admin', 'activesess datacategori', 'datacategori newedit', 'newedit datasubject', 'datasubject newedit', 'newedit datasubject', 'datasubject view', 'view depart', 'depart newedit', 'newedit home', 'home icon', 'icon legalbas', 'legalbas newedit', 'newedit processingactivityform', 'processingactivityform step1', 'step1 processingactivityform', 'processingactivityform step1', 'step1 new', 'new processingactivityform', 'processingactivityform step2', 'step2 new', 'new processingactivityform', 'processingactivityform step3', 'step3 processingact', 'processingact datacategoryview', 'datacategoryview processingact', 'processingact form', 'form step6', 'step6 processingact', 'processingact form', 'form step7', 'step7 runtimeinst', 'runtimeinst scheduledev', 'scheduledev securitymeasur', 'securitymeasur newedit', 'newedit securitymeasur', 'securitymeasur view', 'view snip', 'snip wizardhead', 'processingactivityform step1', 'step1 processor', 'processor processingact', 'processingact link', 'link view', 'processingactivityform step1', 'step1 processingactivityform', 'processingactivityform step3', 'step3 processingact', 'processingact form', 'form step6', 'step6 processingact', 'processingact form', 'form step6', 'step6 withtablehead', 'withtablehead processingact', 'processingact form', 'form step7', 'step7 snip', 'snip wizardhead', 'wizardhead val', 'val receiv', 'act processingact', 'processingact step5', 'step5 step6', 'step6 act', 'act processor', 'processor add', 'add act', 'act processor', 'processor cancel', 'cancel act', 'act processor', 'processor save', 'save processor', 'processor newedit', 'newedit processor', 'processor processingact', 'processingact link', 'link view', 'view processor', 'processor processingact', 'processingact link', 'link view', 'view admin', 'admin sub', 'sub processor', 'processor redirectto', 'redirectto processorshowedit', 'processingactivityform step1', 'step1 processingactivityform', 'processingactivityform step', 'step 5', '5 processingact', 'processingact form', 'form step2', 'step2 processingact', 'processingact form', 'form step6', 'datacontrol overview', 'overview depart', 'depart overview', 'overview myaccount', 'myaccount processingactivityform', 'processingactivityform step1', 'step1 processingactivityform', 'processingactivityform step3', 'step3 processingact', 'processingact form', 'form step6', 'step6 processingact', 'processingact form', 'form step7', 'act processingact', 'processingact edit', 'edit processown', 'processown home', '001 100', 'activesess administr', 'administr overview', 'overview appset', 'appset overview', 'overview atla', 'atla default', 'default atla', 'atla topbar', 'topbar atla', 'atla topbar', 'topbar master', 'master atla', 'atla twosidecont', 'twosidecont fullwidget', 'fullwidget atla', 'atla ui', 'ui resourc', 'resourc atla', 'atla ui', 'ui resourc', 'resourc version', 'version avatar', 'avatar tile', 'tile breadcrumb', 'breadcrumb block', 'block content', 'content dashboard', 'dashboard templat', 'templat dashboard', 'dashboard card', 'card row', 'row datacategori', 'datacategori newedit', 'newedit datacategori', 'datacategori overview', 'overview datacontrol', 'datacontrol overview', 'overview datasubject', 'datasubject newedit', 'newedit datasubject', 'datasubject overview', 'overview datasubject', 'datasubject view', 'view depart', 'depart newedit', 'newedit depart', 'depart overview', 'overview design', 'design detailpag', 'detailpag templat', 'templat emailadministr', 'emailadministr overview', 'overview feedbackwidget', 'feedbackwidget home', 'home home', 'home configur', 'configur hybrid', 'hybrid hybridphon', 'hybridphon default', 'default hybridphon', 'hybridphon sidebar', 'sidebar icon', 'icon integr', 'integr overview', 'overview layout', 'layout legalbas', 'legalbas newedit', 'newedit legalbas', 'legalbas overview', 'overview managemyaccount', 'managemyaccount mendix', 'mendix mobilefeatur', 'mobilefeatur mxobject', 'mxobject overview', 'overview myaccount', 'myaccount myprofil', 'myprofil view', 'view nativ', 'nativ nativephon', 'nativephon default', 'default nativephon', 'nativephon fullpag', 'fullpag nativephon', 'nativephon topbaronli', 'topbaronli nativ', 'nativ content', 'content navig', 'navig user', 'user pagehead', 'pagehead peopl', 'peopl listview', 'listview phone', 'phone popuplayout', 'popuplayout processingactivityform', 'processingactivityform step1', 'step1 processingactivityform', 'processingactivityform step3', 'step3 processingactivityform', 'processingactivityform step', 'step 5', '5 processingact', 'processingact admindeletepag', 'admindeletepag processingact', 'processingact datacategoryview', 'datacategoryview processingact', 'processingact form', 'form step2', 'step2 processingact', 'processingact form', 'form step4', 'step4 processingact', 'processingact form', 'form step6', 'step6 processingact', 'processingact form', 'form step6', 'step6 withtablehead', 'withtablehead processingact', 'processingact form', 'form step7', 'step7 processingact', 'processingact overview', 'overview processingact', 'processingact view', 'view processorsafeguard', 'processorsafeguard overview', 'overview region', 'region overview', 'overview respons', 'respons runtimeinst', 'runtimeinst samlconfigur', 'samlconfigur overview', 'overview scheduledev', 'scheduledev securitymeasur', 'securitymeasur newedit', 'newedit securitymeasur', 'securitymeasur overview', 'overview securitymeasur', 'securitymeasur view', 'view set', 'set complianceadmin', 'complianceadmin overview', 'overview snip', 'snip wizardhead', 'wizardhead system', 'system tablet', 'tablet tablet', 'tablet default', 'default user', 'user overview', 'overview val', 'val receiv', 'receiv version', 'version wizard', 'wizard vertic', 'vertic wizardpag', 'wizardpag templat', 'templat layout', 'integr overview', 'act datacategori', 'datacategori legalbasi', 'legalbasi removelink', 'removelink act', 'act legalbas', 'legalbas closepag', 'closepag act', 'act legalbas', 'legalbas datacategori', 'datacategori save', 'save act', 'act processingactivityform', 'processingactivityform step2', 'step2 step1', 'step1 act', 'act processingactivityform', 'processingactivityform step2', 'step2 step3', 'step3 act', 'act processingactivityform', 'processingactivityform step2', 'step2 step4', 'step4 act', 'act processingactivityform', 'processingactivityform step2', 'step2 step5', 'step5 act', 'act processingactivityform', 'processingactivityform step2', 'step2 step6', 'step6 act', 'act processingactivityform', 'processingactivityform step2', 'step2 step7', 'step7 act', 'act processingactivityform', 'processingactivityform step3', 'step3 4', '4 act', 'act processingactivityform', 'processingactivityform step3', 'step3 step1', 'step1 act', 'act processingactivityform', 'processingactivityform step3', 'step3 step2', 'step2 act', 'act processingactivityform', 'processingactivityform step3', 'step3 step4', 'step4 act', 'act processingactivityform', 'processingactivityform step3', 'step3 step5', 'step5 act', 'act processingactivityform', 'processingactivityform step3', 'step3 step6', 'step6 act', 'act processingactivityform', 'processingactivityform step3', 'step3 step7', 'step7 act', 'act processingactivityform', 'processingactivityform step6', 'step6 step1', 'step1 act', 'act processingactivityform', 'processingactivityform step6', 'step6 step2', 'step2 act', 'act processingactivityform', 'processingactivityform step6', 'step6 step3', 'step3 act', 'act processingactivityform', 'processingactivityform step6', 'step6 step4', 'step4 act', 'act processingactivityform', 'processingactivityform step6', 'step6 step5', 'step5 act', 'act processingactivityform', 'processingactivityform step6', 'step6 step7', 'step7 act', 'act processingactivityform', 'processingactivityform step7', 'step7 step1', 'step1 act', 'act processingactivityform', 'processingactivityform step7', 'step7 step2', 'step2 act', 'act processingactivityform', 'processingactivityform step7', 'step7 step3', 'step3 act', 'act processingactivityform', 'processingactivityform step7', 'step7 step4', 'step4 act', 'act processingactivityform', 'processingactivityform step7', 'step7 step5', 'step5 act', 'act processingactivityform', 'processingactivityform step7', 'step7 step6', 'step6 act', 'act processingactivitywizard', 'processingactivitywizard step1', 'step1 step2', 'step2 act', 'act processingactivitywizard', 'processingactivitywizard step1', 'step1 step3', 'step3 act', 'act processingactivitywizard', 'processingactivitywizard step1', 'step1 step4', 'step4 act', 'act processingactivitywizard', 'processingactivitywizard step1', 'step1 step5', 'step5 act', 'act processingactivitywizard', 'processingactivitywizard step1', 'step1 step6', 'step6 act', 'act processingactivitywizard', 'processingactivitywizard step1', 'step1 step7', 'step7 act', 'act processingact', 'processingact dataactivitylink', 'dataactivitylink remov', 'remov act', 'act processingact', 'processingact datacategori', 'datacategori cancel', 'cancel act', 'act processingact', 'processingact datacategori', 'datacategori save', 'save act', 'act processingact', 'processingact datasubject', 'datasubject save', 'save act', 'act processingact', 'processingact edit', 'edit processown', 'processown act', 'act processingact', 'processingact form', 'form finish', 'finish act', 'act processingact', 'processingact form', 'form step2', 'step2 datasubjectremovefromlist', 'datasubjectremovefromlist act', 'act processingact', 'processingact gotostepx', 'gotostepx invaliddata', 'invaliddata act', 'act processingact', 'processingact newstep', 'newstep cancel', 'cancel act', 'act processingact', 'processingact new', 'new administr', 'administr act', 'act processingact', 'processingact new', 'new processown', 'processown act', 'act processingact', 'processingact receiv', 'receiv creat', 'creat act', 'act processingact', 'processingact securitymeasur', 'securitymeasur remov', 'remov act', 'act processingact', 'processingact step4', 'step4 step5', 'step5 act', 'act processingact', 'processingact step5', 'step5 step6', 'step6 act', 'act processingact', 'processingact submitinvalid', 'submitinvalid act', 'act processor', 'processor add', 'add act', 'act processor', 'processor cancel', 'cancel act', 'act processor', 'processor processingact', 'processingact save', 'save act', 'act processor', 'processor save', 'save act', 'act processor', 'processor showedit', 'showedit act', 'act processor', 'processor shownew', 'shownew act', 'act receiv', 'receiv save', 'save act', 'act securitymeasur', 'securitymeasur save', 'save confirmform', 'confirmform processor', 'processor confirmform', 'confirmform securitymeasur', 'securitymeasur confirmform', 'confirmform securitymeasur', 'securitymeasur submit', 'submit ds', 'ds legalbas', 'legalbas selectablelegalbas', 'selectablelegalbas ds', 'ds processingactivityform', 'processingactivityform step7', 'step7 securitymeasureremovefromlist', 'securitymeasureremovefromlist 2', '2 ds', 'ds processingact', 'processingact datasubject', 'datasubject ds', 'ds processingact', 'processingact step3', 'step3 datacategoryremovefromlist', 'datacategoryremovefromlist ds', 'ds selectableobjectsprocessor', 'selectableobjectsprocessor datasubject', 'datasubject view', 'view depart', 'depart overview', 'overview home', 'home och', 'och layouthelp', 'layouthelp refresh', 'refresh och', 'och processingact', 'processingact datasubject', 'datasubject add', 'add och', 'och processingact', 'processingact securitymeasur', 'securitymeasur add', 'add och', 'och refreshregion', 'refreshregion processingactivityform', 'processingactivityform step1', 'step1 processingactivityform', 'processingactivityform step3', 'step3 processingactivityform', 'processingactivityform step', 'step 5', '5 processingact', 'processingact datacategoryview', 'datacategoryview processingact', 'processingact form', 'form step2', 'step2 processingact', 'processingact form', 'form step4', 'step4 processingact', 'processingact form', 'form step6', 'step6 processingact', 'processingact form', 'form step7', 'step7 processingact', 'processingact legalbasisview', 'legalbasisview processor', 'processor newedit', 'newedit processor', 'processor processingact', 'processingact link', 'link view', 'view processor', 'processor processingact', 'processingact link', 'link view', 'view admin', 'admin receiv', 'receiv newedit', 'newedit sub', 'sub processor', 'processor redirectto', 'redirectto processorshowedit', 'processorshowedit securitymeasur', 'securitymeasur view', 'view val', 'val processingact', 'processingact step7', 'step7 val', 'val processoract', 'processoract link', 'link val', 'val receiv', 'act processingact', 'processingact edit', 'edit processown', 'processown act', 'act processingact', 'processingact new', 'new administr', 'administr act', 'act show', 'show home', 'home bco', 'bco processingacitv', 'processingacitv updat', 'updat lastupd', 'lastupd home', 'home processown', 'processown snip', 'snip wizardhead', 'afterstartup otf', 'otf processingact', 'processingact removeaddnew', 'act home', 'home user', 'user act', 'act processingact', 'processingact new', 'new administr', 'administr act', 'act processingact', 'processingact new', 'new processown', 'processown home', 'home processown', 'depart newedit', 'newedit depart', 'depart overview', 'act processingact', 'processingact new', 'new administr', 'administr act', 'act processingact', 'processingact new', 'new processown', 'processown afterstartup', 'afterstartup depart', 'depart processown', 'processown view', 'view home', 'home processown', 'processown otf', 'otf processingact', 'processingact removeaddnew', 'removeaddnew updateprocessown', 'depart processown', 'processown view', 'view home', 'home processown', 'processown processown', 'processown overview', 'home processown', 'act show', 'show home', 'home home', 'home processown', 'processown snip', 'snip wizardhead', 'home processown', 'act processingactivityform', 'processingactivityform step2', 'step2 step1', 'step1 act', 'act processingactivityform', 'processingactivityform step3', 'step3 step1', 'step1 act', 'act processingactivityform', 'processingactivityform step3', 'step3 step2', 'step2 act', 'act processingactivityform', 'processingactivityform step4', 'step4 step1', 'step1 act', 'act processingactivityform', 'processingactivityform step4', 'step4 step2', 'step2 act', 'act processingactivitywizard', 'processingactivitywizard step1', 'step1 step2', 'step2 act', 'act processingact', 'processingact edit', 'edit processown', 'processown act', 'act processingact', 'processingact gotostepx', 'gotostepx invaliddata', 'invaliddata act', 'act processingact', 'processingact new', 'new administr', 'administr act', 'act processingact', 'processingact new', 'new processown', 'processown afterstartup', 'afterstartup home', 'home otf', 'otf processingact', 'processingact removeaddnew', 'removeaddnew updateprocessown', 'updateprocessown processingact', 'processingact admindeletepag', 'admindeletepag processingact', 'processingact form', 'form step1', 'step1 processingact', 'processingact form', 'form step2', 'step2 processingact', 'processingact overview', 'home processown', '5 6', '6 7', '7 act', 'act datacategori', 'datacategori legalbasi', 'legalbasi removelink', 'removelink act', 'act home', 'home user', 'user act', 'act legalbas', 'legalbas closepag', 'closepag act', 'act legalbas', 'legalbas datacategori', 'datacategori save', 'save act', 'act processingactivityform', 'processingactivityform step2', 'step2 step1', 'step1 act', 'act processingactivityform', 'processingactivityform step2', 'step2 step3', 'step3 act', 'act processingactivityform', 'processingactivityform step2', 'step2 step4', 'step4 act', 'act processingactivityform', 'processingactivityform step2', 'step2 step5', 'step5 act', 'act processingactivityform', 'processingactivityform step2', 'step2 step6', 'step6 act', 'act processingactivityform', 'processingactivityform step2', 'step2 step7', 'step7 act', 'act processingactivityform', 'processingactivityform step3', 'step3 4', '4 act', 'act processingactivityform', 'processingactivityform step3', 'step3 step1', 'step1 act', 'act processingactivityform', 'processingactivityform step3', 'step3 step2', 'step2 act', 'act processingactivityform', 'processingactivityform step3', 'step3 step4', 'step4 act', 'act processingactivityform', 'processingactivityform step3', 'step3 step5', 'step5 act', 'act processingactivityform', 'processingactivityform step3', 'step3 step6', 'step6 act', 'act processingactivityform', 'processingactivityform step3', 'step3 step7', 'step7 act', 'act processingactivityform', 'processingactivityform step4', 'step4 step1', 'step1 act', 'act processingactivityform', 'processingactivityform step4', 'step4 step2', 'step2 act', 'act processingactivityform', 'processingactivityform step4', 'step4 step3', 'step3 act', 'act processingactivitywizard', 'processingactivitywizard step1', 'step1 step2', 'step2 act', 'act processingactivitywizard', 'processingactivitywizard step1', 'step1 step3', 'step3 act', 'act processingactivitywizard', 'processingactivitywizard step1', 'step1 step4', 'step4 act', 'act processingactivitywizard', 'processingactivitywizard step1', 'step1 step5', 'step5 act', 'act processingact', 'processingact datacategori', 'datacategori cancel', 'cancel act', 'act processingact', 'processingact datacategori', 'datacategori save', 'save act', 'act processingact', 'processingact datasubject', 'datasubject save', 'save act', 'act processingact', 'processingact edit', 'edit processown', 'processown act', 'act processingact', 'processingact form', 'form step1', 'step1 datasubjectremovefromlist', 'datasubjectremovefromlist act', 'act processingact', 'processingact gotostepx', 'gotostepx invaliddata', 'invaliddata act', 'act processingact', 'processingact new', 'new administr', 'administr act', 'act processingact', 'processingact new', 'new processown', 'processown act', 'act processingact', 'processingact receiv', 'receiv creat', 'creat act', 'act processingact', 'processingact securitymeasur', 'securitymeasur remov', 'remov act', 'act processingact', 'processingact step4', 'step4 step5', 'step5 act', 'act processingact', 'processingact submitinvalid', 'submitinvalid act', 'act processingact', 'processingact submit', 'submit fromstep4', 'fromstep4 act', 'act processingact', 'processingact submit', 'submit fromwizardhead', 'fromwizardhead act', 'act processor', 'processor add', 'add act', 'act processor', 'processor cancel', 'cancel act', 'act processor', 'processor processingact', 'processingact save', 'save act', 'act processor', 'processor save', 'save act', 'act processor', 'processor showedit', 'showedit act', 'act processor', 'processor shownew', 'shownew act', 'act receiv', 'receiv save', 'save act', 'act securitymeasur', 'securitymeasur save', 'save afterstartup', 'afterstartup bco', 'bco processingacitv', 'processingacitv updat', 'updat lastupd', 'lastupd confirmform', 'confirmform datacategori', 'datacategori confirmform', 'confirmform datasubject', 'datasubject confirmform', 'confirmform processor', 'processor confirmform', 'confirmform securitymeasur', 'securitymeasur confirmform', 'confirmform securitymeasur', 'securitymeasur submit', 'submit ds', 'ds legalbas', 'legalbas selectablelegalbas', 'selectablelegalbas ds', 'ds legalbas', 'legalbas select', 'select ds', 'ds processact', 'processact datasubject', 'datasubject onestr', 'onestr ds', 'ds processingactivityform', 'processingactivityform step4', 'step4 securitymeasureremovefromlist', 'securitymeasureremovefromlist 2', '2 ds', 'ds processingact', 'processingact datasubject', 'datasubject ds', 'ds processingact', 'processingact depart', 'depart selectableobject', 'selectableobject ds', 'ds processingact', 'processingact step2', 'step2 datacategoryremovefromlist', 'datacategoryremovefromlist ds', 'ds selectableobjectsprocessor', 'selectableobjectsprocessor datasubject', 'datasubject view', 'view depart', 'depart newedit', 'newedit depart', 'depart overview', 'overview depart', 'depart processown', 'processown view', 'view home', 'home home', 'home processown', 'processown imag', 'imag collect', 'collect och', 'och processingact', 'processingact datasubject', 'datasubject add', 'add och', 'och processingact', 'processingact securitymeasur', 'securitymeasur add', 'add och', 'och processorsafeguard', 'usprivacyshield och', 'och refreshregionselect', 'refreshregionselect ole', 'ole processingact', 'processingact datacategori', 'datacategori save', 'save otf', 'otf processingact', 'processingact removeaddnew', 'removeaddnew updateprocessown', 'updateprocessown processown', 'processown processown', 'processown overview', 'overview processingact', 'processingact admindeletepag', 'admindeletepag processingact', 'processingact datacategoryview', 'datacategoryview processingact', 'processingact form', 'form step', 'step processingact', 'processingact form', 'form step1', 'step1 processingact', 'processingact form', 'form step2', 'step2 processingact', 'processingact form', 'form step3', 'step3 processingact', 'processingact form', 'form step4', 'step4 processingact', 'processingact legalbaseview', 'legalbaseview processingact', 'processingact overview', 'overview processor', 'processor newedit', 'newedit processor', 'processor processingact', 'processingact link', 'link view', 'view processor', 'processor processingact', 'processingact link', 'link view', 'view admin', 'admin receiv', 'receiv newedit', 'newedit sub', 'sub processor', 'processor redirectto', 'redirectto processorshowedit', 'processorshowedit securitymeasur', 'securitymeasur view', 'view snip', 'snip wizardhead', 'wizardhead val', 'val processingact', 'processingact step1', 'step1 val', 'val processingact', 'processingact step1', 'step1 datasubject', 'datasubject val', 'val processingact', 'processingact step2', 'step2 val', 'val processingact', 'processingact step3', 'step3 val', 'val processingact', 'processingact step4', 'step4 val', 'val processoract', 'processoract link', 'link val', 'val receiv', 'act open', 'open editpag', 'editpag act', 'act safeguard', 'safeguard save', 'save afterstartup', 'afterstartup och', 'och safeguard', 'usprivacyshield otf', 'otf safeguard', 'safeguard replaceassociationwithnew', 'replaceassociationwithnew processingact', 'processingact form', 'form step3', 'step3 processingact', 'processingact overview', 'overview processingact', 'processingact view', 'view processor', 'processor processingact', 'processingact link', 'link view', 'view processor', 'processor processingact', 'processingact link', 'link view', 'view admin', 'admin safeguard', 'safeguard newedit', 'newedit safeguard', 'safeguard overview', 'overview set', 'set complianceadmin', 'complianceadmin overview', 'overview val', 'val safeguard', 'processingact form', 'form step1', 'processingact form', 'form step1', 'processor processingact', 'processingact link', 'link compani', 'compani extrainfo', 'extrainfo tooltip', 'tooltip processor', 'processor processingact', 'processingact link', 'link view', 'view admin', 'processingact form', 'form step2', 'step2 processingact', 'processingact legalbaseview', 'processingact form', 'form step2', 'processor processingact', 'processingact link', 'link compani', 'compani extrainfo', 'extrainfo tooltip', 'tooltip processor', 'processor processingact', 'processingact link', 'link view', 'view admin', 'act prefer', 'prefer cancel', 'cancel act', 'act prefer', 'prefer editgeneralinfo', 'editgeneralinfo act', 'act prefer', 'prefer savegeneralinfo', 'ds prefer', 'navig user', 'user prefer', 'ds datacategorylegalbasi', 'datacategorylegalbasi legitimateinterest', 'legitimateinterest processingact', 'processingact form', 'form step2', 'processor processingact', 'processingact link', 'link view', 'view admin', 'processingact form', 'form step3', 'step3 processor', 'processor processingact', 'processingact link', 'link compani', 'compani extrainfo', 'extrainfo tooltip', 'tooltip processor', 'processor processingact', 'processingact link', 'link view', 'view admin', 'act legalbasi', 'legalbasi save', 'save ds', 'ds datacategorylegalbasi', 'datacategorylegalbasi legitimateinterest', 'legitimateinterest processingact', 'processingact form', 'form step2', 'atla topbar', 'topbar bgwhite', 'bgwhite layout', 'processingact form', 'form step2', 'ds prefer', 'navig user', 'processingact form', 'form step2', 'atla topbar', 'topbar bgwhite', 'act processingactivityform', 'processingactivityform step4', 'step4 step1', 'step1 act', 'act processingactivityform', 'processingactivityform step4', 'step4 step2', 'step2 act', 'act processingactivityform', 'processingactivityform step4', 'step4 step3', 'step3 act', 'act processingactivitywizard', 'processingactivitywizard step1', 'step1 step2', 'step2 act', 'act processingactivitywizard', 'processingactivitywizard step1', 'step1 step3', 'step3 act', 'act processingactivitywizard', 'processingactivitywizard step1', 'step1 step4', 'step4 act', 'act processingact', 'processingact submit', 'submit fromwizardhead', 'fromwizardhead ds', 'ds datacontrol', 'datacontrol joint', 'joint select', 'select step1', 'step1 differ', 'differ enum', 'enum yesno', 'yesno move', 'move processingact', 'processingact form', 'form step1', 'step1 processingact', 'processingact view', 'view sub', 'sub processingact', 'processingact jointdatacontrollerapplic', 'jointdatacontrollerapplic val', 'val processingact', 'processingact step1', 'step1 page', 'act legalbasi', 'legalbasi save', 'save ds', 'ds datacategorylegalbasi', 'datacategorylegalbasi legitimateinterest', 'legitimateinterest processingact', 'processingact form', 'form step2', 'step2 processingact', 'processingact legalbaseview', 'act prefer', 'prefer cancel', 'cancel act', 'act prefer', 'prefer editgeneralinfo', 'editgeneralinfo act', 'act prefer', 'prefer savegeneralinfo', 'atla topbar', 'topbar bgwhite', 'bgwhite ds', 'ds prefer', 'layout navig', 'navig user', 'user prefer', 'act home', 'home user', 'user ds', 'ds processact', 'processact datasubject', 'datasubject onestr', 'val processingact', 'processingact step1', 'processingact overview', 'overview processingact', 'processingact view', 'act processingactivityform', 'processingactivityform step4', 'step4 step1', 'step1 act', 'act processingactivityform', 'processingactivityform step4', 'step4 step2', 'step2 act', 'act processingactivityform', 'processingactivityform step4', 'step4 step3', 'step3 act', 'act processingactivitywizard', 'processingactivitywizard step1', 'step1 step2', 'step2 act', 'act processingactivitywizard', 'processingactivitywizard step1', 'step1 step3', 'step3 act', 'act processingactivitywizard', 'processingactivitywizard step1', 'step1 step4', 'step4 act', 'act processingact', 'processingact submit', 'submit fromwizardhead', 'fromwizardhead ds', 'ds datacontrol', 'datacontrol joint', 'joint select', 'select step1', 'step1 differ', 'differ enum', 'enum yesno', 'yesno move', 'move och', 'och processingact', 'processingact refresh', 'refresh processingact', 'processingact form', 'form step1', 'step1 processingact', 'processingact overview', 'overview processingact', 'processingact view', 'view sub', 'sub processingact', 'processingact jointdatacontrollerapplic', 'jointdatacontrollerapplic val', 'val processingact', 'processingact step1', 'step1 page', 'act datacategori', 'datacategori legalbasi', 'legalbasi removelink', 'removelink act', 'act legalbasi', 'legalbasi closepag', 'closepag act', 'act legalbasi', 'legalbasi datacategori', 'datacategori save', 'save act', 'act legalbasi', 'legalbasi save', 'save act', 'act open', 'open editpag', 'editpag act', 'act processingact', 'processingact dataactivitylink', 'dataactivitylink remov', 'remov act', 'act processingact', 'processingact datacategori', 'datacategori save', 'save act', 'act processorsafeguard', 'processorsafeguard save', 'save act', 'act processor', 'processor add', 'add act', 'act processor', 'processor processingact', 'processingact save', 'save act', 'act processor', 'processor showedit', 'showedit act', 'act processor', 'processor shownew', 'shownew afterstartup', 'afterstartup ds', 'ds datacategorylegalbasi', 'datacategorylegalbasi legitimateinterest', 'legitimateinterest ds', 'ds legalbasi', 'legalbasi selectablelegalbas', 'selectablelegalbas ds', 'ds legalbasi', 'legalbasi select', 'select ds', 'ds processingact', 'processingact step2', 'step2 datacategoryremovefromlist', 'datacategoryremovefromlist ds', 'ds selectableobjectsprocessor', 'selectableobjectsprocessor legalbasi', 'legalbasi newedit', 'newedit legalbasi', 'legalbasi overview', 'overview och', 'och processorsafeguard', 'usprivacyshield ole', 'ole processingact', 'processingact datacategori', 'datacategori save', 'save otf', 'otf processingact', 'processingact removeaddnew', 'removeaddnew updateprocessown', 'updateprocessown otf', 'otf safeguard', 'safeguard replaceassociationwithnew', 'replaceassociationwithnew processingact', 'processingact form', 'form step2', 'step2 processingact', 'processingact form', 'form step3', 'step3 processingact', 'processingact legalbasisview', 'legalbasisview processingact', 'processingact overview', 'overview processingact', 'processingact view', 'view processoassign', 'processoassign view', 'view processorassign', 'processorassign compani', 'compani extrainfo', 'extrainfo tooltip', 'tooltip processorassign', 'processorassign view', 'view admin', 'admin processorsafeguard', 'processorsafeguard newedit', 'newedit processorsafeguard', 'processorsafeguard overview', 'overview sub', 'sub processor', 'processor redirectto', 'redirectto processorshowedit', 'processorshowedit set', 'set complianceadmin', 'complianceadmin overview', 'overview val', 'val legalbasi', 'legalbasi val', 'val processingact', 'processingact step2', 'step2 val', 'val processingact', 'processingact step3', 'step3 val', 'val processorsafeguard', 'act home', 'home user', 'user act', 'act legalbasi', 'legalbasi save', 'save act', 'act prefer', 'prefer cancel', 'cancel act', 'act prefer', 'prefer editgeneralinfo', 'editgeneralinfo act', 'act prefer', 'prefer savegeneralinfo', 'savegeneralinfo act', 'act processingactivityform', 'processingactivityform step4', 'step4 step1', 'step1 act', 'act processingactivityform', 'processingactivityform step4', 'step4 step2', 'step2 act', 'act processingactivityform', 'processingactivityform step4', 'step4 step3', 'step3 act', 'act processingactivitywizard', 'processingactivitywizard step1', 'step1 step2', 'step2 act', 'act processingactivitywizard', 'processingactivitywizard step1', 'step1 step3', 'step3 act', 'act processingactivitywizard', 'processingactivitywizard step1', 'step1 step4', 'step4 act', 'act processingact', 'processingact submit', 'submit fromwizardhead', 'atla topbar', 'topbar bgwhite', 'bgwhite ds', 'ds datacategorylegalbasi', 'datacategorylegalbasi legitimateinterest', 'legitimateinterest ds', 'ds datacontrol', 'datacontrol joint', 'joint select', 'select step1', 'step1 ds', 'ds prefer', 'ds processact', 'processact datasubject', 'datasubject onestr', 'onestr differ', 'differ enum', 'enum yesno', 'yesno layout', 'layout move', 'move navig', 'navig user', 'user och', 'och processingact', 'processingact refresh', 'refresh prefer', 'prefer processingact', 'processingact form', 'form step1', 'step1 processingact', 'processingact form', 'form step2', 'step2 processingact', 'processingact form', 'form step3', 'step3 processingact', 'processingact legalbaseview', 'legalbaseview processingact', 'processingact overview', 'overview processingact', 'processingact view', 'view processor', 'processor processingact', 'processingact link', 'link compani', 'compani extrainfo', 'extrainfo tooltip', 'tooltip processor', 'processor processingact', 'processingact link', 'link view', 'view admin', 'admin sub', 'sub processingact', 'processingact jointdatacontrollerapplic', 'jointdatacontrollerapplic val', 'val processingact', 'processingact step1', 'step1 page', 'act processorassign', 'processorassign cancel', 'cancel act', 'act processorassign', 'processorassign save', 'save act', 'act processorsafeguard', 'processorsafeguard save', 'save act', 'act processor', 'processor new', 'new admin', 'admin act', 'act processor', 'processor new', 'new user', 'user act', 'act processor', 'processor save', 'save act', 'act processor', 'processor showedit', 'showedit act', 'act safeguardassign', 'safeguardassign add', 'add act', 'act safeguardassign', 'safeguardassign cancel', 'cancel act', 'act safeguardassign', 'safeguardassign remov', 'remov act', 'act safeguardassign', 'safeguardassign safeguard', 'safeguard add', 'add assign', 'assign ds', 'ds safeguardassign', 'safeguardassign memori', 'memori ds', 'ds safeguardassign', 'safeguardassign memori', 'memori select', 'select home', 'home och', 'och processorsafeguard', 'usprivacyshield otf', 'otf safeguard', 'safeguard replaceassociationwithnew', 'replaceassociationwithnew processingact', 'processingact form', 'form step1', 'step1 processingact', 'processingact form', 'form step3', 'step3 processingact', 'processingact view', 'view processorassign', 'processorassign view', 'view processorassign', 'processorassign view', 'view admin', 'admin sub', 'sub safeguardassign', 'safeguardassign commit', 'commit safeguard', 'safeguard safeguardassign', 'safeguardassign view', 'view val', 'val processorassign', 'processorassign val', 'val safeguard', 'act safeguardassign', 'safeguardassign remov', 'remov processorassign', 'processorassign compani', 'compani extrainfo', 'extrainfo tooltip', 'tooltip processorassign', 'processorassign view', 'view admin', 'act depart', 'depart processown', 'processown cancel', 'cancel act', 'act processingact', 'processingact dataactivitylink', 'dataactivitylink remov', 'processingact form', 'form step3', 'step3 processingact', 'processingact overview', 'overview processingact', 'processingact view', 'view processorassign', 'processorassign compani', 'compani extrainfo', 'extrainfo tooltip', 'otf safeguard', 'safeguard replaceassociationwithnew', 'afterstartup otf', 'otf safeguard', 'safeguard replaceassociationwithnew', 'replaceassociationwithnew otf', 'otf safeguard', 'safeguard usprivacyshield', 'processingact view', 'processorassign view', 'view admin', 'asu informationbox', 'informationbox creat', 'creat action', 'action administr', 'administr configur', 'configur overview', 'overview afterstartup', 'afterstartup bco', 'bco processingacitv', 'processingacitv updat', 'updat lastupd', 'lastupd basi', 'basi ds', 'ds layouthelp', 'layouthelp retrieveorcr', 'retrieveorcr datacategori', 'datacategori overview', 'overview datacontrol', 'datacontrol overview', 'overview datasubject', 'datasubject overview', 'overview depart', 'depart overview', 'overview depart', 'depart enum', 'enum informationboxfield', 'informationboxfield enum', 'enum yesno', 'yesno enumer', 'enumer inform', 'inform informationbox', 'informationbox newedit', 'newedit informationbox', 'informationbox overview', 'overview legal', 'legal legalbasi', 'legalbasi overview', 'overview measur', 'measur och', 'och layouthelp', 'layouthelp refresh', 'refresh otf', 'otf safeguard', 'safeguard replaceassociationwithnew', 'replaceassociationwithnew processown', 'processown overview', 'overview processorsafeguard', 'processorsafeguard overview', 'overview region', 'region overview', 'overview region', 'region select', 'select sub', 'sub informationbox', 'informationbox checkandcr', 'checkandcr safeguard', 'safeguard secur', 'secur securitymeasur', 'securitymeasur overview', 'overview box', 'datacategori overview', 'overview datacontrol', 'datacontrol overview', 'overview datasubject', 'datasubject overview', 'overview depart', 'depart overview', 'overview legalbasi', 'legalbasi overview', 'overview processorsafeguard', 'processorsafeguard overview', 'overview region', 'region overview', 'overview securitymeasur', 'securitymeasur overview', 'enum informationboxfield', 'informationboxfield informationbox', 'informationbox newedit', 'newedit informationbox', 'informationbox overview', 'act processorassign', 'processorassign save', 'save act', 'act safeguardassign', 'safeguardassign remov', 'remov processorassign', 'processorassign compani', 'compani extrainfo', 'extrainfo tooltip', 'tooltip processorassign', 'processorassign view', 'view admin', 'admin val', 'val safeguardassign', 'datacategori overview', 'overview datacontrol', 'datacontrol overview', 'overview datasubject', 'datasubject overview', 'overview depart', 'depart overview', 'overview imag', 'imag collect', 'collect informationbox', 'informationbox overview', 'overview legalbasi', 'legalbasi overview', 'overview processown', 'processown overview', 'overview processingact', 'processingact form', 'form step1', 'step1 processorsafeguard', 'processorsafeguard overview', 'overview region', 'region overview', 'overview securitymeasur', 'securitymeasur overview', 'overview snip', 'snip informationbox', 'snip informationbox', 'snip informationbox', 'enum informationboxfield', 'informationboxfield informationbox', 'informationbox overview', 'overview processingact', 'processingact form', 'form step1', 'step1 processingact', 'processingact form', 'form step2', 'step2 processingact', 'processingact form', 'form step3', 'step3 processingact', 'processingact form', 'form step4', 'step4 snip', 'snip informationbox', 'informationbox snip', 'snip wizardhead', 'act safeguardassign', 'safeguardassign remov', 'act datacategori', 'datacategori legalbasi', 'legalbasi removelink', 'removelink act', 'act depart', 'depart processown', 'processown cancel', 'cancel act', 'act legalbasi', 'legalbasi closepag', 'closepag act', 'act legalbasi', 'legalbasi datacategori', 'datacategori save', 'save act', 'act legalbasi', 'legalbasi save', 'save act', 'act open', 'open editpag', 'editpag act', 'act processingact', 'processingact dataactivitylink', 'dataactivitylink remov', 'remov act', 'act processingact', 'processingact datacategori', 'datacategori save', 'save act', 'act processorassign', 'processorassign cancel', 'cancel act', 'act processorassign', 'processorassign save', 'save act', 'act processorsafeguard', 'processorsafeguard save', 'save act', 'act processor', 'processor add', 'add act', 'act processor', 'processor new', 'new admin', 'admin act', 'act processor', 'processor new', 'new user', 'user act', 'act processor', 'processor save', 'save act', 'act processor', 'processor showedit', 'showedit act', 'act safeguardassign', 'safeguardassign add', 'add act', 'act safeguardassign', 'safeguardassign cancel', 'cancel act', 'act safeguardassign', 'safeguardassign remov', 'remov act', 'act safeguardassign', 'safeguardassign safeguard', 'safeguard add', 'add afterstartup', 'afterstartup assign', 'assign ds', 'ds datacategorylegalbasi', 'datacategorylegalbasi legitimateinterest', 'legitimateinterest ds', 'ds legalbasi', 'legalbasi selectablelegalbas', 'selectablelegalbas ds', 'ds legalbasi', 'legalbasi select', 'select ds', 'ds processingact', 'processingact step2', 'step2 datacategoryremovefromlist', 'datacategoryremovefromlist ds', 'ds safeguardassign', 'safeguardassign memori', 'memori ds', 'ds safeguardassign', 'safeguardassign memori', 'memori select', 'select ds', 'ds selectableobjectsprocessor', 'selectableobjectsprocessor home', 'home legalbasi', 'legalbasi newedit', 'newedit legalbasi', 'legalbasi overview', 'overview och', 'och processorsafeguard', 'usprivacyshield ole', 'ole processingact', 'processingact datacategori', 'datacategori save', 'save otf', 'otf processingact', 'processingact removeaddnew', 'removeaddnew updateprocessown', 'updateprocessown otf', 'otf safeguard', 'safeguard replaceassociationwithnew', 'replaceassociationwithnew otf', 'otf safeguard', 'safeguard usprivacyshield', 'usprivacyshield processingact', 'processingact form', 'form step1', 'step1 processingact', 'processingact form', 'form step2', 'step2 processingact', 'processingact form', 'form step3', 'step3 processingact', 'processingact legalbasisview', 'legalbasisview processingact', 'processingact overview', 'overview processingact', 'processingact view', 'view processorassign', 'processorassign compani', 'compani extrainfo', 'extrainfo tooltip', 'tooltip processorassign', 'processorassign view', 'view processorassign', 'processorassign view', 'view admin', 'admin processorsafeguard', 'processorsafeguard newedit', 'newedit processorsafeguard', 'processorsafeguard overview', 'overview sub', 'sub processor', 'processor redirectto', 'redirectto processorshowedit', 'processorshowedit sub', 'sub safeguardassign', 'safeguardassign commit', 'commit safeguard', 'safeguard safeguardassign', 'safeguardassign view', 'view set', 'set complianceadmin', 'complianceadmin overview', 'overview val', 'val safeguardassign', 'safeguardassign val', 'val legalbasi', 'legalbasi val', 'val processingact', 'processingact step2', 'step2 val', 'val processingact', 'processingact step3', 'step3 val', 'val processorassign', 'processorassign val', 'val safeguard', 'processingact form', 'form step2', 'asu informationbox', 'informationbox creat', 'creat enum', 'enum informationboxfield', 'informationboxfield informationbox', 'informationbox overview', 'overview processingact', 'processingact form', 'form step2', 'act processor', 'processor showedit', 'sub processor', 'processor redirectto', 'redirectto processorshowedit', 'processorshowedit sub', 'sub processor', 'processor showedit', 'asu informationbox', 'informationbox creat', 'creat action', 'action administr', 'administr configur', 'configur overview', 'overview afterstartup', 'afterstartup bco', 'bco processingacitv', 'processingacitv updat', 'updat lastupd', 'lastupd basi', 'basi ds', 'ds layouthelp', 'layouthelp retrieveorcr', 'retrieveorcr datacategori', 'datacategori overview', 'overview datacontrol', 'datacontrol overview', 'overview datasubject', 'datasubject overview', 'overview depart', 'depart overview', 'overview depart', 'depart enum', 'enum informationboxfield', 'informationboxfield enum', 'enum yesno', 'yesno enumer', 'enumer imag', 'imag collect', 'collect inform', 'inform informationbox', 'informationbox newedit', 'newedit informationbox', 'informationbox overview', 'overview legal', 'legal legalbasi', 'legalbasi overview', 'overview measur', 'measur och', 'och layouthelp', 'layouthelp refresh', 'refresh otf', 'otf safeguard', 'safeguard replaceassociationwithnew', 'replaceassociationwithnew processown', 'processown overview', 'overview processingact', 'processingact form', 'form step1', 'step1 processingact', 'processingact form', 'form step2', 'step2 processingact', 'processingact form', 'form step3', 'step3 processingact', 'processingact form', 'form step4', 'step4 processorsafeguard', 'processorsafeguard overview', 'overview region', 'region overview', 'overview region', 'region select', 'select sub', 'sub informationbox', 'informationbox checkandcr', 'checkandcr sub', 'sub processor', 'processor redirectto', 'redirectto processorshowedit', 'processorshowedit sub', 'sub processor', 'processor showedit', 'showedit safeguard', 'safeguard secur', 'secur securitymeasur', 'securitymeasur overview', 'overview snip', 'snip informationbox', 'informationbox snip', 'snip wizardhead', 'wizardhead box', 'act datacategori', 'datacategori legalbasi', 'legalbasi removelink', 'removelink act', 'act depart', 'depart processown', 'processown cancel', 'cancel act', 'act legalbasi', 'legalbasi closepag', 'closepag act', 'act legalbasi', 'legalbasi datacategori', 'datacategori save', 'save act', 'act legalbasi', 'legalbasi save', 'save act', 'act open', 'open editpag', 'editpag act', 'act processingact', 'processingact dataactivitylink', 'dataactivitylink remov', 'remov act', 'act processingact', 'processingact datacategori', 'datacategori save', 'save act', 'act processorassign', 'processorassign cancel', 'cancel act', 'act processorassign', 'processorassign save', 'save act', 'act processorsafeguard', 'processorsafeguard save', 'save act', 'act processor', 'processor add', 'add act', 'act processor', 'processor new', 'new admin', 'admin act', 'act processor', 'processor new', 'new user', 'user act', 'act processor', 'processor save', 'save act', 'act safeguardassign', 'safeguardassign add', 'add act', 'act safeguardassign', 'safeguardassign cancel', 'cancel act', 'act safeguardassign', 'safeguardassign remov', 'remov act', 'act safeguardassign', 'safeguardassign safeguard', 'safeguard add', 'add asu', 'asu informationbox', 'informationbox creat', 'creat action', 'action administr', 'administr configur', 'configur overview', 'overview afterstartup', 'afterstartup assign', 'assign bco', 'bco processingacitv', 'processingacitv updat', 'updat lastupd', 'lastupd basi', 'basi ds', 'ds datacategorylegalbasi', 'datacategorylegalbasi legitimateinterest', 'legitimateinterest ds', 'ds layouthelp', 'layouthelp retrieveorcr', 'retrieveorcr ds', 'ds legalbasi', 'legalbasi selectablelegalbas', 'selectablelegalbas ds', 'ds legalbasi', 'legalbasi select', 'select ds', 'ds processingact', 'processingact step2', 'step2 datacategoryremovefromlist', 'datacategoryremovefromlist ds', 'ds safeguardassign', 'safeguardassign memori', 'memori ds', 'ds safeguardassign', 'safeguardassign memori', 'memori select', 'select ds', 'ds selectableobjectsprocessor', 'selectableobjectsprocessor datacategori', 'datacategori overview', 'overview datacontrol', 'datacontrol overview', 'overview datasubject', 'datasubject overview', 'overview depart', 'depart overview', 'overview depart', 'depart enum', 'enum informationboxfield', 'informationboxfield enum', 'enum yesno', 'yesno enumer', 'enumer home', 'home imag', 'imag collect', 'collect inform', 'inform informationbox', 'informationbox newedit', 'newedit informationbox', 'informationbox overview', 'overview legal', 'legal legalbasi', 'legalbasi newedit', 'newedit legalbasi', 'legalbasi overview', 'overview measur', 'measur och', 'och layouthelp', 'layouthelp refresh', 'refresh och', 'och processorsafeguard', 'usprivacyshield ole', 'ole processingact', 'processingact datacategori', 'datacategori save', 'save otf', 'otf processingact', 'processingact removeaddnew', 'removeaddnew updateprocessown', 'updateprocessown otf', 'otf safeguard', 'safeguard replaceassociationwithnew', 'replaceassociationwithnew otf', 'otf safeguard', 'safeguard usprivacyshield', 'usprivacyshield processown', 'processown overview', 'overview processingact', 'processingact form', 'form step1', 'step1 processingact', 'processingact form', 'form step2', 'step2 processingact', 'processingact form', 'form step3', 'step3 processingact', 'processingact form', 'form step4', 'step4 processingact', 'processingact legalbasisview', 'legalbasisview processingact', 'processingact overview', 'overview processingact', 'processingact view', 'view processorassign', 'processorassign compani', 'compani extrainfo', 'extrainfo tooltip', 'tooltip processorassign', 'processorassign view', 'view processorassign', 'processorassign view', 'view admin', 'admin processorsafeguard', 'processorsafeguard newedit', 'newedit processorsafeguard', 'processorsafeguard overview', 'overview region', 'region overview', 'overview region', 'region select', 'select sub', 'sub informationbox', 'informationbox checkandcr', 'checkandcr sub', 'sub processor', 'processor redirectto', 'redirectto processorshowedit', 'processorshowedit sub', 'sub processor', 'processor showedit', 'showedit sub', 'sub safeguardassign', 'safeguardassign commit', 'commit safeguard', 'safeguard safeguardassign', 'safeguardassign view', 'view secur', 'secur securitymeasur', 'securitymeasur overview', 'overview snip', 'snip informationbox', 'informationbox snip', 'snip wizardhead', 'wizardhead val', 'val safeguardassign', 'safeguardassign val', 'val legalbasi', 'legalbasi val', 'val processingact', 'processingact step2', 'step2 val', 'val processingact', 'processingact step3', 'step3 val', 'val processorassign', 'processorassign val', 'val safeguard', 'safeguard box', 'afterstartup otf', 'otf safeguard', 'safeguard replaceassociationwithnew', 'replaceassociationwithnew otf', 'otf safeguard', 'safeguard usprivacyshield', 'act processingactivityform', 'processingactivityform step2', 'step2 step1', 'step1 act', 'act processingactivityform', 'processingactivityform step2', 'step2 step3', 'step3 act', 'act processingactivityform', 'processingactivityform step2', 'step2 step4', 'step4 act', 'act processingactivityform', 'processingactivityform step3', 'step3 step1', 'step1 act', 'act processingactivityform', 'processingactivityform step3', 'step3 step2', 'step2 act', 'act processingactivityform', 'processingactivityform step3', 'step3 step4', 'step4 act', 'act processingactivityform', 'processingactivityform step4', 'step4 step1', 'step1 act', 'act processingactivityform', 'processingactivityform step4', 'step4 step2', 'step2 act', 'act processingactivityform', 'processingactivityform step4', 'step4 step3', 'step3 act', 'act processingactivitywizard', 'processingactivitywizard step1', 'step1 step2', 'step2 act', 'act processingactivitywizard', 'processingactivitywizard step1', 'step1 step3', 'step3 act', 'act processingactivitywizard', 'processingactivitywizard step1', 'step1 step4', 'step4 act', 'act processingact', 'processingact gotostepx', 'gotostepx invaliddata', 'invaliddata act', 'act processingact', 'processingact newstep', 'newstep cancel', 'cancel act', 'act processingact', 'processingact submitinvalid', 'submitinvalid act', 'act processingact', 'processingact submit', 'submit fromstep4', 'fromstep4 confirmform', 'confirmform datacategori', 'datacategori confirmform', 'confirmform datasubject', 'datasubject confirmform', 'confirmform processor', 'processor confirmform', 'confirmform securitymeasur', 'securitymeasur enum', 'enum statu', 'statu home', 'home processown', 'act processingact', 'processingact edit', 'edit processown', 'ds processingact', 'processingact datasubject', 'datasubject datasubject', 'datasubject view', 'act processingactivityform', 'processingactivityform step2', 'step2 step1', 'step1 act', 'act processingactivityform', 'processingactivityform step2', 'step2 step3', 'step3 act', 'act processingactivityform', 'processingactivityform step2', 'step2 step4', 'step4 act', 'act processingactivityform', 'processingactivityform step3', 'step3 step1', 'step1 act', 'act processingactivityform', 'processingactivityform step3', 'step3 step2', 'step2 act', 'act processingactivityform', 'processingactivityform step3', 'step3 step4', 'step4 act', 'act processingactivityform', 'processingactivityform step4', 'step4 step1', 'step1 act', 'act processingactivityform', 'processingactivityform step4', 'step4 step2', 'step2 act', 'act processingactivityform', 'processingactivityform step4', 'step4 step3', 'step3 act', 'act processingactivitywizard', 'processingactivitywizard step1', 'step1 step2', 'step2 act', 'act processingactivitywizard', 'processingactivitywizard step1', 'step1 step3', 'step3 act', 'act processingactivitywizard', 'processingactivitywizard step1', 'step1 step4', 'step4 act', 'act processingact', 'processingact submit', 'submit fromwizardhead', 'fromwizardhead sub', 'sub processingact', 'processingact retrievelayouthelperchangestatu', 'act processingact', 'processingact processor', 'processor remov', 'remov act', 'act processingact', 'processingact receiv', 'receiv remov', 'remov ds', 'ds processingact', 'processingact processorassign', 'processorassign processingact', 'processingact form', 'form step2', 'step2 processingact', 'processingact form', 'form step3', 'step3 processorassign', 'processorassign view', 'view admin', 'act processingactivityform', 'processingactivityform step2', 'step2 step1', 'step1 act', 'act processingactivityform', 'processingactivityform step2', 'step2 step3', 'step3 act', 'act processingactivityform', 'processingactivityform step2', 'step2 step4', 'step4 act', 'act processingactivityform', 'processingactivityform step3', 'step3 step1', 'step1 act', 'act processingactivityform', 'processingactivityform step3', 'step3 step2', 'step2 act', 'act processingactivityform', 'processingactivityform step3', 'step3 step4', 'step4 act', 'act processingactivityform', 'processingactivityform step4', 'step4 step1', 'step1 act', 'act processingactivityform', 'processingactivityform step4', 'step4 step2', 'step2 act', 'act processingactivityform', 'processingactivityform step4', 'step4 step3', 'step3 act', 'act processingactivitywizard', 'processingactivitywizard step1', 'step1 step2', 'step2 act', 'act processingactivitywizard', 'processingactivitywizard step1', 'step1 step3', 'step3 act', 'act processingactivitywizard', 'processingactivitywizard step1', 'step1 step4', 'step4 act', 'act processingact', 'processingact edit', 'edit processown', 'processown home', 'home processown', 'processown sub', 'sub layouthelp', 'layouthelp stepnumberupd', 'stepnumberupd snip', 'snip wizardhead', 'act processingact', 'processingact datasubject', 'datasubject remov', 'remov act', 'act processingact', 'processingact datasubject', 'datasubject save', 'save act', 'act processingact', 'processingact datasubject', 'datasubject sidepanel', 'sidepanel add', 'add act', 'act processingact', 'processingact datasubject', 'datasubject sidepanel', 'sidepanel open', 'open act', 'act processingact', 'processingact sidepanel', 'sidepanel close', 'close ds', 'ds layouthelp', 'layouthelp retrieveorcr', 'retrieveorcr ds', 'ds layouthelp', 'layouthelp retrieveorcr', 'retrieveorcr reset', 'reset ds', 'ds processingact', 'processingact datasubject', 'datasubject datasubject', 'datasubject sidepanel', 'sidepanel och', 'och layouthelp', 'layouthelp refresh', 'refresh och', 'och processingact', 'processingact datasubject', 'datasubject add', 'add processingact', 'processingact form', 'form step1', 'step1 snip', 'snip wizardhead', 'snip wizardhead', 'ds processingact', 'processingact datasubject', 'act processingact', 'processingact adddatacategori', 'adddatacategori act', 'act processingact', 'processingact dataactivitylink', 'dataactivitylink remov', 'remov act', 'act processingact', 'processingact datacategori', 'datacategori save', 'save ds', 'ds layouhelp', 'layouhelp step2', 'step2 ds', 'ds processingact', 'processingact datacategoryassign', 'datacategoryassign processingact', 'processingact datacategoryview', 'datacategoryview processingact', 'processingact form', 'form step2', 'act processingact', 'processingact savedraft', 'savedraft ds', 'ds processingperregionperdepart', 'processingperregionperdepart snip', 'snip wizardhead', 'act legalbasi', 'legalbasi datacategori', 'datacategori save', 'save act', 'act processingact', 'processingact datacategori', 'datacategori save', 'save ds', 'ds layouhelp', 'layouhelp step2', 'step2 processingact', 'processingact form', 'form step2', 'act processor', 'processor new', 'new admin', 'admin ds', 'ds layouthelp', 'layouthelp step3', 'step3 ds', 'ds processingact', 'processingact receiv', 'receiv processingact', 'processingact form', 'form step3', '100beta3 act', 'act mendixent', 'mendixent addassearchableobject', 'addassearchableobject act', 'act searchresult', 'searchresult performact', 'performact act', 'act search', 'search refreshobject', 'refreshobject act', 'act searchableobject', 'searchableobject addobject', 'addobject act', 'act searchableobject', 'searchableobject delet', 'delet act', 'act searchableobject', 'searchableobject savechang', 'savechang act', 'act searchableobject', 'searchableobject selectact', 'selectact act', 'act searcher', 'searcher clear', 'clear act', 'act searcher', 'searcher search', 'search act', 'act searcher', 'searcher search', 'search 2', '2 action', 'action select', 'select action', 'action administr', 'administr overview', 'overview bco', 'bco object', 'object exampl', 'exampl batchdeleteindex', 'batchdeleteindex batchindexobject', 'batchindexobject bde', 'bde object', 'object exampl', 'exampl ds', 'ds action', 'action ds', 'ds searcher', 'searcher createsearch', 'createsearch deleteindex', 'deleteindex executeonclickact', 'executeonclickact executesearch', 'executesearch getallmicroflow', 'getallmicroflow getallobjecttyp', 'getallobjecttyp getattribut', 'getattribut getobjectofresult', 'getobjectofresult globalsearch', 'globalsearch globalsearch', 'globalsearch extens', 'extens globalsearch', 'globalsearch overview', 'overview home', 'home processown', 'processown indexobject', 'indexobject java', 'java licens', 'licens lognod', 'lognod microflow', 'microflow objecttyp', 'objecttyp page', 'page privat', 'privat readm', 'readm snip', 'snip search', 'search snip', 'snip search', 'search configur', 'configur sub', 'sub action', 'action updateact', 'updateact sub', 'sub action', 'action sub', 'sub datasubject', 'datasubject getassociatedresult', 'getassociatedresult sub', 'sub searchableobject', 'searchableobject updat', 'updat sub', 'sub searcher', 'searcher getassociatedobject', 'getassociatedobject searchableobject', 'searchableobject action', 'action select', 'select searchableobject', 'searchableobject newedit', 'newedit snippet', 'snippet synchronizeobjectmemb', 'synchronizeobjectmemb updatesearchableobject', 'updatesearchableobject doc', 'doc readm', 'readm resourc', 'resourc use', 'act searcher', 'searcher performsearch', 'performsearch action', 'action getobjectofresult', 'getobjectofresult home', 'home processown', 'processown microflow', 'microflow sub', 'sub action', 'action sub', 'sub datacontrol', 'datacontrol getassociatedresult', 'getassociatedresult sub', 'sub datasubject', 'datasubject getassociatedresult', 'getassociatedresult sub', 'sub processingact', 'processingact getadditionalinfo', 'getadditionalinfo sub', 'sub processor', 'processor getassociatedresult', 'getassociatedresult sub', 'sub safeguard', 'safeguard getassociatedresult', 'getassociatedresult sub', 'sub searcher', 'searcher getassociatedobject', 'ds searcher', 'searcher createsearch', 'act searcher', 'searcher performsearch', 'performsearch home', 'home processown', 'processown sub', 'sub searchresult', 'searchresult getsearchableobject', 'getsearchableobject sub', 'sub searcher', 'searcher getassociatedobject', 'home processown', 'home processown', 'act searcher', 'searcher performsearch', 'performsearch home', 'home processown', 'processown imag', 'imag collect', 'collect objecttyp', 'objecttyp sub', 'sub datacategori', 'datacategori getassociatedresult', 'getassociatedresult sub', 'sub legalbasi', 'legalbasi getassociatedresult', 'getassociatedresult sub', 'sub processingact', 'processingact getadditionalinfo', 'getadditionalinfo sub', 'sub searcher', 'searcher getassociatedobject', 'act processingact', 'processingact processor', 'processor remov', 'remov act', 'act processingact', 'processingact receiv', 'receiv creat', 'creat act', 'act processingact', 'processingact receiv', 'receiv remov', 'remov act', 'act processorassign', 'processorassign save', 'save act', 'act processorassign', 'processorassign save', 'save 2', '2 act', 'act processor', 'processor new', 'new admin', 'admin act', 'act receiv', 'receiv save', 'save act', 'act safeguardassign', 'safeguardassign safeguard', 'safeguard add', 'add ds', 'ds layouhelp', 'layouhelp step2', 'step2 ds', 'ds layouthelp', 'layouthelp safeguard', 'safeguard ds', 'ds layouthelp', 'layouthelp step3', 'step3 processingact', 'processingact form', 'form step3', 'step3 sub', 'sub processor', 'processor redirectto', 'redirectto processorshowedit', 'act processingact', 'processingact submit', 'submit fromwizardhead', 'fromwizardhead act', 'act processorassign', 'processorassign save', 'save act', 'act safeguardassign', 'safeguardassign safeguard', 'safeguard add', 'add ds', 'ds layouthelp', 'layouthelp legalbasi', 'legalbasi ds', 'ds layouthelp', 'layouthelp safeguard', 'safeguard ole', 'ole processingact', 'processingact processor', 'processor save', 'save processingact', 'processingact form', 'form step2', 'step2 processingact', 'processingact form', 'form step3', 'step3 sub', 'sub processingact', 'processingact processor', 'processor save', 'act legalbasi', 'legalbasi save', 'save ds', 'ds legalbasi', 'legalbasi selectablelegalbas', 'selectablelegalbas ds', 'ds processingact', 'processingact datacategori', 'datacategori ds', 'ds processingact', 'processingact step2', 'step2 datacategoryremovefromlist', 'datacategoryremovefromlist datacategori', 'datacategori newedit', 'newedit datacategori', 'datacategori overview', 'overview datacategori', 'datacategori sidepanel', 'sidepanel enum', 'enum informationboxfield', 'informationboxfield legalbasi', 'legalbasi newedit', 'newedit legalbasi', 'legalbasi overview', 'overview processingact', 'processingact form', 'form step2', 'step2 processingact', 'processingact legalbasisview', 'legalbasisview processingact', 'processingact overview', 'overview processingact', 'processingact view', 'view val', 'val datacategori', 'datacategori val', 'val legalbasi', 'ds processingperregionperdepart', 'processingperregionperdepart home', 'act processingact', 'processingact adddatacategori', 'adddatacategori act', 'act processingact', 'processingact datacategori', 'datacategori cancel', 'cancel act', 'act processingact', 'processingact datacategori', 'datacategori remov', 'remov act', 'act processingact', 'processingact datacategori', 'datacategori save', 'save act', 'act processingact', 'processingact datacategori', 'datacategori sidepanel', 'sidepanel add', 'add act', 'act processingact', 'processingact datacategori', 'datacategori sidepanel', 'sidepanel open', 'open act', 'act processorassign', 'processorassign save', 'save 2', '2 ds', 'ds layouthelp', 'layouthelp step2', 'step2 ds', 'ds processingact', 'processingact datacategori', 'datacategori select', 'select ds', 'ds processingact', 'processingact datasubject', 'datasubject select', 'select datacategori', 'datacategori sidepanel', 'sidepanel datasubject', 'datasubject sidepanel', 'sidepanel processingact', 'processingact datacategoryview', 'datacategoryview processingact', 'processingact form', 'form step2', 'act datacategori', 'datacategori legalbasi', 'legalbasi removelink', 'removelink act', 'act processingact', 'processingact securitymeasur', 'securitymeasur sidepanel', 'sidepanel add', 'add act', 'act processingact', 'processingact securitymeasur', 'securitymeasur sidepanel', 'sidepanel open', 'open ds', 'ds layouthelp', 'layouthelp retrieveorcr', 'retrieveorcr reset', 'reset ds', 'ds layouthelp', 'layouthelp step1', 'step1 ds', 'ds layouthelp', 'layouthelp step2', 'step2 ds', 'ds layouthelp', 'layouthelp step4', 'step4 ds', 'ds processingact', 'processingact securitymeasur', 'securitymeasur select', 'select och', 'och processingact', 'processingact refresh', 'refresh processingact', 'processingact form', 'form step1', 'step1 processingact', 'processingact form', 'form step2', 'step2 processingact', 'processingact form', 'form step3', 'step3 processingact', 'processingact form', 'form step4', 'step4 securitymeasur', 'securitymeasur sidepanel', 'sidepanel securitymeasur', 'securitymeasur view', 'act processingact', 'processingact deletedraft', 'deletedraft snip', 'snip wizardhead', 'act datacategoryassign', 'datacategoryassign delet', 'delet act', 'act legalbasi', 'legalbasi closepag', 'closepag act', 'act legalbasi', 'legalbasi datacategori', 'datacategori save', 'save act', 'act processingact', 'processingact datacategori', 'datacategori sidepanel', 'sidepanel add', 'add act', 'act processingact', 'processingact datacategori', 'datacategori sidepanel', 'sidepanel open', 'open act', 'act processingact', 'processingact datasubject', 'datasubject sidepanel', 'sidepanel add', 'add act', 'act processingact', 'processingact datasubject', 'datasubject sidepanel', 'sidepanel open', 'open act', 'act processingact', 'processingact legalbasi', 'legalbasi sidepanel', 'sidepanel add', 'add act', 'act processingact', 'processingact legalbasi', 'legalbasi sidepanel', 'sidepanel open', 'open act', 'act processingact', 'processingact processor', 'processor remov', 'remov act', 'act processingact', 'processingact processor', 'processor sidepanel', 'sidepanel add', 'add act', 'act processingact', 'processingact processor', 'processor sidepanel', 'sidepanel open', 'open act', 'act processingact', 'processingact safeguard', 'safeguard sidepanel', 'sidepanel add', 'add act', 'act processingact', 'processingact safeguard', 'safeguard sidepanel', 'sidepanel open', 'open act', 'act processingact', 'processingact securitymeasur', 'securitymeasur sidepanel', 'sidepanel add', 'add act', 'act processingact', 'processingact securitymeasur', 'securitymeasur sidepanel', 'sidepanel open', 'open act', 'act processingact', 'processingact sidepanel', 'sidepanel close', 'close act', 'act processorassign', 'processorassign cancel', 'cancel act', 'act processor', 'processor cancel', 'cancel act', 'act processor', 'processor creat', 'creat act', 'act processor', 'processor new', 'new admin', 'admin act', 'act processor', 'processor new', 'new user', 'user act', 'act processor', 'processor save', 'save act', 'act safeguardassign', 'safeguardassign add', 'add act', 'act safeguardassign', 'safeguardassign cancel', 'cancel act', 'act safeguardassign', 'safeguardassign remov', 'remov act', 'act safeguardassign', 'safeguardassign safeguard', 'safeguard add', 'add basi', 'basi categori', 'categori ds', 'ds datacategori', 'datacategori legalbasisassign', 'legalbasisassign ds', 'ds layouthelp', 'layouthelp legalbasi', 'legalbasi ds', 'ds layouthelp', 'layouthelp safeguard', 'safeguard ds', 'ds legalbasi', 'legalbasi selectablelegalbas', 'selectablelegalbas ds', 'ds legalbasi', 'legalbasi select', 'select ds', 'ds processingactivityform', 'processingactivityform step4', 'step4 securitymeasureremovefromlist', 'securitymeasureremovefromlist 2', '2 ds', 'ds processingact', 'processingact datacategoryassign', 'datacategoryassign ds', 'ds processingact', 'processingact datacategori', 'datacategori select', 'select ds', 'ds processingact', 'processingact datasubject', 'datasubject select', 'select ds', 'ds processingact', 'processingact legalbasi', 'legalbasi select', 'select ds', 'ds processingact', 'processingact processorassign', 'processorassign ds', 'ds processingact', 'processingact processor', 'processor select', 'select ds', 'ds processingact', 'processingact receiv', 'receiv ds', 'ds processingact', 'processingact safeguard', 'safeguard select', 'select ds', 'ds processingact', 'processingact securitymeasur', 'securitymeasur select', 'select ds', 'ds processingact', 'processingact step2', 'step2 datacategoryremovefromlist', 'datacategoryremovefromlist ds', 'ds safeguardassign', 'safeguardassign memori', 'memori select', 'select ds', 'ds selectableobjectsprocessor', 'selectableobjectsprocessor data', 'data datacategori', 'datacategori sidepanel', 'sidepanel datasubject', 'datasubject sidepanel', 'sidepanel datasubject', 'datasubject legal', 'legal legalbasi', 'legalbasi sidepanel', 'sidepanel measur', 'measur och', 'och processingact', 'processingact securitymeasur', 'securitymeasur add', 'add processingact', 'processingact form', 'form step2', 'step2 processingact', 'processingact form', 'form step3', 'step3 processingact', 'processingact legalbasisview', 'legalbasisview processor', 'processor processorassign', 'processorassign view', 'view processorassign', 'processorassign view', 'view admin', 'admin processor', 'processor newedit', 'newedit processor', 'processor sidepanel', 'sidepanel sub', 'sub processor', 'processor redirectto', 'redirectto processorshowedit', 'processorshowedit sub', 'sub processor', 'processor showedit', 'showedit safeguard', 'safeguard safeguardassign', 'safeguardassign view', 'view safeguard', 'safeguard sidepanel', 'sidepanel secur', 'secur securitymeasur', 'securitymeasur sidepanel', 'sidepanel sidepanel', 'sidepanel val', 'val safeguardassign', 'processingact form', 'form step1', 'step1 processingact', 'processingact form', 'form step2', 'step2 processingact', 'processingact form', 'form step3', 'act home', 'home user', 'user act', 'act processingactivityform', 'processingactivityform step2', 'step2 step1', 'step1 act', 'act processingactivityform', 'processingactivityform step2', 'step2 step3', 'step3 act', 'act processingactivityform', 'processingactivityform step2', 'step2 step4', 'step4 act', 'act processingactivityform', 'processingactivityform step3', 'step3 step1', 'step1 act', 'act processingactivityform', 'processingactivityform step3', 'step3 step2', 'step2 act', 'act processingactivityform', 'processingactivityform step3', 'step3 step4', 'step4 act', 'act processingactivitywizard', 'processingactivitywizard step1', 'step1 step2', 'step2 act', 'act processingact', 'processingact backbutton', 'backbutton act', 'act processingact', 'processingact datacategori', 'datacategori remov', 'remov act', 'act processingact', 'processingact legalbasi', 'legalbasi sidepanel', 'sidepanel add', 'add act', 'act processingact', 'processingact submit', 'submit fromstep4', 'fromstep4 act', 'act processingact', 'processingact submit', 'submit fromwizardhead', 'fromwizardhead act', 'act processorassign', 'processorassign cancel', 'cancel act', 'act processorassign', 'processorassign save', 'save act', 'act processor', 'processor creat', 'creat act', 'act processor', 'processor save', 'save act', 'act securitymeasur', 'securitymeasur save', 'save ds', 'ds layouthelp', 'layouthelp step1', 'step1 och', 'och processorsafeguard', 'usprivacyshield ole', 'ole processingact', 'processingact datacategori', 'datacategori save', 'save ole', 'ole processingact', 'processingact processor', 'processor save', 'save processingact', 'processingact form', 'form step1', 'step1 processingact', 'processingact form', 'form step2', 'step2 processingact', 'processingact form', 'form step3', 'step3 processingact', 'processingact overview', 'overview processor', 'processor newedit', 'newedit sub', 'sub datacategoryassign', 'datacategoryassign step2', 'step2 save', 'save sub', 'sub processingact', 'processingact processor', 'processor save', 'save sub', 'sub processingact', 'processingact allstep', 'allstep save', 'save sub', 'sub processingact', 'processingact step3', 'step3 save', 'save sub', 'sub safeguardassign', 'safeguardassign commit', 'commit securitymeasur', 'securitymeasur view', 'view snip', 'snip wizardhead', 'wizardhead val', 'val processingact', 'processingact step1', 'step1 val', 'val processingact', 'processingact step1', 'step1 datasubject', 'datasubject val', 'val processingact', 'processingact step2', 'step2 val', 'val processingact', 'processingact step3', 'step3 val', 'val processingact', 'processingact step4', 'step4 val', 'val processor', 'processingact form', 'form step2', 'processingact form', 'form step3', 'ds layouthelp', 'layouthelp step2', 'step2 ds', 'ds layouthelp', 'layouthelp safeguard', 'safeguard processingact', 'processingact form', 'form step2', 'processingact form', 'form step2', 'act processingactivityform', 'processingactivityform step2', 'step2 step1', 'step1 act', 'act processingactivityform', 'processingactivityform step2', 'step2 step3', 'step3 act', 'act processingactivityform', 'processingactivityform step2', 'step2 step4', 'step4 act', 'act processingactivityform', 'processingactivityform step3', 'step3 step1', 'step1 act', 'act processingactivityform', 'processingactivityform step3', 'step3 step2', 'step2 act', 'act processingactivityform', 'processingactivityform step3', 'step3 step4', 'step4 act', 'act processingactivityform', 'processingactivityform step4', 'step4 step1', 'step1 act', 'act processingactivityform', 'processingactivityform step4', 'step4 step2', 'step2 act', 'act processingactivityform', 'processingactivityform step4', 'step4 step3', 'step3 act', 'act processingactivitywizard', 'processingactivitywizard step1', 'step1 step2', 'step2 act', 'act processingactivitywizard', 'processingactivitywizard step1', 'step1 step3', 'step3 act', 'act processingactivitywizard', 'processingactivitywizard step1', 'step1 step4', 'step4 act', 'act processingact', 'processingact deletedraft', 'deletedraft act', 'act processingact', 'processingact edit', 'edit processown', 'processown act', 'act processingact', 'processingact gotostepx', 'gotostepx invaliddata', 'invaliddata act', 'act processingact', 'processingact newstep', 'newstep cancel', 'cancel act', 'act processingact', 'processingact savedraft', 'savedraft act', 'act processingact', 'processingact submitinvalid', 'submitinvalid act', 'act processingact', 'processingact submit', 'submit fromstep4', 'fromstep4 act', 'act processingact', 'processingact submit', 'submit fromwizardhead', 'fromwizardhead confirmform', 'confirmform datacategori', 'datacategori confirmform', 'confirmform datasubject', 'datasubject confirmform', 'confirmform processor', 'processor confirmform', 'confirmform securitymeasur', 'securitymeasur ds', 'ds processingperregionperdepart', 'processingperregionperdepart enum', 'enum statu', 'statu home', 'home home', 'home processown', 'processown sub', 'sub layouthelp', 'layouthelp stepnumberupd', 'stepnumberupd snip', 'snip wizardhead', 'processingact form', 'form step2', 'step2 processingact', 'processingact form', 'form step3', 'step3 processingact', 'processingact form', 'form step4', 'processingact form', 'form step1', 'step1 processingact', 'processingact form', 'form step4', 'processingact form', 'form step1', 'step1 processingact', 'processingact form', 'form step2', 'processingact form', 'form step1', 'processingact form', 'form step1', 'step1 processingact', 'processingact form', 'form step2', 'step2 processingact', 'processingact form', 'form step3', 'step3 processingact', 'processingact form', 'form step4', 'processingact form', 'form step1', 'step1 processingact', 'processingact form', 'form step2', 'step2 processingact', 'processingact form', 'form step3', 'step3 processingact', 'processingact form', 'form step4', 'ds processingact', 'processingact processor', 'processor select', 'ds layouthelp', 'layouthelp administr', 'administr ds', 'ds processingact', 'processingact processor', 'processor select', 'select processingact', 'processingact form', 'form step3', 'step3 val', 'val safeguardassign', 'act datacategoryassign', 'datacategoryassign delet', 'delet act', 'act home', 'home user', 'user act', 'act legalbasi', 'legalbasi closepag', 'closepag act', 'act legalbasi', 'legalbasi datacategori', 'datacategori save', 'save act', 'act legalbasi', 'legalbasi save', 'save act', 'act processingactivityform', 'processingactivityform step2', 'step2 step1', 'step1 act', 'act processingactivityform', 'processingactivityform step2', 'step2 step3', 'step3 act', 'act processingactivityform', 'processingactivityform step2', 'step2 step4', 'step4 act', 'act processingactivityform', 'processingactivityform step3', 'step3 step1', 'step1 act', 'act processingactivityform', 'processingactivityform step3', 'step3 step2', 'step2 act', 'act processingactivityform', 'processingactivityform step3', 'step3 step4', 'step4 act', 'act processingactivitywizard', 'processingactivitywizard step1', 'step1 step2', 'step2 act', 'act processingact', 'processingact backbutton', 'backbutton act', 'act processingact', 'processingact datacategori', 'datacategori cancel', 'cancel act', 'act processingact', 'processingact datacategori', 'datacategori remov', 'remov act', 'act processingact', 'processingact datacategori', 'datacategori save', 'save act', 'act processingact', 'processingact datacategori', 'datacategori sidepanel', 'sidepanel add', 'add act', 'act processingact', 'processingact datacategori', 'datacategori sidepanel', 'sidepanel open', 'open act', 'act processingact', 'processingact datasubject', 'datasubject remov', 'remov act', 'act processingact', 'processingact datasubject', 'datasubject save', 'save act', 'act processingact', 'processingact datasubject', 'datasubject sidepanel', 'sidepanel add', 'add act', 'act processingact', 'processingact datasubject', 'datasubject sidepanel', 'sidepanel open', 'open act', 'act processingact', 'processingact legalbasi', 'legalbasi sidepanel', 'sidepanel add', 'add act', 'act processingact', 'processingact legalbasi', 'legalbasi sidepanel', 'sidepanel open', 'open act', 'act processingact', 'processingact processor', 'processor remov', 'remov act', 'act processingact', 'processingact processor', 'processor sidepanel', 'sidepanel add', 'add act', 'act processingact', 'processingact processor', 'processor sidepanel', 'sidepanel open', 'open act', 'act processingact', 'processingact receiv', 'receiv creat', 'creat act', 'act processingact', 'processingact receiv', 'receiv remov', 'remov act', 'act processingact', 'processingact safeguard', 'safeguard sidepanel', 'sidepanel add', 'add act', 'act processingact', 'processingact safeguard', 'safeguard sidepanel', 'sidepanel open', 'open act', 'act processingact', 'processingact securitymeasur', 'securitymeasur sidepanel', 'sidepanel add', 'add act', 'act processingact', 'processingact securitymeasur', 'securitymeasur sidepanel', 'sidepanel open', 'open act', 'act processingact', 'processingact sidepanel', 'sidepanel close', 'close act', 'act processingact', 'processingact submit', 'submit fromstep4', 'fromstep4 act', 'act processingact', 'processingact submit', 'submit fromwizardhead', 'fromwizardhead act', 'act processorassign', 'processorassign cancel', 'cancel act', 'act processorassign', 'processorassign save', 'save act', 'act processor', 'processor creat', 'creat act', 'act processor', 'processor new', 'new admin', 'admin act', 'act processor', 'processor new', 'new user', 'user act', 'act processor', 'processor save', 'save act', 'act receiv', 'receiv save', 'save act', 'act safeguardassign', 'safeguardassign add', 'add act', 'act safeguardassign', 'safeguardassign cancel', 'cancel act', 'act safeguardassign', 'safeguardassign remov', 'remov act', 'act safeguardassign', 'safeguardassign safeguard', 'safeguard add', 'add act', 'act securitymeasur', 'securitymeasur save', 'afterstartup basi', 'basi categori', 'categori ds', 'ds datacategori', 'datacategori legalbasisassign', 'legalbasisassign ds', 'ds layouthelp', 'layouthelp administr', 'administr ds', 'ds layouthelp', 'layouthelp retrieveorcr', 'retrieveorcr ds', 'ds layouthelp', 'layouthelp step1', 'step1 ds', 'ds layouthelp', 'layouthelp step2', 'step2 ds', 'ds layouthelp', 'layouthelp step4', 'step4 ds', 'ds layouthelp', 'layouthelp legalbasi', 'legalbasi ds', 'ds layouthelp', 'layouthelp safeguard', 'safeguard ds', 'ds layouthelp', 'layouthelp step3', 'step3 ds', 'ds legalbasi', 'legalbasi selectablelegalbas', 'selectablelegalbas ds', 'ds legalbasi', 'legalbasi select', 'select ds', 'ds processingactivityform', 'processingactivityform step4', 'step4 securitymeasureremovefromlist', 'securitymeasureremovefromlist 2', '2 ds', 'ds processingact', 'processingact datacategori', 'datacategori select', 'select ds', 'ds processingact', 'processingact datasubject', 'datasubject select', 'select ds', 'ds processingact', 'processingact legalbasi', 'legalbasi select', 'select ds', 'ds processingact', 'processingact processor', 'processor select', 'select ds', 'ds processingact', 'processingact safeguard', 'safeguard select', 'select ds', 'ds processingact', 'processingact securitymeasur', 'securitymeasur select', 'select ds', 'ds processingact', 'processingact step2', 'step2 datacategoryremovefromlist', 'datacategoryremovefromlist ds', 'ds safeguardassign', 'safeguardassign memori', 'memori select', 'select ds', 'ds selectableobjectsprocessor', 'selectableobjectsprocessor data', 'data datacategori', 'datacategori newedit', 'newedit datacategori', 'datacategori overview', 'overview datacategori', 'datacategori sidepanel', 'sidepanel datasubject', 'datasubject sidepanel', 'sidepanel datasubject', 'datasubject enum', 'enum informationboxfield', 'informationboxfield legal', 'legal legalbasi', 'legalbasi newedit', 'newedit legalbasi', 'legalbasi overview', 'overview legalbasi', 'legalbasi sidepanel', 'sidepanel measur', 'measur och', 'och layouthelp', 'layouthelp refresh', 'refresh och', 'och processingact', 'processingact datasubject', 'datasubject add', 'add och', 'och processingact', 'processingact securitymeasur', 'securitymeasur add', 'add och', 'och processingact', 'processingact refresh', 'refresh och', 'och processorsafeguard', 'usprivacyshield ole', 'ole processingact', 'processingact datacategori', 'datacategori save', 'save otf', 'otf safeguard', 'safeguard replaceassociationwithnew', 'replaceassociationwithnew otf', 'otf safeguard', 'safeguard usprivacyshield', 'usprivacyshield processingact', 'processingact datacategoryview', 'datacategoryview processingact', 'processingact form', 'form step1', 'step1 processingact', 'processingact form', 'form step2', 'step2 processingact', 'processingact form', 'form step3', 'step3 processingact', 'processingact form', 'form step4', 'step4 processingact', 'processingact legalbasisview', 'legalbasisview processingact', 'processingact overview', 'overview processingact', 'processingact view', 'view processor', 'processor processorassign', 'processorassign view', 'view processorassign', 'processorassign view', 'view admin', 'admin processor', 'processor newedit', 'newedit processor', 'processor sidepanel', 'sidepanel sub', 'sub datacategoryassign', 'datacategoryassign step2', 'step2 save', 'save sub', 'sub processingact', 'processingact allstep', 'allstep save', 'save sub', 'sub processingact', 'processingact step3', 'step3 save', 'save sub', 'sub processor', 'processor redirectto', 'redirectto processorshowedit', 'processorshowedit sub', 'sub processor', 'processor showedit', 'showedit sub', 'sub safeguardassign', 'safeguardassign commit', 'commit safeguard', 'safeguard safeguardassign', 'safeguardassign view', 'view safeguard', 'safeguard sidepanel', 'sidepanel secur', 'secur securitymeasur', 'securitymeasur sidepanel', 'sidepanel securitymeasur', 'securitymeasur view', 'view sidepanel', 'sidepanel snip', 'snip wizardhead', 'wizardhead val', 'val datacategori', 'datacategori val', 'val legalbasi', 'legalbasi val', 'val processingact', 'processingact step1', 'step1 val', 'val processingact', 'processingact step1', 'step1 datasubject', 'datasubject val', 'val processingact', 'processingact step2', 'step2 val', 'val processingact', 'processingact step3', 'step3 val', 'val processingact', 'processingact step4', 'step4 val', 'val processor', 'processor val', 'val safeguardassign', 'asu templat', 'templat creat', 'creat afterstartup', 'afterstartup decrypt', 'decrypt encryptionkey', 'act datacategoryassign', 'datacategoryassign delet', 'delet act', 'act home', 'home user', 'user act', 'act legalbasi', 'legalbasi closepag', 'closepag act', 'act legalbasi', 'legalbasi datacategori', 'datacategori save', 'save act', 'act legalbasi', 'legalbasi save', 'save act', 'act processingactivityform', 'processingactivityform step2', 'step2 step1', 'step1 act', 'act processingactivityform', 'processingactivityform step2', 'step2 step3', 'step3 act', 'act processingactivityform', 'processingactivityform step2', 'step2 step4', 'step4 act', 'act processingactivityform', 'processingactivityform step3', 'step3 step1', 'step1 act', 'act processingactivityform', 'processingactivityform step3', 'step3 step2', 'step2 act', 'act processingactivityform', 'processingactivityform step3', 'step3 step4', 'step4 act', 'act processingactivitywizard', 'processingactivitywizard step1', 'step1 step2', 'step2 act', 'act processingact', 'processingact backbutton', 'backbutton act', 'act processingact', 'processingact datacategori', 'datacategori cancel', 'cancel act', 'act processingact', 'processingact datacategori', 'datacategori remov', 'remov act', 'act processingact', 'processingact datacategori', 'datacategori save', 'save act', 'act processingact', 'processingact datacategori', 'datacategori sidepanel', 'sidepanel add', 'add act', 'act processingact', 'processingact datacategori', 'datacategori sidepanel', 'sidepanel open', 'open act', 'act processingact', 'processingact datasubject', 'datasubject remov', 'remov act', 'act processingact', 'processingact datasubject', 'datasubject save', 'save act', 'act processingact', 'processingact datasubject', 'datasubject sidepanel', 'sidepanel add', 'add act', 'act processingact', 'processingact datasubject', 'datasubject sidepanel', 'sidepanel open', 'open act', 'act processingact', 'processingact legalbasi', 'legalbasi sidepanel', 'sidepanel add', 'add act', 'act processingact', 'processingact legalbasi', 'legalbasi sidepanel', 'sidepanel open', 'open act', 'act processingact', 'processingact processor', 'processor remov', 'remov act', 'act processingact', 'processingact processor', 'processor sidepanel', 'sidepanel add', 'add act', 'act processingact', 'processingact processor', 'processor sidepanel', 'sidepanel open', 'open act', 'act processingact', 'processingact receiv', 'receiv creat', 'creat act', 'act processingact', 'processingact receiv', 'receiv remov', 'remov act', 'act processingact', 'processingact safeguard', 'safeguard sidepanel', 'sidepanel add', 'add act', 'act processingact', 'processingact safeguard', 'safeguard sidepanel', 'sidepanel open', 'open act', 'act processingact', 'processingact securitymeasur', 'securitymeasur sidepanel', 'sidepanel add', 'add act', 'act processingact', 'processingact securitymeasur', 'securitymeasur sidepanel', 'sidepanel open', 'open act', 'act processingact', 'processingact sidepanel', 'sidepanel close', 'close act', 'act processingact', 'processingact submit', 'submit fromstep4', 'fromstep4 act', 'act processingact', 'processingact submit', 'submit fromwizardhead', 'fromwizardhead act', 'act processorassign', 'processorassign cancel', 'cancel act', 'act processorassign', 'processorassign save', 'save act', 'act processor', 'processor creat', 'creat act', 'act processor', 'processor new', 'new admin', 'admin act', 'act processor', 'processor new', 'new user', 'user act', 'act processor', 'processor save', 'save act', 'act receiv', 'receiv save', 'save act', 'act safeguardassign', 'safeguardassign add', 'add act', 'act safeguardassign', 'safeguardassign cancel', 'cancel act', 'act safeguardassign', 'safeguardassign remov', 'remov act', 'act safeguardassign', 'safeguardassign safeguard', 'safeguard add', 'add act', 'act securitymeasur', 'securitymeasur save', 'afterstartup basi', 'basi categori', 'categori ds', 'ds datacategori', 'datacategori legalbasisassign', 'legalbasisassign ds', 'ds layouthelp', 'layouthelp administr', 'administr ds', 'ds layouthelp', 'layouthelp retrieveorcr', 'retrieveorcr ds', 'ds layouthelp', 'layouthelp step1', 'step1 ds', 'ds layouthelp', 'layouthelp step2', 'step2 ds', 'ds layouthelp', 'layouthelp step4', 'step4 ds', 'ds layouthelp', 'layouthelp legalbasi', 'legalbasi ds', 'ds layouthelp', 'layouthelp safeguard', 'safeguard ds', 'ds layouthelp', 'layouthelp step3', 'step3 ds', 'ds legalbasi', 'legalbasi selectablelegalbas', 'selectablelegalbas ds', 'ds legalbasi', 'legalbasi select', 'select ds', 'ds processingactivityform', 'processingactivityform step4', 'step4 securitymeasureremovefromlist', 'securitymeasureremovefromlist 2', '2 ds', 'ds processingact', 'processingact datacategori', 'datacategori select', 'select ds', 'ds processingact', 'processingact datasubject', 'datasubject select', 'select ds', 'ds processingact', 'processingact legalbasi', 'legalbasi select', 'select ds', 'ds processingact', 'processingact processor', 'processor select', 'select ds', 'ds processingact', 'processingact safeguard', 'safeguard select', 'select ds', 'ds processingact', 'processingact securitymeasur', 'securitymeasur select', 'select ds', 'ds processingact', 'processingact step2', 'step2 datacategoryremovefromlist', 'datacategoryremovefromlist ds', 'ds safeguardassign', 'safeguardassign memori', 'memori select', 'select ds', 'ds selectableobjectsprocessor', 'selectableobjectsprocessor data', 'data datacategori', 'datacategori newedit', 'newedit datacategori', 'datacategori overview', 'overview datacategori', 'datacategori sidepanel', 'sidepanel datasubject', 'datasubject sidepanel', 'sidepanel datasubject', 'datasubject enum', 'enum informationboxfield', 'informationboxfield legal', 'legal legalbasi', 'legalbasi newedit', 'newedit legalbasi', 'legalbasi overview', 'overview legalbasi', 'legalbasi sidepanel', 'sidepanel measur', 'measur och', 'och layouthelp', 'layouthelp refresh', 'refresh och', 'och processingact', 'processingact datasubject', 'datasubject add', 'add och', 'och processingact', 'processingact securitymeasur', 'securitymeasur add', 'add och', 'och processingact', 'processingact refresh', 'refresh och', 'och processorsafeguard', 'usprivacyshield ole', 'ole processingact', 'processingact datacategori', 'datacategori save', 'save otf', 'otf safeguard', 'safeguard replaceassociationwithnew', 'replaceassociationwithnew otf', 'otf safeguard', 'safeguard usprivacyshield', 'usprivacyshield processingact', 'processingact datacategoryview', 'datacategoryview processingact', 'processingact form', 'form step1', 'step1 processingact', 'processingact form', 'form step2', 'step2 processingact', 'processingact form', 'form step3', 'step3 processingact', 'processingact form', 'form step4', 'step4 processingact', 'processingact legalbasisview', 'legalbasisview processingact', 'processingact overview', 'overview processingact', 'processingact view', 'view processor', 'processor processorassign', 'processorassign view', 'view processorassign', 'processorassign view', 'view admin', 'admin processor', 'processor newedit', 'newedit processor', 'processor sidepanel', 'sidepanel sub', 'sub datacategoryassign', 'datacategoryassign step2', 'step2 save', 'save sub', 'sub processingact', 'processingact allstep', 'allstep save', 'save sub', 'sub processingact', 'processingact step3', 'step3 save', 'save sub', 'sub processor', 'processor redirectto', 'redirectto processorshowedit', 'processorshowedit sub', 'sub processor', 'processor showedit', 'showedit sub', 'sub safeguardassign', 'safeguardassign commit', 'commit safeguard', 'safeguard safeguardassign', 'safeguardassign view', 'view safeguard', 'safeguard sidepanel', 'sidepanel secur', 'secur securitymeasur', 'securitymeasur sidepanel', 'sidepanel securitymeasur', 'securitymeasur view', 'view sidepanel', 'sidepanel snip', 'snip wizardhead', 'wizardhead val', 'val datacategori', 'datacategori val', 'val legalbasi', 'legalbasi val', 'val processingact', 'processingact step1', 'step1 val', 'val processingact', 'processingact step1', 'step1 datasubject', 'datasubject val', 'val processingact', 'processingact step2', 'step2 val', 'val processingact', 'processingact step3', 'step3 val', 'val processingact', 'processingact step4', 'step4 val', 'val processor', 'processor val', 'val safeguardassign', 'val safeguardassign', '100 act', 'act display', 'display getorcr', 'getorcr act', 'act display', 'display show', 'show act', 'act messag', 'messag add', 'add act', 'act messag', 'messag creat', 'creat act', 'act messag', 'messag delet', 'delet act', 'act messag', 'messag deleteal', 'deleteal act', 'act messag', 'messag markallasread', 'markallasread act', 'act messag', 'messag markasread', 'markasread act', 'act messag', 'messag send', 'send administr', 'administr overview', 'overview administr', 'administr configur', 'configur overview', 'overview cal', 'cal display', 'display unreadnotif', 'unreadnotif ds', 'ds display', 'display display', 'display lognod', 'lognod manag', 'manag menu', 'menu messag', 'messag messag', 'messag newedit', 'newedit notfic', 'notfic overview', 'overview notif', 'notif privat', 'privat se', 'se messag', 'messag delet', 'delet se', 'se messag', 'messag deleteal', 'deleteal send', 'send snip', 'snip messag', 'messag listitem', 'listitem snip', 'snip navig', 'navig snip', 'snip notif', 'notif administr', 'administr snippet', 'snippet user', 'user select', 'select view', 'view doc', 'doc readm', 'readm resourc', 'resourc use', 'home processown', 'processown imag', 'imag collect', 'collect snip', 'snip wizardhead', 'act processingact', 'processingact approv', 'approv act', 'act processingact', 'processingact edit', 'edit processown', 'processown act', 'act processingact', 'processingact feedback', 'feedback act', 'act processingact', 'processingact reject', 'reject action', 'action approvereject', 'approvereject emailupd', 'emailupd enum', 'enum statu', 'statu ivk', 'ivk sendemail', 'sendemail mxobject', 'mxobject processingact', 'processingact feedback', 'feedback processingact', 'processingact view', 'view sub', 'sub sendemail', 'sendemail sub', 'sub sendemail', 'sendemail activityapprov', 'activityapprov sub', 'sub sendemail', 'sendemail activityreject', 'activityreject snip', 'snip activitydetailhead', 'activitydetailhead snip', 'snip wizardhead', 'act messag', 'messag add', 'add act', 'act messag', 'messag add', 'add 2', '2 act', 'act messag', 'messag send', 'send act', 'act messag', 'messag submit', 'submit act', 'act processingact', 'processingact messageredirect', 'messageredirect act', 'act processingact', 'processingact submit', 'submit fromstep4', 'fromstep4 administr', 'administr configur', 'configur overview', 'overview appset', 'appset overview', 'overview atla', 'atla topbar', 'topbar atla', 'atla topbar', 'topbar master', 'master bell', 'bell atla', 'atla topbar', 'topbar bgwhite', 'bgwhite atla', 'atla twosidecont', 'twosidecont fullwidget', 'fullwidget emailadministr', 'emailadministr overview', 'overview microflow', 'microflow mxobject', 'mxobject overview', 'overview myprofil', 'myprofil view', 'view processingact', 'processingact view', 'view samlconfigur', 'samlconfigur overview', 'overview snip', 'snip messag', 'messag listitem', 'listitem snip', 'snip navig', 'snip messag', 'messag listitem', 'act processingact', 'processingact feedback', 'feedback ivk', 'ivk sendemail', 'sendemail lognod', 'lognod sub', 'sub informationbox', 'informationbox checkandcr', 'checkandcr sub', 'sub sendemail', 'sendemail sub', 'sub sendemail', 'sendemail activityapprov', 'activityapprov sub', 'sub sendemail', 'sendemail activityreject', 'activityreject readm', 'act informationbox', 'informationbox open', 'open businessprocessnam', 'businessprocessnam act', 'act informationbox', 'informationbox open', 'open datacategori', 'datacategori act', 'act informationbox', 'informationbox open', 'open datacontrol', 'datacontrol act', 'act informationbox', 'informationbox open', 'open datasubject', 'datasubject act', 'act informationbox', 'informationbox open', 'open jointdatacontrol', 'jointdatacontrol act', 'act informationbox', 'informationbox open', 'open legalbasi', 'legalbasi act', 'act informationbox', 'informationbox open', 'open legitimateinterestcom', 'legitimateinterestcom act', 'act informationbox', 'informationbox open', 'open methodofexercisingright', 'methodofexercisingright act', 'act informationbox', 'informationbox open', 'open methodofnotif', 'methodofnotif act', 'act informationbox', 'informationbox open', 'open processor', 'processor act', 'act informationbox', 'informationbox open', 'open profil', 'profil act', 'act informationbox', 'informationbox open', 'open purposeofprocess', 'purposeofprocess act', 'act informationbox', 'informationbox open', 'open receiv', 'receiv act', 'act informationbox', 'informationbox open', 'open retentionperiod', 'retentionperiod act', 'act informationbox', 'informationbox open', 'open securitymeasur', 'securitymeasur act', 'act informationbox', 'informationbox open', 'open sensitivedata', 'sensitivedata act', 'act informationbox', 'informationbox save', 'save act', 'act processingact', 'processingact new', 'new administr', 'administr ds', 'ds layouthelp', 'layouthelp step1', 'step1 ds', 'ds layouthelp', 'layouthelp step2', 'step2 ds', 'ds layouthelp', 'layouthelp step3', 'step3 ds', 'ds layouthelp', 'layouthelp step4', 'step4 differ', 'differ inform', 'inform informationbox', 'informationbox newedit', 'newedit move', 'move page', 'page processingact', 'processingact form', 'form step1', 'step1 processingact', 'processingact form', 'form step2', 'step2 processingact', 'processingact form', 'form step3', 'step3 processingact', 'processingact form', 'form step4', 'step4 sub', 'sub informationbox', 'informationbox closeal', 'closeal sub', 'sub informationbox', 'informationbox linkandcloseal', 'linkandcloseal sub', 'sub informationbox', 'informationbox openfirst', 'openfirst step1', 'step1 sub', 'sub informationbox', 'informationbox openfirst', 'openfirst step2', 'step2 sub', 'sub informationbox', 'informationbox openfirst', 'openfirst step3', 'step3 sub', 'sub informationbox', 'informationbox openfirst', 'openfirst step4', 'act processingact', 'processingact securitymeasur', 'securitymeasur sidepanel', 'sidepanel add', 'act processingact', 'processingact approv', 'approv act', 'act processingact', 'processingact new', 'new administr', 'administr act', 'act processingact', 'processingact new', 'new processown', 'processown act', 'act processingact', 'processingact submit', 'submit fromwizardhead', 'fromwizardhead home', 'home home', 'home processown', 'processown sub', 'sub sendemail', 'sendemail sub', 'sub sendemail', 'sendemail activityapprov', 'activityapprov sub', 'sub sendemail', 'sendemail activityreject', 'act processingact', 'processingact approv', 'approv administr', 'administr overview', 'overview emailadministr', 'emailadministr overview', 'overview home', 'home sub', 'sub sendemail', 'sendemail activityapprov', 'activityapprov sub', 'sub sendemail', 'sendemail activityreject', 'activityreject snip', 'snip activitydetailhead', 'act legalbasisassign', 'legalbasisassign remov', 'remov act', 'act processingact', 'processingact datacategoryassign', 'datacategoryassign delet', 'delet act', 'act processingact', 'processingact datasubject', 'datasubject remov', 'remov act', 'act processingact', 'processingact processor', 'processor remov', 'remov act', 'act processingact', 'processingact receiv', 'receiv remov', 'remov act', 'act processingact', 'processingact securitymeasur', 'securitymeasur remov', 'remov act', 'act processingact', 'processingact sidepanel', 'sidepanel close', 'close act', 'act receiv', 'receiv save', 'save ds', 'ds layouthelp', 'layouthelp step1', 'step1 ds', 'ds layouthelp', 'layouthelp step2', 'step2 ds', 'ds layouthelp', 'layouthelp step3', 'step3 ds', 'ds layouthelp', 'layouthelp step4', 'step4 och', 'och processingact', 'processingact refresh', 'refresh och', 'och refreshregionselect', 'refreshregionselect processingact', 'processingact form', 'form step1', 'step1 processingact', 'processingact form', 'form step2', 'act messag', 'messag add', 'add act', 'act messag', 'messag markasunread', 'markasunread act', 'act messag', 'messag submit', 'submit snip', 'snip messag', 'messag listitem', 'listitem snip', 'snip navig', 'act processingact', 'processingact approv', 'approv act', 'act processingact', 'processingact reject', 'reject sendingen', 'act processingact', 'processingact reject', 'act processingact', 'processingact approv', 'approv act', 'act processingact', 'processingact reject', 'act processingact', 'processingact approv', 'approv act', 'act processingact', 'processingact reject', 'act processingact', 'processingact approv', 'approv act', 'act processingact', 'processingact edit', 'edit processown', 'processown act', 'act processingact', 'processingact feedback', 'feedback act', 'act processingact', 'processingact new', 'new administr', 'administr act', 'act processingact', 'processingact new', 'new processown', 'processown act', 'act processingact', 'processingact reject', 'reject asu', 'asu templat', 'templat creat', 'creat action', 'action administr', 'administr overview', 'overview afterstartup', 'afterstartup approvereject', 'approvereject decrypt', 'decrypt emailadministr', 'emailadministr overview', 'overview emailupd', 'emailupd encryptionkey', 'encryptionkey enum', 'enum statu', 'statu home', 'home home', 'home processown', 'processown ivk', 'ivk sendemail', 'sendemail lognod', 'lognod mxobject', 'mxobject processingact', 'processingact feedback', 'feedback processingact', 'processingact view', 'view sub', 'sub informationbox', 'informationbox checkandcr', 'checkandcr sub', 'sub sendemail', 'sendemail sub', 'sub sendemail', 'sendemail activityapprov', 'activityapprov sub', 'sub sendemail', 'sendemail activityreject', 'activityreject sendingen', 'sendingen snip', 'snip activitydetailhead', 'activitydetailhead snip', 'snip wizardhead', 'wizardhead readm', 'act processingact', 'processingact approv', 'approv act', 'act processingact', 'processingact edit', 'edit processown', 'processown act', 'act processingact', 'processingact feedback', 'feedback act', 'act processingact', 'processingact new', 'new administr', 'administr act', 'act processingact', 'processingact new', 'new processown', 'processown act', 'act processingact', 'processingact reject', 'reject asu', 'asu templat', 'templat creat', 'creat action', 'action administr', 'administr overview', 'overview afterstartup', 'afterstartup approvereject', 'approvereject decrypt', 'decrypt emailadministr', 'emailadministr overview', 'overview emailupd', 'emailupd encryptionkey', 'encryptionkey enum', 'enum statu', 'statu home', 'home home', 'home processown', 'processown ivk', 'ivk sendemail', 'sendemail lognod', 'lognod mxobject', 'mxobject processingact', 'processingact feedback', 'feedback processingact', 'processingact view', 'view sub', 'sub informationbox', 'informationbox checkandcr', 'checkandcr sub', 'sub sendemail', 'sendemail sub', 'sub sendemail', 'sendemail activityapprov', 'activityapprov sub', 'sub sendemail', 'sendemail activityreject', 'activityreject sendingen', 'sendingen snip', 'snip activitydetailhead', 'activitydetailhead snip', 'snip wizardhead', 'wizardhead readm', 'act processingact', 'processingact approv', 'approv act', 'act processingact', 'processingact new', 'new administr', 'administr act', 'act processingact', 'processingact reject', 'reject act', 'act processingact', 'processingact submitinvalid', 'submitinvalid act', 'act processingact', 'processingact submit', 'submit fromstep4', 'fromstep4 act', 'act processingact', 'processingact submit', 'submit fromwizardhead', 'fromwizardhead home', 'home processown', 'act processingact', 'processingact new', 'new processown', 'act informationbox', 'informationbox open', 'open businessprocessnam', 'businessprocessnam act', 'act informationbox', 'informationbox open', 'open datacategori', 'datacategori act', 'act informationbox', 'informationbox open', 'open datacontrol', 'datacontrol act', 'act informationbox', 'informationbox open', 'open datasubject', 'datasubject act', 'act informationbox', 'informationbox open', 'open jointdatacontrol', 'jointdatacontrol act', 'act informationbox', 'informationbox open', 'open legalbasi', 'legalbasi act', 'act informationbox', 'informationbox open', 'open legitimateinterestcom', 'legitimateinterestcom act', 'act informationbox', 'informationbox open', 'open methodofexercisingright', 'methodofexercisingright act', 'act informationbox', 'informationbox open', 'open methodofnotif', 'methodofnotif act', 'act informationbox', 'informationbox open', 'open processor', 'processor act', 'act informationbox', 'informationbox open', 'open profil', 'profil act', 'act informationbox', 'informationbox open', 'open purposeofprocess', 'purposeofprocess act', 'act informationbox', 'informationbox open', 'open receiv', 'receiv act', 'act informationbox', 'informationbox open', 'open retentionperiod', 'retentionperiod act', 'act informationbox', 'informationbox open', 'open securitymeasur', 'securitymeasur act', 'act informationbox', 'informationbox open', 'open sensitivedata', 'sensitivedata act', 'act informationbox', 'informationbox save', 'save act', 'act legalbasisassign', 'legalbasisassign remov', 'remov act', 'act processingact', 'processingact datacategoryassign', 'datacategoryassign delet', 'delet act', 'act processingact', 'processingact datasubject', 'datasubject remov', 'remov act', 'act processingact', 'processingact new', 'new administr', 'administr act', 'act processingact', 'processingact processor', 'processor remov', 'remov act', 'act processingact', 'processingact receiv', 'receiv remov', 'remov act', 'act processingact', 'processingact securitymeasur', 'securitymeasur remov', 'remov act', 'act processingact', 'processingact securitymeasur', 'securitymeasur sidepanel', 'sidepanel add', 'add act', 'act processingact', 'processingact sidepanel', 'sidepanel close', 'close act', 'act receiv', 'receiv save', 'save ds', 'ds layouthelp', 'layouthelp step1', 'step1 ds', 'ds layouthelp', 'layouthelp step2', 'step2 ds', 'ds layouthelp', 'layouthelp step3', 'step3 ds', 'ds layouthelp', 'layouthelp step4', 'step4 differ', 'differ inform', 'inform informationbox', 'informationbox newedit', 'newedit move', 'move och', 'och processingact', 'processingact refresh', 'refresh och', 'och refreshregionselect', 'refreshregionselect page', 'page processingact', 'processingact form', 'form step1', 'step1 processingact', 'processingact form', 'form step2', 'step2 processingact', 'processingact form', 'form step3', 'step3 processingact', 'processingact form', 'form step4', 'step4 sub', 'sub informationbox', 'informationbox closeal', 'closeal sub', 'sub informationbox', 'informationbox linkandcloseal', 'linkandcloseal sub', 'sub informationbox', 'informationbox openfirst', 'openfirst step1', 'step1 sub', 'sub informationbox', 'informationbox openfirst', 'openfirst step2', 'step2 sub', 'sub informationbox', 'informationbox openfirst', 'openfirst step3', 'step3 sub', 'sub informationbox', 'informationbox openfirst', 'openfirst step4', 'act informationbox', 'informationbox open', 'open businessprocessnam', 'businessprocessnam act', 'act informationbox', 'informationbox open', 'open datacategori', 'datacategori act', 'act informationbox', 'informationbox open', 'open datacontrol', 'datacontrol act', 'act informationbox', 'informationbox open', 'open datasubject', 'datasubject act', 'act informationbox', 'informationbox open', 'open jointdatacontrol', 'jointdatacontrol act', 'act informationbox', 'informationbox open', 'open legalbasi', 'legalbasi act', 'act informationbox', 'informationbox open', 'open legitimateinterestcom', 'legitimateinterestcom act', 'act informationbox', 'informationbox open', 'open methodofexercisingright', 'methodofexercisingright act', 'act informationbox', 'informationbox open', 'open methodofnotif', 'methodofnotif act', 'act informationbox', 'informationbox open', 'open processor', 'processor act', 'act informationbox', 'informationbox open', 'open profil', 'profil act', 'act informationbox', 'informationbox open', 'open purposeofprocess', 'purposeofprocess act', 'act informationbox', 'informationbox open', 'open receiv', 'receiv act', 'act informationbox', 'informationbox open', 'open retentionperiod', 'retentionperiod act', 'act informationbox', 'informationbox open', 'open securitymeasur', 'securitymeasur act', 'act informationbox', 'informationbox open', 'open sensitivedata', 'sensitivedata act', 'act informationbox', 'informationbox save', 'save act', 'act legalbasisassign', 'legalbasisassign remov', 'remov act', 'act processingact', 'processingact approv', 'approv act', 'act processingact', 'processingact datacategoryassign', 'datacategoryassign delet', 'delet act', 'act processingact', 'processingact datasubject', 'datasubject remov', 'remov act', 'act processingact', 'processingact edit', 'edit processown', 'processown act', 'act processingact', 'processingact feedback', 'feedback act', 'act processingact', 'processingact new', 'new administr', 'administr act', 'act processingact', 'processingact new', 'new processown', 'processown act', 'act processingact', 'processingact processor', 'processor remov', 'remov act', 'act processingact', 'processingact receiv', 'receiv remov', 'remov act', 'act processingact', 'processingact reject', 'reject act', 'act processingact', 'processingact securitymeasur', 'securitymeasur remov', 'remov act', 'act processingact', 'processingact securitymeasur', 'securitymeasur sidepanel', 'sidepanel add', 'add act', 'act processingact', 'processingact sidepanel', 'sidepanel close', 'close act', 'act processingact', 'processingact submitinvalid', 'submitinvalid act', 'act processingact', 'processingact submit', 'submit fromstep4', 'fromstep4 act', 'act processingact', 'processingact submit', 'submit fromwizardhead', 'fromwizardhead act', 'act receiv', 'receiv save', 'save asu', 'asu templat', 'templat creat', 'creat action', 'action administr', 'administr overview', 'overview afterstartup', 'afterstartup approvereject', 'approvereject ds', 'ds layouthelp', 'layouthelp step1', 'step1 ds', 'ds layouthelp', 'layouthelp step2', 'step2 ds', 'ds layouthelp', 'layouthelp step3', 'step3 ds', 'ds layouthelp', 'layouthelp step4', 'step4 decrypt', 'decrypt differ', 'differ emailadministr', 'emailadministr overview', 'overview emailupd', 'emailupd encryptionkey', 'encryptionkey enum', 'enum statu', 'statu home', 'home home', 'home processown', 'processown ivk', 'ivk sendemail', 'sendemail inform', 'inform informationbox', 'informationbox newedit', 'newedit lognod', 'lognod move', 'move mxobject', 'mxobject och', 'och processingact', 'processingact refresh', 'refresh och', 'och refreshregionselect', 'refreshregionselect page', 'page processingact', 'processingact feedback', 'feedback processingact', 'processingact form', 'form step1', 'step1 processingact', 'processingact form', 'form step2', 'step2 processingact', 'processingact form', 'form step3', 'step3 processingact', 'processingact form', 'form step4', 'step4 processingact', 'processingact view', 'view sub', 'sub informationbox', 'informationbox checkandcr', 'checkandcr sub', 'sub informationbox', 'informationbox closeal', 'closeal sub', 'sub informationbox', 'informationbox linkandcloseal', 'linkandcloseal sub', 'sub informationbox', 'informationbox openfirst', 'openfirst step1', 'step1 sub', 'sub informationbox', 'informationbox openfirst', 'openfirst step2', 'step2 sub', 'sub informationbox', 'informationbox openfirst', 'openfirst step3', 'step3 sub', 'sub informationbox', 'informationbox openfirst', 'openfirst step4', 'step4 sub', 'sub sendemail', 'sendemail sub', 'sub sendemail', 'sendemail activityapprov', 'activityapprov sub', 'sub sendemail', 'sendemail activityreject', 'activityreject sendingen', 'sendingen snip', 'snip activitydetailhead', 'activitydetailhead snip', 'snip wizardhead', 'readm box', 'act processingact', 'processingact approv', 'approv act', 'act processingact', 'processingact new', 'new processown', 'processown act', 'act processingact', 'processingact reject', 'reject act', 'act showdevpopup', 'showdevpopup ds', 'ds account', 'account getcurr', 'getcurr ds', 'ds personalprefer', 'personalprefer getorcr', 'getorcr sendingen', 'sendingen readm', 'act informationbox', 'informationbox open', 'open businessprocessnam', 'businessprocessnam act', 'act informationbox', 'informationbox open', 'open datacategori', 'datacategori act', 'act informationbox', 'informationbox open', 'open datacontrol', 'datacontrol act', 'act informationbox', 'informationbox open', 'open datasubject', 'datasubject act', 'act informationbox', 'informationbox open', 'open jointdatacontrol', 'jointdatacontrol act', 'act informationbox', 'informationbox open', 'open legalbasi', 'legalbasi act', 'act informationbox', 'informationbox open', 'open legitimateinterestcom', 'legitimateinterestcom act', 'act informationbox', 'informationbox open', 'open methodofexercisingright', 'methodofexercisingright act', 'act informationbox', 'informationbox open', 'open methodofnotif', 'methodofnotif act', 'act informationbox', 'informationbox open', 'open processor', 'processor act', 'act informationbox', 'informationbox open', 'open profil', 'profil act', 'act informationbox', 'informationbox open', 'open purposeofprocess', 'purposeofprocess act', 'act informationbox', 'informationbox open', 'open receiv', 'receiv act', 'act informationbox', 'informationbox open', 'open retentionperiod', 'retentionperiod act', 'act informationbox', 'informationbox open', 'open securitymeasur', 'securitymeasur act', 'act informationbox', 'informationbox open', 'open sensitivedata', 'sensitivedata act', 'act informationbox', 'informationbox save', 'save act', 'act legalbasisassign', 'legalbasisassign remov', 'remov act', 'act messag', 'messag add', 'add act', 'act messag', 'messag approv', 'approv act', 'act messag', 'messag reject', 'reject act', 'act messag', 'messag submit', 'submit act', 'act processingact', 'processingact approv', 'approv act', 'act processingact', 'processingact datacategoryassign', 'datacategoryassign delet', 'delet act', 'act processingact', 'processingact datasubject', 'datasubject remov', 'remov act', 'act processingact', 'processingact new', 'new administr', 'administr act', 'act processingact', 'processingact new', 'new processown', 'processown act', 'act processingact', 'processingact processor', 'processor remov', 'remov act', 'act processingact', 'processingact receiv', 'receiv remov', 'remov act', 'act processingact', 'processingact reject', 'reject act', 'act processingact', 'processingact securitymeasur', 'securitymeasur remov', 'remov act', 'act processingact', 'processingact securitymeasur', 'securitymeasur sidepanel', 'sidepanel add', 'add act', 'act processingact', 'processingact sidepanel', 'sidepanel close', 'close act', 'act receiv', 'receiv save', 'save ds', 'ds layouthelp', 'layouthelp step1', 'step1 ds', 'ds layouthelp', 'layouthelp step2', 'step2 ds', 'ds layouthelp', 'layouthelp step3', 'step3 ds', 'ds layouthelp', 'layouthelp step4', 'step4 differ', 'differ home', 'home processown', 'processown inform', 'inform informationbox', 'informationbox newedit', 'newedit move', 'move och', 'och processingact', 'processingact refresh', 'refresh och', 'och refreshregionselect', 'refreshregionselect page', 'page processingact', 'processingact form', 'form step1', 'step1 processingact', 'processingact form', 'form step2', 'step2 processingact', 'processingact form', 'form step3', 'step3 processingact', 'processingact form', 'form step4', 'step4 sub', 'sub informationbox', 'informationbox closeal', 'closeal sub', 'sub informationbox', 'informationbox linkandcloseal', 'linkandcloseal sub', 'sub informationbox', 'informationbox openfirst', 'openfirst step1', 'step1 sub', 'sub informationbox', 'informationbox openfirst', 'openfirst step2', 'step2 sub', 'sub informationbox', 'informationbox openfirst', 'openfirst step3', 'step3 sub', 'sub informationbox', 'informationbox openfirst', 'openfirst step4', 'act processingact', 'processingact new', 'new processown', 'act messag', 'messag deleteallforprivacymanag', 'deleteallforprivacymanag act', 'act processingact', 'processingact approv', 'approv act', 'act processingact', 'processingact messageredirect', 'messageredirect act', 'act processingact', 'processingact reject', 'act processingact', 'processingact submit', 'submit fromstep4', 'fromstep4 ds', 'ds display', 'act messag', 'messag delet', 'delet act', 'act messag', 'messag markallasread', 'markallasread act', 'act messag', 'messag markasread', 'markasread ds', 'ds display', 'display microflow', 'microflow sub', 'sub display', 'display refresh', 'refresh snip', 'snip navig', 'act processingact', 'processingact approv', 'approv act', 'act processingact', 'processingact new', 'new processown', 'processown act', 'act processingact', 'processingact reject', 'reject act', 'act showdevpopup', 'showdevpopup ds', 'ds account', 'account getcurr', 'getcurr ds', 'ds personalprefer', 'personalprefer getorcr', 'getorcr home', 'home processown', 'processown imag', 'imag collect', 'collect sendingen', 'sendingen snip', 'snip wizardhead', 'wizardhead readm', 'act processingact', 'processingact receiv', 'receiv remov', 'remov act', 'act receiv', 'receiv save', 'act messag', 'messag add', 'add act', 'act messag', 'messag approv', 'approv act', 'act messag', 'messag markasunread', 'markasunread act', 'act messag', 'messag reject', 'reject act', 'act messag', 'messag submit', 'submit act', 'act processingact', 'processingact messageredirect', 'messageredirect act', 'act processingact', 'processingact submitinvalid', 'submitinvalid act', 'act processingact', 'processingact submit', 'submit fromstep4', 'fromstep4 act', 'act processingact', 'processingact submit', 'submit fromwizardhead', 'fromwizardhead snip', 'snip messag', 'messag listitem', 'snip messag', 'messag listitem', 'act messag', 'messag add', 'add 2', '2 act', 'act messag', 'messag deleteal', 'deleteal act', 'act messag', 'messag send', 'send administr', 'administr configur', 'configur overview', 'overview messag', 'messag newedit', 'newedit notfic', 'notfic overview', 'overview snip', 'snip notif', 'notif administr', 'administr user', 'user select', 'act processingact', 'processingact approv', 'approv act', 'act processingact', 'processingact reject', 'act messag', 'messag add', 'add act', 'act messag', 'messag approv', 'approv act', 'act messag', 'messag reject', 'reject act', 'act messag', 'messag submit', 'act messag', 'messag add', 'add act', 'act messag', 'messag approv', 'approv act', 'act messag', 'messag reject', 'reject act', 'act messag', 'messag submit', '100 act', 'act display', 'display getorcr', 'getorcr act', 'act display', 'display show', 'show act', 'act messag', 'messag add', 'add act', 'act messag', 'messag approv', 'approv act', 'act messag', 'messag creat', 'creat act', 'act messag', 'messag delet', 'delet act', 'act messag', 'messag deleteallforprivacymanag', 'deleteallforprivacymanag act', 'act messag', 'messag markallasread', 'markallasread act', 'act messag', 'messag markasread', 'markasread act', 'act messag', 'messag markasunread', 'markasunread act', 'act messag', 'messag reject', 'reject act', 'act messag', 'messag submit', 'submit act', 'act processingact', 'processingact approv', 'approv act', 'act processingact', 'processingact messageredirect', 'messageredirect act', 'act processingact', 'processingact reject', 'reject act', 'act processingact', 'processingact submitinvalid', 'submitinvalid act', 'act processingact', 'processingact submit', 'submit fromstep4', 'fromstep4 act', 'act processingact', 'processingact submit', 'submit fromwizardhead', 'fromwizardhead act', 'act receiv', 'receiv save', 'save appset', 'appset overview', 'overview atla', 'atla topbar', 'topbar atla', 'atla topbar', 'topbar master', 'master bell', 'bell atla', 'atla topbar', 'topbar bgwhite', 'bgwhite atla', 'atla twosidecont', 'twosidecont fullwidget', 'fullwidget cal', 'cal display', 'display unreadnotif', 'unreadnotif ds', 'ds display', 'display display', 'display emailadministr', 'emailadministr overview', 'overview lognod', 'lognod manag', 'manag menu', 'menu messag', 'messag mxobject', 'mxobject overview', 'overview myprofil', 'myprofil view', 'view notif', 'notif privat', 'privat processingact', 'processingact view', 'view samlconfigur', 'samlconfigur overview', 'overview se', 'se messag', 'messag delet', 'delet se', 'se messag', 'messag deleteal', 'deleteal sub', 'sub display', 'display refresh', 'refresh send', 'send sendingen', 'sendingen snip', 'snip messag', 'messag listitem', 'listitem snip', 'snip navig', 'navig snip', 'snip wizardhead', 'wizardhead snippet', 'snippet view', 'view doc', 'doc readm', 'readm resourc', 'resourc use', 'act processingact', 'processingact processown', 'processown edit', 'edit act', 'act processingact', 'processingact submitinvalid', 'submitinvalid act', 'act processingact', 'processingact submit', 'submit fromstep4', 'fromstep4 act', 'act processingact', 'processingact submit', 'submit fromwizardhead', 'fromwizardhead home', 'home processown', 'processown processingact', 'processingact form', 'form step4', 'step4 snip', 'snip wizardhead', 'act appset', 'appset save', 'save act', 'act counter', 'counter creat', 'creat act', 'act counter', 'counter updat', 'updat act', 'act processingact', 'processingact approv', 'approv act', 'act processingact', 'processingact backbutton', 'backbutton act', 'act processingact', 'processingact edit', 'edit act', 'act processingact', 'processingact feedback', 'feedback act', 'act processingact', 'processingact messageredirect', 'messageredirect act', 'act processingact', 'processingact openview', 'openview act', 'act processingact', 'processingact reject', 'reject act', 'act processingact', 'processingact submitinvalid', 'submitinvalid act', 'act processingact', 'processingact submit', 'submit fromstep4', 'fromstep4 act', 'act processingact', 'processingact submit', 'submit fromwizardhead', 'fromwizardhead act', 'act showdevpopup', 'showdevpopup activ', 'activ administr', 'administr overview', 'overview appset', 'appset overview', 'overview atla', 'atla topbar', 'topbar bgwhite', 'bgwhite nohead', 'nohead configuratoremail', 'configuratoremail ds', 'ds account', 'account getcurr', 'getcurr ds', 'ds datacategoryassign', 'datacategoryassign pass', 'pass ds', 'ds personalprefer', 'personalprefer getorcr', 'getorcr ds', 'ds processingact', 'processingact legalbasisassign', 'legalbasisassign ds', 'ds processorassign', 'processorassign safeguard', 'safeguard detail', 'detail home', 'home home', 'home processown', 'processown personalprefer', 'personalprefer view', 'view process', 'process processingact', 'processingact view', 'view processingact', 'processingact viewnew', 'viewnew sendingen', 'sendingen snip', 'snip activitydetailhead', 'activitydetailhead wizard', 'act processingact', 'processingact approv', 'approv act', 'act processingact', 'processingact edit', 'edit processown', 'processown act', 'act processingact', 'processingact edit', 'edit processown', 'processown salma', 'salma act', 'act processingact', 'processingact processown', 'processown edit', 'edit act', 'act processingact', 'processingact revisedvers', 'revisedvers act', 'act processingact', 'processingact submit', 'submit fromwizardhead', 'fromwizardhead home', 'home home', 'home processown', 'act open', 'open editpag', 'editpag administr', 'administr configur', 'configur overview', 'overview ds', 'ds datacategori', 'datacategori processingact', 'processingact searchsort', 'searchsort ds', 'ds datacontrol', 'datacontrol processingact', 'processingact searchsort', 'searchsort ds', 'ds datasubject', 'datasubject processingact', 'processingact searchsort', 'searchsort ds', 'ds legalbasi', 'legalbasi datacategori', 'datacategori searchsort', 'searchsort ds', 'ds legalbasi', 'legalbasi processingact', 'processingact searchsort', 'searchsort ds', 'ds processor', 'processor processingact', 'processingact searchsort', 'searchsort ds', 'ds processor', 'processor safeguard', 'safeguard searchsort', 'searchsort ds', 'ds safeguard', 'safeguard processingact', 'processingact searchsort', 'searchsort ds', 'ds safeguard', 'safeguard processor', 'processor searchsort', 'searchsort ds', 'ds securitymeasur', 'securitymeasur processingact', 'processingact searchsort', 'searchsort datacategori', 'datacategori overview', 'overview datacategori', 'datacategori view', 'view datacontrol', 'datacontrol overview', 'overview datacontrol', 'datacontrol view', 'view datasubject', 'datasubject overview', 'overview datasubject', 'datasubject view', 'view feedbackwidget', 'feedbackwidget home', 'home processown', 'processown legalbasi', 'legalbasi overview', 'overview legalbasi', 'legalbasi view', 'view processingact', 'processingact viewnew', 'viewnew processor', 'processor view', 'view safeguard', 'safeguard newedit', 'newedit safeguard', 'safeguard overview', 'overview safeguard', 'safeguard view', 'view securitymeasur', 'securitymeasur overview', 'overview securitymeasur', 'securitymeasur view', 'integr overview', 'overview otf', 'otf processingact', 'ds depart', 'depart processingact', 'processingact searchsort', 'searchsort ds', 'ds processact', 'processact datasubject', 'datasubject onestr', 'onestr ds', 'ds processown', 'processown processingact', 'processingact searchsort', 'searchsort datacategori', 'datacategori view', 'view datacontrol', 'datacontrol view', 'view datasubject', 'datasubject view', 'view depart', 'depart overview', 'overview depart', 'depart view', 'view home', 'home processown', 'processown legalbasi', 'legalbasi view', 'view processown', 'processown overview', 'overview processown', 'processown view', 'view processor', 'processor view', 'view safeguard', 'safeguard view', 'view securitymeasur', 'securitymeasur view', 'act processingact', 'processingact datasubject', 'datasubject sidepanel', 'sidepanel add', 'add act', 'act sidebar', 'sidebar close', 'act processingact', 'processingact datacategori', 'datacategori sidepanel', 'sidepanel add', 'add act', 'act processingact', 'processingact datacategori', 'datacategori sidepanel', 'sidepanel open', 'open act', 'act processingact', 'processingact datasubject', 'datasubject sidepanel', 'sidepanel add', 'add act', 'act processingact', 'processingact datasubject', 'datasubject sidepanel', 'sidepanel open', 'open act', 'act processingact', 'processingact legalbasi', 'legalbasi sidepanel', 'sidepanel add', 'add act', 'act processingact', 'processingact legalbasi', 'legalbasi sidepanel', 'sidepanel open', 'open act', 'act processingact', 'processingact processor', 'processor sidepanel', 'sidepanel add', 'add act', 'act processingact', 'processingact processor', 'processor sidepanel', 'sidepanel open', 'open act', 'act processingact', 'processingact safeguard', 'safeguard sidepanel', 'sidepanel add', 'add act', 'act processingact', 'processingact safeguard', 'safeguard sidepanel', 'sidepanel open', 'open act', 'act processingact', 'processingact securitymeasur', 'securitymeasur sidepanel', 'sidepanel add', 'add act', 'act processingact', 'processingact securitymeasur', 'securitymeasur sidepanel', 'sidepanel open', 'open act', 'act processingact', 'processingact sidepanel', 'sidepanel close', 'close act', 'act processor', 'processor creat', 'creat act', 'act processor', 'processor save', 'save ds', 'ds layouthelp', 'layouthelp retrieveorcr', 'retrieveorcr emptysearch', 'emptysearch ds', 'ds layouthelp', 'layouthelp step1', 'step1 ds', 'ds layouthelp', 'layouthelp step2', 'step2 ds', 'ds layouthelp', 'layouthelp step3', 'step3 ds', 'ds layouthelp', 'layouthelp step4', 'step4 ds', 'ds processingact', 'processingact safeguard', 'safeguard select', 'select datacategori', 'datacategori sidepanel', 'sidepanel datacategori', 'datacategori view', 'view datacontrol', 'datacontrol view', 'view datasubject', 'datasubject view', 'view datasubject', 'datasubject sidepanel', 'sidepanel depart', 'depart view', 'view home', 'home legalbasi', 'legalbasi sidepanel', 'sidepanel legalbasi', 'legalbasi view', 'view processingact', 'processingact form', 'form step1', 'step1 processingact', 'processingact form', 'form step2', 'step2 processingact', 'processingact form', 'form step3', 'step3 processingact', 'processingact form', 'form step4', 'step4 processingact', 'processingact viewnew', 'viewnew processor', 'processor sidepanel', 'sidepanel processor', 'processor view', 'view safeguard', 'safeguard sidepanel', 'sidepanel safeguard', 'safeguard view', 'view securitymeasur', 'securitymeasur sidepanel', 'sidepanel securitymeasur', 'securitymeasur view', 'processown view', 'act faq', 'faq retrievecategori', 'atla topbar', 'topbar bgwhite', 'bgwhite nohead', 'nohead ds', 'ds faq', 'faq createsearcherandfilt', 'createsearcherandfilt ds', 'ds layouthelp', 'layouthelp retrieveorcr', 'retrieveorcr faq', 'faq home', 'home och', 'och layouthelp', 'layouthelp refresh', 'processingact form', 'form step1', 'step1 processingact', 'processingact form', 'form step2', 'step2 processingact', 'processingact form', 'form step3', 'step3 processingact', 'processingact form', 'form step4', 'processingact form', 'form step2', 'faq home', 'home faq', 'faq newedit', 'act processingact', 'processingact edit', 'edit processown', 'processown home', 'home home', 'home processown', 'act processingact', 'processingact messageredirect', 'messageredirect ds', 'ds depart', 'depart processingact', 'processingact searchsort', 'searchsort ds', 'ds processown', 'processown processingact', 'processingact searchsort', 'act processingact', 'processingact edit', 'edit ds', 'ds datacategori', 'datacategori processingact', 'processingact searchsort', 'searchsort ds', 'ds datacontrol', 'datacontrol processingact', 'processingact searchsort', 'searchsort ds', 'ds datasubject', 'datasubject processingact', 'processingact searchsort', 'searchsort ds', 'ds depart', 'depart processingact', 'processingact searchsort', 'searchsort ds', 'ds legalbasi', 'legalbasi processingact', 'processingact searchsort', 'searchsort ds', 'ds safeguard', 'safeguard processingact', 'processingact searchsort', 'searchsort ds', 'ds securitymeasur', 'securitymeasur processingact', 'processingact searchsort', 'searchsort processingact', 'processingact form', 'form step1', 'act messag', 'messag approv', 'approv act', 'act messag', 'messag deleteallforprivacymanag', 'deleteallforprivacymanag act', 'act messag', 'messag reject', 'reject act', 'act messag', 'messag submit', 'submit act', 'act processingact', 'processingact datasubject', 'datasubject sidepanel', 'sidepanel open', 'open act', 'act processingact', 'processingact newstep', 'newstep cancel', 'cancel act', 'act processingact', 'processingact processor', 'processor sidepanel', 'sidepanel open', 'open act', 'act processingact', 'processingact reject', 'reject act', 'act processingact', 'processingact securitymeasur', 'securitymeasur sidepanel', 'sidepanel open', 'open sub', 'sub processingact', 'processingact allstep', 'allstep save', 'categori newedit', 'newedit faq', 'faq newedit', 'faq lognod', 'faq home', 'categori newedit', 'newedit faq', 'faq home', 'home faq', 'faq newedit', 'faq home', 'ds faq', 'faq createsearcherandfilt', 'faq home', 'ds processown', 'processown processingact', 'processingact searchsort', 'act appset', 'appset save', 'save act', 'act counter', 'counter creat', 'creat act', 'act counter', 'counter updat', 'updat act', 'act messag', 'messag approv', 'approv act', 'act messag', 'messag deleteallforprivacymanag', 'deleteallforprivacymanag act', 'act messag', 'messag reject', 'reject act', 'act messag', 'messag submit', 'submit act', 'act open', 'open editpag', 'editpag act', 'act processingact', 'processingact approv', 'approv act', 'act processingact', 'processingact backbutton', 'backbutton act', 'act processingact', 'processingact datacategori', 'datacategori sidepanel', 'sidepanel add', 'add act', 'act processingact', 'processingact datacategori', 'datacategori sidepanel', 'sidepanel open', 'open act', 'act processingact', 'processingact datasubject', 'datasubject sidepanel', 'sidepanel add', 'add act', 'act processingact', 'processingact datasubject', 'datasubject sidepanel', 'sidepanel open', 'open act', 'act processingact', 'processingact edit', 'edit act', 'act processingact', 'processingact feedback', 'feedback act', 'act processingact', 'processingact legalbasi', 'legalbasi sidepanel', 'sidepanel add', 'add act', 'act processingact', 'processingact legalbasi', 'legalbasi sidepanel', 'sidepanel open', 'open act', 'act processingact', 'processingact messageredirect', 'messageredirect act', 'act processingact', 'processingact newstep', 'newstep cancel', 'cancel act', 'act processingact', 'processingact openview', 'openview act', 'act processingact', 'processingact processor', 'processor sidepanel', 'sidepanel add', 'add act', 'act processingact', 'processingact processor', 'processor sidepanel', 'sidepanel open', 'open act', 'act processingact', 'processingact reject', 'reject act', 'act processingact', 'processingact safeguard', 'safeguard sidepanel', 'sidepanel add', 'add act', 'act processingact', 'processingact safeguard', 'safeguard sidepanel', 'sidepanel open', 'open act', 'act processingact', 'processingact securitymeasur', 'securitymeasur sidepanel', 'sidepanel add', 'add act', 'act processingact', 'processingact securitymeasur', 'securitymeasur sidepanel', 'sidepanel open', 'open act', 'act processingact', 'processingact sidepanel', 'sidepanel close', 'close act', 'act processingact', 'processingact submitinvalid', 'submitinvalid act', 'act processingact', 'processingact submit', 'submit fromstep4', 'fromstep4 act', 'act processingact', 'processingact submit', 'submit fromwizardhead', 'fromwizardhead act', 'act processor', 'processor creat', 'creat act', 'act processor', 'processor save', 'save act', 'act showdevpopup', 'showdevpopup activ', 'activ administr', 'administr overview', 'overview administr', 'administr configur', 'configur overview', 'overview appset', 'appset overview', 'overview atla', 'atla topbar', 'topbar bgwhite', 'bgwhite nohead', 'nohead configuratoremail', 'configuratoremail ds', 'ds account', 'account getcurr', 'getcurr ds', 'ds datacategoryassign', 'datacategoryassign pass', 'pass ds', 'ds datacategori', 'datacategori processingact', 'processingact searchsort', 'searchsort ds', 'ds datacontrol', 'datacontrol processingact', 'processingact searchsort', 'searchsort ds', 'ds datasubject', 'datasubject processingact', 'processingact searchsort', 'searchsort ds', 'ds depart', 'depart processingact', 'processingact searchsort', 'searchsort ds', 'ds layouthelp', 'layouthelp retrieveorcr', 'retrieveorcr emptysearch', 'emptysearch ds', 'ds layouthelp', 'layouthelp step1', 'step1 ds', 'ds layouthelp', 'layouthelp step2', 'step2 ds', 'ds layouthelp', 'layouthelp step3', 'step3 ds', 'ds layouthelp', 'layouthelp step4', 'step4 ds', 'ds legalbasi', 'legalbasi datacategori', 'datacategori searchsort', 'searchsort ds', 'ds legalbasi', 'legalbasi processingact', 'processingact searchsort', 'searchsort ds', 'ds personalprefer', 'personalprefer getorcr', 'getorcr ds', 'ds processact', 'processact datasubject', 'datasubject onestr', 'onestr ds', 'ds processown', 'processown processingact', 'processingact searchsort', 'searchsort ds', 'ds processingact', 'processingact legalbasisassign', 'legalbasisassign ds', 'ds processingact', 'processingact safeguard', 'safeguard select', 'select ds', 'ds processorassign', 'processorassign safeguard', 'safeguard ds', 'ds processor', 'processor processingact', 'processingact searchsort', 'searchsort ds', 'ds processor', 'processor safeguard', 'safeguard searchsort', 'searchsort ds', 'ds safeguard', 'safeguard processingact', 'processingact searchsort', 'searchsort ds', 'ds safeguard', 'safeguard processor', 'processor searchsort', 'searchsort ds', 'ds securitymeasur', 'securitymeasur processingact', 'processingact searchsort', 'searchsort datacategori', 'datacategori overview', 'overview datacategori', 'datacategori sidepanel', 'sidepanel datacategori', 'datacategori view', 'view datacontrol', 'datacontrol overview', 'overview datacontrol', 'datacontrol view', 'view datasubject', 'datasubject overview', 'overview datasubject', 'datasubject view', 'view datasubject', 'datasubject sidepanel', 'sidepanel depart', 'depart overview', 'overview depart', 'depart view', 'view detail', 'detail feedbackwidget', 'feedbackwidget home', 'home home', 'home processown', 'processown legalbasi', 'legalbasi overview', 'overview legalbasi', 'legalbasi sidepanel', 'sidepanel legalbasi', 'legalbasi view', 'view personalprefer', 'personalprefer view', 'view processown', 'processown overview', 'overview processown', 'processown view', 'view process', 'process processingact', 'processingact form', 'form step1', 'step1 processingact', 'processingact form', 'form step2', 'step2 processingact', 'processingact form', 'form step3', 'step3 processingact', 'processingact form', 'form step4', 'step4 processingact', 'processingact view', 'view processingact', 'processingact viewnew', 'viewnew processor', 'processor sidepanel', 'sidepanel processor', 'processor view', 'view sub', 'sub processingact', 'processingact allstep', 'allstep save', 'save safeguard', 'safeguard newedit', 'newedit safeguard', 'safeguard overview', 'overview safeguard', 'safeguard sidepanel', 'sidepanel safeguard', 'safeguard view', 'view securitymeasur', 'securitymeasur overview', 'overview securitymeasur', 'securitymeasur sidepanel', 'sidepanel securitymeasur', 'securitymeasur view', 'view sendingen', 'sendingen snip', 'snip activitydetailhead', 'activitydetailhead wizard', 'ds faq', 'faq createsearcherandfilt', 'createsearcherandfilt 2', '2 faq', 'faq home', 'home faq', 'faq newedit', 'act faq', 'faq retrievecategori', 'administr configur', 'configur overview', 'overview categori', 'categori newedit', 'newedit categori', 'categori overview', 'overview ds', 'ds faq', 'faq createsearcherandfilt', 'createsearcherandfilt ds', 'ds faq', 'faq createsearcherandfilt', 'createsearcherandfilt 2', '2 ds', 'ds layouthelp', 'layouthelp retrieveorcr', 'retrieveorcr faq', 'faq faq', 'faq home', 'home faq', 'faq newedit', 'newedit lognod', 'lognod och', 'och layouthelp', 'layouthelp refresh', 'refresh processingact', 'processingact overview', 'overview readm', 'act processingact', 'processingact deletedraft', 'deletedraft act', 'act processingact', 'processingact edit', 'edit processown', 'ds legalbasi', 'legalbasi datacategori', 'datacategori searchsort', 'searchsort ds', 'ds safeguard', 'safeguard processor', 'processor searchsort', 'searchsort legalbasi', 'legalbasi view', 'view processown', 'processown overview', 'overview processingact', 'processingact form', 'form step1', 'step1 safeguard', 'safeguard view', 'snip messag', 'messag listitem', 'faq newedit', 'ds faq', 'faq createsearcherandfilt', 'createsearcherandfilt 2', '2 faq', 'faq home', 'faq home', 'home privacymanag', 'privacymanag home', 'home user', 'act processingact', 'processingact approv', 'approv act', 'act processingact', 'processingact deletedraft', 'deletedraft act', 'act processingact', 'processingact revisedvers', 'act processingact', 'processingact revisedvers', 'act processingact', 'processingact approv', 'administr configur', 'configur overview', 'overview ds', 'ds processown', 'processown processingact', 'processingact searchsort', 'searchsort ds', 'ds processor', 'processor processingact', 'processingact searchsort', 'searchsort ds', 'ds processor', 'processor safeguard', 'safeguard searchsort', 'searchsort datacategori', 'datacategori overview', 'overview datacontrol', 'datacontrol overview', 'overview datasubject', 'datasubject overview', 'overview depart', 'depart overview', 'overview home', 'home user', 'user imag', 'imag collect', 'collect legalbasi', 'legalbasi overview', 'overview owner', 'owner process', 'process processown', 'processown overview', 'overview processown', 'processown view', 'view processingact', 'processingact admindeletepag', 'admindeletepag processor', 'processor overview', 'overview processor', 'processor view', 'view processor', 'processor region', 'region overview', 'overview safeguard', 'safeguard overview', 'overview securitymeasur', 'securitymeasur overview', 'snip messag', 'messag listitem', 'home processown', 'act home', 'home user', 'home privacymanag', 'privacymanag home', 'home user', 'act messag', 'messag add', 'add act', 'act processact', 'processact approv', 'approv act', 'act processingact', 'processingact reject', 'reject sub', 'sub messag', 'messag approv', 'approv sub', 'sub messag', 'messag creat', 'creat sub', 'sub messag', 'messag reject', 'reject snip', 'snip activitydetailhead', 'home privacymanag', 'act home', 'home user', 'ds processingact', 'processingact tooltipdatasubject', 'tooltipdatasubject ds', 'ds processingact', 'processingact tooltipdatacategori', 'tooltipdatacategori ds', 'ds processingact', 'processingact tooltipdatacontrol', 'tooltipdatacontrol ds', 'ds processingact', 'processingact tooltipdataprofil', 'tooltipdataprofil ds', 'ds processingact', 'processingact tooltipexcercisingright', 'tooltipexcercisingright ds', 'ds processingact', 'processingact tooltipjointdatacontrol', 'tooltipjointdatacontrol ds', 'ds processingact', 'processingact tooltipmethodnotif', 'tooltipmethodnotif ds', 'ds processingact', 'processingact tooltipprocessor', 'tooltipprocessor ds', 'ds processingact', 'processingact tooltippurpos', 'tooltippurpos ds', 'ds processingact', 'processingact tooltipsecuritymeasur', 'tooltipsecuritymeasur processingact', 'processingact viewnew', 'act faq', 'faq retrievecategori', 'retrievecategori processingact', 'processingact viewnew', 'viewnew processorassign', 'processorassign compani', 'compani extrainfo', 'extrainfo tooltip', 'act processingact', 'processingact reject', 'reject sub', 'sub messag', 'messag reject', 'ds processingact', 'processingact tooltiplegalbas', 'tooltiplegalbas ds', 'ds processingact', 'processingact tooltipretentionperiod', 'tooltipretentionperiod ds', 'ds processingact', 'processingact tooltipsensitivedata', 'tooltipsensitivedata processingact', 'processingact viewnew', 'viewnew sub', 'sub processingact', 'processingact createtooltiptext', 'act home', 'home user', 'home home', 'home privacymanag', 'privacymanag home', 'home user', 'user processingact', 'processingact viewnew', 'home user', 'ds processown', 'processown account', 'account home', 'home privacymanag', 'privacymanag home', 'home processown', 'processown home', 'home user', 'act faq', 'faq retrievecategori', 'retrievecategori ds', 'ds processingact', 'processingact tooltipdatasubject', 'tooltipdatasubject ds', 'ds processingact', 'processingact tooltipdatacategori', 'tooltipdatacategori ds', 'ds processingact', 'processingact tooltipdatacontrol', 'tooltipdatacontrol ds', 'ds processingact', 'processingact tooltipdataprofil', 'tooltipdataprofil ds', 'ds processingact', 'processingact tooltipexcercisingright', 'tooltipexcercisingright ds', 'ds processingact', 'processingact tooltipjointdatacontrol', 'tooltipjointdatacontrol ds', 'ds processingact', 'processingact tooltiplegalbas', 'tooltiplegalbas ds', 'ds processingact', 'processingact tooltipmethodnotif', 'tooltipmethodnotif ds', 'ds processingact', 'processingact tooltipprocessor', 'tooltipprocessor ds', 'ds processingact', 'processingact tooltippurpos', 'tooltippurpos ds', 'ds processingact', 'processingact tooltipreceiv', 'tooltipreceiv ds', 'ds processingact', 'processingact tooltipretentionperiod', 'tooltipretentionperiod ds', 'ds processingact', 'processingact tooltipsecuritymeasur', 'tooltipsecuritymeasur ds', 'ds processingact', 'processingact tooltipsensitivedata', 'tooltipsensitivedata processingact', 'processingact viewnew', 'viewnew processorassign', 'processorassign compani', 'compani extrainfo', 'extrainfo tooltip', 'tooltip sub', 'sub processingact', 'processingact createtooltiptext', 'home privacymanag', 'privacymanag home', 'home user', 'act messag', 'messag add', 'add act', 'act processingact', 'processingact approv', 'approv act', 'act processingact', 'processingact deletedraft', 'deletedraft act', 'act processingact', 'processingact edit', 'edit act', 'act processingact', 'processingact new', 'new administr', 'administr act', 'act processingact', 'processingact reject', 'reject act', 'act processingact', 'processingact revisedvers', 'revisedvers act', 'act processingact', 'processingact submitinvalid', 'submitinvalid act', 'act processingact', 'processingact submit', 'submit fromstep4', 'fromstep4 act', 'act processingact', 'processingact submit', 'submit fromwizardhead', 'fromwizardhead home', 'home home', 'home processown', 'processown processingact', 'processingact form', 'form step4', 'step4 sub', 'sub messag', 'messag approv', 'approv sub', 'sub messag', 'messag creat', 'creat sub', 'sub messag', 'messag reject', 'reject snip', 'snip messag', 'messag listitem', 'listitem snip', 'snip wizardhead', 'act home', 'home user', 'user act', 'act processingact', 'processingact backbutton', 'backbutton act', 'act processingact', 'processingact delet', 'delet act', 'act processingact', 'processingact edit', 'edit act', 'act processingact', 'processingact messageredirect', 'messageredirect act', 'act processingact', 'processingact submitinvalid', 'submitinvalid act', 'act processingact', 'processingact submit', 'submit fromstep4', 'fromstep4 act', 'act processingact', 'processingact submit', 'submit fromwizardhead', 'fromwizardhead administr', 'administr configur', 'configur overview', 'overview ds', 'ds processown', 'processown account', 'account ds', 'ds processown', 'processown processingact', 'processingact searchsort', 'searchsort ds', 'ds processor', 'processor processingact', 'processingact searchsort', 'searchsort ds', 'ds processor', 'processor safeguard', 'safeguard searchsort', 'searchsort datacategori', 'datacategori overview', 'overview datacategori', 'datacategori view', 'view datacontrol', 'datacontrol overview', 'overview datacontrol', 'datacontrol view', 'view datasubject', 'datasubject overview', 'overview datasubject', 'datasubject view', 'view depart', 'depart overview', 'overview depart', 'depart view', 'view home', 'home home', 'home privacymanag', 'privacymanag home', 'home processown', 'processown home', 'home user', 'user imag', 'imag collect', 'collect legalbasi', 'legalbasi overview', 'overview legalbasi', 'legalbasi view', 'view owner', 'owner process', 'process processown', 'processown overview', 'overview processown', 'processown view', 'view processingact', 'processingact admindeletepag', 'admindeletepag processingact', 'processingact view', 'view processor', 'processor overview', 'overview processor', 'processor view', 'view processor', 'processor region', 'region overview', 'overview safeguard', 'safeguard overview', 'overview safeguard', 'safeguard view', 'view securitymeasur', 'securitymeasur overview', 'overview securitymeasur', 'securitymeasur view', 'view snip', 'snip wizardhead', 'home privacymanag', 'privacymanag processingact', 'processingact admindeletepag', 'admindeletepag processingact', 'processingact overview', 'ds processor', 'processor processingact', 'processingact searchsort', 'searchsort ds', 'ds processor', 'processor safeguard', 'safeguard searchsort', 'searchsort processor', 'processor view', 'act processingact', 'processingact edit', 'edit act', 'act processingact', 'processingact hidedetail', 'hidedetail act', 'act processingact', 'processingact new', 'new administr', 'administr act', 'act processingact', 'processingact revisedvers', 'revisedvers act', 'act processingact', 'processingact showdetail', 'showdetail home', 'home processown', 'processown home', 'home user', 'user processingact', 'processingact view', 'act processingact', 'processingact approv', 'approv act', 'act processingact', 'processingact messageredirect', 'messageredirect ds', 'ds admin', 'admin account', 'account faq', 'faq home', 'home home', 'home privacymanag', '100 act', 'act appset', 'appset save', 'save act', 'act counter', 'counter creat', 'creat act', 'act counter', 'counter updat', 'updat act', 'act display', 'display getorcr', 'getorcr act', 'act display', 'display show', 'show act', 'act home', 'home user', 'user act', 'act informationbox', 'informationbox open', 'open businessprocessnam', 'businessprocessnam act', 'act informationbox', 'informationbox open', 'open datacategori', 'datacategori act', 'act informationbox', 'informationbox open', 'open datacontrol', 'datacontrol act', 'act informationbox', 'informationbox open', 'open datasubject', 'datasubject act', 'act informationbox', 'informationbox open', 'open jointdatacontrol', 'jointdatacontrol act', 'act informationbox', 'informationbox open', 'open legalbasi', 'legalbasi act', 'act informationbox', 'informationbox open', 'open legitimateinterestcom', 'legitimateinterestcom act', 'act informationbox', 'informationbox open', 'open methodofexercisingright', 'methodofexercisingright act', 'act informationbox', 'informationbox open', 'open methodofnotif', 'methodofnotif act', 'act informationbox', 'informationbox open', 'open processor', 'processor act', 'act informationbox', 'informationbox open', 'open profil', 'profil act', 'act informationbox', 'informationbox open', 'open purposeofprocess', 'purposeofprocess act', 'act informationbox', 'informationbox open', 'open receiv', 'receiv act', 'act informationbox', 'informationbox open', 'open retentionperiod', 'retentionperiod act', 'act informationbox', 'informationbox open', 'open securitymeasur', 'securitymeasur act', 'act informationbox', 'informationbox open', 'open sensitivedata', 'sensitivedata act', 'act informationbox', 'informationbox save', 'save act', 'act legalbasisassign', 'legalbasisassign remov', 'remov act', 'act legalbasi', 'legalbasi closepag', 'closepag act', 'act legalbasi', 'legalbasi datacategori', 'datacategori save', 'save act', 'act legalbasi', 'legalbasi save', 'save act', 'act messag', 'messag add', 'add act', 'act messag', 'messag delet', 'delet act', 'act messag', 'messag deleteallforprivacymanag', 'deleteallforprivacymanag act', 'act messag', 'messag markallasread', 'markallasread act', 'act messag', 'messag markasread', 'markasread act', 'act messag', 'messag markasunread', 'markasunread act', 'act messag', 'messag submit', 'submit act', 'act open', 'open editpag', 'editpag act', 'act processingactivityform', 'processingactivityform step2', 'step2 step1', 'step1 act', 'act processingactivityform', 'processingactivityform step2', 'step2 step3', 'step3 act', 'act processingactivityform', 'processingactivityform step2', 'step2 step4', 'step4 act', 'act processingactivityform', 'processingactivityform step3', 'step3 step1', 'step1 act', 'act processingactivityform', 'processingactivityform step3', 'step3 step2', 'step2 act', 'act processingactivityform', 'processingactivityform step3', 'step3 step4', 'step4 act', 'act processingactivityform', 'processingactivityform step4', 'step4 step1', 'step1 act', 'act processingactivityform', 'processingactivityform step4', 'step4 step2', 'step2 act', 'act processingactivityform', 'processingactivityform step4', 'step4 step3', 'step3 act', 'act processingactivitywizard', 'processingactivitywizard step1', 'step1 step2', 'step2 act', 'act processingactivitywizard', 'processingactivitywizard step1', 'step1 step3', 'step3 act', 'act processingactivitywizard', 'processingactivitywizard step1', 'step1 step4', 'step4 act', 'act processingact', 'processingact approv', 'approv act', 'act processingact', 'processingact backbutton', 'backbutton act', 'act processingact', 'processingact datacategoryassign', 'datacategoryassign delet', 'delet act', 'act processingact', 'processingact datacategori', 'datacategori cancel', 'cancel act', 'act processingact', 'processingact datacategori', 'datacategori save', 'save act', 'act processingact', 'processingact datacategori', 'datacategori sidepanel', 'sidepanel add', 'add act', 'act processingact', 'processingact datacategori', 'datacategori sidepanel', 'sidepanel open', 'open act', 'act processingact', 'processingact datasubject', 'datasubject remov', 'remov act', 'act processingact', 'processingact datasubject', 'datasubject save', 'save act', 'act processingact', 'processingact datasubject', 'datasubject sidepanel', 'sidepanel add', 'add act', 'act processingact', 'processingact datasubject', 'datasubject sidepanel', 'sidepanel open', 'open act', 'act processingact', 'processingact delet', 'delet act', 'act processingact', 'processingact deletedraft', 'deletedraft act', 'act processingact', 'processingact edit', 'edit act', 'act processingact', 'processingact edit', 'edit processown', 'processown act', 'act processingact', 'processingact feedback', 'feedback act', 'act processingact', 'processingact gotostepx', 'gotostepx invaliddata', 'invaliddata act', 'act processingact', 'processingact hidedetail', 'hidedetail act', 'act processingact', 'processingact legalbasi', 'legalbasi sidepanel', 'sidepanel add', 'add act', 'act processingact', 'processingact legalbasi', 'legalbasi sidepanel', 'sidepanel open', 'open act', 'act processingact', 'processingact messageredirect', 'messageredirect act', 'act processingact', 'processingact newstep', 'newstep cancel', 'cancel act', 'act processingact', 'processingact new', 'new administr', 'administr act', 'act processingact', 'processingact new', 'new processown', 'processown act', 'act processingact', 'processingact openview', 'openview act', 'act processingact', 'processingact processor', 'processor remov', 'remov act', 'act processingact', 'processingact processor', 'processor sidepanel', 'sidepanel add', 'add act', 'act processingact', 'processingact processor', 'processor sidepanel', 'sidepanel open', 'open act', 'act processingact', 'processingact receiv', 'receiv creat', 'creat act', 'act processingact', 'processingact receiv', 'receiv remov', 'remov act', 'act processingact', 'processingact reject', 'reject act', 'act processingact', 'processingact revisedvers', 'revisedvers act', 'act processingact', 'processingact safeguard', 'safeguard sidepanel', 'sidepanel add', 'add act', 'act processingact', 'processingact safeguard', 'safeguard sidepanel', 'sidepanel open', 'open act', 'act processingact', 'processingact savedraft', 'savedraft act', 'act processingact', 'processingact securitymeasur', 'securitymeasur remov', 'remov act', 'act processingact', 'processingact securitymeasur', 'securitymeasur sidepanel', 'sidepanel add', 'add act', 'act processingact', 'processingact securitymeasur', 'securitymeasur sidepanel', 'sidepanel open', 'open act', 'act processingact', 'processingact showdetail', 'showdetail act', 'act processingact', 'processingact sidepanel', 'sidepanel close', 'close act', 'act processingact', 'processingact submitinvalid', 'submitinvalid act', 'act processingact', 'processingact submit', 'submit fromstep4', 'fromstep4 act', 'act processingact', 'processingact submit', 'submit fromwizardhead', 'fromwizardhead act', 'act processorassign', 'processorassign cancel', 'cancel act', 'act processorassign', 'processorassign save', 'save act', 'act processor', 'processor creat', 'creat act', 'act processor', 'processor new', 'new admin', 'admin act', 'act processor', 'processor new', 'new user', 'user act', 'act processor', 'processor save', 'save act', 'act receiv', 'receiv save', 'save act', 'act safeguardassign', 'safeguardassign add', 'add act', 'act safeguardassign', 'safeguardassign cancel', 'cancel act', 'act safeguardassign', 'safeguardassign remov', 'remov act', 'act safeguardassign', 'safeguardassign safeguard', 'safeguard add', 'add act', 'act securitymeasur', 'securitymeasur save', 'save act', 'act showdevpopup', 'showdevpopup asu', 'asu templat', 'templat creat', 'action activ', 'activ administr', 'administr overview', 'overview administr', 'administr configur', 'configur overview', 'overview afterstartup', 'afterstartup appset', 'appset overview', 'overview approvereject', 'approvereject atla', 'atla topbar', 'topbar atla', 'atla topbar', 'topbar master', 'master bell', 'bell atla', 'atla topbar', 'topbar bgwhite', 'bgwhite atla', 'atla topbar', 'topbar bgwhite', 'bgwhite nohead', 'nohead atla', 'atla twosidecont', 'twosidecont fullwidget', 'fullwidget basi', 'basi cal', 'cal display', 'display unreadnotif', 'unreadnotif categori', 'categori categori', 'categori newedit', 'newedit categori', 'categori overview', 'overview configuratoremail', 'configuratoremail confirmform', 'confirmform datacategori', 'datacategori confirmform', 'confirmform datasubject', 'datasubject confirmform', 'confirmform processor', 'processor confirmform', 'confirmform securitymeasur', 'securitymeasur ds', 'ds account', 'account getcurr', 'getcurr ds', 'ds admin', 'admin account', 'account ds', 'ds datacategoryassign', 'datacategoryassign pass', 'pass ds', 'ds datacategori', 'datacategori legalbasisassign', 'legalbasisassign ds', 'ds datacategori', 'datacategori processingact', 'processingact searchsort', 'searchsort ds', 'ds datacontrol', 'datacontrol processingact', 'processingact searchsort', 'searchsort ds', 'ds datasubject', 'datasubject processingact', 'processingact searchsort', 'searchsort ds', 'ds depart', 'depart processingact', 'processingact searchsort', 'searchsort ds', 'ds display', 'display ds', 'ds faq', 'faq createsearcherandfilt', 'createsearcherandfilt ds', 'ds layouthelp', 'layouthelp administr', 'administr ds', 'ds layouthelp', 'layouthelp retrieveorcr', 'retrieveorcr ds', 'ds layouthelp', 'layouthelp retrieveorcr', 'retrieveorcr emptysearch', 'emptysearch ds', 'ds layouthelp', 'layouthelp step1', 'step1 ds', 'ds layouthelp', 'layouthelp step2', 'step2 ds', 'ds layouthelp', 'layouthelp step3', 'step3 ds', 'ds layouthelp', 'layouthelp step4', 'step4 ds', 'ds layouthelp', 'layouthelp legalbasi', 'legalbasi ds', 'ds layouthelp', 'layouthelp safeguard', 'safeguard ds', 'ds legalbasi', 'legalbasi datacategori', 'datacategori searchsort', 'searchsort ds', 'ds legalbasi', 'legalbasi processingact', 'processingact searchsort', 'searchsort ds', 'ds legalbasi', 'legalbasi selectablelegalbas', 'selectablelegalbas ds', 'ds legalbasi', 'legalbasi select', 'select ds', 'ds personalprefer', 'personalprefer getorcr', 'getorcr ds', 'ds processact', 'processact datasubject', 'datasubject onestr', 'onestr ds', 'ds processown', 'processown account', 'account ds', 'ds processown', 'processown processingact', 'processingact searchsort', 'searchsort ds', 'ds processingactivityform', 'processingactivityform step4', 'step4 securitymeasureremovefromlist', 'securitymeasureremovefromlist 2', '2 ds', 'ds processingact', 'processingact datacategori', 'datacategori select', 'select ds', 'ds processingact', 'processingact datasubject', 'datasubject select', 'select ds', 'ds processingact', 'processingact legalbasisassign', 'legalbasisassign ds', 'ds processingact', 'processingact legalbasi', 'legalbasi select', 'select ds', 'ds processingact', 'processingact processor', 'processor select', 'select ds', 'ds processingact', 'processingact safeguard', 'safeguard select', 'select ds', 'ds processingact', 'processingact securitymeasur', 'securitymeasur select', 'select ds', 'ds processingact', 'processingact step2', 'step2 datacategoryremovefromlist', 'datacategoryremovefromlist ds', 'ds processingact', 'processingact tooltipdatasubject', 'tooltipdatasubject ds', 'ds processingact', 'processingact tooltipdatacategori', 'tooltipdatacategori ds', 'ds processingact', 'processingact tooltipdatacontrol', 'tooltipdatacontrol ds', 'ds processingact', 'processingact tooltipdataprofil', 'tooltipdataprofil ds', 'ds processingact', 'processingact tooltipexcercisingright', 'tooltipexcercisingright ds', 'ds processingact', 'processingact tooltipjointdatacontrol', 'tooltipjointdatacontrol ds', 'ds processingact', 'processingact tooltiplegalbas', 'tooltiplegalbas ds', 'ds processingact', 'processingact tooltipmethodnotif', 'tooltipmethodnotif ds', 'ds processingact', 'processingact tooltipprocessor', 'tooltipprocessor ds', 'ds processingact', 'processingact tooltippurpos', 'tooltippurpos ds', 'ds processingact', 'processingact tooltipreceiv', 'tooltipreceiv ds', 'ds processingact', 'processingact tooltipretentionperiod', 'tooltipretentionperiod ds', 'ds processingact', 'processingact tooltipsecuritymeasur', 'tooltipsecuritymeasur ds', 'ds processingact', 'processingact tooltipsensitivedata', 'tooltipsensitivedata ds', 'ds processingperregionperdepart', 'processingperregionperdepart ds', 'ds processorassign', 'processorassign safeguard', 'safeguard ds', 'ds processor', 'processor processingact', 'processingact searchsort', 'searchsort ds', 'ds processor', 'processor safeguard', 'safeguard searchsort', 'searchsort ds', 'ds safeguardassign', 'safeguardassign memori', 'memori select', 'select ds', 'ds safeguard', 'safeguard processingact', 'processingact searchsort', 'searchsort ds', 'ds safeguard', 'safeguard processor', 'processor searchsort', 'searchsort ds', 'ds securitymeasur', 'securitymeasur processingact', 'processingact searchsort', 'searchsort ds', 'ds selectableobjectsprocessor', 'selectableobjectsprocessor data', 'data datacategori', 'datacategori newedit', 'newedit datacategori', 'datacategori overview', 'overview datacategori', 'datacategori view', 'view datacontrol', 'datacontrol overview', 'overview datacontrol', 'datacontrol view', 'view datasubject', 'datasubject overview', 'overview datasubject', 'datasubject view', 'view datasubject', 'datasubject view', 'view datasubject', 'datasubject decrypt', 'decrypt depart', 'depart overview', 'overview depart', 'depart view', 'view detail', 'detail differ', 'differ display', 'display emailadministr', 'emailadministr overview', 'overview emailupd', 'emailupd encryptionkey', 'encryptionkey enum', 'enum informationboxfield', 'informationboxfield enum', 'enum statu', 'statu faq', 'faq faq', 'faq home', 'home faq', 'faq newedit', 'newedit feedbackwidget', 'feedbackwidget home', 'home home', 'home privacymanag', 'privacymanag home', 'home processown', 'processown home', 'home processown', 'processown 2', '2 home', 'home user', 'user ivk', 'ivk sendemail', 'sendemail imag', 'imag collect', 'collect inform', 'inform informationbox', 'informationbox newedit', 'newedit legal', 'legal legalbasi', 'legalbasi newedit', 'newedit legalbasi', 'legalbasi overview', 'overview legalbasi', 'legalbasi view', 'view lognod', 'lognod manag', 'manag measur', 'measur menu', 'menu messag', 'messag move', 'move mxobject', 'mxobject mxobject', 'mxobject overview', 'overview myprofil', 'myprofil view', 'view notif', 'notif och', 'och layouthelp', 'layouthelp refresh', 'refresh och', 'och processingact', 'processingact datasubject', 'datasubject add', 'add och', 'och processingact', 'processingact securitymeasur', 'securitymeasur add', 'add och', 'och processingact', 'processingact refresh', 'refresh och', 'och processorsafeguard', 'usprivacyshield och', 'och refreshregionselect', 'refreshregionselect ole', 'ole processingact', 'processingact datacategori', 'datacategori save', 'save otf', 'otf safeguard', 'safeguard replaceassociationwithnew', 'replaceassociationwithnew otf', 'otf safeguard', 'safeguard usprivacyshield', 'usprivacyshield owner', 'owner page', 'page personalprefer', 'personalprefer view', 'view privat', 'privat process', 'process processown', 'processown overview', 'overview processown', 'processown view', 'view process', 'process processingact', 'processingact admindeletepag', 'admindeletepag processingact', 'processingact datacategoryview', 'datacategoryview processingact', 'processingact feedback', 'feedback processingact', 'processingact form', 'form step1', 'step1 processingact', 'processingact form', 'form step2', 'step2 processingact', 'processingact form', 'form step3', 'step3 processingact', 'processingact form', 'form step4', 'step4 processingact', 'processingact legalbasisview', 'legalbasisview processingact', 'processingact overview', 'overview processingact', 'processingact view', 'view processor', 'processor processorassign', 'processorassign compani', 'compani extrainfo', 'extrainfo tooltip', 'tooltip processorassign', 'processorassign view', 'view processorassign', 'processorassign view', 'view admin', 'admin processor', 'processor newedit', 'newedit processor', 'processor overview', 'overview processor', 'processor view', 'view processor', 'processor readm', 'readm region', 'region overview', 'overview samlconfigur', 'samlconfigur overview', 'overview se', 'se messag', 'messag delet', 'delet se', 'se messag', 'messag deleteal', 'deleteal sub', 'sub datacategoryassign', 'datacategoryassign step2', 'step2 save', 'save sub', 'sub datacategori', 'datacategori getassociatedresult', 'getassociatedresult sub', 'sub display', 'display refresh', 'refresh sub', 'sub informationbox', 'informationbox checkandcr', 'checkandcr sub', 'sub informationbox', 'informationbox closeal', 'closeal sub', 'sub informationbox', 'informationbox linkandcloseal', 'linkandcloseal sub', 'sub informationbox', 'informationbox openfirst', 'openfirst step1', 'step1 sub', 'sub informationbox', 'informationbox openfirst', 'openfirst step2', 'step2 sub', 'sub informationbox', 'informationbox openfirst', 'openfirst step3', 'step3 sub', 'sub informationbox', 'informationbox openfirst', 'openfirst step4', 'step4 sub', 'sub layouthelp', 'layouthelp stepnumberupd', 'stepnumberupd sub', 'sub legalbasi', 'legalbasi getassociatedresult', 'getassociatedresult sub', 'sub messag', 'messag approv', 'approv sub', 'sub messag', 'messag creat', 'creat sub', 'sub messag', 'messag reject', 'reject sub', 'sub processingact', 'processingact createtooltiptext', 'createtooltiptext sub', 'sub processingact', 'processingact allstep', 'allstep save', 'save sub', 'sub processingact', 'processingact step3', 'step3 save', 'save sub', 'sub processor', 'processor redirectto', 'redirectto processorshowedit', 'processorshowedit sub', 'sub processor', 'processor showedit', 'showedit sub', 'sub safeguard', 'safeguard getassociatedresult', 'getassociatedresult sub', 'sub safeguardassign', 'safeguardassign commit', 'commit sub', 'sub sendemail', 'sendemail sub', 'sub sendemail', 'sendemail activityapprov', 'activityapprov sub', 'sub sendemail', 'sendemail activityreject', 'activityreject safeguard', 'safeguard safeguardassign', 'safeguardassign view', 'view safeguard', 'safeguard newedit', 'newedit safeguard', 'safeguard overview', 'overview safeguard', 'safeguard view', 'view secur', 'secur securitymeasur', 'securitymeasur overview', 'overview securitymeasur', 'securitymeasur view', 'view send', 'send sendingen', 'sendingen sidepanel', 'sidepanel snip', 'snip messag', 'messag listitem', 'listitem snip', 'snip navig', 'navig snip', 'snip wizardhead', 'wizardhead snippet', 'val datacategori', 'datacategori val', 'val legalbasi', 'legalbasi val', 'val processingact', 'processingact step1', 'step1 val', 'val processingact', 'processingact step1', 'step1 datasubject', 'datasubject val', 'val processingact', 'processingact step2', 'step2 val', 'val processingact', 'processingact step3', 'step3 val', 'val processingact', 'processingact step4', 'step4 val', 'val processor', 'processor val', 'val safeguardassign', 'safeguardassign view', 'view wizard', 'wizard doc', 'doc readm', 'readm resourc', 'resourc use', 'version box', '611 act', 'act processor', 'processor createexport', 'createexport acr', 'acr constraint', 'constraint acr', 'acr sort', 'sort action', 'action administr', 'administr overview', 'overview aggregatefunct', 'aggregatefunct andor', 'andor attributetyp', 'attributetyp bco', 'bco mxdata', 'mxdata bco', 'bco sheet', 'sheet bde', 'bde mxxpath', 'mxxpath csv', 'csv csvsepar', 'csvsepar cellformat', 'cellformat cellstyl', 'cellstyl newedit', 'newedit columnset', 'columnset newedit', 'newedit column', 'column csv', 'csv new', 'new constraint', 'constraint constrainttyp', 'constrainttyp ds', 'ds attribut', 'attribut ds', 'ds constraint', 'constraint attribut', 'attribut ds', 'ds constraint', 'constraint refer', 'refer ds', 'ds first', 'first attribut', 'attribut ds', 'ds first', 'first refer', 'refer ds', 'ds refer', 'refer ds', 'ds sort', 'sort attribut', 'attribut ds', 'ds sort', 'sort refer', 'refer ds', 'ds staticinputmemb', 'staticinputmemb ds', 'ds templatecsvsheet', 'templatecsvsheet dataformatstr', 'dataformatstr dataitemtyp', 'dataitemtyp datetimeconstraint', 'datetimeconstraint datetimepresent', 'datetimepresent documenttyp', 'documenttyp document', 'document excelexport', 'excelexport interfac', 'interfac excelexport', 'excelexport overview', 'overview excel', 'excel document', 'document overview', 'overview excistfil', 'excistfil newedit', 'newedit export', 'export generateexceldoc', 'generateexceldoc generatereport', 'generatereport gener', 'gener ivk', 'ivk columnhigh', 'columnhigh ivk', 'ivk columnlow', 'columnlow ivk', 'ivk column', 'column new', 'new ivk', 'ivk column', 'column save', 'save ivk', 'ivk constraintdelet', 'constraintdelet ivk', 'ivk constraintsav', 'constraintsav ivk', 'ivk constraintsaveandnext', 'constraintsaveandnext ivk', 'ivk constraint', 'constraint higher', 'higher ivk', 'ivk constraint', 'constraint lower', 'lower ivk', 'ivk createnewsheet', 'createnewsheet ivk', 'ivk deletecolumn', 'deletecolumn ivk', 'ivk deleteexcistfil', 'deleteexcistfil ivk', 'ivk excistfil', 'excistfil save', 'save ivk', 'ivk sortingdelet', 'sortingdelet ivk', 'ivk sortingsav', 'sortingsav ivk', 'ivk sort', 'sort higher', 'higher ivk', 'ivk sort', 'sort lower', 'lower ivk', 'ivk templateedit', 'templateedit ivk', 'ivk templatesaveandnext', 'templatesaveandnext ivk', 'ivk uploadexcistfil', 'uploadexcistfil integertonumberformat', 'integertonumberformat jointyp', 'jointyp javaact', 'javaact lognod', 'lognod microinputtyp', 'microinputtyp microflow', 'microflow select', 'select mxcolor', 'mxcolor mxcolumn', 'mxcolumn csvnewedit', 'csvnewedit mxcolumn', 'mxcolumn newedit', 'newedit mxconstraint', 'mxconstraint edit', 'edit mxconstraint', 'mxconstraint new', 'new mxobjectmemb', 'mxobjectmemb select', 'select mxobjectrefer', 'mxobjectrefer select', 'select mxobjecttyp', 'mxobjecttyp select', 'select mxreferencehandl', 'mxreferencehandl newedit', 'newedit mxrowset', 'mxrowset newedit', 'newedit mxsheet', 'mxsheet newedit', 'newedit mxsort', 'mxsort newedit', 'newedit mxstatic', 'mxstatic newedit', 'newedit och', 'och sheet', 'sheet object', 'object och', 'och sheet', 'sheet refer', 'refer och', 'och templat', 'templat save', 'save och', 'och xpath', 'xpath refresh', 'refresh och', 'och xpath', 'xpath retrievetyp', 'retrievetyp readm', 'readm resourc', 'resourc retrieveact', 'retrieveact sf', 'sf column', 'column valid', 'valid sf', 'sf findattribut', 'findattribut sf', 'sf parsedatetyp', 'parsedatetyp sf', 'sf static', 'static valid', 'valid sn', 'sn xpath', 'xpath 2', '2 sn', 'sn xpath', 'xpath 3', '3 sn', 'sn xpath', 'xpath 4', '4 sn', 'sn xpath', 'xpath 5', '5 sn', 'sn xpath', 'xpath master', 'master sn', 'sn xpath', 'xpath templat', 'templat sub', 'sub excelexport', 'excelexport createtempl', 'createtempl set', 'set set', 'set save', 'save sheet', 'sheet sheet', 'sheet save', 'save sort', 'sort sortingdirect', 'sortingdirect statictyp', 'statictyp static', 'static new', 'new static', 'static save', 'save style', 'style templat', 'templat templat', 'templat edit', 'edit csv', 'csv templat', 'templat edit', 'edit excel', 'excel templat', 'templat new', 'new textalign', 'textalign textverticalalign', 'textverticalalign usem', 'usem xl', 'xl xlsreport', 'xlsreport xpath', 'xpath xpath', 'xpath delet', 'delet sub', 'sub xpath', 'xpath new', 'new xpath', 'xpath valid', 'valid ye', 'act datacategori', 'datacategori onclick', 'onclick act', 'act datacontrol', 'datacontrol onclick', 'onclick act', 'act datasubject', 'datasubject onclick', 'onclick act', 'act depart', 'depart onclick', 'onclick act', 'act legalbasi', 'legalbasi onclick', 'onclick act', 'act processingact', 'processingact onclick', 'onclick act', 'act processor', 'processor onclick', 'onclick act', 'act safeguard', 'safeguard onclick', 'onclick act', 'act searcher', 'searcher performsearch', 'performsearch click', 'click home', 'home privacymanag', 'privacymanag home', 'home processown', 'processown home', 'home processown', 'processown 2', '2 home', 'home user', 'user imag', 'imag collect', 'collect lognod', 'lognod objecttyp', 'readm sub', 'sub datacategori', 'datacategori creat', 'creat sub', 'sub datacategori', 'datacategori getassociatedresult', 'getassociatedresult sub', 'sub datacontrol', 'datacontrol creat', 'creat sub', 'sub datacontrol', 'datacontrol getassociatedresult', 'getassociatedresult sub', 'sub datasubject', 'datasubject creat', 'creat sub', 'sub datasubject', 'datasubject getassociatedresult', 'getassociatedresult sub', 'sub depart', 'depart creat', 'creat sub', 'sub depart', 'depart getassociatedresult', 'getassociatedresult sub', 'sub legalbasi', 'legalbasi creat', 'creat sub', 'sub legalbasi', 'legalbasi getassociatedresult', 'getassociatedresult sub', 'sub processingact', 'processingact creat', 'creat sub', 'sub processingact', 'processingact getadditionalinfo', 'getadditionalinfo sub', 'sub processor', 'processor creat', 'creat sub', 'sub processor', 'processor getassociatedresult', 'getassociatedresult sub', 'sub safeguard', 'safeguard getassociatedresult', 'getassociatedresult sub', 'sub safeguard', 'safeguard creat', 'creat sub', 'sub searchresult', 'searchresult datacategori', 'datacategori sub', 'sub searchresult', 'searchresult datacontrol', 'datacontrol sub', 'sub searchresult', 'searchresult datasubject', 'datasubject sub', 'sub searchresult', 'searchresult depart', 'depart sub', 'sub searchresult', 'searchresult getsearchableobject', 'getsearchableobject sub', 'sub searchresult', 'searchresult legalbasi', 'legalbasi sub', 'sub searchresult', 'searchresult processingact', 'processingact sub', 'sub searchresult', 'searchresult processor', 'processor sub', 'sub searchresult', 'searchresult safeguard', 'safeguard sub', 'sub searcher', 'searcher getassociatedobject', 'getassociatedobject sub', 'sub access', 'access action', 'action avoid', 'avoid entiti', 'entiti flow', 'act depart', 'depart processown', 'processown remov', 'remov act', 'act depart', 'depart processown', 'processown save', 'save act', 'act home', 'home user', 'user act', 'act processingact', 'processingact edit', 'edit act', 'act processingact', 'processingact new', 'new processown', 'processown act', 'act processingact', 'processingact reject', 'reject ds', 'ds processown', 'processown account', 'account ds', 'ds user', 'user account', 'account depart', 'depart processown', 'processown edit', 'edit depart', 'depart processown', 'processown view', 'view depart', 'depart selectuserasprocessown', 'selectuserasprocessown home', 'home processown', 'processown home', 'home user', 'user managemyaccount', 'managemyaccount myprofil', 'myprofil view', 'view processown', 'processown overview', 'overview processown', 'processown view', 'home user', 'user myprofil', 'myprofil view', 'datacategori overview', 'overview report', 'report report', 'report select', 'select overview', 'act searcher', 'searcher performsearch', 'performsearch ds', 'ds searcher', 'searcher creat', 'creat andobjectfilt', 'andobjectfilt home', 'home privacymanag', 'privacymanag home', 'home processown', 'processown home', 'home user', 'user objecttyp', 'objecttyp sub', 'sub datacategori', 'datacategori getassociatedresult', 'getassociatedresult sub', 'sub datacontrol', 'datacontrol getassociatedresult', 'getassociatedresult sub', 'sub datasubject', 'datasubject getassociatedresult', 'getassociatedresult sub', 'sub depart', 'depart getassociatedresult', 'getassociatedresult sub', 'sub legalbasi', 'legalbasi getassociatedresult', 'getassociatedresult sub', 'sub processor', 'processor getassociatedresult', 'getassociatedresult sub', 'sub safeguard', 'safeguard getassociatedresult', 'getassociatedresult sub', 'sub searchresult', 'searchresult datacategori', 'datacategori sub', 'sub searchresult', 'searchresult datacontrol', 'datacontrol sub', 'sub searchresult', 'searchresult datasubject', 'datasubject sub', 'sub searchresult', 'searchresult depart', 'depart sub', 'sub searchresult', 'searchresult legalbasi', 'legalbasi sub', 'sub searchresult', 'searchresult processingact', 'processingact sub', 'sub searchresult', 'searchresult processingact', 'processingact associ', 'associ sub', 'sub searchresult', 'searchresult processor', 'processor sub', 'sub searchresult', 'searchresult safeguard', 'safeguard sub', 'sub searcher', 'searcher getassociatedobject', 'getassociatedobject sub', 'sub access', 'access appli', 'appli entiti', 'entiti flow', 'flow without', 'act processown', 'processown sendremind', 'sendremind asu', 'asu templat', 'templat creat', 'creat event', 'event inact', 'inact remind', 'remind sub', 'sub sendemail', 'sendemail remind', 'remind sce', 'sce remindernologin6month', 'remindernologin6month schedul', 'schedul sendingen', 'act processown', 'processown sendremind', 'act searcher', 'searcher performsearch', 'home user', 'home privacymanag', 'privacymanag home', 'home processown', 'processown home', 'home user', 'act datacategori', 'datacategori processingact', 'processingact export', 'export act', 'act datacontrol', 'datacontrol processingact', 'processingact export', 'export act', 'act datasubject', 'datasubject processingact', 'processingact export', 'export act', 'act legalbasi', 'legalbasi datacategori', 'datacategori export', 'export act', 'act legalbasi', 'legalbasi processingact', 'processingact export', 'export act', 'act processor', 'processor processingact', 'processingact export', 'export act', 'act processor', 'processor safeguard', 'safeguard export', 'export act', 'act safeguard', 'safeguard processingact', 'processingact export', 'export act', 'act safeguard', 'safeguard processor', 'processor export', 'export act', 'act securitymeasur', 'securitymeasur processingact', 'processingact export', 'export datacategori', 'datacategori view', 'view datacontrol', 'datacontrol view', 'view datasubject', 'datasubject view', 'view legalbasi', 'legalbasi view', 'view processor', 'processor view', 'view sub', 'sub exceldatarow', 'exceldatarow creat', 'creat sub', 'sub exceldatarow', 'exceldatarow delet', 'delet sub', 'sub exceldata', 'exceldata creat', 'creat sub', 'sub excelexport', 'excelexport createtempl', 'createtempl safeguard', 'safeguard view', 'view securitymeasur', 'securitymeasur view', 'act datacategori', 'datacategori processingact', 'processingact export', 'export act', 'act datacontrol', 'datacontrol processingact', 'processingact export', 'export act', 'act datasubject', 'datasubject processingact', 'processingact export', 'export act', 'act legalbasi', 'legalbasi datacategori', 'datacategori export', 'export act', 'act legalbasi', 'legalbasi processingact', 'processingact export', 'export act', 'act processor', 'processor processingact', 'processingact export', 'export act', 'act processor', 'processor safeguard', 'safeguard export', 'export act', 'act safeguard', 'safeguard processingact', 'processingact export', 'export act', 'act safeguard', 'safeguard processor', 'processor export', 'export act', 'act securitymeasur', 'securitymeasur processingact', 'processingact export', 'export readm', 'readm sub', 'sub sub', 'sub exceldatarow', 'exceldatarow creat', 'creat sub', 'sub exceldatarow', 'exceldatarow creat', 'creat processingact', 'processingact sub', 'sub exceldatarow', 'exceldatarow delet', 'delet sub', 'sub exceldata', 'exceldata creat', 'creat sub', 'sub excelexport', 'excelexport createtempl', 'createtempl microflow', 'act processingact', 'processingact messageredirect', 'sub sendemail', 'sendemail activityreject', 'activityreject sub', 'sub sendemail', 'sendemail remind', 'remind sce', 'sce processown', 'processown sendremind', 'sendremind sce', 'sce remindernoactivity6month', 'ds processingact', 'processingact assignprocessown', 'assignprocessown processingact', 'processingact changeprocessown', 'changeprocessown processingact', 'processingact view', 'myprofil view', 'home privacymanag', 'privacymanag home', 'home user', 'user myprofil', 'myprofil view', 'processingact view', 'processingact changeprocessown', 'sub exceldatarow', 'exceldatarow creat', 'creat processingact', 'processingact sub', 'sub exceldatarow', 'exceldatarow delet', 'home privacymanag', 'privacymanag home', 'home processown', 'processown home', 'home user', 'user sub', 'sub datacategori', 'datacategori creat', 'creat sub', 'sub datacategori', 'datacategori getassociatedresult', 'getassociatedresult sub', 'sub datacontrol', 'datacontrol creat', 'creat sub', 'sub datacontrol', 'datacontrol getassociatedresult', 'getassociatedresult sub', 'sub datasubject', 'datasubject creat', 'creat sub', 'sub datasubject', 'datasubject getassociatedresult', 'getassociatedresult sub', 'sub depart', 'depart creat', 'creat sub', 'sub depart', 'depart getassociatedresult', 'getassociatedresult sub', 'sub legalbasi', 'legalbasi creat', 'creat sub', 'sub legalbasi', 'legalbasi getassociatedresult', 'getassociatedresult sub', 'sub processingact', 'processingact creat', 'creat sub', 'sub processor', 'processor creat', 'creat sub', 'sub processor', 'processor getassociatedresult', 'getassociatedresult sub', 'sub safeguard', 'safeguard getassociatedresult', 'getassociatedresult sub', 'sub safeguard', 'safeguard creat', 'creat sub', 'sub searchresult', 'searchresult datacategori', 'datacategori sub', 'sub searchresult', 'searchresult datacontrol', 'datacontrol sub', 'sub searchresult', 'searchresult datasubject', 'datasubject sub', 'sub searchresult', 'searchresult depart', 'depart sub', 'sub searchresult', 'searchresult getassociatedprocessingact', 'getassociatedprocessingact sub', 'sub searchresult', 'searchresult getsearchableobject', 'getsearchableobject sub', 'sub searchresult', 'searchresult legalbasi', 'legalbasi sub', 'sub searchresult', 'searchresult processingact', 'processingact sub', 'sub searchresult', 'searchresult processingact', 'processingact associ', 'associ sub', 'sub searchresult', 'searchresult processor', 'processor sub', 'sub searchresult', 'searchresult safeguard', 'safeguard sub', 'sub searcher', 'searcher getassociatedobject', 'act processingact', 'processingact revisedvers', 'revisedvers ds', 'ds processingperregionperdepart', 'processingperregionperdepart processingact', 'processingact view', 'view sub', 'sub processingact', 'processingact edit', 'sce processown', 'processown sendremind', 'sub sendemail', 'sendemail remind', 'processingact report', 'report overview', 'overview report', 'sce processown', 'processown sendremind', 'activesess administr', 'administr overview', 'overview appset', 'appset overview', 'overview emailadministr', 'emailadministr overview', 'overview excelexport', 'excelexport overview', 'overview home', 'home configur', 'configur integr', 'integr overview', 'overview mxobject', 'mxobject overview', 'overview runtimeinst', 'runtimeinst samlconfigur', 'samlconfigur overview', 'overview scheduledev', 'scheduledev user', 'user overview', 'sce processown', 'processown sendremind', 'processingact report', 'report overview', 'processingact report', 'report overview', 'act datacategori', 'datacategori processingact', 'processingact export', 'export act', 'act datacontrol', 'datacontrol processingact', 'processingact export', 'export act', 'act datasubject', 'datasubject processingact', 'processingact export', 'export act', 'act legalbasi', 'legalbasi processingact', 'processingact export', 'export act', 'act processor', 'processor processingact', 'processingact export', 'export act', 'act safeguard', 'safeguard processingact', 'processingact export', 'export act', 'act securitymeasur', 'securitymeasur processingact', 'processingact export', 'export asu', 'asu templat', 'templat creat', 'asu templat', 'templat creat', 'creat event', 'event inact', 'inact remind', 'remind sub', 'sub sendemail', 'sendemail activityreject', 'activityreject sub', 'sub sendemail', 'sendemail remind', 'remind sce', 'sce processown', 'processown sendremind', 'sendremind sce', 'sce remindernoactivity6month', 'remindernoactivity6month schedul', 'schedul sendingen', 'processingact report', 'report overview', 'home user', 'act depart', 'depart processown', 'processown remov', 'remov act', 'act depart', 'depart processown', 'processown save', 'save act', 'act home', 'home user', 'user act', 'act processingact', 'processingact edit', 'edit act', 'act processingact', 'processingact new', 'new processown', 'processown act', 'act processingact', 'processingact reject', 'ds processown', 'processown account', 'account ds', 'ds user', 'user account', 'account depart', 'depart processown', 'processown edit', 'edit depart', 'depart processown', 'processown view', 'view depart', 'depart selectuserasprocessown', 'selectuserasprocessown home', 'home privacymanag', 'privacymanag home', 'home processown', 'processown home', 'home user', 'user managemyaccount', 'managemyaccount myprofil', 'myprofil view', 'view processown', 'processown overview', 'overview processown', 'processown view', 'home user', 'processingact report', 'report overview', 'datacategori overview', 'overview processingact', 'processingact report', 'report overview', 'overview report', 'och processingact', 'processingact refresh', 'home privacymanag', 'privacymanag home', 'home processown', 'processown home', 'home user', 'user sub', 'sub datacontrol', 'datacontrol getassociatedresult', 'getassociatedresult sub', 'sub datasubject', 'datasubject getassociatedresult', 'getassociatedresult sub', 'sub depart', 'depart getassociatedresult', 'getassociatedresult sub', 'sub legalbasi', 'legalbasi getassociatedresult', 'getassociatedresult sub', 'sub processor', 'processor getassociatedresult', 'getassociatedresult sub', 'sub safeguard', 'safeguard getassociatedresult', 'getassociatedresult sub', 'sub searcher', 'searcher getassociatedobject', 'act searcher', 'searcher performsearch', 'performsearch sub', 'sub searcher', 'searcher getassociatedobject', 'act datacategori', 'datacategori onclick', 'onclick act', 'act datacontrol', 'datacontrol onclick', 'onclick act', 'act datasubject', 'datasubject onclick', 'onclick act', 'act depart', 'depart onclick', 'onclick act', 'act legalbasi', 'legalbasi onclick', 'onclick act', 'act processingact', 'processingact onclick', 'onclick act', 'act processor', 'processor onclick', 'onclick act', 'act safeguard', 'safeguard onclick', 'administr overview', 'overview appset', 'appset overview', 'overview excelexport', 'excelexport overview', 'administr overview', 'overview excelexport', 'excelexport overview', 'event sce', 'sce searchableobject', 'searchableobject updat', 'updat schedul', 'act processingact', 'processingact revisedvers', 'revisedvers ds', 'ds processingperregionperdepart', 'processingperregionperdepart processingact', 'processingact report', 'report overview', '611 act', 'act datacategori', 'datacategori processingact', 'processingact export', 'export act', 'act datacontrol', 'datacontrol processingact', 'processingact export', 'export act', 'act datasubject', 'datasubject processingact', 'processingact export', 'export act', 'act legalbasi', 'legalbasi datacategori', 'datacategori export', 'export act', 'act legalbasi', 'legalbasi processingact', 'processingact export', 'export act', 'act processor', 'processor processingact', 'processingact export', 'export act', 'act processor', 'processor safeguard', 'safeguard export', 'export act', 'act safeguard', 'safeguard processingact', 'processingact export', 'export act', 'act safeguard', 'safeguard processor', 'processor export', 'export act', 'act securitymeasur', 'securitymeasur processingact', 'processingact export', 'export acr', 'acr constraint', 'constraint acr', 'acr sort', 'sort asu', 'asu templat', 'templat creat', 'creat action', 'action activesess', 'activesess administr', 'administr overview', 'overview aggregatefunct', 'aggregatefunct andor', 'andor appset', 'appset overview', 'overview attributetyp', 'attributetyp bco', 'bco mxdata', 'mxdata bco', 'bco sheet', 'sheet bde', 'bde mxxpath', 'mxxpath csv', 'csv csvsepar', 'csvsepar cellformat', 'cellformat cellstyl', 'cellstyl newedit', 'newedit columnset', 'columnset newedit', 'newedit column', 'column csv', 'csv new', 'new constraint', 'constraint constrainttyp', 'constrainttyp ds', 'ds attribut', 'attribut ds', 'ds constraint', 'constraint attribut', 'attribut ds', 'ds constraint', 'constraint refer', 'refer ds', 'ds first', 'first attribut', 'attribut ds', 'ds first', 'first refer', 'refer ds', 'ds refer', 'refer ds', 'ds sort', 'sort attribut', 'attribut ds', 'ds sort', 'sort refer', 'refer ds', 'ds staticinputmemb', 'staticinputmemb ds', 'ds templatecsvsheet', 'templatecsvsheet datacategori', 'datacategori view', 'view datacontrol', 'datacontrol view', 'view dataformatstr', 'dataformatstr dataitemtyp', 'dataitemtyp datasubject', 'datasubject view', 'view datetimeconstraint', 'datetimeconstraint datetimepresent', 'datetimepresent documenttyp', 'documenttyp document', 'document emailadministr', 'emailadministr overview', 'overview excelexport', 'excelexport interfac', 'interfac excelexport', 'excelexport overview', 'overview excel', 'excel document', 'document overview', 'overview excistfil', 'excistfil newedit', 'newedit export', 'export generateexceldoc', 'generateexceldoc generatereport', 'generatereport gener', 'gener home', 'home configur', 'configur ivk', 'ivk columnhigh', 'columnhigh ivk', 'ivk columnlow', 'columnlow ivk', 'ivk column', 'column new', 'new ivk', 'ivk column', 'column save', 'save ivk', 'ivk constraintdelet', 'constraintdelet ivk', 'ivk constraintsav', 'constraintsav ivk', 'ivk constraintsaveandnext', 'constraintsaveandnext ivk', 'ivk constraint', 'constraint higher', 'higher ivk', 'ivk constraint', 'constraint lower', 'lower ivk', 'ivk createnewsheet', 'createnewsheet ivk', 'ivk deletecolumn', 'deletecolumn ivk', 'ivk deleteexcistfil', 'deleteexcistfil ivk', 'ivk excistfil', 'excistfil save', 'save ivk', 'ivk sortingdelet', 'sortingdelet ivk', 'ivk sortingsav', 'sortingsav ivk', 'ivk sort', 'sort higher', 'higher ivk', 'ivk sort', 'sort lower', 'lower ivk', 'ivk templateedit', 'templateedit ivk', 'ivk templatesaveandnext', 'templatesaveandnext ivk', 'ivk uploadexcistfil', 'uploadexcistfil integertonumberformat', 'integertonumberformat integr', 'integr overview', 'overview jointyp', 'jointyp javaact', 'javaact legalbasi', 'legalbasi view', 'view lognod', 'lognod microinputtyp', 'microinputtyp microflow', 'microflow select', 'select mxcolor', 'mxcolor mxcolumn', 'mxcolumn csvnewedit', 'csvnewedit mxcolumn', 'mxcolumn newedit', 'newedit mxconstraint', 'mxconstraint edit', 'edit mxconstraint', 'mxconstraint new', 'new mxobjectmemb', 'mxobjectmemb select', 'select mxobjectrefer', 'mxobjectrefer select', 'select mxobjecttyp', 'mxobjecttyp select', 'select mxobject', 'mxobject overview', 'overview mxreferencehandl', 'mxreferencehandl newedit', 'newedit mxrowset', 'mxrowset newedit', 'newedit mxsheet', 'mxsheet newedit', 'newedit mxsort', 'mxsort newedit', 'newedit mxstatic', 'mxstatic newedit', 'newedit och', 'och sheet', 'sheet object', 'object och', 'och sheet', 'sheet refer', 'refer och', 'och templat', 'templat save', 'save och', 'och xpath', 'xpath refresh', 'refresh och', 'och xpath', 'xpath retrievetyp', 'retrievetyp processor', 'processor view', 'view readm', 'readm resourc', 'resourc retrieveact', 'retrieveact runtimeinst', 'runtimeinst samlconfigur', 'samlconfigur overview', 'overview sf', 'sf column', 'column valid', 'valid sf', 'sf findattribut', 'findattribut sf', 'sf parsedatetyp', 'parsedatetyp sf', 'sf static', 'static valid', 'valid sn', 'sn xpath', 'xpath 2', '2 sn', 'sn xpath', 'xpath 3', '3 sn', 'sn xpath', 'xpath 4', '4 sn', 'sn xpath', 'xpath 5', '5 sn', 'sn xpath', 'xpath master', 'master sn', 'sn xpath', 'xpath templat', 'templat sub', 'sub sub', 'sub exceldatarow', 'exceldatarow creat', 'creat sub', 'sub exceldatarow', 'exceldatarow creat', 'creat processingact', 'processingact sub', 'sub exceldata', 'exceldata creat', 'creat sub', 'sub excelexport', 'excelexport createtempl', 'createtempl safeguard', 'safeguard view', 'view scheduledev', 'scheduledev securitymeasur', 'securitymeasur view', 'view set', 'set set', 'set save', 'save sheet', 'sheet sheet', 'sheet save', 'save sort', 'sort sortingdirect', 'sortingdirect statictyp', 'statictyp static', 'static new', 'new static', 'static save', 'save style', 'style templat', 'templat templat', 'templat edit', 'edit csv', 'csv templat', 'templat edit', 'edit excel', 'excel templat', 'templat new', 'new textalign', 'textalign textverticalalign', 'textverticalalign usem', 'usem user', 'user overview', 'overview xl', 'xl xlsreport', 'xlsreport xpath', 'xpath xpath', 'xpath delet', 'delet sub', 'sub xpath', 'xpath new', 'new xpath', 'xpath valid', 'valid ye', 'excel microflow', '100beta3 act', 'act datacategori', 'datacategori onclick', 'onclick act', 'act datacontrol', 'datacontrol onclick', 'onclick act', 'act datasubject', 'datasubject onclick', 'onclick act', 'act depart', 'depart onclick', 'onclick act', 'act legalbasi', 'legalbasi onclick', 'onclick act', 'act mendixent', 'mendixent addassearchableobject', 'addassearchableobject act', 'act prefer', 'prefer getorcr', 'getorcr act', 'act processingact', 'processingact onclick', 'onclick act', 'act processor', 'processor onclick', 'onclick act', 'act safeguard', 'safeguard onclick', 'onclick act', 'act searchresult', 'searchresult performact', 'performact act', 'act search', 'search refreshobject', 'refreshobject act', 'act searchableobject', 'searchableobject addobject', 'addobject act', 'act searchableobject', 'searchableobject delet', 'delet act', 'act searchableobject', 'searchableobject savechang', 'savechang act', 'act searchableobject', 'searchableobject selectact', 'selectact act', 'act searcher', 'searcher clear', 'clear act', 'act searcher', 'searcher performsearch', 'performsearch act', 'act searcher', 'searcher search', 'search action', 'action select', 'select action', 'action administr', 'administr overview', 'overview bco', 'bco object', 'object exampl', 'exampl batchdeleteindex', 'batchdeleteindex batchindexobject', 'batchindexobject bde', 'bde object', 'object exampl', 'exampl click', 'click ds', 'ds action', 'action ds', 'ds processingperregionperdepart', 'processingperregionperdepart ds', 'ds searcher', 'searcher createsearch', 'createsearch ds', 'ds searcher', 'searcher creat', 'creat andobjectfilt', 'andobjectfilt deleteindex', 'deleteindex event', 'event executeonclickact', 'executeonclickact executesearch', 'executesearch getallmicroflow', 'getallmicroflow getallobjecttyp', 'getallobjecttyp getattribut', 'getattribut getobjectofresult', 'getobjectofresult globalsearch', 'globalsearch globalsearch', 'globalsearch extens', 'extens globalsearch', 'globalsearch overview', 'overview home', 'home privacymanag', 'privacymanag home', 'home processown', 'processown home', 'home user', 'user imag', 'imag collect', 'collect indexobject', 'indexobject java', 'java licens', 'licens lognod', 'lognod objecttyp', 'page privat', 'privat processingact', 'processingact view', 'view readm', 'readm sce', 'sce searchableobject', 'searchableobject updat', 'updat snip', 'snip search', 'search snip', 'snip search', 'search configur', 'configur sub', 'sub action', 'action updateact', 'updateact sub', 'sub action', 'action sub', 'sub datacategori', 'datacategori creat', 'creat sub', 'sub datacategori', 'datacategori getassociatedresult', 'getassociatedresult sub', 'sub datacontrol', 'datacontrol creat', 'creat sub', 'sub datacontrol', 'datacontrol getassociatedresult', 'getassociatedresult sub', 'sub datasubject', 'datasubject creat', 'creat sub', 'sub datasubject', 'datasubject getassociatedresult', 'getassociatedresult sub', 'sub depart', 'depart creat', 'creat sub', 'sub depart', 'depart getassociatedresult', 'getassociatedresult sub', 'sub legalbasi', 'legalbasi creat', 'creat sub', 'sub legalbasi', 'legalbasi getassociatedresult', 'getassociatedresult sub', 'sub processingact', 'processingact creat', 'creat sub', 'sub processingact', 'processingact edit', 'edit sub', 'sub processingact', 'processingact getadditionalinfo', 'getadditionalinfo sub', 'sub processor', 'processor creat', 'creat sub', 'sub processor', 'processor getassociatedresult', 'getassociatedresult sub', 'sub safeguard', 'safeguard getassociatedresult', 'getassociatedresult sub', 'sub safeguard', 'safeguard creat', 'creat sub', 'sub searchresult', 'searchresult datacategori', 'datacategori sub', 'sub searchresult', 'searchresult datacontrol', 'datacontrol sub', 'sub searchresult', 'searchresult datasubject', 'datasubject sub', 'sub searchresult', 'searchresult depart', 'depart sub', 'sub searchresult', 'searchresult getassociatedprocessingact', 'getassociatedprocessingact sub', 'sub searchresult', 'searchresult getsearchableobject', 'getsearchableobject sub', 'sub searchresult', 'searchresult legalbasi', 'legalbasi sub', 'sub searchresult', 'searchresult processingact', 'processingact sub', 'sub searchresult', 'searchresult processingact', 'processingact associ', 'associ sub', 'sub searchresult', 'searchresult processor', 'processor sub', 'sub searchresult', 'searchresult safeguard', 'safeguard sub', 'sub searchableobject', 'searchableobject updat', 'updat sub', 'sub searcher', 'searcher getassociatedobject', 'getassociatedobject schedul', 'schedul searchableobject', 'searchableobject action', 'action select', 'select searchableobject', 'searchableobject newedit', 'newedit snippet', 'snippet sub', 'sub synchronizeobjectmemb', 'synchronizeobjectmemb updatesearchableobject', 'updatesearchableobject doc', 'doc readm', 'readm resourc', 'resourc use', 'version access', 'access action', 'action appli', 'appli entiti', 'entiti flow', 'flow without', 'act processingact', 'processingact changeprocessown', 'act depart', 'depart processingact', 'processingact export', 'export act', 'act processown', 'processown processingact', 'processingact export', 'export datacategori', 'datacategori view', 'view datacontrol', 'datacontrol view', 'view datasubject', 'datasubject view', 'view depart', 'depart view', 'view legalbasi', 'legalbasi view', 'view processown', 'processown view', 'view processor', 'processor view', 'view safeguard', 'safeguard view', 'view securitymeasur', 'securitymeasur view', 'sub safeguard', 'safeguard getassociatedresult', 'processingact form', 'form step4', 'step4 snip', 'snip wizardhead', 'home privacymanag', 'privacymanag sce', 'sce processown', 'processown sendremind', 'snip messag', 'messag listitem', 'listitem snip', 'snip navig', 'processingact form', 'form step1', 'step1 processingact', 'processingact form', 'form step2', 'administr configur', 'configur overview', 'overview categori', 'categori overview', 'overview datacategori', 'datacategori overview', 'overview datacontrol', 'datacontrol overview', 'overview datasubject', 'datasubject overview', 'overview depart', 'depart overview', 'overview informationbox', 'informationbox overview', 'overview legalbasi', 'legalbasi overview', 'overview processown', 'processown overview', 'overview processor', 'processor overview', 'overview region', 'region overview', 'overview safeguard', 'safeguard overview', 'overview securitymeasur', 'securitymeasur overview', 'act processingact', 'processingact revisedvers', 'home processown', 'processown sendingen', 'act processingact', 'processingact approv', 'approv act', 'act processingact', 'processingact backbutton', 'backbutton act', 'act processingact', 'processingact submitinvalid', 'submitinvalid act', 'act processingact', 'processingact submit', 'submit fromstep4', 'fromstep4 act', 'act processingact', 'processingact submit', 'submit fromwizardhead', 'fromwizardhead sub', 'sub datacategoryassign', 'datacategoryassign step2', 'step2 save', 'save sub', 'sub processingacitivti', 'processingacitivti approv', 'approv sub', 'sub processingact', 'processingact allstep', 'allstep save', 'och processingact', 'processingact refresh', 'refresh processingact', 'processingact view', 'och processingact', 'processingact refresh', 'refresh processingact', 'processingact view', 'act changedattribut', 'changedattribut approv', 'approv act', 'act changedattribut', 'changedattribut reject', 'reject act', 'act processingactivityform', 'processingactivityform step2', 'step2 step3', 'step3 act', 'act processingactivityform', 'processingactivityform step3', 'step3 step4', 'step4 act', 'act processingactivitywizard', 'processingactivitywizard step1', 'step1 step2', 'step2 act', 'act processingact', 'processingact submit', 'submit fromstep4', 'fromstep4 act', 'act processingact', 'processingact submit', 'submit fromwizardhead', 'fromwizardhead enum', 'enum statuschang', 'statuschang processingact', 'processingact view', 'view sub', 'sub changedattribut', 'changedattribut process', 'process step1', 'step1 sub', 'sub changedattribut', 'changedattribut save', 'save sub', 'sub changedattribut', 'changedattribut save', 'save step2', 'step2 sub', 'sub changedattribut', 'changedattribut save', 'save step3', 'step3 sub', 'sub changedattribut', 'changedattribut save', 'save step4', 'act informationbox', 'informationbox open', 'open collectedbythirdparti', 'collectedbythirdparti asu', 'asu informationbox', 'informationbox creat', 'creat enum', 'enum informationboxfield', 'informationboxfield processingact', 'processingact form', 'form step1', 'se messag', 'messag deleteolderthansixmonth', 'deleteolderthansixmonth snip', 'snip messag', 'messag listitem', 'listitem snip', 'snip navig', 'act processingact', 'processingact changeprocessown', 'changeprocessown ds', 'ds processingact', 'processingact assignprocessown', 'assignprocessown och', 'och processingact', 'processingact refresh', 'refresh processingact', 'processingact changeprocessown', 'changeprocessown processingact', 'processingact view', 'se messag', 'messag deleteolderthansixmonth', 'processingact form', 'form step4', 'step4 snip', 'snip wizardhead', 'act changedattribut', 'changedattribut approv', 'approv act', 'act changedattribut', 'changedattribut reject', 'reject act', 'act processingactivityform', 'processingactivityform step2', 'step2 step3', 'step3 act', 'act processingactivityform', 'processingactivityform step3', 'step3 step4', 'step4 act', 'act processingactivitywizard', 'processingactivitywizard step1', 'step1 step2', 'step2 act', 'act processingact', 'processingact gotostepx', 'gotostepx invaliddata', 'invaliddata act', 'act processingact', 'processingact submit', 'submit fromstep4', 'fromstep4 act', 'act processingact', 'processingact submit', 'submit fromwizardhead', 'fromwizardhead processingact', 'processingact view', 'view sub', 'sub changedattribut', 'changedattribut process', 'process step1', 'step1 sub', 'sub changedattribut', 'changedattribut save', 'save step1', 'step1 sub', 'sub changedattribut', 'changedattribut save', 'save step2', 'step2 sub', 'sub changedattribut', 'changedattribut save', 'save step3', 'step3 sub', 'sub changedattribut', 'changedattribut save', 'save step4', 'step4 sub', 'sub processingact', 'processingact getorigin', 'getorigin sub', 'sub processingact', 'processingact step3', 'step3 save', 'save sendingen', 'enum informationboxfield', 'sub processingacitivti', 'processingacitivti approv', 'act datacategori', 'datacategori save', 'save act', 'act datacontrol', 'datacontrol save', 'save act', 'act datasubject', 'datasubject save', 'save act', 'act faq', 'faq save', 'save act', 'act legalbasi', 'legalbasi save', 'save act', 'act messag', 'messag add', 'add act', 'act processingactivitywizard', 'processingactivitywizard step1', 'step1 step2', 'step2 act', 'act processingact', 'processingact approv', 'approv act', 'act processingact', 'processingact new', 'new administr', 'administr act', 'act processingact', 'processingact reject', 'reject act', 'act processingact', 'processingact submitinvalid', 'submitinvalid act', 'act processingact', 'processingact submit', 'submit fromstep4', 'fromstep4 act', 'act processingact', 'processingact submit', 'submit fromwizardhead', 'fromwizardhead act', 'act processorsafeguard', 'processorsafeguard save', 'save act', 'act recentupd', 'recentupd opendetailpag', 'opendetailpag action', 'action categori', 'categori newedit', 'newedit categori', 'categori overview', 'overview ds', 'ds faq', 'faq createsearcherandfilt', 'createsearcherandfilt faq', 'faq home', 'home faq', 'faq newedit', 'newedit home', 'home privacymanag', 'privacymanag home', 'home processown', 'processown home', 'home user', 'user page', 'page recenupd', 'recenupd overview', 'overview recent', 'recent sub', 'sub recentupd', 'recentupd creat', 'creat sub', 'sub recentupd', 'recentupd removefaqupd', 'removefaqupd sce', 'sce recentupd', 'recentupd deleteolderthan6month', 'deleteolderthan6month sendingen', 'sendingen updat', 'datacategori view', 'view datacontrol', 'datacontrol view', 'view datasubject', 'datasubject view', 'view depart', 'depart view', 'view imag', 'imag collect', 'collect legalbasi', 'legalbasi view', 'view processingact', 'processingact form', 'form step2', 'step2 processingact', 'processingact form', 'form step3', 'step3 processingact', 'processingact form', 'form step4', 'step4 processingact', 'processingact view', 'view processor', 'processor view', 'view region', 'region overview', 'overview safeguard', 'safeguard view', 'view securitymeasur', 'securitymeasur view', 'processingact form', 'form step3', 'act changedattribut', 'changedattribut approv', 'approv act', 'act changedattribut', 'changedattribut reject', 'reject act', 'act processingactivityform', 'processingactivityform step2', 'step2 step3', 'step3 act', 'act processingactivitywizard', 'processingactivitywizard step1', 'step1 step2', 'step2 act', 'act processingact', 'processingact gotostepx', 'gotostepx invaliddata', 'invaliddata act', 'act processingact', 'processingact revisedvers', 'revisedvers act', 'act processingact', 'processingact submit', 'submit fromstep4', 'fromstep4 act', 'act processingact', 'processingact submit', 'submit fromwizardhead', 'fromwizardhead ds', 'ds layouthelp', 'layouthelp changedattribut', 'changedattribut processingact', 'processingact view', 'view sub', 'sub changedattribut', 'changedattribut checkown', 'checkown sub', 'sub changedattribut', 'changedattribut saveexist', 'saveexist step1', 'step1 sub', 'sub changedattribut', 'changedattribut saveexist', 'saveexist step2', 'step2 sub', 'sub changedattribut', 'changedattribut saveexist', 'saveexist step3', 'step3 sub', 'sub changedattribut', 'changedattribut saveexist', 'saveexist step4', 'step4 sub', 'sub changedattribut', 'changedattribut save', 'save step1', 'step1 sub', 'sub changedattribut', 'changedattribut save', 'save step2', 'step2 sub', 'sub changedattribut', 'changedattribut save', 'save step3', 'step3 sub', 'sub changedattribut', 'changedattribut save', 'save step4', 'step4 sub', 'sub changedattribut', 'changedattribut step1', 'step1 sub', 'sub changedattribut', 'changedattribut step2', 'step2 sub', 'sub changedattribut', 'changedattribut step3', 'step3 sub', 'sub changedattribut', 'changedattribut step4', 'step4 sub', 'sub processingact', 'processingact getorigin', 'getorigin sub', 'sub processingact', 'processingact step3', 'step3 save', 'processingact form', 'form step3', 'sub changedattribut', 'changedattribut checkown', 'act processingact', 'processingact approv', 'approv act', 'act processingact', 'processingact assign', 'assign delet', 'delet act', 'act processingact', 'processingact deletedraft', 'deletedraft act', 'act processingact', 'processingact revisedvers', 'revisedvers sub', 'sub processingact', 'processingact delet', 'delet snip', 'snip wizardhead', 'act processingact', 'processingact edit', 'edit act', 'act processingact', 'processingact savedraft', 'savedraft sub', 'sub processingact', 'processingact revisedvers', 'revisedvers snip', 'snip wizardhead', 'processingact form', 'form step1', 'step1 processingact', 'processingact form', 'form step1', 'step1 2', '2 processingact', 'processingact form', 'form step2', 'step2 processingact', 'processingact form', 'form step2', 'step2 2', '2 processingact', 'processingact form', 'form step3', 'step3 processingact', 'processingact form', 'form step3', 'step3 2', '2 processingact', 'processingact form', 'form step4', 'step4 processingact', 'processingact form', 'form step4', 'step4 2', 'act depart', 'depart save', 'save home', 'home privacymanag', 'privacymanag home', 'home processown', 'processown home', 'home user', 'user recentupd', 'recentupd overview', 'overview sub', 'sub recentupd', 'recentupd creat', 'creat sub', 'sub recentupd', 'recentupd removefaqupd', 'act informationbox', 'informationbox open', 'open collectedbythirdparti', 'collectedbythirdparti act', 'act processingact', 'processingact approv', 'approv act', 'act processingact', 'processingact backbutton', 'backbutton act', 'act processingact', 'processingact revisedvers', 'revisedvers act', 'act processingact', 'processingact submitinvalid', 'submitinvalid act', 'act processingact', 'processingact submit', 'submit fromstep4', 'fromstep4 act', 'act processingact', 'processingact submit', 'submit fromwizardhead', 'fromwizardhead asu', 'asu informationbox', 'informationbox creat', 'creat administr', 'administr configur', 'configur overview', 'overview categori', 'categori overview', 'overview datacategori', 'datacategori overview', 'overview datacontrol', 'datacontrol overview', 'overview datasubject', 'datasubject overview', 'overview depart', 'depart overview', 'overview enum', 'enum informationboxfield', 'informationboxfield home', 'home processown', 'processown informationbox', 'informationbox overview', 'overview legalbasi', 'legalbasi overview', 'overview processown', 'processown overview', 'overview processingact', 'processingact form', 'form step1', 'step1 processingact', 'processingact form', 'form step2', 'step2 processor', 'processor overview', 'overview region', 'region overview', 'overview sub', 'sub datacategoryassign', 'datacategoryassign step2', 'step2 save', 'save sub', 'sub processingacitivti', 'processingacitivti approv', 'approv sub', 'sub processingact', 'processingact allstep', 'allstep save', 'save safeguard', 'safeguard overview', 'overview securitymeasur', 'securitymeasur overview', 'overview sendingen', 'processingact form', 'form step1', 'step1 processingact', 'processingact form', 'form step2', 'step2 processingact', 'processingact form', 'form step3', 'step3 processingact', 'processingact form', 'form step4', 'step4 safeguard', 'safeguard view', 'snip navig', 'snip navig', 'act processingact', 'processingact approv', 'approv act', 'act processingact', 'processingact reject', 'reject act', 'act processingact', 'processingact submitinvalid', 'submitinvalid act', 'act processingact', 'processingact submit', 'submit fromstep4', 'fromstep4 act', 'act processingact', 'processingact submit', 'submit fromwizardhead', 'fromwizardhead home', 'home privacymanag', 'privacymanag home', 'home processown', 'processown home', 'home user', 'user recentupd', 'recentupd overview', 'overview privacymanag', 'privacymanag recentupd', 'recentupd overview', 'overview processown', 'processown recentupd', 'recentupd overview', 'overview user', 'user sub', 'sub recentupd', 'recentupd creat', 'se messag', 'messag deleteolderthansixmonth', 'processown view', 'view processor', 'processor view', 'processingact view', 'act datacategoryassign', 'datacategoryassign remov', 'remov act', 'act legalbasisassign', 'legalbasisassign delet', 'delet act', 'act processingactivityform', 'processingactivityform step2', 'step2 step1', 'step1 act', 'act processingactivityform', 'processingactivityform step2', 'step2 step3', 'step3 act', 'act processingactivityform', 'processingactivityform step2', 'step2 step4', 'step4 act', 'act processingactivityform', 'processingactivityform step3', 'step3 step1', 'step1 act', 'act processingactivityform', 'processingactivityform step3', 'step3 step2', 'step2 act', 'act processingactivityform', 'processingactivityform step3', 'step3 step4', 'step4 act', 'act processingactivityform', 'processingactivityform step4', 'step4 step1', 'step1 act', 'act processingactivityform', 'processingactivityform step4', 'step4 step2', 'step2 act', 'act processingactivityform', 'processingactivityform step4', 'step4 step3', 'step3 act', 'act processingactivitywizard', 'processingactivitywizard step1', 'step1 step2', 'step2 act', 'act processingactivitywizard', 'processingactivitywizard step1', 'step1 step3', 'step3 act', 'act processingactivitywizard', 'processingactivitywizard step1', 'step1 step4', 'step4 act', 'act processingact', 'processingact backbutton', 'backbutton act', 'act processingact', 'processingact datacategori', 'datacategori sidepanel', 'sidepanel add', 'add act', 'act processingact', 'processingact edit', 'edit act', 'act processingact', 'processingact gotostepx', 'gotostepx invaliddata', 'invaliddata act', 'act processingact', 'processingact legalbasi', 'legalbasi sidepanel', 'sidepanel add', 'add act', 'act processingact', 'processingact processor', 'processor remov', 'remov act', 'act processingact', 'processingact processor', 'processor sidepanel', 'sidepanel add', 'add act', 'act processingact', 'processingact submitinvalid', 'submitinvalid act', 'act processingact', 'processingact submit', 'submit fromstep4', 'fromstep4 act', 'act processingact', 'processingact submit', 'submit fromwizardhead', 'fromwizardhead act', 'act receiv', 'receiv remov', 'remov act', 'act receiv', 'receiv save', 'save chang', 'chang oen', 'oen changedattribut', 'changedattribut durat', 'durat oen', 'oen changedattribut', 'changedattribut sensitivedata', 'sensitivedata ole', 'ole changedattribut', 'changedattribut durat', 'durat ole', 'ole changedattribut', 'changedattribut sensitivedata', 'sensitivedata processingact', 'processingact form', 'form step2', 'step2 processingact', 'processingact form', 'form step3', 'step3 processingact', 'processingact view', 'view sub', 'sub changedattribut', 'changedattribut creat', 'creat sub', 'sub changedattribut', 'changedattribut creat', 'creat addtolist', 'addtolist sub', 'sub changedattribut', 'changedattribut legalbasi', 'legalbasi remov', 'remov sub', 'sub changedattribut', 'changedattribut onleavewizard', 'onleavewizard sub', 'sub changedattribut', 'changedattribut step1', 'step1 sub', 'sub changedattribut', 'changedattribut step1', 'step1 new', 'new sub', 'sub changedattribut', 'changedattribut step1', 'step1 pend', 'pend sub', 'sub changedattribut', 'changedattribut step1', 'step1 pendingornew', 'pendingornew sub', 'sub changedattribut', 'changedattribut step1', 'step1 privacymanag', 'privacymanag sub', 'sub changedattribut', 'changedattribut step1', 'step1 processown', 'processown sub', 'sub changedattribut', 'changedattribut step2', 'step2 sub', 'sub changedattribut', 'changedattribut step2', 'step2 new', 'new sub', 'sub changedattribut', 'changedattribut step2', 'step2 pend', 'pend sub', 'sub changedattribut', 'changedattribut step2', 'step2 pendingornew', 'pendingornew sub', 'sub changedattribut', 'changedattribut step2', 'step2 privacymanag', 'privacymanag sub', 'sub changedattribut', 'changedattribut step2', 'step2 processown', 'processown sub', 'sub changedattribut', 'changedattribut step3', 'step3 sub', 'sub changedattribut', 'changedattribut step3', 'step3 new', 'new sub', 'sub changedattribut', 'changedattribut step3', 'step3 pendingornew', 'pendingornew sub', 'sub changedattribut', 'changedattribut step3', 'step3 privacymanag', 'privacymanag sub', 'sub changedattribut', 'changedattribut step3', 'step3 processown', 'processown sub', 'sub changedattribut', 'changedattribut step4', 'step4 sub', 'sub changedattribut', 'changedattribut step4', 'step4 new', 'new sub', 'sub changedattribut', 'changedattribut step4', 'step4 pend', 'pend sub', 'sub changedattribut', 'changedattribut step4', 'step4 pendingornew', 'pendingornew sub', 'sub changedattribut', 'changedattribut step4', 'step4 privacymanag', 'privacymanag sub', 'sub changedattribut', 'changedattribut step4', 'step4 processown', 'processown sub', 'sub changedattribut', 'changedattribut checkown', 'checkown sub', 'sub changedattribut', 'changedattribut saveexist', 'saveexist step3', 'step3 sub', 'sub changedattribut', 'changedattribut step2', 'step2 sub', 'sub changedattribut', 'changedattribut step3', 'step3 sub', 'sub changedattribut', 'changedattribut step4', 'step4 sub', 'sub processingact', 'processingact getorigin', 'getorigin sub', 'sub processingact', 'processingact revisedvers', 'revisedvers sub', 'sub processingact', 'processingact step3', 'step3 save', 'act changedattribut', 'changedattribut approv', 'approv chang', 'chang ds', 'ds processingperregionperdepart', 'act datacategoryassign', 'datacategoryassign remov', 'remov act', 'act processingact', 'processingact datacategori', 'datacategori sidepanel', 'sidepanel add', 'add act', 'act processingact', 'processingact legalbasi', 'legalbasi sidepanel', 'sidepanel add', 'add sub', 'sub changedattribut', 'changedattribut legalbasi', 'legalbasi remov', 'remov sub', 'sub processingact', 'processingact delet', 'processingact view', 'sub recentupd', 'recentupd creat', 'ds processingact', 'processingact assignprocessown', 'sub recentupd', 'recentupd creat', 'faq home', 'home processingact', 'processingact view', 'processingact form', 'form step1', 'step1 processingact', 'processingact form', 'form step2', 'step2 processingact', 'processingact form', 'form step3', 'step3 processingact', 'processingact form', 'form step4', 'categori overview', 'overview datacategori', 'datacategori overview', 'overview datacontrol', 'datacontrol overview', 'overview datasubject', 'datasubject overview', 'overview depart', 'depart overview', 'overview informationbox', 'informationbox overview', 'overview legalbasi', 'legalbasi overview', 'overview processown', 'processown overview', 'overview processingact', 'processingact overview', 'overview processor', 'processor overview', 'overview region', 'region overview', 'overview safeguard', 'safeguard overview', 'overview securitymeasur', 'securitymeasur overview', 'processingact report', 'report overview', 'processingact form', 'form step1', 'step1 processingact', 'processingact form', 'form step2', 'step2 processingact', 'processingact form', 'form step3', 'step3 processingact', 'processingact form', 'form step4', 'home privacymanag', 'privacymanag home', 'home processown', 'processown home', 'home user', 'processingact report', 'report overview', 'och processingact', 'processingact refresh', 'sce messag', 'messag deleteolderthansixmonth', 'deleteolderthansixmonth snip', 'snip messag', 'messag listitem', 'listitem snip', 'snip navig', 'processingact form', 'form step1', 'step1 processingact', 'processingact form', 'form step2', 'step2 processingact', 'processingact form', 'form step3', 'step3 processingact', 'processingact form', 'form step4', 'faq home', 'datacategori view', 'view datacontrol', 'datacontrol view', 'view datasubject', 'datasubject view', 'view depart', 'depart view', 'view imag', 'imag collect', 'collect legalbasi', 'legalbasi view', 'view processown', 'processown view', 'view processingact', 'processingact form', 'form step1', 'step1 processingact', 'processingact form', 'form step2', 'step2 processingact', 'processingact form', 'form step3', 'step3 processingact', 'processingact form', 'form step4', 'step4 processingact', 'processingact view', 'view processor', 'processor view', 'view region', 'region overview', 'overview safeguard', 'safeguard view', 'view securitymeasur', 'securitymeasur view', 'act securitymeasur', 'securitymeasur onclick', 'onclick home', 'home privacymanag', 'privacymanag home', 'home processown', 'processown home', 'home user', 'user objecttyp', 'objecttyp sub', 'sub searchresult', 'searchresult securitymeasur', 'securitymeasur sub', 'sub searcher', 'searcher getassociatedobject', 'getassociatedobject sub', 'sub securitymeasur', 'securitymeasur creat', 'creat sub', 'sub securitymeasur', 'securitymeasur getassociatedresult', 'act datacategori', 'datacategori save', 'save act', 'act datacontrol', 'datacontrol save', 'save act', 'act datasubject', 'datasubject save', 'save act', 'act depart', 'depart save', 'save act', 'act faq', 'faq save', 'save act', 'act legalbasi', 'legalbasi save', 'save act', 'act processingact', 'processingact approv', 'approv act', 'act processingact', 'processingact reject', 'reject act', 'act processingact', 'processingact submitinvalid', 'submitinvalid act', 'act processingact', 'processingact submit', 'submit fromstep4', 'fromstep4 act', 'act processingact', 'processingact submit', 'submit fromwizardhead', 'fromwizardhead act', 'act processorsafeguard', 'processorsafeguard save', 'save act', 'act processor', 'processor save', 'save act', 'act recentupd', 'recentupd opendetailpag', 'opendetailpag act', 'act securitymeasur', 'securitymeasur save', 'save home', 'home privacymanag', 'privacymanag home', 'home processown', 'processown recentupd', 'recentupd overview', 'overview privacymanag', 'privacymanag recentupd', 'recentupd overview', 'overview processown', 'processown recentupd', 'recentupd overview', 'overview user', 'user sub', 'sub recentupd', 'recentupd creat', 'creat sce', 'sce recentupd', 'recentupd deleteolderthan6month', 'processingact form', 'form step1', 'step1 processingact', 'processingact form', 'form step2', 'step2 processingact', 'processingact form', 'form step3', 'step3 processingact', 'processingact form', 'form step4', 'categori overview', 'overview datacategori', 'datacategori overview', 'overview datacontrol', 'datacontrol overview', 'overview datasubject', 'datasubject overview', 'overview depart', 'depart overview', 'overview informationbox', 'informationbox overview', 'overview legalbasi', 'legalbasi overview', 'overview processown', 'processown overview', 'overview processingact', 'processingact overview', 'overview processor', 'processor overview', 'overview region', 'region overview', 'overview safeguard', 'safeguard overview', 'overview securitymeasur', 'securitymeasur overview', 'act datacategori', 'datacategori save', 'save act', 'act datacontrol', 'datacontrol save', 'save act', 'act datasubject', 'datasubject save', 'save act', 'act depart', 'depart save', 'save act', 'act faq', 'faq save', 'save act', 'act legalbasi', 'legalbasi save', 'save act', 'act messag', 'messag add', 'add act', 'act processingactivitywizard', 'processingactivitywizard step1', 'step1 step2', 'step2 act', 'act processingact', 'processingact approv', 'approv act', 'act processingact', 'processingact new', 'new administr', 'administr act', 'act processingact', 'processingact reject', 'reject act', 'act processingact', 'processingact submitinvalid', 'submitinvalid act', 'act processingact', 'processingact submit', 'submit fromstep4', 'fromstep4 act', 'act processingact', 'processingact submit', 'submit fromwizardhead', 'fromwizardhead act', 'act processorsafeguard', 'processorsafeguard save', 'save act', 'act processor', 'processor save', 'save act', 'act recentupd', 'recentupd opendetailpag', 'opendetailpag act', 'act securitymeasur', 'securitymeasur save', 'save action', 'action categori', 'categori newedit', 'newedit categori', 'categori overview', 'overview ds', 'ds faq', 'faq createsearcherandfilt', 'createsearcherandfilt faq', 'faq home', 'home faq', 'faq newedit', 'newedit home', 'home privacymanag', 'privacymanag home', 'home processown', 'processown home', 'home user', 'user page', 'page recent', 'recent recentupd', 'recentupd overview', 'overview privacymanag', 'privacymanag recentupd', 'recentupd overview', 'overview processown', 'processown recentupd', 'recentupd overview', 'overview user', 'user sub', 'sub processingacitivti', 'processingacitivti approv', 'approv sub', 'sub recentupd', 'recentupd creat', 'creat sce', 'sce recentupd', 'recentupd deleteolderthan6month', 'deleteolderthan6month updat', 'administr configur', 'configur overview', 'overview region', 'region overview', 'administr configur', 'configur overview', 'overview categori', 'categori overview', 'overview datacontrol', 'datacontrol overview', 'overview datasubject', 'datasubject overview', 'overview depart', 'depart overview', 'overview informationbox', 'informationbox overview', 'overview legalbasi', 'legalbasi overview', 'overview processown', 'processown overview', 'overview processingact', 'processingact overview', 'overview region', 'region overview', 'overview safeguard', 'safeguard overview', 'overview securitymeasur', 'securitymeasur overview', 'processingact form', 'form step1', 'step1 processingact', 'processingact form', 'form step2', 'step2 processingact', 'processingact form', 'form step3', 'step3 processingact', 'processingact form', 'form step4', 'depart view', 'view region', 'region overview', 'faq home', 'home home', 'home privacymanag', 'privacymanag home', 'home processown', 'processown home', 'home user', 'user processingact', 'processingact view', 'view processingact', 'processingact report', 'report overview', 'datacategori overview', 'overview processingact', 'processingact overview', 'overview processor', 'processor overview', 'processingact form', 'form step4', 'processingact form', 'form step4', 'processingact form', 'form step4', 'administr configur', 'configur overview', 'overview categori', 'categori overview', 'overview ds', 'ds depart', 'depart region', 'region onestr', 'onestr datacategori', 'datacategori newedit', 'newedit datacategori', 'datacategori overview', 'overview datacategori', 'datacategori view', 'view datacontrol', 'datacontrol newedit', 'newedit datacontrol', 'datacontrol overview', 'overview datacontrol', 'datacontrol view', 'view datasubject', 'datasubject newedit', 'newedit datasubject', 'datasubject overview', 'overview datasubject', 'datasubject view', 'view depart', 'depart newedit', 'newedit depart', 'depart overview', 'overview depart', 'depart processown', 'processown edit', 'edit depart', 'depart view', 'view informationbox', 'informationbox overview', 'overview legalbasi', 'legalbasi newedit', 'newedit legalbasi', 'legalbasi overview', 'overview legalbasi', 'legalbasi view', 'view processown', 'processown overview', 'overview processown', 'processown view', 'view processingact', 'processingact overview', 'overview processor', 'processor overview', 'overview processor', 'processor view', 'view recentupd', 'recentupd overview', 'overview privacymanag', 'privacymanag recentupd', 'recentupd overview', 'overview processown', 'processown recentupd', 'recentupd overview', 'overview user', 'user region', 'region newedit', 'newedit region', 'region overview', 'overview safeguard', 'safeguard newedit', 'newedit safeguard', 'safeguard overview', 'overview safeguard', 'safeguard view', 'view securitymeasur', 'securitymeasur newedit', 'newedit securitymeasur', 'securitymeasur overview', 'overview securitymeasur', 'securitymeasur view', 'datacategori overview', 'overview processor', 'processor overview', '100 lognod', 'lognod readm', 'readm doc', 'doc readm', 'readm resourc', 'resourc version', 'sce messag', 'messag deleteolderthansixmonth', 'deleteolderthansixmonth sce', 'sce searchableobject', 'searchableobject updat', 'bco activitychang', 'activitychang updat', 'updat lastupd', 'lastupd enum', 'enum revisionchang', 'revisionchang objecttyp', 'objecttyp enum', 'enum revisionchang', 'revisionchang statu', 'statu processingact', 'processingact view', 'act processingact', 'processingact backbutton', 'backbutton act', 'act processingact', 'processingact changeprocessown', 'changeprocessown act', 'act processingact', 'processingact delet', 'delet act', 'act processingact', 'processingact deletedraft', 'deletedraft act', 'act processingact', 'processingact revisedvers', 'revisedvers act', 'act processingact', 'processingact savedraft', 'savedraft act', 'act processingact', 'processingact submit', 'submit fromstep4', 'fromstep4 ds', 'ds processingact', 'processingact assignprocessown', 'assignprocessown gener', 'gener processingact', 'processingact changeprocessown', 'changeprocessown sub', 'sub informationbox', 'informationbox linkandcloseal', 'act processingact', 'processingact revisedvers', 'revisedvers act', 'act processingact', 'processingact submitinvalid', 'submitinvalid act', 'act processingact', 'processingact submit', 'submit fromstep4', 'fromstep4 act', 'act processingact', 'processingact submit', 'submit fromwizardhead', 'fromwizardhead accept', 'accept chang', 'chang enum', 'enum revisionchang', 'revisionchang fieldtyp', 'fieldtyp pend', 'pend processingact', 'processingact view', 'view sub', 'sub processingact', 'processingact revisedvers', 'revisedvers associ', 'associ sub', 'sub revisionchang', 'revisionchang createpend', 'createpend sub', 'sub revisionchang', 'revisionchang determinepend', 'determinepend sub', 'sub revisionchang', 'revisionchang submit', 'submit sub', 'sub revisionchang', 'revisionchang step1', 'step1 pend', 'pend snip', 'snip wizardhead', 'sub processingacitivti', 'processingacitivti approv', 'approv sub', 'sub processingact', 'processingact edit', 'edit sub', 'sub processingact', 'processingact rejectedvers', 'rejectedvers sub', 'sub processingact', 'processingact revisedvers', 'revisedvers sub', 'sub processingact', 'processingact revisedvers', 'revisedvers associ', 'associ sub', 'sub revisionchang', 'revisionchang determinepend', 'determinepend sub', 'sub revisionchang', 'revisionchang step1', 'step1 pend', 'pend sub', 'sub revisionchang', 'revisionchang submit', 'act processingact', 'processingact approv', 'approv act', 'act revisionchang', 'revisionchang accept', 'act revisionchang', 'revisionchang reject', 'accept activ', 'activ approv', 'approv chang', 'chang ds', 'ds layouthelp', 'layouthelp revisionchang', 'revisionchang visibl', 'visibl pend', 'pend process', 'process processingact', 'processingact view', 'view reject', 'reject sub', 'sub processingacitivti', 'processingacitivti approv', 'approv sub', 'sub processingact', 'processingact rejectedvers', 'rejectedvers sub', 'sub revisionchang', 'revisionchang determineaccept', 'determineaccept sub', 'sub revisionchang', 'revisionchang determinepend', 'determinepend sub', 'sub revisionchang', 'revisionchang step1', 'step1 createpend', 'enum revisionchang', 'revisionchang fieldtyp', 'fieldtyp processingact', 'processingact view', 'view sub', 'sub processingact', 'processingact revisedvers', 'revisedvers associ', 'associ sub', 'sub revisionchang', 'revisionchang determineaccept', 'determineaccept sub', 'sub revisionchang', 'revisionchang determinepend', 'determinepend sub', 'sub revisionchang', 'revisionchang step1', 'step1 createpend', 'createpend sub', 'sub revisionchang', 'revisionchang step2', 'step2 createpend', 'createpend sub', 'sub revisionchang', 'revisionchang step3', 'step3 createpend', 'createpend sub', 'sub revisionchang', 'revisionchang step4', 'step4 createpend', 'processingact form', 'form step1', 'step1 processingact', 'processingact form', 'form step2', 'processingact form', 'form step1', 'sub processingact', 'processingact revisedvers', 'revisedvers associ', 'processingact view', 'view sub', 'sub processingact', 'processingact revisedvers', 'revisedvers associ', 'depart overview', 'overview region', 'region overview', '100 act', 'act processingact', 'processingact approv', 'approv act', 'act processingact', 'processingact backbutton', 'backbutton act', 'act processingact', 'processingact changeprocessown', 'changeprocessown act', 'act processingact', 'processingact delet', 'delet act', 'act processingact', 'processingact deletedraft', 'deletedraft act', 'act processingact', 'processingact savedraft', 'savedraft act', 'act processingact', 'processingact submitinvalid', 'submitinvalid act', 'act processingact', 'processingact submit', 'submit fromstep4', 'fromstep4 act', 'act processingact', 'processingact submit', 'submit fromwizardhead', 'fromwizardhead act', 'act revisionchang', 'revisionchang accept', 'act revisionchang', 'revisionchang reject', 'accept activ', 'activ approv', 'approv bco', 'bco activitychang', 'activitychang updat', 'updat lastupd', 'lastupd chang', 'chang ds', 'ds layouthelp', 'layouthelp revisionchang', 'revisionchang visibl', 'visibl ds', 'ds processingact', 'processingact assignprocessown', 'assignprocessown depart', 'depart overview', 'overview enum', 'enum revisionchang', 'revisionchang fieldtyp', 'fieldtyp enum', 'enum revisionchang', 'revisionchang statu', 'statu gener', 'gener lognod', 'lognod pend', 'pend process', 'process processingact', 'processingact changeprocessown', 'changeprocessown processingact', 'processingact view', 'view readm', 'readm region', 'region overview', 'overview reject', 'reject sub', 'sub informationbox', 'informationbox linkandcloseal', 'linkandcloseal sub', 'sub processingacitivti', 'processingacitivti approv', 'approv sub', 'sub processingact', 'processingact edit', 'edit sub', 'sub processingact', 'processingact rejectedvers', 'rejectedvers sub', 'sub processingact', 'processingact revisedvers', 'revisedvers sub', 'sub processingact', 'processingact revisedvers', 'revisedvers associ', 'associ sub', 'sub revisionchang', 'revisionchang createpend', 'createpend sub', 'sub revisionchang', 'revisionchang determineaccept', 'determineaccept sub', 'sub revisionchang', 'revisionchang determinepend', 'determinepend sub', 'sub revisionchang', 'revisionchang step1', 'step1 createpend', 'createpend sub', 'sub revisionchang', 'revisionchang step2', 'step2 createpend', 'createpend sub', 'sub revisionchang', 'revisionchang step3', 'step3 createpend', 'createpend sub', 'sub revisionchang', 'revisionchang step4', 'step4 createpend', 'createpend sub', 'sub revisionchang', 'revisionchang submit', 'submit sce', 'sce messag', 'messag deleteolderthansixmonth', 'deleteolderthansixmonth sce', 'sce searchableobject', 'searchableobject updat', 'updat snip', 'snip wizardhead', 'wizardhead doc', 'doc readm', 'readm resourc', 'resourc version', 'act depart', 'depart processown', 'processown cancel', 'cancel act', 'act depart', 'depart processown', 'processown save', 'save och', 'och processingact', 'processingact refresh', 'refresh och', 'och processingact', 'processingact refresh', 'refresh depart', 'depart processingact', 'processingact form', 'form step1', 'step1 sub', 'sub revisionchang', 'revisionchang step2', 'step2 createpend', 'categori overview', 'overview recentupd', 'recentupd overview', 'overview privacymanag', 'privacymanag recentupd', 'recentupd overview', 'overview processown', 'processown recentupd', 'recentupd overview', 'overview user']\n"
     ]
    }
   ],
   "source": [
    "print(intermediateData_SVNUnitNames_dataProcessingCorpus_2gram)"
   ]
  },
  {
   "cell_type": "markdown",
   "id": "cellular-production",
   "metadata": {},
   "source": [
    "# 3. Preprocess Data"
   ]
  },
  {
   "cell_type": "code",
   "execution_count": 39,
   "id": "looking-elite",
   "metadata": {},
   "outputs": [],
   "source": [
    "#Run this code block when you've restarted the kernel, and want to use previously gained results.\n",
    "intermediateData_JIRA_dataProcessing = pd.read_pickle(\"../data/02_intermediate/intermediateData_JIRA_dataProcessing.pkl\")\n",
    "intermediateData_JIRA_academyMay = pd.read_pickle(\"../data/02_intermediate/intermediateData_JIRA_academyMay.pkl\")\n",
    "\n",
    "intermediateData_SVN_dataProcessing = pd.read_pickle(\"../data/02_intermediate/intermediateData_SVN_dataProcessing.pkl\")\n",
    "intermediateData_SVN_academy = pd.read_pickle(\"../data/02_intermediate/intermediateData_SVN_academy.pkl\")\n",
    "\n",
    "\n",
    "\n",
    "intermediateData_JIRA_dataProcessingCorpus = pd.read_pickle(r'../data/02_intermediate/intermediateData_JIRA_dataProcessingCorpus.pkl')\n",
    "intermediateData_JIRA_academyMayCorpus = pd.read_pickle(r'../data/02_intermediate/intermediateData_JIRA_academyMayCorpus.pkl')\n",
    "\n",
    "intermediateData_SVN_dataProcessingCorpusAll = pd.read_pickle(r'../data/02_intermediate/intermediateData_SVN_dataProcessingCorpusAll.pkl')\n",
    "intermediateData_SVN_dataProcessingCorpusModel = pd.read_pickle(r'../data/02_intermediate/intermediateData_SVN_dataProcessingCorpusModel.pkl')\n",
    "intermediateData_SVN_dataProcessingCorpus = pd.read_pickle(r'../data/02_intermediate/intermediateData_SVN_dataProcessingCorpus.pkl')\n",
    "intermediateData_SVN_academyCorpus = pd.read_pickle(r'../data/02_intermediate/intermediateData_SVN_academyCorpus.pkl')\n",
    "\n",
    "############# Bigrams\n",
    "\n",
    "\n",
    "############# Trigrams"
   ]
  },
  {
   "cell_type": "markdown",
   "id": "secondary-filter",
   "metadata": {},
   "source": [
    "## 3.0 Preprocess Data - Create cartesian product JIRA x Commits"
   ]
  },
  {
   "cell_type": "code",
   "execution_count": 40,
   "id": "streaming-machinery",
   "metadata": {},
   "outputs": [],
   "source": [
    "#Create cartesian products JIRA x Commits\n",
    "processedData_dataProcessingCartesian = intermediateData_JIRA_dataProcessing.merge(intermediateData_SVN_dataProcessing, how='cross')\n",
    "processedData_academyCartesian = intermediateData_JIRA_academyMay.merge(intermediateData_SVN_academy, how='cross')\n",
    "\n",
    "#Create a pickle file for all intermediate datasets\n",
    "processedData_dataProcessingCartesian.to_pickle(path= \"../data/03_processed/processedData_dataProcessingCartesian.pkl\")\n",
    "processedData_academyCartesian.to_pickle(path= \"../data/03_processed/processedData_academyCartesian.pkl\")"
   ]
  },
  {
   "cell_type": "markdown",
   "id": "ignored-recommendation",
   "metadata": {},
   "source": [
    "## 3.1 Preprocess Data - Create Labels"
   ]
  },
  {
   "cell_type": "code",
   "execution_count": 41,
   "id": "incredible-crowd",
   "metadata": {},
   "outputs": [
    {
     "name": "stdout",
     "output_type": "stream",
     "text": [
      "Finished creating labels for dataProcessing\n",
      "Finished creating labels for academy\n"
     ]
    },
    {
     "data": {
      "text/html": [
       "<div>\n",
       "<style scoped>\n",
       "    .dataframe tbody tr th:only-of-type {\n",
       "        vertical-align: middle;\n",
       "    }\n",
       "\n",
       "    .dataframe tbody tr th {\n",
       "        vertical-align: top;\n",
       "    }\n",
       "\n",
       "    .dataframe thead th {\n",
       "        text-align: right;\n",
       "    }\n",
       "</style>\n",
       "<table border=\"1\" class=\"dataframe\">\n",
       "  <thead>\n",
       "    <tr style=\"text-align: right;\">\n",
       "      <th></th>\n",
       "      <th>is_valid</th>\n",
       "    </tr>\n",
       "  </thead>\n",
       "  <tbody>\n",
       "    <tr>\n",
       "      <th>0</th>\n",
       "      <td>False</td>\n",
       "    </tr>\n",
       "    <tr>\n",
       "      <th>1</th>\n",
       "      <td>False</td>\n",
       "    </tr>\n",
       "    <tr>\n",
       "      <th>2</th>\n",
       "      <td>False</td>\n",
       "    </tr>\n",
       "    <tr>\n",
       "      <th>3</th>\n",
       "      <td>False</td>\n",
       "    </tr>\n",
       "    <tr>\n",
       "      <th>4</th>\n",
       "      <td>False</td>\n",
       "    </tr>\n",
       "    <tr>\n",
       "      <th>5</th>\n",
       "      <td>False</td>\n",
       "    </tr>\n",
       "    <tr>\n",
       "      <th>6</th>\n",
       "      <td>False</td>\n",
       "    </tr>\n",
       "    <tr>\n",
       "      <th>7</th>\n",
       "      <td>False</td>\n",
       "    </tr>\n",
       "    <tr>\n",
       "      <th>8</th>\n",
       "      <td>False</td>\n",
       "    </tr>\n",
       "    <tr>\n",
       "      <th>9</th>\n",
       "      <td>False</td>\n",
       "    </tr>\n",
       "  </tbody>\n",
       "</table>\n",
       "</div>"
      ],
      "text/plain": [
       "   is_valid\n",
       "0     False\n",
       "1     False\n",
       "2     False\n",
       "3     False\n",
       "4     False\n",
       "5     False\n",
       "6     False\n",
       "7     False\n",
       "8     False\n",
       "9     False"
      ]
     },
     "execution_count": 41,
     "metadata": {},
     "output_type": "execute_result"
    }
   ],
   "source": [
    "#Create new dataFrames for the time features\n",
    "processedData_dataProcessingLabels = pd.DataFrame() \n",
    "processedData_academyLabels = pd.DataFrame() \n",
    "\n",
    "#Create a column, which indicates which traces are valid.\n",
    "processedData_dataProcessingLabels[\"is_valid\"] = processedData_dataProcessingCartesian.apply(lambda x: checkValidityTrace(x.Issue_key_jira, x.Issue_key_commit), axis=1)\n",
    "print(\"Finished creating labels for dataProcessing\")\n",
    "processedData_academyLabels[\"is_valid\"] = processedData_academyCartesian.apply(lambda x: checkValidityTrace(x.Issue_key_jira, x.Issue_key_commit), axis=1)\n",
    "print(\"Finished creating labels for academy\")\n",
    "\n",
    "#Save intermediate results\n",
    "processedData_dataProcessingLabels.to_pickle(path= \"../data/03_processed/processedData_dataProcessingLabels.pkl\")\n",
    "processedData_academyLabels.to_pickle(path= \"../data/03_processed/processedData_academyLabels.pkl\")\n",
    "\n",
    "processedData_dataProcessingLabels.head(10)"
   ]
  },
  {
   "cell_type": "markdown",
   "id": "champion-apartment",
   "metadata": {},
   "source": [
    "## 3.2 Preprocess Data - Create Time-Related Features"
   ]
  },
  {
   "cell_type": "code",
   "execution_count": null,
   "id": "olive-foster",
   "metadata": {},
   "outputs": [],
   "source": [
    "#Create new dataFrames for the time features\n",
    "processedData_dataProcessingFeaturesTime = pd.DataFrame() \n",
    "processedData_academyFeaturesTime = pd.DataFrame() \n",
    "\n",
    "#Calculate the time features for data Processing Dataset\n",
    "processedData_dataProcessingFeaturesTime['Creation_commit_date_dif'] = processedData_dataProcessingCartesian.apply(lambda x: calculateTimeDif(x.Jira_created_date, x.Commit_date), axis=1)\n",
    "processedData_dataProcessingFeaturesTime['Updated_commit_date_dif'] = processedData_dataProcessingCartesian.apply(lambda x: calculateTimeDif(x.Jira_updated_date, x.Commit_date), axis=1)\n",
    "processedData_dataProcessingFeaturesTime['Resolved_commit_date_dif'] = processedData_dataProcessingCartesian.apply(lambda x: calculateTimeDif(x.Jira_resolved_date, x.Commit_date), axis=1)\n",
    "print(\"Finished data Processing\")\n",
    "\n",
    "\n",
    "#Calculate the time features for academy Dataset\n",
    "processedData_academyFeaturesTime['Creation_commit_date_dif'] = processedData_academyCartesian.apply(lambda x: calculateTimeDif(x.Jira_created_date, x.Commit_date), axis=1)\n",
    "processedData_academyFeaturesTime['Updated_commit_date_dif'] = processedData_academyCartesian.apply(lambda x: calculateTimeDif(x.Jira_updated_date, x.Commit_date), axis=1)\n",
    "processedData_academyFeaturesTime['Resolved_commit_date_dif'] = processedData_academyCartesian.apply(lambda x: calculateTimeDif(x.Jira_resolved_date, x.Commit_date), axis=1)\n",
    "print(\"Finished academy\")\n",
    "\n",
    "#Create a pickle file for all intermediate datasets\n",
    "processedData_dataProcessingFeaturesTime.to_pickle(path= \"../data/03_processed/processedData_dataProcessingFeaturesTime.pkl\")\n",
    "processedData_academyFeaturesTime.to_pickle(path= \"../data/03_processed/processedData_academyFeaturesTime.pkl\")"
   ]
  },
  {
   "cell_type": "markdown",
   "id": "pressed-absorption",
   "metadata": {},
   "source": [
    "## 3.3 Preprocess Data - Create Stakeholder-Related Features"
   ]
  },
  {
   "cell_type": "code",
   "execution_count": null,
   "id": "quarterly-surname",
   "metadata": {},
   "outputs": [],
   "source": [
    "#Create new dataFrames for the Stakeholder features\n",
    "processedData_dataProcessingFeaturesStakeholder = pd.DataFrame() \n",
    "processedData_academyFeaturesStakeholder = pd.DataFrame() \n",
    "\n",
    "processedData_dataProcessingFeaturesStakeholder['Assignee_is_commiter'] = processedData_dataProcessingCartesian.apply(lambda x: checkFullnameEqualsEmail(x.Assignee, x.Email), axis=1)\n",
    "print(\"Finished dataProcessing\")\n",
    "processedData_academyFeaturesStakeholder['Assignee_is_commiter'] = processedData_academyCartesian.apply(lambda x: checkFullnameEqualsEmail(x.Assignee, x.Email), axis=1)\n",
    "print(\"Finished academy\")\n",
    "\n",
    "#Create a pickle file for all intermediate datasets\n",
    "processedData_dataProcessingFeaturesStakeholder.to_pickle(path= \"../data/03_processed/processedData_dataProcessingFeaturesStakeholder.pkl\")\n",
    "processedData_academyFeaturesStakeholder.to_pickle(path= \"../data/03_processed/processedData_academyFeaturesStakeholder.pkl\")"
   ]
  },
  {
   "cell_type": "markdown",
   "id": "canadian-holmes",
   "metadata": {},
   "source": [
    "## 3.4 Preprocess Data - Create Cosine Similarity Features\n",
    "### 3.4.1 DataProcessing - Cosine Similarity UniGrams"
   ]
  },
  {
   "cell_type": "code",
   "execution_count": 42,
   "id": "executive-raise",
   "metadata": {},
   "outputs": [],
   "source": [
    "from scipy import spatial\n",
    "import pandas as pd\n",
    "\n",
    "def calc_vector_representation(document, cv, fittedTF_IDF):        \n",
    "    #Transform document type to a string\n",
    "    documentString = document\n",
    "    \n",
    "    #Calculate the Term Frequency of the document\n",
    "    inputDocs = [documentString] \n",
    "\n",
    "    # count matrix \n",
    "    count_vector = cv.transform(inputDocs) \n",
    " \n",
    "    #tf-idf scores \n",
    "    tf_idf_vector = fittedTF_IDF.transform(count_vector)\n",
    "\n",
    "    feature_names = cv.get_feature_names() \n",
    " \n",
    "    #get tfidf vector for first document \n",
    "    document_vector=tf_idf_vector[0] \n",
    " \n",
    "    #print the scores \n",
    "    \n",
    "    # place tf-idf values in a pandas data frame \n",
    "    df = pd.DataFrame(document_vector.T.todense(), index=feature_names, columns=[\"tfidf\"]) \n",
    "    df.sort_values(by=[\"tfidf\"],ascending=False)\n",
    "\n",
    "    return(document_vector.T.todense())\n",
    "\n",
    "def calculateCosineSimilarity(document1, document2, cv, fittedTF_IDF):\n",
    "\n",
    "    #If both doc1 and doc2 are lists\n",
    "    if (isinstance(document1, list) & isinstance(document2, list)):\n",
    "        #Transform document to string type\n",
    "        document1String = ' '.join(document1)\n",
    "        document2String = ' '.join(document2)\n",
    "\n",
    "    #Only document1 is a list\n",
    "    elif(isinstance(document1, list)):\n",
    "        #Transform document to string type\n",
    "        document1String = ' '.join(document1)\n",
    "        document2String = ''\n",
    "\n",
    "    #Only document2 is a list\n",
    "    elif(isinstance(document2, list)):\n",
    "        #Transform document to string type\n",
    "        document1String = ''\n",
    "        document2String = ' '.join(document2)\n",
    "        \n",
    "    else:\n",
    "        document1String = ''\n",
    "        document2String = ''\n",
    "\n",
    "    vector1 = calc_vector_representation(document1String, cv, fittedTF_IDF)\n",
    "    vector2 = calc_vector_representation(document2String, cv, fittedTF_IDF)\n",
    "    \n",
    "    #The cosine similarity. Produces NaN if no terms are found in the corpus.\n",
    "    result = 1 - spatial.distance.cosine(vector1, vector2)\n",
    "    \n",
    "    return(result)\n",
    "\n",
    "\n",
    "def calculateCosineSimilarityWithPOSPruning(document1, document2, cv, fittedTF_IDF, verbList):\n",
    "\n",
    "    #If both doc1 and doc2 are lists\n",
    "    if (isinstance(document1, list) & isinstance(document2, list)):\n",
    "        #Transform document to string type\n",
    "        document1String = ' '.join(document1)\n",
    "        document2String = ' '.join(document2)\n",
    "\n",
    "    #Only document1 is a list\n",
    "    elif(isinstance(document1, list)):\n",
    "        #Transform document to string type\n",
    "        document1String = ' '.join(document1)\n",
    "        document2String = ''\n",
    "\n",
    "    #Only document2 is a list\n",
    "    elif(isinstance(document2, list)):\n",
    "        #Transform document to string type\n",
    "        document1String = ''\n",
    "        document2String = ' '.join(document2)\n",
    "        \n",
    "    else:\n",
    "        document1String = ''\n",
    "        document2String = ''\n",
    "\n",
    "    vector1 = calc_vector_representation(document1String, cv, fittedTF_IDF)\n",
    "    vector2 = calc_vector_representation(document2String, cv, fittedTF_IDF)\n",
    "    \n",
    "    #The cosine similarity. Produces NaN if no terms are found in the corpus.\n",
    "    result = 1 - spatial.distance.cosine(vector1, vector2)\n",
    "    \n",
    "    verbCounter = 0\n",
    "    if(isinstance(document2, list)):\n",
    "        for token in document2:\n",
    "            if token in verbList:\n",
    "                verbCounter = verbCounter + 1\n",
    "    \n",
    "    if verbCounter > 0:\n",
    "        result = result * (1 + (0.1 * verbCounter))\n",
    "    else:\n",
    "        result = 0\n",
    "    \n",
    "    return(result)"
   ]
  },
  {
   "cell_type": "code",
   "execution_count": 43,
   "id": "deadly-puppy",
   "metadata": {},
   "outputs": [],
   "source": [
    "#Instantiate the count vectorizer and tfidf for the corpus\n",
    "from sklearn.feature_extraction.text import CountVectorizer \n",
    "\n",
    "######################################################\n",
    "#                       dataProcessing               #\n",
    "######################################################\n",
    "\n",
    "################# Unigrams ###############\n",
    "#instantiate CountVectorizer() for SVN\n",
    "processedData_SVNLogs_dataProcessingCountVectorizer = CountVectorizer()\n",
    "processedData_SVNLogs_dataProcessingCountTF_IDF = createFittedTF_IDF(processedData_SVNLogs_dataProcessingCountVectorizer, intermediateData_SVN_dataProcessingCorpus)\n",
    "\n",
    "processedData_SVNUnitNames_dataProcessingCountVectorizer = CountVectorizer()\n",
    "processedData_SVNUnitNames_dataProcessingCountTF_IDF = createFittedTF_IDF(processedData_SVNUnitNames_dataProcessingCountVectorizer, intermediateData_SVN_dataProcessingCorpus)\n",
    "\n",
    "#instantiate CountVectorizer() for JIRA - unigram\n",
    "processedData_JIRA_dataProcessingCountVectorizer = CountVectorizer()\n",
    "processedData_JIRA_dataProcessingCountTF_IDF = createFittedTF_IDF(processedData_JIRA_dataProcessingCountVectorizer, intermediateData_JIRA_dataProcessingCorpus)\n",
    "\n",
    "processedData_JIRASummaries_dataProcessingCountVectorizer = CountVectorizer()\n",
    "processedData_JIRASummaries_dataProcessingCountTF_IDF = createFittedTF_IDF(processedData_JIRASummaries_dataProcessingCountVectorizer, intermediateData_JIRA_dataProcessingCorpusSummary)\n",
    "\n",
    "\n",
    "\n",
    "\n",
    "################# Bigrams ###############\n",
    "#instantiate CountVectorizer() for SVN - bigrams\n",
    "processedData_SVNLogs_dataProcessingCountVectorizer_2gram = CountVectorizer(ngram_range=(2, 2))\n",
    "processedData_SVNLogs_dataProcessingCountTF_IDF_2gram = createFittedTF_IDF(processedData_SVNLogs_dataProcessingCountVectorizer_2gram, intermediateData_SVNLogs_dataProcessingCorpus_2gram)\n",
    "\n",
    "processedData_SVNUnitNames_dataProcessingCountVectorizer_2gram = CountVectorizer()\n",
    "processedData_SVNUnitNames_dataProcessingCountTF_IDF_2gram = createFittedTF_IDF(processedData_SVNUnitNames_dataProcessingCountVectorizer_2gram, intermediateData_SVNUnitNames_dataProcessingCorpus_2gram)\n",
    "\n",
    "\n",
    "#instantiate CountVectorizer() for JIRA - biigram\n",
    "processedData_JIRA_dataProcessingCountVectorizer_2gram = CountVectorizer(ngram_range=(2, 2))\n",
    "processedData_JIRA_dataProcessingCountTF_IDF_2gram = createFittedTF_IDF(processedData_JIRA_dataProcessingCountVectorizer_2gram, intermediateData_JIRA_dataProcessingCorpus_2gram)\n",
    "\n",
    "\n",
    "\n",
    "\n",
    "\n",
    "\n",
    "\n",
    "\n",
    "######################################################\n",
    "#                       academy               #\n",
    "######################################################\n",
    "\n",
    "#instantiate CountVectorizer() for SVN\n",
    "processedData_SVN_academyCountVectorizer = CountVectorizer()\n",
    "processedData_SVN_academyCountTF_IDF = createFittedTF_IDF(processedData_SVN_academyCountVectorizer, intermediateData_SVN_academyCorpus)\n",
    "\n",
    "#instantiate CountVectorizer() for JIRA\n",
    "processedData_JIRA_academyCountVectorizer = CountVectorizer()\n",
    "processedData_JIRA_academyCountTF_IDF = createFittedTF_IDF(processedData_JIRA_academyCountVectorizer, intermediateData_JIRA_academyMayCorpus)\n",
    "\n",
    "#instantiate CountVectorizer() for Model\n",
    "#processedData_Model_academyCountVectorizer = CountVectorizer()\n",
    "#processedData_Model_academyCountTF_IDF = createFittedTF_IDF(processedData_Model_academyCountVectorizer, intermediateData_SVN_academyCorpusModel)\n"
   ]
  },
  {
   "cell_type": "markdown",
   "id": "progressive-cornwall",
   "metadata": {},
   "source": [
    "#### 3.4.1 [VSM unigram] Similarity between JIRA issue and Commit Log - Jira As Query"
   ]
  },
  {
   "cell_type": "code",
   "execution_count": 44,
   "id": "improved-parking",
   "metadata": {},
   "outputs": [
    {
     "name": "stderr",
     "output_type": "stream",
     "text": [
      "C:\\Python39\\lib\\site-packages\\scipy\\spatial\\distance.py:728: RuntimeWarning: invalid value encountered in double_scalars\n",
      "  dist = 1.0 - uv / np.sqrt(uu * vv)\n"
     ]
    },
    {
     "name": "stdout",
     "output_type": "stream",
     "text": [
      "Finished creating 'VSM Logs Jira as query' after 1 minutes and 29.986514806747437 seconds\n"
     ]
    }
   ],
   "source": [
    "#Start timer\n",
    "startTime = time.time() \n",
    "\n",
    "#Create new dataFrame\n",
    "processedData_dataProcessing_features_VsmLogsJiraAsQuery = pd.DataFrame() \n",
    "\n",
    "#Calculate cosine similarity for each trace\n",
    "processedData_dataProcessing_features_VsmLogsJiraAsQuery[\"vsm_logs_jira_as_query\"] = processedData_dataProcessingCartesian.apply(lambda x: calculateCosineSimilarity(x.Jira_natural_text, x.Logs, processedData_JIRA_dataProcessingCountVectorizer, processedData_JIRA_dataProcessingCountTF_IDF), \n",
    "                                                            axis=1)\n",
    "\n",
    "#Save results in pickle\n",
    "processedData_dataProcessing_features_VsmLogsJiraAsQuery.to_pickle(path= \"../data/03_processed/processedData_dataProcessing_features_VsmLogsJiraAsQuery.pkl\")\n",
    "\n",
    "endTime = time.time()\n",
    "timeDifference = calculateTimeDifference(startTime=startTime, endTime=endTime)\n",
    "print(\"Finished creating 'VSM Logs Jira as query' after \" + timeDifference)"
   ]
  },
  {
   "cell_type": "markdown",
   "id": "median-assignment",
   "metadata": {},
   "source": [
    "#### 3.4.2 [VSM unigram] Similarity between JIRA issue and Commit Log - Log As Query"
   ]
  },
  {
   "cell_type": "code",
   "execution_count": 45,
   "id": "broad-configuration",
   "metadata": {},
   "outputs": [
    {
     "name": "stdout",
     "output_type": "stream",
     "text": [
      "Finished creating 'VSM Logs Jira as query' after 2 minutes and 44.93326115608215 seconds\n"
     ]
    }
   ],
   "source": [
    "#Start timer\n",
    "startTime = time.time() \n",
    "\n",
    "#Create new dataFrame\n",
    "processedData_dataProcessing_features_VsmLogsLogAsQuery = pd.DataFrame() \n",
    "\n",
    "#Calculate cosine similarity for each trace\n",
    "processedData_dataProcessing_features_VsmLogsLogAsQuery[\"vsm_logs_log_as_query\"] = processedData_dataProcessingCartesian.apply(lambda x: calculateCosineSimilarity(x.Jira_natural_text, x.Logs, processedData_SVNLogs_dataProcessingCountVectorizer, processedData_SVNLogs_dataProcessingCountTF_IDF), \n",
    "                                                            axis=1)\n",
    "\n",
    "#Save results in pickle\n",
    "processedData_dataProcessing_features_VsmLogsLogAsQuery.to_pickle(path= \"../data/03_processed/processedData_dataProcessing_features_VsmLogsLogAsQuery.pkl\")\n",
    "\n",
    "endTime = time.time()\n",
    "timeDifference = calculateTimeDifference(startTime=startTime, endTime=endTime)\n",
    "print(\"Finished creating 'VSM Logs Jira as query' after \" + timeDifference)"
   ]
  },
  {
   "cell_type": "markdown",
   "id": "weekly-humanity",
   "metadata": {},
   "source": [
    "#### 3.4.3 [VSM unigram] Similarity between JIRA issue and Unit Names - JIRA As Query"
   ]
  },
  {
   "cell_type": "code",
   "execution_count": 46,
   "id": "equal-milton",
   "metadata": {},
   "outputs": [
    {
     "name": "stdout",
     "output_type": "stream",
     "text": [
      "Finished creating 'VSM Logs Jira as query' after 2 minutes and 44.57658815383911 seconds\n"
     ]
    }
   ],
   "source": [
    "#Start timer\n",
    "startTime = time.time() \n",
    "\n",
    "#Create new dataFrame\n",
    "processedData_dataProcessing_features_VsmUnitNamesJiraAsQuery = pd.DataFrame() \n",
    "\n",
    "#Calculate cosine similarity for each trace\n",
    "processedData_dataProcessing_features_VsmUnitNamesJiraAsQuery[\"vsm_unit_names_jira_as_query\"] = processedData_dataProcessingCartesian.apply(lambda x: calculateCosineSimilarity(x.Jira_natural_text, x.Unit_names, processedData_JIRA_dataProcessingCountVectorizer, processedData_JIRA_dataProcessingCountTF_IDF), \n",
    "                                                            axis=1)\n",
    "\n",
    "#Save results in pickle\n",
    "processedData_dataProcessing_features_VsmUnitNamesJiraAsQuery.to_pickle(path= \"../data/03_processed/processedData_dataProcessing_features_VsmUnitNamesJiraAsQuery.pkl\")\n",
    "\n",
    "endTime = time.time()\n",
    "timeDifference = calculateTimeDifference(startTime=startTime, endTime=endTime)\n",
    "print(\"Finished creating 'VSM Logs Jira as query' after \" + timeDifference)"
   ]
  },
  {
   "cell_type": "markdown",
   "id": "amazing-carolina",
   "metadata": {},
   "source": [
    "#### 3.4.1 [VSM unigram] Similarity between JIRA Summary and Commit Log - Jira As Query"
   ]
  },
  {
   "cell_type": "code",
   "execution_count": 47,
   "id": "gothic-cause",
   "metadata": {},
   "outputs": [
    {
     "name": "stdout",
     "output_type": "stream",
     "text": [
      "Finished creating 'VSM Logs Jira as query' after 2 minutes and 37.793245792388916 seconds\n"
     ]
    }
   ],
   "source": [
    "#Start timer\n",
    "startTime = time.time() \n",
    "\n",
    "#Create new dataFrame\n",
    "processedData_dataProcessing_features_VsmSummaryLogsSummaryAsQuery = pd.DataFrame() \n",
    "\n",
    "#Calculate cosine similarity for each trace\n",
    "processedData_dataProcessing_features_VsmSummaryLogsSummaryAsQuery[\"vsm_summary_logs_summary_as_query\"] = processedData_dataProcessingCartesian.apply(lambda x: calculateCosineSimilarity(x.Summary, x.Logs, processedData_JIRASummaries_dataProcessingCountVectorizer, processedData_JIRASummaries_dataProcessingCountTF_IDF), \n",
    "                                                            axis=1)\n",
    "\n",
    "#Save results in pickle\n",
    "processedData_dataProcessing_features_VsmSummaryLogsSummaryAsQuery.to_pickle(path= \"../data/03_processed/processedData_dataProcessing_features_VsmSummaryLogsSummaryAsQuery.pkl\")\n",
    "\n",
    "endTime = time.time()\n",
    "timeDifference = calculateTimeDifference(startTime=startTime, endTime=endTime)\n",
    "print(\"Finished creating 'VSM Logs Jira as query' after \" + timeDifference)"
   ]
  },
  {
   "cell_type": "markdown",
   "id": "circular-physics",
   "metadata": {},
   "source": [
    "#### 3.4.1 [VSM unigram] Similarity between JIRA Summary and Commit Log - Log As Query"
   ]
  },
  {
   "cell_type": "code",
   "execution_count": 48,
   "id": "political-arkansas",
   "metadata": {},
   "outputs": [
    {
     "name": "stdout",
     "output_type": "stream",
     "text": [
      "Finished creating 'VSM Logs Jira as query' after 2 minutes and 43.46693682670593 seconds\n"
     ]
    }
   ],
   "source": [
    "#Start timer\n",
    "startTime = time.time() \n",
    "\n",
    "#Create new dataFrame\n",
    "processedData_dataProcessing_features_VsmSummaryLogsLogsAsQuery = pd.DataFrame() \n",
    "\n",
    "#Calculate cosine similarity for each trace\n",
    "processedData_dataProcessing_features_VsmSummaryLogsLogsAsQuery[\"vsm_summary_logs_logs_as_query\"] = processedData_dataProcessingCartesian.apply(lambda x: calculateCosineSimilarity(x.Summary, x.Logs, processedData_SVNLogs_dataProcessingCountVectorizer, processedData_SVNLogs_dataProcessingCountTF_IDF), \n",
    "                                                            axis=1)\n",
    "\n",
    "#Save results in pickle\n",
    "processedData_dataProcessing_features_VsmSummaryLogsLogsAsQuery.to_pickle(path= \"../data/03_processed/processedData_dataProcessing_features_VsmSummaryLogsLogsAsQuery.pkl\")\n",
    "\n",
    "endTime = time.time()\n",
    "timeDifference = calculateTimeDifference(startTime=startTime, endTime=endTime)\n",
    "print(\"Finished creating 'VSM Logs Jira as query' after \" + timeDifference)"
   ]
  },
  {
   "cell_type": "markdown",
   "id": "peaceful-jersey",
   "metadata": {},
   "source": [
    "#### 3.4.1 [VSM unigram] Similarity between JIRA Summary and UnitNames - Summary As Query"
   ]
  },
  {
   "cell_type": "code",
   "execution_count": 49,
   "id": "periodic-steel",
   "metadata": {},
   "outputs": [
    {
     "name": "stdout",
     "output_type": "stream",
     "text": [
      "Finished creating 'VSM Logs Jira as query' after 2 minutes and 40.84549689292908 seconds\n"
     ]
    }
   ],
   "source": [
    "#Start timer\n",
    "startTime = time.time() \n",
    "\n",
    "#Create new dataFrame\n",
    "processedData_dataProcessing_features_VsmSummaryUnitNamesSummaryAsQuery = pd.DataFrame() \n",
    "\n",
    "#Calculate cosine similarity for each trace\n",
    "processedData_dataProcessing_features_VsmSummaryUnitNamesSummaryAsQuery[\"vsm_summary_unitNames_summary_as_query\"] = processedData_dataProcessingCartesian.apply(lambda x: calculateCosineSimilarity(x.Summary, x.Unit_names, processedData_JIRASummaries_dataProcessingCountVectorizer, processedData_JIRASummaries_dataProcessingCountTF_IDF), \n",
    "                                                            axis=1)\n",
    "\n",
    "#Save results in pickle\n",
    "processedData_dataProcessing_features_VsmSummaryUnitNamesSummaryAsQuery.to_pickle(path= \"../data/03_processed/processedData_dataProcessing_features_VsmSummaryUnitNamesSummaryAsQuery.pkl\")\n",
    "\n",
    "endTime = time.time()\n",
    "timeDifference = calculateTimeDifference(startTime=startTime, endTime=endTime)\n",
    "print(\"Finished creating 'VSM Logs Jira as query' after \" + timeDifference)"
   ]
  },
  {
   "cell_type": "markdown",
   "id": "objective-rally",
   "metadata": {},
   "source": [
    "#### 3.4.1 [VSM unigram] Similarity between JIRA Summary and UnitNames - UnitNames As Query"
   ]
  },
  {
   "cell_type": "code",
   "execution_count": 50,
   "id": "leading-celebration",
   "metadata": {},
   "outputs": [
    {
     "name": "stdout",
     "output_type": "stream",
     "text": [
      "Finished creating 'VSM Logs Jira as query' after 2 minutes and 5.385694980621338 seconds\n"
     ]
    }
   ],
   "source": [
    "#Start timer\n",
    "startTime = time.time() \n",
    "\n",
    "#Create new dataFrame\n",
    "processedData_dataProcessing_features_VsmSummaryUnitNamesUnitNamesAsQuery = pd.DataFrame() \n",
    "\n",
    "#Calculate cosine similarity for each trace\n",
    "processedData_dataProcessing_features_VsmSummaryUnitNamesUnitNamesAsQuery[\"vsm_summary_unitNames_unitNames_as_query\"] = processedData_dataProcessingCartesian.apply(lambda x: calculateCosineSimilarity(x.Summary, x.Unit_names, processedData_SVNUnitNames_dataProcessingCountVectorizer, processedData_SVNUnitNames_dataProcessingCountTF_IDF), \n",
    "                                                            axis=1)\n",
    "\n",
    "#Save results in pickle\n",
    "processedData_dataProcessing_features_VsmSummaryUnitNamesSummaryAsQuery.to_pickle(path= \"../data/03_processed/processedData_dataProcessing_features_VsmSummaryUnitNamesUnitNamesAsQuery.pkl\")\n",
    "\n",
    "endTime = time.time()\n",
    "timeDifference = calculateTimeDifference(startTime=startTime, endTime=endTime)\n",
    "print(\"Finished creating 'VSM Logs Jira as query' after \" + timeDifference)"
   ]
  },
  {
   "cell_type": "markdown",
   "id": "choice-lounge",
   "metadata": {},
   "source": [
    "#### 3.4.3 [VSM unigram - verb pruning] Similarity between JIRA issue and Unit Names - JIRA As Query"
   ]
  },
  {
   "cell_type": "code",
   "execution_count": 51,
   "id": "refined-tooth",
   "metadata": {},
   "outputs": [
    {
     "name": "stdout",
     "output_type": "stream",
     "text": [
      "Finished creating 'VSM Logs Jira as query and verb pruning' after 2 minutes and 52.10945177078247 seconds\n"
     ]
    }
   ],
   "source": [
    "#Start timer\n",
    "startTime = time.time() \n",
    "\n",
    "#Create new dataFrame\n",
    "processedData_dataProcessing_features_VsmVerbPruningUnitNamesJiraAsQuery = pd.DataFrame() \n",
    "\n",
    "#Calculate cosine similarity for each trace\n",
    "processedData_dataProcessing_features_VsmVerbPruningUnitNamesJiraAsQuery[\"vsm_verb_pruning_unit_names_jira_as_query\"] = processedData_dataProcessingCartesian.apply(lambda x: calculateCosineSimilarityWithPOSPruning(x.Jira_natural_text, x.Unit_names, processedData_JIRA_dataProcessingCountVectorizer, processedData_JIRA_dataProcessingCountTF_IDF, x.verbs), \n",
    "                                                            axis=1)\n",
    "\n",
    "#Save results in pickle\n",
    "processedData_dataProcessing_features_VsmVerbPruningUnitNamesJiraAsQuery.to_pickle(path= \"../data/03_processed/processedData_dataProcessing_features_VsmVerbPruningUnitNamesJiraAsQuery.pkl\")\n",
    "\n",
    "endTime = time.time()\n",
    "timeDifference = calculateTimeDifference(startTime=startTime, endTime=endTime)\n",
    "print(\"Finished creating 'VSM Logs Jira as query and verb pruning' after \" + timeDifference)"
   ]
  },
  {
   "cell_type": "markdown",
   "id": "linear-estonia",
   "metadata": {},
   "source": [
    "#### 3.4.4 [VSM unigram] Similarity between JIRA issue and Unit Names  - Unit Names As Query"
   ]
  },
  {
   "cell_type": "code",
   "execution_count": 52,
   "id": "pressing-locking",
   "metadata": {},
   "outputs": [
    {
     "name": "stdout",
     "output_type": "stream",
     "text": [
      "Finished creating 'VSM UnitNames Unit Names as query' after 2 minutes and 8.294826030731201 seconds\n"
     ]
    }
   ],
   "source": [
    "#Start timer\n",
    "startTime = time.time() \n",
    "\n",
    "#Create new dataFrame\n",
    "processedData_dataProcessing_features_VsmUnitNamesUnitNamesAsQuery = pd.DataFrame() \n",
    "\n",
    "#Calculate cosine similarity for each trace\n",
    "processedData_dataProcessing_features_VsmUnitNamesUnitNamesAsQuery[\"vsm_unit_names_log_as_query\"] = processedData_dataProcessingCartesian.apply(lambda x: calculateCosineSimilarity(x.Jira_natural_text, x.Unit_names, processedData_SVNUnitNames_dataProcessingCountVectorizer, processedData_SVNUnitNames_dataProcessingCountTF_IDF), \n",
    "                                                            axis=1)\n",
    "\n",
    "#Save results in pickle\n",
    "processedData_dataProcessing_features_VsmUnitNamesUnitNamesAsQuery.to_pickle(path= \"../data/03_processed/processedData_dataProcessing_features_VsmUnitNamesUnitNamesAsQuery.pkl\")\n",
    "\n",
    "endTime = time.time()\n",
    "timeDifference = calculateTimeDifference(startTime=startTime, endTime=endTime)\n",
    "print(\"Finished creating 'VSM UnitNames Unit Names as query' after \" + timeDifference)"
   ]
  },
  {
   "cell_type": "markdown",
   "id": "thirty-johnston",
   "metadata": {},
   "source": [
    "#### 3.4.3 [VSM unigram - verb pruning] Similarity between JIRA issue and Unit Names and verb pruning - Unit Names As Query"
   ]
  },
  {
   "cell_type": "code",
   "execution_count": 53,
   "id": "aggregate-reduction",
   "metadata": {},
   "outputs": [
    {
     "name": "stdout",
     "output_type": "stream",
     "text": [
      "Finished creating 'VSM UnitNames Unit Names as query' after 2 minutes and 59.70677947998047 seconds\n"
     ]
    }
   ],
   "source": [
    "#Start timer\n",
    "startTime = time.time() \n",
    "\n",
    "#Create new dataFrame\n",
    "processedData_dataProcessing_features_VsmVerbPruningUnitNamesUnitNamesAsQuery = pd.DataFrame() \n",
    "\n",
    "#Calculate cosine similarity for each trace\n",
    "processedData_dataProcessing_features_VsmVerbPruningUnitNamesUnitNamesAsQuery[\"vsm_verb_pruning_unit_names_log_as_query\"] = processedData_dataProcessingCartesian.apply(lambda x: calculateCosineSimilarityWithPOSPruning(x.Jira_natural_text, x.Unit_names, processedData_SVNUnitNames_dataProcessingCountVectorizer, processedData_SVNUnitNames_dataProcessingCountTF_IDF, x.verbs), \n",
    "                                                            axis=1)\n",
    "\n",
    "#Save results in pickle\n",
    "processedData_dataProcessing_features_VsmVerbPruningUnitNamesUnitNamesAsQuery.to_pickle(path= \"../data/03_processed/processedData_dataProcessing_features_VsmVerbPruningUnitNamesUnitNamesAsQuery.pkl\")\n",
    "\n",
    "endTime = time.time()\n",
    "timeDifference = calculateTimeDifference(startTime=startTime, endTime=endTime)\n",
    "print(\"Finished creating 'VSM UnitNames Unit Names as query' after \" + timeDifference)"
   ]
  },
  {
   "cell_type": "markdown",
   "id": "first-delicious",
   "metadata": {},
   "source": [
    "#### 3.4.5 [VSM bigram] Similarity between JIRA issue and Commit Log - Jira As Query"
   ]
  },
  {
   "cell_type": "code",
   "execution_count": 54,
   "id": "korean-ballot",
   "metadata": {},
   "outputs": [
    {
     "name": "stdout",
     "output_type": "stream",
     "text": [
      "Finished creating 'VSM Logs Jira as query' after 2 minutes and 37.55483102798462 seconds\n"
     ]
    }
   ],
   "source": [
    "#Start timer\n",
    "startTime = time.time() \n",
    "\n",
    "#Create new dataFrame\n",
    "processedData_dataProcessing_features_VsmLogsJiraAsQuery_2gram = pd.DataFrame() \n",
    "\n",
    "#Calculate cosine similarity for each trace\n",
    "processedData_dataProcessing_features_VsmLogsJiraAsQuery_2gram[\"vsm_logs_jira_as_query_2gram\"] = processedData_dataProcessingCartesian.apply(lambda x: calculateCosineSimilarity(x.Jira_natural_text, x.Logs, processedData_JIRA_dataProcessingCountVectorizer_2gram, processedData_JIRA_dataProcessingCountTF_IDF_2gram), \n",
    "                                                            axis=1)\n",
    "\n",
    "#Save results in pickle\n",
    "processedData_dataProcessing_features_VsmLogsJiraAsQuery_2gram.to_pickle(path= \"../data/03_processed/processedData_dataProcessing_features_VsmLogsJiraAsQuery_2gram.pkl\")\n",
    "\n",
    "endTime = time.time()\n",
    "timeDifference = calculateTimeDifference(startTime=startTime, endTime=endTime)\n",
    "print(\"Finished creating 'VSM Logs Jira as query' after \" + timeDifference)"
   ]
  },
  {
   "cell_type": "markdown",
   "id": "eastern-document",
   "metadata": {},
   "source": [
    "#### 3.4.6 [VSM bigram] Similarity between JIRA issue and Commit Log - Logs As Query"
   ]
  },
  {
   "cell_type": "code",
   "execution_count": 55,
   "id": "affected-likelihood",
   "metadata": {},
   "outputs": [
    {
     "name": "stdout",
     "output_type": "stream",
     "text": [
      "Finished creating 'VSM Logs Jira as query' after 2 minutes and 16.211840629577637 seconds\n"
     ]
    }
   ],
   "source": [
    "#Start timer\n",
    "startTime = time.time() \n",
    "\n",
    "#Create new dataFrame\n",
    "processedData_dataProcessing_features_VsmLogsLogAsQuery_2gram = pd.DataFrame() \n",
    "\n",
    "#Calculate cosine similarity for each trace\n",
    "processedData_dataProcessing_features_VsmLogsLogAsQuery_2gram[\"vsm_logs_log_as_query_2gram\"] = processedData_dataProcessingCartesian.apply(lambda x: calculateCosineSimilarity(x.Jira_natural_text, x.Logs, processedData_SVNLogs_dataProcessingCountVectorizer_2gram, processedData_SVNLogs_dataProcessingCountTF_IDF_2gram), \n",
    "                                                            axis=1)\n",
    "\n",
    "#Save results in pickle\n",
    "processedData_dataProcessing_features_VsmLogsLogAsQuery_2gram.to_pickle(path= \"../data/03_processed/processedData_dataProcessing_features_VsmLogsLogAsQuery_2gram.pkl\")\n",
    "\n",
    "endTime = time.time()\n",
    "timeDifference = calculateTimeDifference(startTime=startTime, endTime=endTime)\n",
    "print(\"Finished creating 'VSM Logs Jira as query' after \" + timeDifference)"
   ]
  },
  {
   "cell_type": "markdown",
   "id": "cosmetic-campaign",
   "metadata": {},
   "source": [
    "#### 3.4.6 [VSM bigram] Similarity between JIRA issue and Unit Names - Jira As Query"
   ]
  },
  {
   "cell_type": "code",
   "execution_count": 56,
   "id": "spread-vision",
   "metadata": {},
   "outputs": [
    {
     "name": "stdout",
     "output_type": "stream",
     "text": [
      "Finished creating 'VSM Logs Jira as query' after 2 minutes and 40.978102922439575 seconds\n"
     ]
    }
   ],
   "source": [
    "#Start timer\n",
    "startTime = time.time() \n",
    "\n",
    "#Create new dataFrame\n",
    "processedData_dataProcessing_features_VsmUnitNamesJiraAsQuery_2gram = pd.DataFrame() \n",
    "\n",
    "#Calculate cosine similarity for each trace\n",
    "processedData_dataProcessing_features_VsmUnitNamesJiraAsQuery_2gram[\"vsm_unit_names_jira_as_query_2gram\"] = processedData_dataProcessingCartesian.apply(lambda x: calculateCosineSimilarity(x.Jira_natural_text, x.Unit_names, processedData_JIRA_dataProcessingCountVectorizer_2gram, processedData_JIRA_dataProcessingCountTF_IDF_2gram), \n",
    "                                                            axis=1)\n",
    "\n",
    "#Save results in pickle\n",
    "processedData_dataProcessing_features_VsmUnitNamesJiraAsQuery_2gram.to_pickle(path= \"../data/03_processed/processedData_dataProcessing_features_VsmUnitNamesJiraAsQuery_2gram.pkl\")\n",
    "\n",
    "endTime = time.time()\n",
    "timeDifference = calculateTimeDifference(startTime=startTime, endTime=endTime)\n",
    "print(\"Finished creating 'VSM Logs Jira as query' after \" + timeDifference)"
   ]
  },
  {
   "cell_type": "markdown",
   "id": "skilled-static",
   "metadata": {},
   "source": [
    "#### 3.4.6 [VSM bigram] Similarity between JIRA issue and Unit Names - UnitNames As Query"
   ]
  },
  {
   "cell_type": "code",
   "execution_count": 57,
   "id": "passing-carrier",
   "metadata": {},
   "outputs": [
    {
     "name": "stdout",
     "output_type": "stream",
     "text": [
      "Finished creating 'VSM UnitNames Unit Names as query' after 2 minutes and 42.12714076042175 seconds\n"
     ]
    }
   ],
   "source": [
    "#Start timer\n",
    "startTime = time.time() \n",
    "\n",
    "#Create new dataFrame\n",
    "processedData_dataProcessing_features_VsmUnitNamesUnitNamesAsQuery_2gram = pd.DataFrame() \n",
    "\n",
    "#Calculate cosine similarity for each trace\n",
    "processedData_dataProcessing_features_VsmUnitNamesUnitNamesAsQuery_2gram[\"vsm_unit_names_log_as_query_2gram\"] = processedData_dataProcessingCartesian.apply(lambda x: calculateCosineSimilarity(x.Jira_natural_text, x.Unit_names, processedData_SVNUnitNames_dataProcessingCountVectorizer_2gram, processedData_SVNUnitNames_dataProcessingCountTF_IDF_2gram), \n",
    "                                                            axis=1)\n",
    "\n",
    "#Save results in pickle\n",
    "processedData_dataProcessing_features_VsmUnitNamesUnitNamesAsQuery_2gram.to_pickle(path= \"../data/03_processed/processedData_dataProcessing_features_VsmUnitNamesUnitNamesAsQuery_2gram.pkl\")\n",
    "\n",
    "endTime = time.time()\n",
    "timeDifference = calculateTimeDifference(startTime=startTime, endTime=endTime)\n",
    "print(\"Finished creating 'VSM UnitNames Unit Names as query' after \" + timeDifference)"
   ]
  },
  {
   "cell_type": "markdown",
   "id": "collect-amazon",
   "metadata": {},
   "source": [
    "## 3.6 Document Statistics\n",
    "\n",
    "### dataProcessing"
   ]
  },
  {
   "cell_type": "code",
   "execution_count": null,
   "id": "emerging-physics",
   "metadata": {},
   "outputs": [],
   "source": [
    "#Start timer\n",
    "startTime = time.time() \n",
    "\n",
    "#Create new dataFrame\n",
    "processedData_JIRA_dataProcessingFeaturesUniqueWordCount = pd.DataFrame() \n",
    "processedData_SVN_dataProcessingFeaturesUniqueWordCount = pd.DataFrame() \n",
    "processedData_JIRA_dataProcessingFeaturesTotalWordCount = pd.DataFrame() \n",
    "processedData_SVN_dataProcessingFeaturesTotalWordCount = pd.DataFrame()\n",
    "\n",
    "processedData_JIRA_dataProcessingFeaturesOverlapPercentage = pd.DataFrame()\n",
    "processedData_SVN_dataProcessingFeaturesOverlapPercentage = pd.DataFrame()\n",
    "processedData_UNION_dataProcessingFeaturesOverlapPercentage = pd.DataFrame()\n",
    "\n",
    "#Calculate unique terms JIRA for each trace\n",
    "processedData_JIRA_dataProcessingFeaturesUniqueWordCount[\"unique_term_count_jira\"] = processedData_dataProcessingCartesian.apply(lambda x: calculateUniqueWordCount(x.Jira_natural_text), \n",
    "                                                            axis=1)\n",
    "#Calculate unique terms JIRA for each trace\n",
    "processedData_SVN_dataProcessingFeaturesUniqueWordCount[\"unique_term_count_svn\"] = processedData_dataProcessingCartesian.apply(lambda x: calculateUniqueWordCount(x.Commit_natural_text), \n",
    "                                                            axis=1)\n",
    "\n",
    "#Calculate total terms JIRA for each trace\n",
    "processedData_JIRA_dataProcessingFeaturesTotalWordCount[\"total_term_count_jira\"] = processedData_dataProcessingCartesian.apply(lambda x: calculateTotalWordCount(x.Jira_natural_text), \n",
    "                                                            axis=1)\n",
    "#Calculate total terms JIRA for each trace\n",
    "processedData_SVN_dataProcessingFeaturesTotalWordCount[\"total_term_count_svn\"] = processedData_dataProcessingCartesian.apply(lambda x: calculateTotalWordCount(x.Commit_natural_text), \n",
    "                                                            axis=1)\n",
    "\n",
    "processedData_JIRA_dataProcessingFeaturesOverlapPercentage[\"overlap_percentage_compared_to_jira\"] = processedData_dataProcessingCartesian.apply(lambda x: calculateOverlapBetweenDocuments(x.Jira_natural_text, x.Commit_natural_text, 'list1'),\n",
    "                                                            axis=1)\n",
    "processedData_SVN_dataProcessingFeaturesOverlapPercentage[\"overlap_percentage_compared_to_svn\"] = processedData_dataProcessingCartesian.apply(lambda x: calculateOverlapBetweenDocuments(x.Jira_natural_text, x.Commit_natural_text, 'list2'),\n",
    "                                                            axis=1)\n",
    "processedData_UNION_dataProcessingFeaturesOverlapPercentage[\"overlap_percentage_compared_to_union\"] = processedData_dataProcessingCartesian.apply(lambda x: calculateOverlapBetweenDocuments(x.Jira_natural_text, x.Commit_natural_text, 'union'),\n",
    "                                                            axis=1)\n",
    "\n",
    "\n",
    "\n",
    "\n",
    "\n",
    "#Save results in pickle\n",
    "processedData_JIRA_dataProcessingFeaturesUniqueWordCount.to_pickle(path= \"../data/03_processed/processedData_JIRA_dataProcessingFeaturesUniqueWordCount.pkl\")\n",
    "processedData_SVN_dataProcessingFeaturesUniqueWordCount.to_pickle(path= \"../data/03_processed/processedData_SVN_dataProcessingFeaturesUniqueWordCount.pkl\")\n",
    "processedData_JIRA_dataProcessingFeaturesTotalWordCount.to_pickle(path= \"../data/03_processed/processedData_JIRA_dataProcessingFeaturesTotalWordCount.pkl\")\n",
    "processedData_SVN_dataProcessingFeaturesTotalWordCount.to_pickle(path= \"../data/03_processed/processedData_SVN_dataProcessingFeaturesTotalWordCount.pkl\")\n",
    "\n",
    "processedData_JIRA_dataProcessingFeaturesOverlapPercentage.to_pickle(path= \"../data/03_processed/processedData_JIRA_dataProcessingFeaturesOverlapPercentage.pkl\")\n",
    "processedData_SVN_dataProcessingFeaturesOverlapPercentage.to_pickle(path= \"../data/03_processed/processedData_SVN_dataProcessingFeaturesOverlapPercentage.pkl\")\n",
    "processedData_UNION_dataProcessingFeaturesOverlapPercentage.to_pickle(path= \"../data/03_processed/processedData_UNION_dataProcessingFeaturesOverlapPercentage.pkl\")\n",
    "\n",
    "\n",
    "\n",
    "endTime = time.time()\n",
    "timeDifference = calculateTimeDifference(startTime=startTime, endTime=endTime)\n",
    "print(\"Finished creating document statistics in \" + timeDifference)"
   ]
  },
  {
   "cell_type": "markdown",
   "id": "fifth-exposure",
   "metadata": {},
   "source": [
    "## 3.7 Query Quality"
   ]
  },
  {
   "cell_type": "code",
   "execution_count": null,
   "id": "basic-penalty",
   "metadata": {},
   "outputs": [],
   "source": [
    "#Instantiate the count vectorizer and tfidf for the corpus\n",
    "from sklearn.feature_extraction.text import CountVectorizer \n",
    "from sklearn.feature_extraction.text import TfidfTransformer \n",
    "from sklearn.feature_extraction.text import TfidfVectorizer \n",
    "from statistics import mean, median, mode, stdev, variance\n",
    "from math import log, sqrt\n",
    "import itertools\n",
    "\n",
    "#Function calculating the IDFs of all query terms. Returns a list containing all IDFs\n",
    "def calcIDFList(document, cv, tfidf_transformer):\n",
    "    idfScoreList=[]\n",
    "    if isinstance(document, list):\n",
    "        termCount = len(document)\n",
    "        for term in document:\n",
    "            try:\n",
    "                indexOfWord = cv.get_feature_names().index(term)\n",
    "                idfScore = tfidf_transformer.idf_[indexOfWord]\n",
    "                idfScoreList.append(idfScore)\n",
    "            except:\n",
    "                idfScoreList.append(0)\n",
    "    else:\n",
    "        termCount = 0\n",
    "    return(idfScoreList)\n",
    "\n",
    "\n",
    "def calcAvgIDF(IDFList):\n",
    "    termCount = len(IDFList)\n",
    "    if(termCount != 0):\n",
    "        avgIdf = sum(IDFList) / termCount\n",
    "    else:\n",
    "        avgIdf = 0\n",
    "    return(avgIdf)\n",
    "\n",
    "def calcMaxIDF(IDFList): \n",
    "    termCount = len(IDFList)\n",
    "    if(termCount != 0):\n",
    "        maxIdf = np.amax(IDFList)\n",
    "    else: \n",
    "        maxIdf = 0\n",
    "    return(maxIdf)\n",
    "\n",
    "def calcDevIDF(IDFList):\n",
    "    termCount = len(IDFList)\n",
    "    if(termCount > 1):\n",
    "        stdevIdf = stdev(IDFList)\n",
    "    else: \n",
    "        stdevIdf = 0\n",
    "    return(stdevIdf)\n",
    "\n",
    "#Function calculating the ICTF of all query terms. Returns a list containing all IDFs\n",
    "def calcICTFList(document, cv, documentCount):\n",
    "    ICTFList = []\n",
    "        #For all terms in query, find how often they occur in the Corpus\n",
    "    if isinstance(document, list):\n",
    "        for term in document:\n",
    "            try:\n",
    "            #Find out how often the term occurs in the corpus\n",
    "                termFrequency = (cv.vocabulary_[term])\n",
    "                \n",
    "                #Compute the log\n",
    "                ictF = log(documentCount/termFrequency)\n",
    "            except:\n",
    "                ictF = 0\n",
    "            \n",
    "            ICTFList.append(ictF)\n",
    "    return(ICTFList)\n",
    "\n",
    "def calcAvgICTF(ICTFList, documentCount):\n",
    "    avgICTF = sum(ICTFList) / documentCount\n",
    "    return(avgICTF)\n",
    "\n",
    "\n",
    "def calcMaxICTF(ICTFList): \n",
    "    termCount = len(ICTFList)\n",
    "    if(termCount != 0):\n",
    "        maxICTF = np.amax(ICTFList)\n",
    "    else: \n",
    "        maxICTF = 0\n",
    "    return(maxICTF)\n",
    "\n",
    "def calcDevICTF(ICTFList):\n",
    "    termCount = len(ICTFList)\n",
    "    if(termCount > 1):\n",
    "        stdevICTF = stdev(ICTFList)\n",
    "    else: \n",
    "        stdevICTF = 0\n",
    "    return(stdevICTF)\n",
    "\n",
    "\n",
    "def calcEntropyList(query, cv, documentCount, docCollection):\n",
    "    #entropy(t) = ∑ (d∈Dt)  ( tf(t,d) / tf(t, D) ) * log |D|(tf(t,d) / tf(t, D) )\n",
    "        \n",
    "    entropyValueList = []\n",
    "    #for each term in the query, calculate the entropy of the query\n",
    "    if isinstance(query, list):\n",
    "        for queryTerm in query:\n",
    "            #For each d ∈ D\n",
    "            \n",
    "            partialEntropyList = []\n",
    "            \n",
    "            for d in docCollection:\n",
    "                #Check if queryTerm occurs in D (i.e/ d∈Dt)\n",
    "                if (isinstance(d, list)):\n",
    "                    if queryTerm in d:\n",
    "                        try:\n",
    "                            #Calculate the frequency of the term occurs in the document (i.e tf(t,d))\n",
    "                            queryTermFrequencyInDocument = d.count(queryTerm)\n",
    "                            \n",
    "                            #calculate the frequency the term occurs in the query corpus (i.e tf(t,D))\n",
    "                            queryTermFrequencyInCorpus = (cv.vocabulary_[queryTerm])\n",
    "                             \n",
    "                            # This part of the calculation tf(t,d) / tf(t, D)  * log |D|(tf(t,d) / tf(t, D))\n",
    "                            partialEntropy1stHalf = queryTermFrequencyInDocument / queryTermFrequencyInCorpus\n",
    "                            partialEntropy2ndHalf = log((queryTermFrequencyInDocument / queryTermFrequencyInCorpus), documentCount)\n",
    "                            partialEntropy = partialEntropy1stHalf\n",
    "                            partialEntropyList.append(partialEntropy)\n",
    "                        except:\n",
    "                            partialEntropyList.append(0) #If term not found entropy is 0\n",
    "            #this part of the calculation ∑ (d∈Dt)\n",
    "            entropyValueOfQueryTerm = sum(partialEntropyList)\n",
    "            entropyValueList.append(entropyValueOfQueryTerm)\n",
    "    \n",
    "    return(entropyValueList)\n",
    "\n",
    "\n",
    "def calcAvgEntropy(entropyValueList):\n",
    "    termCount = len(entropyValueList)\n",
    "    if(termCount != 0):\n",
    "        #Calculate the average of all the entropies\n",
    "        avgEntropy = sum(entropyValueList) / len(entropyValueList)\n",
    "    else:\n",
    "        avgEntropy = 0\n",
    "    return(avgEntropy)\n",
    "\n",
    "    \n",
    "def calcMedEntropy(entropyValueList):\n",
    "    termCount = len(entropyValueList)\n",
    "    if(termCount != 0):\n",
    "        #Calculate the average of all the entropies\n",
    "        medEntropy = median(entropyValueList)\n",
    "    else:\n",
    "        medEntropy = 0\n",
    "    return(medEntropy)\n",
    "    \n",
    "def calcMaxEntropy(entropyValueList):\n",
    "    termCount = len(entropyValueList)\n",
    "    if(termCount != 0):\n",
    "        maxEntropy = np.amax(entropyValueList)\n",
    "    else: \n",
    "        maxEntropy = 0\n",
    "    return(maxEntropy)\n",
    "    \n",
    "def calcDevEntropy(entropyValueList):\n",
    "    termCount = len(entropyValueList)\n",
    "    if(termCount > 1):\n",
    "        #Calculate the average of all the entropies\n",
    "        devEntropy = stdev(entropyValueList)\n",
    "    else:\n",
    "        devEntropy = 0\n",
    "    return(devEntropy)\n",
    "\n",
    "#The percentage of documents in the collection containing at least one of the query terms\n",
    "def calcQueryScope(query, docCollection): \n",
    "    counter = 0\n",
    "    if isinstance(query, list):\n",
    "        for document in docCollection:\n",
    "            #check if query occurs in term. \n",
    "            if(isinstance(document, list)):\n",
    "                for queryTerm in query:\n",
    "                    if queryTerm in document:\n",
    "                        counter = counter + 1\n",
    "                        break\n",
    "    queryScope = counter / len(docCollection)\n",
    "    return(queryScope)\n",
    "\n",
    "#The Kullback-Leiber divergence of the query language model from the collection language model\n",
    "def calcSCS(query, cv, docCount):\n",
    "    divergenceList = []\n",
    "    if isinstance(query, list):\n",
    "        for queryTerm in query:\n",
    "            try:\n",
    "                #frequency of term in query - tf(q, Q)/|Q|\n",
    "                pqQ = query.count(queryTerm) / len(query)\n",
    "                \n",
    "                #frequency of term in documentlist - tf(q, D)/|D|\n",
    "                pqD = cv.vocabulary_[queryTerm]\n",
    "                \n",
    "                divergence = pqQ * log(pqQ / pqD)\n",
    "                divergenceList.append(divergence)\n",
    "            except:\n",
    "                continue\n",
    "    SCS = sum(divergenceList)\n",
    "    return(SCS)\n",
    "\n",
    "#The average of the collection-query similarity (SCQ) over all query terms\n",
    "def calcSCQList(query, docCollection, cv, fittedTF_IDF, documentCount):\n",
    "    SCQList = []\n",
    "    if isinstance(query, list):\n",
    "        documentString = ' '.join(query)\n",
    "        \n",
    "        #Calculate the Term Frequency of the document\n",
    "        inputDocs = [documentString] \n",
    "        \n",
    "        # count matrix \n",
    "        count_vector = cv.transform(inputDocs) \n",
    " \n",
    "        #tf-idf scores \n",
    "        tf_idf_vector = fittedTF_IDF.transform(count_vector)\n",
    "        \n",
    "        feature_names = cv.get_feature_names() \n",
    "        # place tf-idf values in a pandas data frame \n",
    "        df = pd.DataFrame(tf_idf_vector.T.todense(), \n",
    "                          index=feature_names, columns=[\"tfidf\"])\n",
    "    \n",
    "        \n",
    "        #Find the tfidf of the term\n",
    "        for queryTerm in query:    \n",
    "            try:\n",
    "                tfidf = df[\"tfidf\"][queryTerm]\n",
    "                SCQ = (1 + log(tfidf))\n",
    "                SCQList.append(SCQ)\n",
    "            except:\n",
    "                continue\n",
    "        \n",
    "    avgSCQ = sum(SCQList) / documentCount\n",
    "    return(SCQList)\n",
    "\n",
    "#The average of the collection-query similarity (SCQ) over all query terms\n",
    "def calcAvgSCQ(SCQList, documentCount):\n",
    "    avgSCQ = sum(SCQList) / documentCount\n",
    "    return(avgSCQ)\n",
    "    \n",
    "#The average of the collection-query similarity (SCQ) over all query terms\n",
    "def calcMaxSCQ(SCQList):\n",
    "    termCount = len(SCQList)\n",
    "    if(termCount != 0):\n",
    "        maxSCQ = np.amax(SCQList)\n",
    "    else:\n",
    "        maxSCQ = np.NaN\n",
    "    return(maxSCQ)\n",
    "\n",
    "#The average of the collection-query similarity (SCQ) over all query terms\n",
    "def calcSumSCQ(SCQList):\n",
    "    sumSCQ = sum(SCQList)\n",
    "    return(sumSCQ)\n",
    "\n",
    "def createTermPairs(cv):\n",
    "    terms = list(cv.vocabulary_.keys())\n",
    "    #Create all possible pair combinations from the terms in the query \n",
    "    pairCombinationList = list(itertools.combinations(terms, 2))\n",
    "    return(pairCombinationList)\n",
    "\n",
    "#Method to find out how often a term occurs in a document\n",
    "def findTermFrequencies(cv, docCollection):\n",
    "    terms = list(cv.vocabulary_.keys())\n",
    "    termFrequencies = {}\n",
    "    for term in terms:\n",
    "        termCounter = 0\n",
    "        for document in docCollection:\n",
    "            if isinstance(document, list):\n",
    "                if term in document: \n",
    "                    termCounter = termCounter + 1\n",
    "        termFrequencies[term] = termCounter\n",
    "    return(termFrequencies)\n",
    "\n",
    "#Method to find out how often both terms occur in a document. \n",
    "def findTermPairFrequencies(termPairs, docCollection):\n",
    "    termPairFrequencies = {}\n",
    "    for termPair in termPairs:\n",
    "        termPairCount = 0\n",
    "        for document in docCollection:\n",
    "            if (isinstance(document, list)):\n",
    "                if all(i in document for i in termPair):\n",
    "                    termPairCount = termPairCount + 1\n",
    "        termPairFrequencies[termPair] = termPairCount\n",
    "    return(termPairFrequencies)   \n",
    "\n",
    "def calcPMIList(query, termFrequencies, termPairFrequencies, docCollection):\n",
    "    if isinstance(query, list):\n",
    "    #Find the frequencies of the individual terms and the pairs\n",
    "        pairCombinationList = list(itertools.combinations(query, 2))\n",
    "        termOccurances = []\n",
    "        for pair in pairCombinationList:\n",
    "            try:\n",
    "                q1Freq = termFrequencies[pair[0]]\n",
    "            except:\n",
    "                q1Freq = 0\n",
    "            try:\n",
    "                q2Freq = termFrequencies[pair[1]]\n",
    "            except:\n",
    "                q2Freq = 0\n",
    "            try:\n",
    "                q1q2Freq = termPairFrequencies[pair]\n",
    "            except:\n",
    "                q1q2Freq = 0\n",
    "                    \n",
    "            termOccurances.append({'q1Freq': q1Freq, \n",
    "                                   'q2Freq': q2Freq, \n",
    "                                   'q1q2Freq': q1q2Freq})\n",
    "    \n",
    "        docCount = len(docCollection)\n",
    "        pmiList = []\n",
    "        for term in termOccurances:\n",
    "            pq1 = term['q1Freq'] / docCount\n",
    "            pq2 = term['q2Freq'] / docCount\n",
    "            pq1q2 = term['q1q2Freq'] / docCount\n",
    "\n",
    "            try:\n",
    "                pmi = log(pq1q2 /(pq1 * pq2))\n",
    "            except:\n",
    "                pmi = np.nan\n",
    "            pmiList.append(pmi)\n",
    "        return(pmiList)\n",
    "    else:\n",
    "        return(np.nan)\n",
    "\n",
    "def calcAvgPMI(pmiList):\n",
    "    if(isinstance(pmiList, list)):\n",
    "        pairCount = len(pmiList)\n",
    "        if(pairCount != 0):\n",
    "            #Calculate the average of all the entropies\n",
    "            avgPMI= np.nansum(pmiList) / pairCount\n",
    "        else:\n",
    "            avgPMI = 0\n",
    "        return(avgPMI)\n",
    "    return(np.nan)\n",
    "\n",
    "def calcMaxPMI(pmiList): \n",
    "    if(isinstance(pmiList, list)):\n",
    "        pairCount = len(pmiList)\n",
    "        if(pairCount != 0):\n",
    "            maxPMI = np.nanmax(pmiList)\n",
    "        else: \n",
    "            maxPMI = np.nan\n",
    "        return(maxPMI)\n",
    "    return(np.nan)"
   ]
  },
  {
   "cell_type": "code",
   "execution_count": null,
   "id": "humanitarian-living",
   "metadata": {},
   "outputs": [],
   "source": [
    "#Read datasets from disk\n",
    "processedData_dataProcessingCartesian = pd.read_pickle(r\"../data/03_processed/processedData_dataProcessingCartesian.pkl\")\n",
    "processedData_academyCartesian = pd.read_pickle(r\"../data/03_processed/processedData_academyCartesian.pkl\")\n",
    "\n",
    "#instantiate CountVectorizer() for SVN\n",
    "processedData_SVN_dataProcessingCountVectorizer = CountVectorizer()\n",
    "processedData_SVN_dataProcessingTF_IDF = createFittedTF_IDF(processedData_SVN_dataProcessingCountVectorizer, intermediateData_SVN_dataProcessingCorpusAll)\n",
    "\n",
    "#instantiate CountVectorizer() for JIRA\n",
    "processedData_JIRA_dataProcessingCountVectorizer = CountVectorizer()\n",
    "processedData_JIRA_dataProcessingTF_IDF = createFittedTF_IDF(processedData_JIRA_dataProcessingCountVectorizer, intermediateData_JIRA_dataProcessingCorpus)\n",
    "\n",
    "#Determine document counts\n",
    "intermediateData_JIRA_dataProcessing_documentCount = len(intermediateData_JIRA_dataProcessing.index)\n",
    "intermediateData_SVN_dataProcessing_documentCount = len(intermediateData_SVN_dataProcessing.index)\n",
    "\n"
   ]
  },
  {
   "cell_type": "markdown",
   "id": "theoretical-sport",
   "metadata": {},
   "source": [
    "#### IDF Scores (SVN as Query)"
   ]
  },
  {
   "cell_type": "code",
   "execution_count": null,
   "id": "living-sodium",
   "metadata": {},
   "outputs": [],
   "source": [
    "#Start timer\n",
    "startTime = time.time() \n",
    "\n",
    "#Create new dataFrame\n",
    "processedData_SVN_dataProcessingFeaturesIDF = pd.DataFrame()\n",
    "\n",
    "#Calculate IDF stats for each svn\n",
    "processedData_SVN_dataProcessingFeaturesIDF[\"SvnAsQuery_IDF\"] = processedData_dataProcessingCartesian.apply(lambda x: calcIDFList(x.Commit_natural_text, \n",
    "                                                                                                                processedData_SVN_dataProcessingCountVectorizer, \n",
    "                                                                                                                processedData_SVN_dataProcessingTF_IDF),axis=1)\n",
    "\n",
    "processedData_SVN_dataProcessingFeaturesIDF[\"SvnAsQuery_avgIDF\"] = processedData_SVN_dataProcessingFeaturesIDF.apply(lambda x: calcAvgIDF(x.SvnAsQuery_IDF), axis=1)\n",
    "processedData_SVN_dataProcessingFeaturesIDF[\"SvnAsQuery_maxIDF\"] = processedData_SVN_dataProcessingFeaturesIDF.apply(lambda x: calcMaxIDF(x.SvnAsQuery_IDF), axis=1)\n",
    "processedData_SVN_dataProcessingFeaturesIDF[\"SvnAsQuery_devIDF\"] = processedData_SVN_dataProcessingFeaturesIDF.apply(lambda x: calcDevIDF(x.SvnAsQuery_IDF), axis=1)\n",
    "\n",
    "#Save results in pickle\n",
    "processedData_SVN_dataProcessingFeaturesIDF.to_pickle(path= \"../data/03_processed/processedData_SVN_dataProcessingFeaturesIDF.pkl\")\n",
    "\n",
    "endTime = time.time()\n",
    "timeDifference = calculateTimeDifference(startTime=startTime, endTime=endTime)\n",
    "print(\"Finished creating query quality features in \" + timeDifference)"
   ]
  },
  {
   "cell_type": "markdown",
   "id": "nasty-animation",
   "metadata": {},
   "source": [
    "#### IDF Scores (SVNLogs as Query)"
   ]
  },
  {
   "cell_type": "code",
   "execution_count": null,
   "id": "capital-polymer",
   "metadata": {},
   "outputs": [],
   "source": [
    "#Start timer\n",
    "startTime = time.time() \n",
    "\n",
    "#Create new dataFrame\n",
    "processedData_SVNLogs_dataProcessingFeaturesIDF = pd.DataFrame()\n",
    "\n",
    "#Calculate IDF stats for each svn\n",
    "processedData_SVNLogs_dataProcessingFeaturesIDF[\"SvnLogsAsQuery_IDF\"] = processedData_dataProcessingCartesian.apply(lambda x: calcIDFList(x.Logs, \n",
    "                                                                                                                processedData_SVNLogs_dataProcessingCountVectorizer, \n",
    "                                                                                                                processedData_SVNLogs_dataProcessingCountTF_IDF),axis=1)\n",
    "\n",
    "processedData_SVNLogs_dataProcessingFeaturesIDF[\"SvnLogsAsQuery_avgIDF\"] = processedData_SVNLogs_dataProcessingFeaturesIDF.apply(lambda x: calcAvgIDF(x.SvnLogsAsQuery_IDF), axis=1)\n",
    "processedData_SVNLogs_dataProcessingFeaturesIDF[\"SvnLogsAsQuery_maxIDF\"] = processedData_SVNLogs_dataProcessingFeaturesIDF.apply(lambda x: calcMaxIDF(x.SvnLogsAsQuery_IDF), axis=1)\n",
    "processedData_SVNLogs_dataProcessingFeaturesIDF[\"SvnLogsAsQuery_devIDF\"] = processedData_SVNLogs_dataProcessingFeaturesIDF.apply(lambda x: calcDevIDF(x.SvnLogsAsQuery_IDF), axis=1)\n",
    "\n",
    "#Save results in pickle\n",
    "processedData_SVNLogs_dataProcessingFeaturesIDF.to_pickle(path= \"../data/03_processed/processedData_SVNLogs_dataProcessingFeaturesIDF.pkl\")\n",
    "\n",
    "endTime = time.time()\n",
    "timeDifference = calculateTimeDifference(startTime=startTime, endTime=endTime)\n",
    "print(\"Finished creating query quality features in \" + timeDifference)"
   ]
  },
  {
   "cell_type": "code",
   "execution_count": null,
   "id": "gothic-adapter",
   "metadata": {},
   "outputs": [],
   "source": [
    "#Start timer\n",
    "startTime = time.time() \n",
    "\n",
    "#Create new dataFrame\n",
    "processedData_SVNUnitNames_dataProcessingFeaturesIDF = pd.DataFrame()\n",
    "\n",
    "#Calculate IDF stats for each svn\n",
    "processedData_SVNUnitNames_dataProcessingFeaturesIDF[\"SvnUnitNamesAsQuery_IDF\"] = processedData_dataProcessingCartesian.apply(lambda x: calcIDFList(x.Logs, \n",
    "                                                                                                                processedData_SVNLogs_dataProcessingCountVectorizer, \n",
    "                                                                                                                processedData_SVNLogs_dataProcessingCountTF_IDF),axis=1)\n",
    "\n",
    "processedData_SVNUnitNames_dataProcessingFeaturesIDF[\"SvnUnitNamesAsQuery_avgIDF\"] = processedData_SVNUnitNames_dataProcessingFeaturesIDF.apply(lambda x: calcAvgIDF(x.SvnUnitNamesAsQuery_IDF), axis=1)\n",
    "processedData_SVNUnitNames_dataProcessingFeaturesIDF[\"SvnUnitNamesAsQuery_maxIDF\"] = processedData_SVNUnitNames_dataProcessingFeaturesIDF.apply(lambda x: calcMaxIDF(x.SvnUnitNamesAsQuery_IDF), axis=1)\n",
    "processedData_SVNUnitNames_dataProcessingFeaturesIDF[\"SvnUnitNamesAsQuery_devIDF\"] = processedData_SVNUnitNames_dataProcessingFeaturesIDF.apply(lambda x: calcDevIDF(x.SvnUnitNamesAsQuery_IDF), axis=1)\n",
    "\n",
    "#Save results in pickle\n",
    "processedData_SVNUnitNames_dataProcessingFeaturesIDF.to_pickle(path= \"../data/03_processed/processedData_SVNUnitNames_dataProcessingFeaturesIDF.pkl\")\n",
    "\n",
    "endTime = time.time()\n",
    "timeDifference = calculateTimeDifference(startTime=startTime, endTime=endTime)\n",
    "print(\"Finished creating query quality features in \" + timeDifference)"
   ]
  },
  {
   "cell_type": "markdown",
   "id": "express-account",
   "metadata": {},
   "source": [
    "##### IDF Scores (JIRA as Query)"
   ]
  },
  {
   "cell_type": "code",
   "execution_count": null,
   "id": "painted-angel",
   "metadata": {},
   "outputs": [],
   "source": [
    "#Start timer\n",
    "startTime = time.time() \n",
    "\n",
    "#Create new dataFrame\n",
    "processedData_JIRA_dataProcessingFeaturesIDF = pd.DataFrame()\n",
    "\n",
    "#Calculate IDF stats for each svn\n",
    "processedData_JIRA_dataProcessingFeaturesIDF[\"JiraAsQuery_IDF\"] = processedData_dataProcessingCartesian.apply(lambda x: calcIDFList(x.Jira_natural_text, \n",
    "                                                                                                                processedData_JIRA_dataProcessingCountVectorizer, \n",
    "                                                                                                                processedData_JIRA_dataProcessingTF_IDF),axis=1)\n",
    "\n",
    "processedData_JIRA_dataProcessingFeaturesIDF[\"JiraAsQuery_avgIDF\"] = processedData_JIRA_dataProcessingFeaturesIDF.apply(lambda x: calcAvgIDF(x.JiraAsQuery_IDF), axis=1)\n",
    "processedData_JIRA_dataProcessingFeaturesIDF[\"JiraAsQuery_maxIDF\"] = processedData_JIRA_dataProcessingFeaturesIDF.apply(lambda x: calcMaxIDF(x.JiraAsQuery_IDF), axis=1)\n",
    "processedData_JIRA_dataProcessingFeaturesIDF[\"JiraAsQuery_devIDF\"] = processedData_JIRA_dataProcessingFeaturesIDF.apply(lambda x: calcDevIDF(x.JiraAsQuery_IDF), axis=1)\n",
    "\n",
    "#Save results in pickle\n",
    "processedData_JIRA_dataProcessingFeaturesIDF.to_pickle(path= \"../data/03_processed/processedData_JIRA_dataProcessingFeaturesIDF.pkl\")\n",
    "\n",
    "endTime = time.time()\n",
    "timeDifference = calculateTimeDifference(startTime=startTime, endTime=endTime)\n",
    "print(\"Finished creating query quality features in \" + timeDifference)"
   ]
  },
  {
   "cell_type": "markdown",
   "id": "bearing-physics",
   "metadata": {},
   "source": [
    "#### ICTF Scores (SVNLogs as query)"
   ]
  },
  {
   "cell_type": "code",
   "execution_count": null,
   "id": "miniature-pizza",
   "metadata": {},
   "outputs": [],
   "source": [
    "#Start timer\n",
    "startTime = time.time() \n",
    "\n",
    "#Create new dataFrame\n",
    "processedData_SVNLogs_dataProcessingFeaturesICTF = pd.DataFrame()\n",
    "\n",
    "#Calculate IDF stats for each svn\n",
    "processedData_SVNLogs_dataProcessingFeaturesICTF[\"SvnLogsAsQuery_ICTF\"] = processedData_dataProcessingCartesian.apply(lambda x: calcICTFList(x.Logs, \n",
    "                                                                                                                processedData_SVNLogs_dataProcessingCountVectorizer, \n",
    "                                                                                                                intermediateData_SVN_dataProcessing_documentCount),axis=1)\n",
    "##\n",
    "processedData_SVNLogs_dataProcessingFeaturesICTF[\"SvnLogsAsQuery_avgICTF\"] = processedData_SVNLogs_dataProcessingFeaturesICTF.apply(lambda x: calcAvgICTF(x.SvnLogsAsQuery_ICTF, intermediateData_SVN_dataProcessing_documentCount), axis=1)\n",
    "processedData_SVNLogs_dataProcessingFeaturesICTF[\"SvnLogsAsQuery_maxICTF\"] = processedData_SVNLogs_dataProcessingFeaturesICTF.apply(lambda x: calcMaxICTF(x.SvnLogsAsQuery_ICTF), axis=1)\n",
    "processedData_SVNLogs_dataProcessingFeaturesICTF[\"SvnLogsAsQuery_devICTF\"] = processedData_SVNLogs_dataProcessingFeaturesICTF.apply(lambda x: calcDevICTF(x.SvnLogsAsQuery_ICTF), axis=1)\n",
    "\n",
    "#Save results in pickle\n",
    "processedData_SVNLogs_dataProcessingFeaturesICTF.to_pickle(path= \"../data/03_processed/processedData_SVNLogs_dataProcessingFeaturesICTF.pkl\")\n",
    "\n",
    "\n",
    "\n",
    "endTime = time.time()\n",
    "timeDifference = calculateTimeDifference(startTime=startTime, endTime=endTime)\n",
    "print(\"Finished creating query quality features in \" + timeDifference)"
   ]
  },
  {
   "cell_type": "markdown",
   "id": "loving-passport",
   "metadata": {},
   "source": [
    "#### ICTF Scores (SVNUnitNames as query)"
   ]
  },
  {
   "cell_type": "code",
   "execution_count": null,
   "id": "innovative-dayton",
   "metadata": {},
   "outputs": [],
   "source": [
    "#Start timer\n",
    "startTime = time.time() \n",
    "\n",
    "#Create new dataFrame\n",
    "processedData_SVNUnitNames_dataProcessingFeaturesICTF = pd.DataFrame()\n",
    "\n",
    "#Calculate IDF stats for each svn\n",
    "processedData_SVNUnitNames_dataProcessingFeaturesICTF[\"SvnUnitNamesAsQuery_ICTF\"] = processedData_dataProcessingCartesian.apply(lambda x: calcICTFList(x.Unit_names, \n",
    "                                                                                                                processedData_SVNUnitNames_dataProcessingCountVectorizer, \n",
    "                                                                                                                intermediateData_SVN_dataProcessing_documentCount),axis=1)\n",
    "##\n",
    "processedData_SVNUnitNames_dataProcessingFeaturesICTF[\"SvnUnitNamesAsQuery_avgICTF\"] = processedData_SVNUnitNames_dataProcessingFeaturesICTF.apply(lambda x: calcAvgICTF(x.SvnUnitNamesAsQuery_ICTF, intermediateData_SVN_dataProcessing_documentCount), axis=1)\n",
    "processedData_SVNUnitNames_dataProcessingFeaturesICTF[\"SvnUnitNamesAsQuery_maxICTF\"] = processedData_SVNUnitNames_dataProcessingFeaturesICTF.apply(lambda x: calcMaxICTF(x.SvnUnitNamesAsQuery_ICTF), axis=1)\n",
    "processedData_SVNUnitNames_dataProcessingFeaturesICTF[\"SvnUnitNamesAsQuery_devICTF\"] = processedData_SVNUnitNames_dataProcessingFeaturesICTF.apply(lambda x: calcDevICTF(x.SvnUnitNamesAsQuery_ICTF), axis=1)\n",
    "\n",
    "#Save results in pickle\n",
    "processedData_SVNUnitNames_dataProcessingFeaturesICTF.to_pickle(path= \"../data/03_processed/processedData_SVNUnitNames_dataProcessingFeaturesICTF.pkl\")\n",
    "\n",
    "\n",
    "\n",
    "endTime = time.time()\n",
    "timeDifference = calculateTimeDifference(startTime=startTime, endTime=endTime)\n",
    "print(\"Finished creating query quality features in \" + timeDifference)"
   ]
  },
  {
   "cell_type": "markdown",
   "id": "raising-beauty",
   "metadata": {},
   "source": [
    "#### ICTF Scores (JIRA as query)"
   ]
  },
  {
   "cell_type": "code",
   "execution_count": null,
   "id": "solved-cement",
   "metadata": {},
   "outputs": [],
   "source": [
    "#Start timer\n",
    "startTime = time.time() \n",
    "\n",
    "#Create new dataFrame\n",
    "processedData_JIRA_dataProcessingFeaturesICTF = pd.DataFrame()\n",
    "\n",
    "#Calculate IDF stats for each svn\n",
    "processedData_JIRA_dataProcessingFeaturesICTF[\"JiraAsQuery_ICTF\"] = processedData_dataProcessingCartesian.apply(lambda x: calcICTFList(x.Jira_natural_text, \n",
    "                                                                                                                processedData_JIRA_dataProcessingCountVectorizer, \n",
    "                                                                                                                intermediateData_JIRA_dataProcessing_documentCount),axis=1)\n",
    "##\n",
    "processedData_JIRA_dataProcessingFeaturesICTF[\"JiraAsQuery_avgICTF\"] = processedData_JIRA_dataProcessingFeaturesICTF.apply(lambda x: calcAvgICTF(x.JiraAsQuery_ICTF, intermediateData_SVN_dataProcessing_documentCount), axis=1)\n",
    "processedData_JIRA_dataProcessingFeaturesICTF[\"JiraAsQuery_maxICTF\"] = processedData_JIRA_dataProcessingFeaturesICTF.apply(lambda x: calcMaxICTF(x.JiraAsQuery_ICTF), axis=1)\n",
    "processedData_JIRA_dataProcessingFeaturesICTF[\"JiraAsQuery_devICTF\"] = processedData_JIRA_dataProcessingFeaturesICTF.apply(lambda x: calcDevICTF(x.JiraAsQuery_ICTF), axis=1)\n",
    "\n",
    "#Save results in pickle\n",
    "processedData_JIRA_dataProcessingFeaturesICTF.to_pickle(path= \"../data/03_processed/processedData_JIRA_dataProcessingFeaturesICTF.pkl\")\n",
    "\n",
    "\n",
    "\n",
    "endTime = time.time()\n",
    "timeDifference = calculateTimeDifference(startTime=startTime, endTime=endTime)\n",
    "print(\"Finished creating query quality features in \" + timeDifference)"
   ]
  },
  {
   "cell_type": "markdown",
   "id": "emotional-knitting",
   "metadata": {},
   "source": [
    "#### Entropy (SVNLogs as query)"
   ]
  },
  {
   "cell_type": "code",
   "execution_count": null,
   "id": "resident-carry",
   "metadata": {},
   "outputs": [],
   "source": [
    "#Start timer\n",
    "startTime = time.time() \n",
    "\n",
    "#Create new dataFrame\n",
    "processedData_SVNLogs_dataProcessingFeaturesEntropy = pd.DataFrame()\n",
    "\n",
    "#Calculate IDF stats for each svn\n",
    "processedData_SVNLogs_dataProcessingFeaturesEntropy[\"SvnLogsAsQuery_Entropy\"] = processedData_dataProcessingCartesian.apply(lambda x: calcEntropyList(x.Logs, \n",
    "                                                                                                                processedData_SVNLogs_dataProcessingCountVectorizer, \n",
    "                                                                                                                intermediateData_SVN_dataProcessing_documentCount,\n",
    "                                                                                                                intermediateData_SVN_dataProcessing.Logs),axis=1)\n",
    "##\n",
    "processedData_SVNLogs_dataProcessingFeaturesEntropy[\"SvnLogsAsQuery_avgEntropy\"] = processedData_SVNLogs_dataProcessingFeaturesEntropy.apply(lambda x: calcAvgEntropy(x.SvnLogsAsQuery_Entropy), axis=1)\n",
    "processedData_SVNLogs_dataProcessingFeaturesEntropy[\"SvnLogsAsQuery_medEntropy\"] = processedData_SVNLogs_dataProcessingFeaturesEntropy.apply(lambda x: calcMedEntropy(x.SvnLogsAsQuery_Entropy), axis=1)\n",
    "processedData_SVNLogs_dataProcessingFeaturesEntropy[\"SvnLogsAsQuery_maxEntropy\"] = processedData_SVNLogs_dataProcessingFeaturesEntropy.apply(lambda x: calcMaxEntropy(x.SvnLogsAsQuery_Entropy), axis=1)\n",
    "processedData_SVNLogs_dataProcessingFeaturesEntropy[\"SvnLogsAsQuery_devEntropy\"] = processedData_SVNLogs_dataProcessingFeaturesEntropy.apply(lambda x: calcDevEntropy(x.SvnLogsAsQuery_Entropy), axis=1)\n",
    "\n",
    "\n",
    "#Save results in pickle\n",
    "processedData_SVNLogs_dataProcessingFeaturesEntropy.to_pickle(path= \"../data/03_processed/processedData_SVNLogs_dataProcessingFeaturesEntropy.pkl\")\n",
    "\n",
    "\n",
    "endTime = time.time()\n",
    "timeDifference = calculateTimeDifference(startTime=startTime, endTime=endTime)\n",
    "print(\"Finished creating query quality features in \" + timeDifference)"
   ]
  },
  {
   "cell_type": "markdown",
   "id": "bibliographic-validation",
   "metadata": {},
   "source": [
    "#### Entropy (SVNUnitNames as query)"
   ]
  },
  {
   "cell_type": "code",
   "execution_count": null,
   "id": "extensive-default",
   "metadata": {},
   "outputs": [],
   "source": [
    "#Start timer\n",
    "startTime = time.time() \n",
    "\n",
    "#Create new dataFrame\n",
    "processedData_SVNUnitNames_dataProcessingFeaturesEntropy = pd.DataFrame()\n",
    "\n",
    "#Calculate IDF stats for each svn\n",
    "processedData_SVNUnitNames_dataProcessingFeaturesEntropy[\"SvnUnitNamesAsQuery_Entropy\"] = processedData_dataProcessingCartesian.apply(lambda x: calcEntropyList(x.Unit_names, \n",
    "                                                                                                                processedData_SVNUnitNames_dataProcessingCountVectorizer, \n",
    "                                                                                                                intermediateData_SVN_dataProcessing_documentCount,\n",
    "                                                                                                                intermediateData_SVN_dataProcessing.Logs),axis=1)\n",
    "##\n",
    "processedData_SVNUnitNames_dataProcessingFeaturesEntropy[\"SvnUnitNamesAsQuery_avgEntropy\"] = processedData_SVNUnitNames_dataProcessingFeaturesEntropy.apply(lambda x: calcAvgEntropy(x.SvnUnitNamesAsQuery_Entropy), axis=1)\n",
    "processedData_SVNUnitNames_dataProcessingFeaturesEntropy[\"SvnUnitNamesAsQuery_medEntropy\"] = processedData_SVNUnitNames_dataProcessingFeaturesEntropy.apply(lambda x: calcMedEntropy(x.SvnUnitNamesAsQuery_Entropy), axis=1)\n",
    "processedData_SVNUnitNames_dataProcessingFeaturesEntropy[\"SvnUnitNamesAsQuery_maxEntropy\"] = processedData_SVNUnitNames_dataProcessingFeaturesEntropy.apply(lambda x: calcMaxEntropy(x.SvnUnitNamesAsQuery_Entropy), axis=1)\n",
    "processedData_SVNUnitNames_dataProcessingFeaturesEntropy[\"SvnUnitNamesAsQuery_devEntropy\"] = processedData_SVNUnitNames_dataProcessingFeaturesEntropy.apply(lambda x: calcDevEntropy(x.SvnUnitNamesAsQuery_Entropy), axis=1)\n",
    "\n",
    "\n",
    "#Save results in pickle\n",
    "processedData_SVNUnitNames_dataProcessingFeaturesEntropy.to_pickle(path= \"../data/03_processed/processedData_SVNUnitNames_dataProcessingFeaturesEntropy.pkl\")\n",
    "\n",
    "\n",
    "endTime = time.time()\n",
    "timeDifference = calculateTimeDifference(startTime=startTime, endTime=endTime)\n",
    "print(\"Finished creating query quality features in \" + timeDifference)"
   ]
  },
  {
   "cell_type": "markdown",
   "id": "opposed-stack",
   "metadata": {},
   "source": [
    "#### Entropy (JIRA as query)"
   ]
  },
  {
   "cell_type": "code",
   "execution_count": null,
   "id": "circular-object",
   "metadata": {},
   "outputs": [],
   "source": [
    "#Start timer\n",
    "startTime = time.time() \n",
    "\n",
    "#Create new dataFrame\n",
    "processedData_JIRA_dataProcessingFeaturesEntropy = pd.DataFrame()\n",
    "\n",
    "#Calculate IDF stats for each svn\n",
    "processedData_JIRA_dataProcessingFeaturesEntropy[\"JiraAsQuery_Entropy\"] = processedData_dataProcessingCartesian.apply(lambda x: calcEntropyList(x.Jira_natural_text, \n",
    "                                                                                                                processedData_JIRA_dataProcessingCountVectorizer, \n",
    "                                                                                                                intermediateData_JIRA_dataProcessing_documentCount,\n",
    "                                                                                                                intermediateData_JIRA_dataProcessing.Jira_natural_text),axis=1)\n",
    "##\n",
    "processedData_JIRA_dataProcessingFeaturesEntropy[\"JiraAsQuery_avgEntropy\"] = processedData_JIRA_dataProcessingFeaturesEntropy.apply(lambda x: calcAvgEntropy(x.JiraAsQuery_Entropy), axis=1)\n",
    "processedData_JIRA_dataProcessingFeaturesEntropy[\"JiraAsQuery_medEntropy\"] = processedData_JIRA_dataProcessingFeaturesEntropy.apply(lambda x: calcMedEntropy(x.JiraAsQuery_Entropy), axis=1)\n",
    "processedData_JIRA_dataProcessingFeaturesEntropy[\"JiraAsQuery_maxEntropy\"] = processedData_JIRA_dataProcessingFeaturesEntropy.apply(lambda x: calcMaxEntropy(x.JiraAsQuery_Entropy), axis=1)\n",
    "processedData_JIRA_dataProcessingFeaturesEntropy[\"JiraAsQuery_devEntropy\"] = processedData_JIRA_dataProcessingFeaturesEntropy.apply(lambda x: calcDevEntropy(x.JiraAsQuery_Entropy), axis=1)\n",
    "\n",
    "\n",
    "#Save results in pickle\n",
    "processedData_JIRA_dataProcessingFeaturesEntropy.to_pickle(path= \"../data/03_processed/processedData_JIRA_dataProcessingFeaturesEntropy.pkl\")\n",
    "\n",
    "\n",
    "endTime = time.time()\n",
    "timeDifference = calculateTimeDifference(startTime=startTime, endTime=endTime)\n",
    "print(\"Finished creating query quality features in \" + timeDifference)"
   ]
  },
  {
   "cell_type": "markdown",
   "id": "adjacent-mother",
   "metadata": {},
   "source": [
    "##### Query Scope (SVNLogs as query)"
   ]
  },
  {
   "cell_type": "code",
   "execution_count": null,
   "id": "statewide-melissa",
   "metadata": {},
   "outputs": [],
   "source": [
    "#Start timer\n",
    "startTime = time.time() \n",
    "\n",
    "#Create new dataFrame\n",
    "processedData_SVNLogs_dataProcessingFeaturesQueryScope = pd.DataFrame()\n",
    "\n",
    "#Calculate IDF stats for each svn\n",
    "processedData_SVNLogs_dataProcessingFeaturesQueryScope[\"SvnLogsAsQuery_QueryScope\"] = processedData_dataProcessingCartesian.apply(lambda x: calcQueryScope(x.Logs, \n",
    "                                                                                                                intermediateData_SVN_dataProcessing.Logs),axis=1)\n",
    "\n",
    "#Save results in pickle\n",
    "processedData_SVNLogs_dataProcessingFeaturesQueryScope.to_pickle(path= \"../data/03_processed/processedData_SVNLogs_dataProcessingFeaturesQueryScope.pkl\")\n",
    "\n",
    "\n",
    "endTime = time.time()\n",
    "timeDifference = calculateTimeDifference(startTime=startTime, endTime=endTime)\n",
    "print(\"Finished creating query quality features in \" + timeDifference)\n",
    "\n"
   ]
  },
  {
   "cell_type": "markdown",
   "id": "passing-alarm",
   "metadata": {},
   "source": [
    "##### Query Scope (SVNUnitNames as query)"
   ]
  },
  {
   "cell_type": "code",
   "execution_count": null,
   "id": "severe-treaty",
   "metadata": {},
   "outputs": [],
   "source": [
    "#Start timer\n",
    "startTime = time.time() \n",
    "\n",
    "#Create new dataFrame\n",
    "processedData_SVNUnitNames_dataProcessingFeaturesQueryScope = pd.DataFrame()\n",
    "\n",
    "#Calculate IDF stats for each svn\n",
    "processedData_SVNUnitNames_dataProcessingFeaturesQueryScope[\"SvnUnitNamesAsQuery_QueryScope\"] = processedData_dataProcessingCartesian.apply(lambda x: calcQueryScope(x.Unit_names, \n",
    "                                                                                                                intermediateData_SVN_dataProcessing.Unit_names),axis=1)\n",
    "\n",
    "#Save results in pickle\n",
    "processedData_SVNUnitNames_dataProcessingFeaturesQueryScope.to_pickle(path= \"../data/03_processed/processedData_SVNUnitNames_dataProcessingFeaturesQueryScope.pkl\")\n",
    "\n",
    "\n",
    "endTime = time.time()\n",
    "timeDifference = calculateTimeDifference(startTime=startTime, endTime=endTime)\n",
    "print(\"Finished creating query quality features in \" + timeDifference)\n",
    "\n"
   ]
  },
  {
   "cell_type": "markdown",
   "id": "numeric-jumping",
   "metadata": {},
   "source": [
    "##### Query Scope (JIRA as query)"
   ]
  },
  {
   "cell_type": "code",
   "execution_count": null,
   "id": "increasing-israeli",
   "metadata": {},
   "outputs": [],
   "source": [
    "#Start timer\n",
    "startTime = time.time() \n",
    "\n",
    "#Create new dataFrame\n",
    "processedData_JIRA_dataProcessingFeaturesQueryScope = pd.DataFrame()\n",
    "\n",
    "#Calculate IDF stats for each svn\n",
    "processedData_JIRA_dataProcessingFeaturesQueryScope[\"JiraAsQuery_QueryScope\"] = processedData_dataProcessingCartesian.apply(lambda x: calcQueryScope(x.Jira_natural_text, \n",
    "                                                                                                                intermediateData_JIRA_dataProcessing.Jira_natural_text),axis=1)\n",
    "\n",
    "#Save results in pickle\n",
    "processedData_JIRA_dataProcessingFeaturesQueryScope.to_pickle(path= \"../data/03_processed/processedData_JIRA_dataProcessingFeaturesQueryScope.pkl\")\n",
    "\n",
    "\n",
    "endTime = time.time()\n",
    "timeDifference = calculateTimeDifference(startTime=startTime, endTime=endTime)\n",
    "print(\"Finished creating query quality features in \" + timeDifference)\n",
    "\n"
   ]
  },
  {
   "cell_type": "markdown",
   "id": "opened-immigration",
   "metadata": {},
   "source": [
    "#### Kullback-Leiber divergence (SVNLogs as query)"
   ]
  },
  {
   "cell_type": "code",
   "execution_count": null,
   "id": "printable-quality",
   "metadata": {},
   "outputs": [],
   "source": [
    "#Start timer\n",
    "startTime = time.time() \n",
    "\n",
    "#Create new dataFrame\n",
    "processedData_SVNLogs_dataProcessingFeaturesSCS = pd.DataFrame()\n",
    "\n",
    "#Calculate IDF stats for each svn\n",
    "processedData_SVNLogs_dataProcessingFeaturesSCS[\"SvnLogsAsQuery_SCS\"] = processedData_dataProcessingCartesian.apply(lambda x: calcSCS(x.Logs, \n",
    "                                                                                                                processedData_SVNLogs_dataProcessingCountVectorizer, \n",
    "                                                                                                                intermediateData_SVN_dataProcessing_documentCount),axis=1)\n",
    "\n",
    "#Save results in pickle\n",
    "processedData_SVNLogs_dataProcessingFeaturesSCS.to_pickle(path= \"../data/03_processed/processedData_SVNLogs_dataProcessingFeaturesSCS.pkl\")\n",
    "\n",
    "endTime = time.time()\n",
    "timeDifference = calculateTimeDifference(startTime=startTime, endTime=endTime)\n",
    "print(\"Finished creating query quality features in \" + timeDifference)\n",
    "\n"
   ]
  },
  {
   "cell_type": "markdown",
   "id": "northern-certificate",
   "metadata": {},
   "source": [
    "#### Kullback-Leiber divergence (SVNUnitNames as query)"
   ]
  },
  {
   "cell_type": "code",
   "execution_count": null,
   "id": "frequent-nitrogen",
   "metadata": {},
   "outputs": [],
   "source": [
    "#Start timer\n",
    "startTime = time.time() \n",
    "\n",
    "#Create new dataFrame\n",
    "processedData_SVNUnitNames_dataProcessingFeaturesSCS = pd.DataFrame()\n",
    "\n",
    "#Calculate IDF stats for each svn\n",
    "processedData_SVNUnitNames_dataProcessingFeaturesSCS[\"SvnUnitNamesAsQuery_SCS\"] = processedData_dataProcessingCartesian.apply(lambda x: calcSCS(x.Unit_names, \n",
    "                                                                                                                processedData_SVNUnitNames_dataProcessingCountVectorizer, \n",
    "                                                                                                                intermediateData_SVN_dataProcessing_documentCount),axis=1)\n",
    "\n",
    "#Save results in pickle\n",
    "processedData_SVNUnitNames_dataProcessingFeaturesSCS.to_pickle(path= \"../data/03_processed/processedData_SVNUnitNames_dataProcessingFeaturesSCS.pkl\")\n",
    "\n",
    "endTime = time.time()\n",
    "timeDifference = calculateTimeDifference(startTime=startTime, endTime=endTime)\n",
    "print(\"Finished creating query quality features in \" + timeDifference)\n",
    "\n"
   ]
  },
  {
   "cell_type": "markdown",
   "id": "commercial-dialogue",
   "metadata": {},
   "source": [
    "#### Kullback-Leiber divergence (JIRA as query)"
   ]
  },
  {
   "cell_type": "code",
   "execution_count": null,
   "id": "functioning-source",
   "metadata": {},
   "outputs": [],
   "source": [
    "#Start timer\n",
    "startTime = time.time() \n",
    "\n",
    "#Create new dataFrame\n",
    "processedData_JIRA_dataProcessingFeaturesSCS = pd.DataFrame()\n",
    "\n",
    "#Calculate IDF stats for each svn\n",
    "processedData_JIRA_dataProcessingFeaturesSCS[\"JiraAsQuery_SCS\"] = processedData_dataProcessingCartesian.apply(lambda x: calcSCS(x.Jira_natural_text, \n",
    "                                                                                                                processedData_JIRA_dataProcessingCountVectorizer, \n",
    "                                                                                                                intermediateData_JIRA_dataProcessing_documentCount),axis=1)\n",
    "\n",
    "#Save results in pickle\n",
    "processedData_JIRA_dataProcessingFeaturesSCS.to_pickle(path= \"../data/03_processed/processedData_JIRA_dataProcessingFeaturesSCS.pkl\")\n",
    "\n",
    "endTime = time.time()\n",
    "timeDifference = calculateTimeDifference(startTime=startTime, endTime=endTime)\n",
    "print(\"Finished creating query quality features in \" + timeDifference)\n",
    "\n"
   ]
  },
  {
   "cell_type": "markdown",
   "id": "irish-monitor",
   "metadata": {},
   "source": [
    "#### SCQ (SVNLogs as Query)"
   ]
  },
  {
   "cell_type": "code",
   "execution_count": null,
   "id": "considered-costs",
   "metadata": {},
   "outputs": [],
   "source": [
    "#Start timer\n",
    "startTime = time.time() \n",
    "\n",
    "#Create new dataFrame\n",
    "processedData_SVNLogs_dataProcessingFeaturesSCQ = pd.DataFrame()\n",
    "\n",
    "#Calculate IDF stats for each svn\n",
    "processedData_SVNLogs_dataProcessingFeaturesSCQ[\"SvnLogsAsQuery_SCQ\"] = processedData_dataProcessingCartesian.apply(lambda x: calcSCQList(x.Logs, intermediateData_SVN_dataProcessing.Logs,\n",
    "                                                                                                                                         processedData_SVNLogs_dataProcessingCountVectorizer,\n",
    "                                                                                                                                         processedData_SVNLogs_dataProcessingCountTF_IDF,\n",
    "                                                                                                                                         intermediateData_SVN_dataProcessing_documentCount),axis=1)\n",
    "\n",
    "processedData_SVNLogs_dataProcessingFeaturesSCQ[\"SvnLogsAsQuery_avgSCQ\"] = processedData_SVNLogs_dataProcessingFeaturesSCQ.apply(lambda x: calcAvgSCQ(x.SvnLogsAsQuery_SCQ, intermediateData_SVN_dataProcessing_documentCount), axis=1)\n",
    "processedData_SVNLogs_dataProcessingFeaturesSCQ[\"SvnLogsAsQuery_maxSCQ\"] = processedData_SVNLogs_dataProcessingFeaturesSCQ.apply(lambda x: calcMaxSCQ(x.SvnLogsAsQuery_SCQ), axis=1)\n",
    "processedData_SVNLogs_dataProcessingFeaturesSCQ[\"SvnLogsAsQuery_sumSCQ\"] = processedData_SVNLogs_dataProcessingFeaturesSCQ.apply(lambda x: calcSumSCQ(x.SvnLogsAsQuery_SCQ), axis=1)\n",
    "\n",
    "\n",
    "#Save results in pickle\n",
    "processedData_SVNLogs_dataProcessingFeaturesSCQ.to_pickle(path= \"../data/03_processed/processedData_SVNLogs_dataProcessingFeaturesSCQ.pkl\")\n",
    "\n",
    "endTime = time.time()\n",
    "timeDifference = calculateTimeDifference(startTime=startTime, endTime=endTime)\n",
    "print(\"Finished creating query quality features in \" + timeDifference)\n",
    "\n"
   ]
  },
  {
   "cell_type": "markdown",
   "id": "level-bikini",
   "metadata": {},
   "source": [
    "#### SCQ (SVNUnitNames as Query)"
   ]
  },
  {
   "cell_type": "code",
   "execution_count": null,
   "id": "driven-universe",
   "metadata": {},
   "outputs": [],
   "source": [
    "#Start timer\n",
    "startTime = time.time() \n",
    "\n",
    "#Create new dataFrame\n",
    "processedData_SVNUnitNames_dataProcessingFeaturesSCQ = pd.DataFrame()\n",
    "\n",
    "#Calculate IDF stats for each svn\n",
    "processedData_SVNUnitNames_dataProcessingFeaturesSCQ[\"SvnUnitNamesAsQuery_SCQ\"] = processedData_dataProcessingCartesian.apply(lambda x: calcSCQList(x.Unit_names, intermediateData_SVN_dataProcessing.Unit_names,\n",
    "                                                                                                                                         processedData_SVNUnitNames_dataProcessingCountVectorizer,\n",
    "                                                                                                                                         processedData_SVNUnitNames_dataProcessingCountTF_IDF,\n",
    "                                                                                                                                         intermediateData_SVN_dataProcessing_documentCount),axis=1)\n",
    "\n",
    "processedData_SVNUnitNames_dataProcessingFeaturesSCQ[\"SvnUnitNamesAsQuery_avgSCQ\"] = processedData_SVNUnitNames_dataProcessingFeaturesSCQ.apply(lambda x: calcAvgSCQ(x.SvnUnitNamesAsQuery_SCQ, intermediateData_SVN_dataProcessing_documentCount), axis=1)\n",
    "processedData_SVNUnitNames_dataProcessingFeaturesSCQ[\"SvnUnitNamesAsQuery_maxSCQ\"] = processedData_SVNUnitNames_dataProcessingFeaturesSCQ.apply(lambda x: calcMaxSCQ(x.SvnUnitNamesAsQuery_SCQ), axis=1)\n",
    "processedData_SVNUnitNames_dataProcessingFeaturesSCQ[\"SvnUnitNamesAsQuery_sumSCQ\"] = processedData_SVNUnitNames_dataProcessingFeaturesSCQ.apply(lambda x: calcSumSCQ(x.SvnUnitNamesAsQuery_SCQ), axis=1)\n",
    "\n",
    "\n",
    "#Save results in pickle\n",
    "processedData_SVNUnitNames_dataProcessingFeaturesSCQ.to_pickle(path= \"../data/03_processed/processedData_SVNUnitNames_dataProcessingFeaturesSCQ.pkl\")\n",
    "\n",
    "endTime = time.time()\n",
    "timeDifference = calculateTimeDifference(startTime=startTime, endTime=endTime)\n",
    "print(\"Finished creating query quality features in \" + timeDifference)\n",
    "\n"
   ]
  },
  {
   "cell_type": "markdown",
   "id": "medium-marshall",
   "metadata": {},
   "source": [
    "#### SCQ (JIRA as Query)"
   ]
  },
  {
   "cell_type": "code",
   "execution_count": null,
   "id": "given-pasta",
   "metadata": {},
   "outputs": [],
   "source": [
    "#Start timer\n",
    "startTime = time.time() \n",
    "\n",
    "#Create new dataFrame\n",
    "processedData_JIRA_dataProcessingFeaturesSCQ = pd.DataFrame()\n",
    "\n",
    "#Calculate IDF stats for each svn\n",
    "processedData_JIRA_dataProcessingFeaturesSCQ[\"JiraAsQuery_SCQ\"] = processedData_dataProcessingCartesian.apply(lambda x: calcSCQList(x.Jira_natural_text, intermediateData_JIRA_dataProcessing.Jira_natural_text,\n",
    "                                                                                                                                         processedData_JIRA_dataProcessingCountVectorizer,\n",
    "                                                                                                                                         processedData_JIRA_dataProcessingTF_IDF,\n",
    "                                                                                                                                         intermediateData_JIRA_dataProcessing_documentCount),axis=1)\n",
    "\n",
    "processedData_JIRA_dataProcessingFeaturesSCQ[\"JiraAsQuery_avgSCQ\"] = processedData_JIRA_dataProcessingFeaturesSCQ.apply(lambda x: calcAvgSCQ(x.JiraAsQuery_SCQ, intermediateData_JIRA_dataProcessing_documentCount), axis=1)\n",
    "processedData_JIRA_dataProcessingFeaturesSCQ[\"JiraAsQuery_maxSCQ\"] = processedData_JIRA_dataProcessingFeaturesSCQ.apply(lambda x: calcMaxSCQ(x.JiraAsQuery_SCQ), axis=1)\n",
    "processedData_JIRA_dataProcessingFeaturesSCQ[\"JiraAsQuery_sumSCQ\"] = processedData_JIRA_dataProcessingFeaturesSCQ.apply(lambda x: calcSumSCQ(x.JiraAsQuery_SCQ), axis=1)\n",
    "\n",
    "\n",
    "#Save results in pickle\n",
    "processedData_JIRA_dataProcessingFeaturesSCQ.to_pickle(path= \"../data/03_processed/processedData_JIRA_dataProcessingFeaturesSCQ.pkl\")\n",
    "\n",
    "endTime = time.time()\n",
    "timeDifference = calculateTimeDifference(startTime=startTime, endTime=endTime)\n",
    "print(\"Finished creating query quality features in \" + timeDifference)\n",
    "\n"
   ]
  },
  {
   "cell_type": "markdown",
   "id": "piano-haiti",
   "metadata": {},
   "source": [
    "#### PMI (SVNLogs as query)"
   ]
  },
  {
   "cell_type": "code",
   "execution_count": null,
   "id": "excellent-beaver",
   "metadata": {},
   "outputs": [],
   "source": [
    "#Start timer\n",
    "startTime = time.time() \n",
    "\n",
    "#Create pairs and find frequencies\n",
    "termPairs = createTermPairs(processedData_SVNLogs_dataProcessingCountVectorizer)\n",
    "termFrequencies = findTermFrequencies(processedData_SVNLogs_dataProcessingCountVectorizer, intermediateData_SVN_dataProcessing.Logs)\n",
    "termPairFrequencies = findTermPairFrequencies(termPairs, intermediateData_SVN_dataProcessing.Logs)\n",
    "\n",
    "#Create new dataFrame\n",
    "processedData_SVNLogs_dataProcessingFeaturesPMI = pd.DataFrame()\n",
    "\n",
    "#Calculate IDF stats for each svn\n",
    "processedData_SVNLogs_dataProcessingFeaturesPMI[\"SvnLogsAsQuery_PMI\"] = processedData_dataProcessingCartesian.apply(lambda x: calcPMIList(x.Logs, \n",
    "                                                                                                                                  termFrequencies, \n",
    "                                                                                                                                  termPairFrequencies, \n",
    "                                                                                                                                  intermediateData_SVN_dataProcessing.Logs),axis=1)\n",
    "\n",
    "processedData_SVNLogs_dataProcessingFeaturesPMI[\"SvnLogsAsQuery_avgPMI\"] = processedData_SVNLogs_dataProcessingFeaturesPMI.apply(lambda x: calcAvgPMI(x.SvnLogsAsQuery_PMI), axis=1)\n",
    "processedData_SVNLogs_dataProcessingFeaturesPMI[\"SvnLogsAsQuery_maxPMI\"] = processedData_SVNLogs_dataProcessingFeaturesPMI.apply(lambda x: calcMaxPMI(x.SvnLogsAsQuery_PMI), axis=1)\n",
    "\n",
    "\n",
    "\n",
    "processedData_SVNLogs_dataProcessingFeaturesPMI.drop('SvnLogsAsQuery_PMI', axis = 1, inplace=True)\n",
    "\n",
    "#Save results in pickle\n",
    "processedData_SVNLogs_dataProcessingFeaturesPMI.to_pickle(path= \"../data/03_processed/processedData_SVNLogs_dataProcessingFeaturesPMI.pkl\")\n",
    "\n",
    "endTime = time.time()\n",
    "timeDifference = calculateTimeDifference(startTime=startTime, endTime=endTime)\n",
    "print(\"Finished creating query quality features in \" + timeDifference)\n",
    "\n"
   ]
  },
  {
   "cell_type": "markdown",
   "id": "textile-vitamin",
   "metadata": {},
   "source": [
    "#### PMI (SVNUnitNames as query)"
   ]
  },
  {
   "cell_type": "code",
   "execution_count": null,
   "id": "nuclear-ultimate",
   "metadata": {},
   "outputs": [],
   "source": [
    "#Start timer\n",
    "startTime = time.time() \n",
    "\n",
    "#Create pairs and find frequencies\n",
    "termPairs = createTermPairs(processedData_SVNUnitNames_dataProcessingCountVectorizer)\n",
    "termFrequencies = findTermFrequencies(processedData_SVNUnitNames_dataProcessingCountVectorizer, intermediateData_SVN_dataProcessing.Unit_names)\n",
    "termPairFrequencies = findTermPairFrequencies(termPairs, intermediateData_SVN_dataProcessing.Unit_names)\n",
    "\n",
    "#Create new dataFrame\n",
    "processedData_SVNUnitNames_dataProcessingFeaturesPMI = pd.DataFrame()\n",
    "\n",
    "#Calculate IDF stats for each svn\n",
    "processedData_SVNUnitNames_dataProcessingFeaturesPMI[\"SvnUnitNamesAsQuery_PMI\"] = processedData_dataProcessingCartesian.apply(lambda x: calcPMIList(x.Unit_names, \n",
    "                                                                                                                                  termFrequencies, \n",
    "                                                                                                                                  termPairFrequencies, \n",
    "                                                                                                                                  intermediateData_SVN_dataProcessing.Unit_names),axis=1)\n",
    "\n",
    "processedData_SVNUnitNames_dataProcessingFeaturesPMI[\"SvnUnitNamesAsQuery_avgPMI\"] = processedData_SVNUnitNames_dataProcessingFeaturesPMI.apply(lambda x: calcAvgPMI(x.SvnUnitNamesAsQuery_PMI), axis=1)\n",
    "processedData_SVNUnitNames_dataProcessingFeaturesPMI[\"SvnUnitNamesAsQuery_maxPMI\"] = processedData_SVNUnitNames_dataProcessingFeaturesPMI.apply(lambda x: calcMaxPMI(x.SvnUnitNamesAsQuery_PMI), axis=1)\n",
    "\n",
    "\n",
    "\n",
    "processedData_SVNUnitNames_dataProcessingFeaturesPMI.drop('SvnUnitNamesAsQuery_PMI', axis = 1, inplace=True)\n",
    "\n",
    "#Save results in pickle\n",
    "processedData_SVNUnitNames_dataProcessingFeaturesPMI.to_pickle(path= \"../data/03_processed/processedData_SVNUnitNames_dataProcessingFeaturesPMI.pkl\")\n",
    "\n",
    "endTime = time.time()\n",
    "timeDifference = calculateTimeDifference(startTime=startTime, endTime=endTime)\n",
    "print(\"Finished creating query quality features in \" + timeDifference)\n",
    "\n"
   ]
  },
  {
   "cell_type": "markdown",
   "id": "similar-turtle",
   "metadata": {},
   "source": [
    "## 3.8 Preprocess Data - Load and transform feature families needed for training"
   ]
  },
  {
   "cell_type": "code",
   "execution_count": null,
   "id": "falling-legend",
   "metadata": {},
   "outputs": [],
   "source": []
  },
  {
   "cell_type": "code",
   "execution_count": null,
   "id": "increasing-database",
   "metadata": {},
   "outputs": [],
   "source": []
  },
  {
   "cell_type": "code",
   "execution_count": 58,
   "id": "palestinian-induction",
   "metadata": {},
   "outputs": [],
   "source": [
    "#Load Process-Related Features\n",
    "processedData_dataProcessingFeaturesTime = pd.read_pickle(r'../data/03_processed/processedData_dataProcessingFeaturesTime.pkl')\n",
    "processedData_dataProcessingFeaturesStakeholder = pd.read_pickle(r'../data/03_processed/processedData_dataProcessingFeaturesStakeholder.pkl')\n",
    "\n",
    "#Load IR-Related Features - unigram\n",
    "processedData_dataProcessing_features_VsmLogsJiraAsQuery = pd.read_pickle(r'../data/03_processed/processedData_dataProcessing_features_VsmLogsJiraAsQuery.pkl')\n",
    "processedData_dataProcessing_features_VsmLogsLogAsQuery = pd.read_pickle(r'../data/03_processed/processedData_dataProcessing_features_VsmLogsLogAsQuery.pkl')\n",
    "processedData_dataProcessing_features_VsmUnitNamesJiraAsQuery = pd.read_pickle(r'../data/03_processed/processedData_dataProcessing_features_VsmUnitNamesJiraAsQuery.pkl')\n",
    "processedData_dataProcessing_features_VsmUnitNamesUnitNamesAsQuery = pd.read_pickle(r'../data/03_processed/processedData_dataProcessing_features_VsmUnitNamesUnitNamesAsQuery.pkl')\n",
    "processedData_dataProcessing_features_VsmVerbPruningUnitNamesJiraAsQuery = pd.read_pickle(r'../data/03_processed/processedData_dataProcessing_features_VsmVerbPruningUnitNamesJiraAsQuery.pkl')\n",
    "processedData_dataProcessing_features_VsmVerbPruningUnitNamesUnitNamesAsQuery = pd.read_pickle(r'../data/03_processed/processedData_dataProcessing_features_VsmVerbPruningUnitNamesUnitNamesAsQuery.pkl')\n",
    "processedData_dataProcessing_features_VsmSummaryLogsSummaryAsQuery = pd.read_pickle(r'../data/03_processed/processedData_dataProcessing_features_VsmSummaryLogsSummaryAsQuery.pkl')\n",
    "processedData_dataProcessing_features_VsmSummaryLogsLogsAsQuery = pd.read_pickle(r'../data/03_processed/processedData_dataProcessing_features_VsmSummaryLogsLogsAsQuery.pkl')\n",
    "processedData_dataProcessing_features_VsmSummaryUnitNamesSummaryAsQuery = pd.read_pickle(r'../data/03_processed/processedData_dataProcessing_features_VsmSummaryUnitNamesSummaryAsQuery.pkl')\n",
    "processedData_dataProcessing_features_VsmSummaryUnitNamesUnitNamesAsQuery = pd.read_pickle(r'../data/03_processed/processedData_dataProcessing_features_VsmSummaryUnitNamesUnitNamesAsQuery.pkl')\n",
    "\n",
    "\n",
    "#Load IR-Related Features - bigram\n",
    "processedData_dataProcessing_features_VsmLogsJiraAsQuery_2gram = pd.read_pickle(r'../data/03_processed/processedData_dataProcessing_features_VsmLogsJiraAsQuery_2gram.pkl')\n",
    "processedData_dataProcessing_features_VsmLogsLogAsQuery_2gram = pd.read_pickle(r'../data/03_processed/processedData_dataProcessing_features_VsmLogsLogAsQuery_2gram.pkl')\n",
    "processedData_dataProcessing_features_VsmUnitNamesJiraAsQuery_2gram = pd.read_pickle(r'../data/03_processed/processedData_dataProcessing_features_VsmUnitNamesJiraAsQuery_2gram.pkl')\n",
    "processedData_dataProcessing_features_VsmUnitNamesUnitNamesAsQuery_2gram = pd.read_pickle(r'../data/03_processed/processedData_dataProcessing_features_VsmUnitNamesUnitNamesAsQuery_2gram.pkl')\n",
    "\n",
    "\n",
    "\n",
    "#Load Document Statistics Features\n",
    "processedData_JIRA_dataProcessingFeaturesUniqueWordCount = pd.read_pickle(r\"../data/03_processed/processedData_JIRA_dataProcessingFeaturesUniqueWordCount.pkl\")\n",
    "processedData_SVN_dataProcessingFeaturesUniqueWordCount = pd.read_pickle(r\"../data/03_processed/processedData_SVN_dataProcessingFeaturesUniqueWordCount.pkl\")\n",
    "processedData_JIRA_dataProcessingFeaturesTotalWordCount = pd.read_pickle(r\"../data/03_processed/processedData_JIRA_dataProcessingFeaturesTotalWordCount.pkl\")\n",
    "processedData_SVN_dataProcessingFeaturesTotalWordCount = pd.read_pickle(r\"../data/03_processed/processedData_SVN_dataProcessingFeaturesTotalWordCount.pkl\")\n",
    "processedData_JIRA_dataProcessingFeaturesOverlapPercentage = pd.read_pickle(r\"../data/03_processed/processedData_JIRA_dataProcessingFeaturesOverlapPercentage.pkl\")\n",
    "processedData_SVN_dataProcessingFeaturesOverlapPercentage = pd.read_pickle(r\"../data/03_processed/processedData_SVN_dataProcessingFeaturesOverlapPercentage.pkl\")\n",
    "processedData_UNION_dataProcessingFeaturesOverlapPercentage = pd.read_pickle(r\"../data/03_processed/processedData_UNION_dataProcessingFeaturesOverlapPercentage.pkl\")\n",
    "\n",
    "#Load Query Quality Features\n",
    "processedData_dataProcessingFeaturesQueryQuality = pd.read_pickle(r'../data/03_processed/processedData_dataProcessingFeaturesQueryQuality.pkl')\n",
    "processedData_SVN_dataProcessingFeaturesIDF = pd.read_pickle(r'../data/03_processed/processedData_SVN_dataProcessingFeaturesIDF.pkl')\n",
    "processedData_SVNLogs_dataProcessingFeaturesIDF = pd.read_pickle(r'../data/03_processed/processedData_SVNLogs_dataProcessingFeaturesIDF.pkl')\n",
    "processedData_SVNUnitNames_dataProcessingFeaturesIDF = pd.read_pickle(r'../data/03_processed/processedData_SVNUnitNames_dataProcessingFeaturesIDF.pkl')\n",
    "processedData_JIRA_dataProcessingFeaturesIDF = pd.read_pickle(r'../data/03_processed/processedData_JIRA_dataProcessingFeaturesIDF.pkl')\n",
    "processedData_SVNLogs_dataProcessingFeaturesICTF = pd.read_pickle(r'../data/03_processed/processedData_SVNLogs_dataProcessingFeaturesICTF.pkl')\n",
    "processedData_SVNUnitNames_dataProcessingFeaturesICTF = pd.read_pickle(r'../data/03_processed/processedData_SVNUnitNames_dataProcessingFeaturesICTF.pkl')\n",
    "processedData_JIRA_dataProcessingFeaturesICTF = pd.read_pickle(r'../data/03_processed/processedData_JIRA_dataProcessingFeaturesICTF.pkl')\n",
    "processedData_SVNLogs_dataProcessingFeaturesEntropy = pd.read_pickle(r'../data/03_processed/processedData_SVNLogs_dataProcessingFeaturesEntropy.pkl')\n",
    "processedData_SVNUnitNames_dataProcessingFeaturesEntropy = pd.read_pickle(r'../data/03_processed/processedData_SVNUnitNames_dataProcessingFeaturesEntropy.pkl')\n",
    "processedData_JIRA_dataProcessingFeaturesEntropy = pd.read_pickle(r'../data/03_processed/processedData_JIRA_dataProcessingFeaturesEntropy.pkl')\n",
    "processedData_SVNLogs_dataProcessingFeaturesQueryScope = pd.read_pickle(r'../data/03_processed/processedData_SVNLogs_dataProcessingFeaturesQueryScope.pkl')\n",
    "processedData_SVNUnitNames_dataProcessingFeaturesQueryScope = pd.read_pickle(r'../data/03_processed/processedData_SVNUnitNames_dataProcessingFeaturesQueryScope.pkl')\n",
    "processedData_JIRA_dataProcessingFeaturesQueryScope = pd.read_pickle(r'../data/03_processed/processedData_JIRA_dataProcessingFeaturesQueryScope.pkl')\n",
    "processedData_SVNLogs_dataProcessingFeaturesSCS = pd.read_pickle(r'../data/03_processed/processedData_SVNLogs_dataProcessingFeaturesSCS.pkl')\n",
    "processedData_SVNUnitNames_dataProcessingFeaturesSCS = pd.read_pickle(r'../data/03_processed/processedData_SVNUnitNames_dataProcessingFeaturesSCS.pkl')\n",
    "processedData_JIRA_dataProcessingFeaturesSCS = pd.read_pickle(r'../data/03_processed/processedData_JIRA_dataProcessingFeaturesSCS.pkl')\n",
    "processedData_SVNLogs_dataProcessingFeaturesSCQ = pd.read_pickle(r'../data/03_processed/processedData_SVNLogs_dataProcessingFeaturesSCQ.pkl')\n",
    "processedData_SVNUnitNames_dataProcessingFeaturesSCQ = pd.read_pickle(r'../data/03_processed/processedData_SVNUnitNames_dataProcessingFeaturesSCQ.pkl')\n",
    "processedData_JIRA_dataProcessingFeaturesSCQ = pd.read_pickle(r'../data/03_processed/processedData_JIRA_dataProcessingFeaturesSCQ.pkl')\n",
    "processedData_SVNLogs_dataProcessingFeaturesPMI = pd.read_pickle(r'../data/03_processed/processedData_SVNLogs_dataProcessingFeaturesPMI.pkl')\n",
    "processedData_SVNUnitNames_dataProcessingFeaturesPMI = pd.read_pickle(r'../data/03_processed/processedData_SVNUnitNames_dataProcessingFeaturesPMI.pkl')\n",
    "\n",
    "\n",
    "#Merge features into 1 dataframe\n",
    "processedData_dataProcessingFeatures = pd.concat([processedData_dataProcessingFeaturesTime,\n",
    "                                                  processedData_dataProcessingFeaturesStakeholder,\n",
    "                                                  #IR-based\n",
    "                                                  processedData_dataProcessing_features_VsmLogsJiraAsQuery,\n",
    "                                                  processedData_dataProcessing_features_VsmLogsLogAsQuery,\n",
    "                                                  processedData_dataProcessing_features_VsmUnitNamesJiraAsQuery,\n",
    "                                                  processedData_dataProcessing_features_VsmUnitNamesUnitNamesAsQuery,\n",
    "                                                  processedData_dataProcessing_features_VsmSummaryLogsSummaryAsQuery,\n",
    "                                                  processedData_dataProcessing_features_VsmSummaryLogsLogsAsQuery,\n",
    "                                                  processedData_dataProcessing_features_VsmSummaryUnitNamesSummaryAsQuery,\n",
    "                                                  processedData_dataProcessing_features_VsmSummaryUnitNamesUnitNamesAsQuery,\n",
    "                                                  processedData_dataProcessing_features_VsmLogsJiraAsQuery_2gram,\n",
    "                                                  processedData_dataProcessing_features_VsmLogsLogAsQuery_2gram,\n",
    "                                                  processedData_dataProcessing_features_VsmUnitNamesJiraAsQuery_2gram,\n",
    "                                                  processedData_dataProcessing_features_VsmUnitNamesUnitNamesAsQuery_2gram,\n",
    "                                                  processedData_dataProcessing_features_VsmVerbPruningUnitNamesJiraAsQuery,\n",
    "                                                  processedData_dataProcessing_features_VsmVerbPruningUnitNamesUnitNamesAsQuery,\n",
    "                                                  \n",
    "                                                  #Document Statistics\n",
    "                                                  processedData_JIRA_dataProcessingFeaturesUniqueWordCount,\n",
    "                                                  processedData_SVN_dataProcessingFeaturesUniqueWordCount,\n",
    "                                                  processedData_JIRA_dataProcessingFeaturesTotalWordCount,\n",
    "                                                  processedData_SVN_dataProcessingFeaturesTotalWordCount,\n",
    "                                                  #processedData_JIRA_dataProcessingFeaturesOverlapPercentage,\n",
    "                                                  processedData_SVN_dataProcessingFeaturesOverlapPercentage,\n",
    "                                                  #processedData_UNION_dataProcessingFeaturesOverlapPercentage,\n",
    "                                                 #Query Quality\n",
    "                                                  processedData_SVN_dataProcessingFeaturesIDF['SvnAsQuery_avgIDF'],\n",
    "                                                  processedData_SVN_dataProcessingFeaturesIDF['SvnAsQuery_maxIDF'],\n",
    "                                              #    processedData_SVN_dataProcessingFeaturesIDF['SvnAsQuery_devIDF'],\n",
    "                                             #     processedData_SVNLogs_dataProcessingFeaturesIDF['SvnLogsAsQuery_avgIDF'],\n",
    "                                             #     processedData_SVNLogs_dataProcessingFeaturesIDF['SvnLogsAsQuery_maxIDF'],\n",
    "                                             #     processedData_SVNLogs_dataProcessingFeaturesIDF['SvnLogsAsQuery_devIDF'],\n",
    "                                             #     processedData_SVNUnitNames_dataProcessingFeaturesIDF['SvnUnitNamesAsQuery_avgIDF'],\n",
    "                                             #     processedData_SVNUnitNames_dataProcessingFeaturesIDF['SvnUnitNamesAsQuery_maxIDF'],\n",
    "                                             #     processedData_SVNUnitNames_dataProcessingFeaturesIDF['SvnUnitNamesAsQuery_devIDF'],\n",
    "                                            #      processedData_JIRA_dataProcessingFeaturesIDF['JiraAsQuery_avgIDF'],\n",
    "                                            #      processedData_JIRA_dataProcessingFeaturesIDF['JiraAsQuery_maxIDF'],\n",
    "                                            #      processedData_JIRA_dataProcessingFeaturesIDF['JiraAsQuery_devIDF'],               \n",
    "                                            #      processedData_SVNLogs_dataProcessingFeaturesICTF[\"SvnLogsAsQuery_avgICTF\"],\n",
    "                                             #     processedData_SVNLogs_dataProcessingFeaturesICTF[\"SvnLogsAsQuery_maxICTF\"],\n",
    "                                            #      processedData_SVNLogs_dataProcessingFeaturesICTF[\"SvnLogsAsQuery_devICTF\"],\n",
    "                                             #     processedData_SVNUnitNames_dataProcessingFeaturesICTF[\"SvnUnitNamesAsQuery_avgICTF\"],\n",
    "                                            #      processedData_SVNUnitNames_dataProcessingFeaturesICTF[\"SvnUnitNamesAsQuery_maxICTF\"],\n",
    "                                             #     processedData_SVNUnitNames_dataProcessingFeaturesICTF[\"SvnUnitNamesAsQuery_devICTF\"],\n",
    "                                            #      processedData_JIRA_dataProcessingFeaturesICTF[\"JiraAsQuery_avgICTF\"],\n",
    "                                            #      processedData_JIRA_dataProcessingFeaturesICTF[\"JiraAsQuery_maxICTF\"],\n",
    "                                            #      processedData_JIRA_dataProcessingFeaturesICTF[\"JiraAsQuery_devICTF\"],\n",
    "                                              #    processedData_SVNLogs_dataProcessingFeaturesEntropy[\"SvnLogsAsQuery_avgEntropy\"],\n",
    "                                              #    processedData_SVNLogs_dataProcessingFeaturesEntropy[\"SvnLogsAsQuery_medEntropy\"],\n",
    "                                              #    processedData_SVNLogs_dataProcessingFeaturesEntropy[\"SvnLogsAsQuery_maxEntropy\"],\n",
    "                                              #    processedData_SVNLogs_dataProcessingFeaturesEntropy[\"SvnLogsAsQuery_devEntropy\"],\n",
    "                                              #    processedData_SVNUnitNames_dataProcessingFeaturesEntropy[\"SvnUnitNamesAsQuery_avgEntropy\"],\n",
    "                                             #     processedData_SVNUnitNames_dataProcessingFeaturesEntropy[\"SvnUnitNamesAsQuery_medEntropy\"],\n",
    "                                              #    processedData_SVNUnitNames_dataProcessingFeaturesEntropy[\"SvnUnitNamesAsQuery_maxEntropy\"],\n",
    "                                             #     processedData_SVNUnitNames_dataProcessingFeaturesEntropy[\"SvnUnitNamesAsQuery_devEntropy\"],\n",
    "                                                 # processedData_JIRA_dataProcessingFeaturesEntropy[\"JiraAsQuery_avgEntropy\"],\n",
    "                                                 # processedData_JIRA_dataProcessingFeaturesEntropy[\"JiraAsQuery_medEntropy\"],\n",
    "                                                 # processedData_JIRA_dataProcessingFeaturesEntropy[\"JiraAsQuery_maxEntropy\"],\n",
    "                                                 # processedData_JIRA_dataProcessingFeaturesEntropy[\"JiraAsQuery_devEntropy\"],\n",
    "                                                #  processedData_SVNLogs_dataProcessingFeaturesQueryScope,\n",
    "                                               #   processedData_SVNUnitNames_dataProcessingFeaturesQueryScope,\n",
    "                                                 # processedData_JIRA_dataProcessingFeaturesQueryScope,\n",
    "                                                #  processedData_SVNLogs_dataProcessingFeaturesSCS,\n",
    "                                                #  processedData_SVNUnitNames_dataProcessingFeaturesSCS,\n",
    "                                                 # processedData_JIRA_dataProcessingFeaturesSCS,\n",
    "                                              #    processedData_SVNLogs_dataProcessingFeaturesSCQ[\"SvnLogsAsQuery_avgSCQ\"],\n",
    "                                                #  processedData_SVNLogs_dataProcessingFeaturesSCQ[\"SvnLogsAsQuery_maxSCQ\"],\n",
    "                                               #   processedData_SVNLogs_dataProcessingFeaturesSCQ[\"SvnLogsAsQuery_sumSCQ\"],\n",
    "                                               #   processedData_SVNUnitNames_dataProcessingFeaturesSCQ[\"SvnUnitNamesAsQuery_avgSCQ\"],\n",
    "                                               #   processedData_SVNUnitNames_dataProcessingFeaturesSCQ[\"SvnUnitNamesAsQuery_maxSCQ\"],\n",
    "                                               #   processedData_SVNUnitNames_dataProcessingFeaturesSCQ[\"SvnUnitNamesAsQuery_sumSCQ\"],\n",
    "                                                 # processedData_JIRA_dataProcessingFeaturesSCQ[\"JiraAsQuery_avgSCQ\"],\n",
    "                                                  #processedData_JIRA_dataProcessingFeaturesSCQ[\"JiraAsQuery_maxSCQ\"],\n",
    "                                                 # processedData_JIRA_dataProcessingFeaturesSCQ[\"JiraAsQuery_sumSCQ\"],\n",
    "                                                 # processedData_SVNLogs_dataProcessingFeaturesPMI[\"SvnLogsAsQuery_avgPMI\"],\n",
    "                                                 # processedData_SVNLogs_dataProcessingFeaturesPMI[\"SvnLogsAsQuery_maxPMI\"],\n",
    "                                                 # processedData_SVNUnitNames_dataProcessingFeaturesPMI[\"SvnUnitNamesAsQuery_avgPMI\"],\n",
    "                                                #  processedData_SVNUnitNames_dataProcessingFeaturesPMI[\"SvnUnitNamesAsQuery_maxPMI\"],\n",
    "                                                 ], axis=1)\n",
    "#Set the NaN to 0\n",
    "processedData_dataProcessingFeatures = processedData_dataProcessingFeatures.fillna(0)\n",
    "\n",
    "#Saving feature names for later use\n",
    "processedData_dataProcessingFeatureNames = list(processedData_dataProcessingFeatures.columns)\n",
    "\n",
    "#Transform pandas data frame into numpy arrays\n",
    "processedData_dataProcessingFeatures = np.array(processedData_dataProcessingFeatures)\n",
    "\n",
    "#Load labels\n",
    "processedData_dataProcessingLabels = pd.read_pickle(r'../data/03_processed/processedData_dataProcessingLabels.pkl')\n",
    "processedData_dataProcessingLabels = np.array(processedData_dataProcessingLabels[\"is_valid\"])\n"
   ]
  },
  {
   "cell_type": "code",
   "execution_count": 59,
   "id": "quality-economy",
   "metadata": {},
   "outputs": [
    {
     "ename": "NameError",
     "evalue": "name 'xgb' is not defined",
     "output_type": "error",
     "traceback": [
      "\u001b[1;31m---------------------------------------------------------------------------\u001b[0m",
      "\u001b[1;31mNameError\u001b[0m                                 Traceback (most recent call last)",
      "\u001b[1;32m<ipython-input-59-8b3e6b50fc33>\u001b[0m in \u001b[0;36m<module>\u001b[1;34m\u001b[0m\n\u001b[0;32m      2\u001b[0m \u001b[1;33m\u001b[0m\u001b[0m\n\u001b[0;32m      3\u001b[0m \u001b[1;31m# #Selecting the Best important features according to Logistic Regression using SelectFromModelsfm_selector = SelectFromModel(estimator=LogisticRegression())\u001b[0m\u001b[1;33m\u001b[0m\u001b[1;33m\u001b[0m\u001b[1;33m\u001b[0m\u001b[0m\n\u001b[1;32m----> 4\u001b[1;33m \u001b[0msfm_selector\u001b[0m \u001b[1;33m=\u001b[0m \u001b[0mSelectFromModel\u001b[0m\u001b[1;33m(\u001b[0m\u001b[0mestimator\u001b[0m\u001b[1;33m=\u001b[0m\u001b[0mxgb\u001b[0m\u001b[1;33m.\u001b[0m\u001b[0mXGBClassifier\u001b[0m\u001b[1;33m(\u001b[0m\u001b[1;33m)\u001b[0m\u001b[1;33m)\u001b[0m\u001b[1;33m\u001b[0m\u001b[1;33m\u001b[0m\u001b[0m\n\u001b[0m\u001b[0;32m      5\u001b[0m \u001b[0msfm_selector\u001b[0m\u001b[1;33m.\u001b[0m\u001b[0mfit\u001b[0m\u001b[1;33m(\u001b[0m\u001b[0mprocessedData_dataProcessingFeatures\u001b[0m\u001b[1;33m,\u001b[0m \u001b[0mprocessedData_dataProcessingLabels\u001b[0m\u001b[1;33m)\u001b[0m\u001b[1;33m\u001b[0m\u001b[1;33m\u001b[0m\u001b[0m\n\u001b[0;32m      6\u001b[0m \u001b[0msfm_selector\u001b[0m\u001b[1;33m.\u001b[0m\u001b[0mget_support\u001b[0m\u001b[1;33m(\u001b[0m\u001b[1;33m)\u001b[0m\u001b[1;33m\u001b[0m\u001b[1;33m\u001b[0m\u001b[0m\n",
      "\u001b[1;31mNameError\u001b[0m: name 'xgb' is not defined"
     ]
    }
   ],
   "source": [
    "from sklearn.feature_selection import SelectFromModel\n",
    "\n",
    "# #Selecting the Best important features according to Logistic Regression using SelectFromModelsfm_selector = SelectFromModel(estimator=LogisticRegression())\n",
    "sfm_selector = SelectFromModel(estimator=xgb.XGBClassifier())\n",
    "sfm_selector.fit(processedData_dataProcessingFeatures, processedData_dataProcessingLabels)\n",
    "sfm_selector.get_support()"
   ]
  },
  {
   "cell_type": "markdown",
   "id": "devoted-seventh",
   "metadata": {},
   "source": [
    "# 4. Modeling\n",
    "First select which data set to train:\n"
   ]
  },
  {
   "cell_type": "code",
   "execution_count": 66,
   "id": "tough-craft",
   "metadata": {},
   "outputs": [],
   "source": [
    "features = processedData_dataProcessingFeatures\n",
    "labels = processedData_dataProcessingLabels"
   ]
  },
  {
   "cell_type": "markdown",
   "id": "religious-australia",
   "metadata": {},
   "source": [
    "## 4.1 Create a Test and Training set (OLD, only used for quick testing)"
   ]
  },
  {
   "cell_type": "code",
   "execution_count": 67,
   "id": "needed-overview",
   "metadata": {},
   "outputs": [],
   "source": [
    "# Using Skicit-learn to split data into training and testing sets\n",
    "from sklearn.model_selection import train_test_split\n",
    "\n",
    "# Split the data into training and testing sets\n",
    "(modelsData_trainFeatures, \n",
    " modelsData_testFeatures, \n",
    " modelsData_trainLabels, \n",
    " modelsData_testLabels) = train_test_split(features,\n",
    "                                           labels,\n",
    "                                           test_size = 0.20)"
   ]
  },
  {
   "cell_type": "markdown",
   "id": "certified-reproduction",
   "metadata": {},
   "source": [
    "## 4.2 Modeling - Rebalancing the Training set (OLD, only used for quick testing)\n",
    "Select a dataset for modelling"
   ]
  },
  {
   "cell_type": "code",
   "execution_count": 68,
   "id": "precise-aberdeen",
   "metadata": {},
   "outputs": [
    {
     "name": "stdout",
     "output_type": "stream",
     "text": [
      "Counter({False: 26650, True: 354})\n"
     ]
    },
    {
     "data": {
      "image/png": "[encoded data removed]",
      "text/plain": [
       "<Figure size 432x288 with 1 Axes>"
      ]
     },
     "metadata": {
      "needs_background": "light"
     },
     "output_type": "display_data"
    },
    {
     "name": "stdout",
     "output_type": "stream",
     "text": [
      "Counter({False: 5330, True: 2665})\n"
     ]
    },
    {
     "data": {
      "image/png": "[encoded data removed]",
      "text/plain": [
       "<Figure size 432x288 with 1 Axes>"
      ]
     },
     "metadata": {
      "needs_background": "light"
     },
     "output_type": "display_data"
    }
   ],
   "source": [
    "# Oversample with SMOTE and random undersample for imbalanced dataset\n",
    "from imblearn.over_sampling import SMOTE\n",
    "from imblearn.under_sampling import RandomUnderSampler\n",
    "from imblearn.pipeline import Pipeline\n",
    "\n",
    "#Visualise class distribution before rebalancing\n",
    "summariseClassDistribution(modelsData_trainFeatures, \n",
    "                           modelsData_trainLabels)\n",
    "\n",
    "# define pipeline\n",
    "over = SMOTE(sampling_strategy=0.1)\n",
    "under = RandomUnderSampler(sampling_strategy=0.5)\n",
    "steps = [('o', over),('u', under)]\n",
    "pipeline = Pipeline(steps=steps)\n",
    "\n",
    "# transform the dataset\n",
    "modelsData_trainFeatures, modelsData_trainLabels = pipeline.fit_resample(modelsData_trainFeatures, modelsData_trainLabels)\n",
    "\n",
    "#Visualise class distribution after rebalancing\n",
    "summariseClassDistribution(modelsData_trainFeatures, \n",
    "                           modelsData_trainLabels)"
   ]
  },
  {
   "cell_type": "markdown",
   "id": "thousand-constitution",
   "metadata": {},
   "source": [
    "## 4.3 Modeling - Random Forest (OLD, only used for quick testing)"
   ]
  },
  {
   "cell_type": "code",
   "execution_count": 63,
   "id": "naked-variable",
   "metadata": {},
   "outputs": [
    {
     "name": "stdout",
     "output_type": "stream",
     "text": [
      "Legend\n",
      "Recall -  measures the fraction of relevant links that are retrieved\n",
      "Precision - measures the fraction of retrieved links that are relevant\n",
      "F-measure - measures the harmonic mean of recall and precision\n",
      "F2-measure - favors recall\n",
      "F0.5-measure - favors precision\n",
      "Average Precision - summarizes a precision-recall curve as the weighted mean of precisions achieved at each threshold\n",
      "\n",
      "   Accuracy  Precision    Recall     F1        F2      F0.5  Average Precision\n",
      "0  0.979562   0.333333  0.682927  0.448  0.564516  0.371353           0.231493\n",
      "\n",
      "--------------------------------------------------------------------\n"
     ]
    },
    {
     "data": {
      "image/png": "[encoded data removed]",
      "text/plain": [
       "<Figure size 432x288 with 1 Axes>"
      ]
     },
     "metadata": {
      "needs_background": "light"
     },
     "output_type": "display_data"
    },
    {
     "data": {
      "image/png": "[encoded data removed]",
      "text/plain": [
       "<Figure size 432x288 with 1 Axes>"
      ]
     },
     "metadata": {
      "needs_background": "light"
     },
     "output_type": "display_data"
    },
    {
     "data": {
      "image/png": "[encoded data removed]",
      "text/plain": [
       "<Figure size 432x288 with 1 Axes>"
      ]
     },
     "metadata": {
      "needs_background": "light"
     },
     "output_type": "display_data"
    }
   ],
   "source": [
    "# Import the model we are using\n",
    "from sklearn.ensemble import RandomForestClassifier\n",
    "\n",
    "# Instantiate model with 100 decision trees\n",
    "rf = RandomForestClassifier(n_estimators = 1000, n_jobs=-1)\n",
    "\n",
    "# Train the model on training data\n",
    "rf.fit(modelsData_trainFeatures, modelsData_trainLabels.astype(bool));\n",
    "\n",
    "#Display the model performance    \n",
    "showModelPerformance(trainedModel = rf, \n",
    "                     testFeatures = modelsData_testFeatures, \n",
    "                     testLabels = modelsData_testLabels)\n"
   ]
  },
  {
   "cell_type": "code",
   "execution_count": 69,
   "id": "defined-third",
   "metadata": {},
   "outputs": [
    {
     "name": "stdout",
     "output_type": "stream",
     "text": [
      "Elapsed time to compute the importances: 0.165 seconds\n"
     ]
    },
    {
     "name": "stderr",
     "output_type": "stream",
     "text": [
      "<ipython-input-69-ba07509e8bc7>:21: UserWarning: Tight layout not applied. The bottom and top margins cannot be made large enough to accommodate all axes decorations. \n",
      "  fig.tight_layout()\n"
     ]
    },
    {
     "data": {
      "image/png": "[encoded data removed]",
      "text/plain": [
       "<Figure size 432x288 with 1 Axes>"
      ]
     },
     "metadata": {
      "needs_background": "light"
     },
     "output_type": "display_data"
    }
   ],
   "source": [
    "import time\n",
    "import numpy as np\n",
    "\n",
    "start_time = time.time()\n",
    "importances = rf.feature_importances_\n",
    "std = np.std([\n",
    "    tree.feature_importances_ for tree in rf.estimators_], axis=0)\n",
    "elapsed_time = time.time() - start_time\n",
    "\n",
    "print(f\"Elapsed time to compute the importances: \"\n",
    "      f\"{elapsed_time:.3f} seconds\")\n",
    "\n",
    "import pandas as pd\n",
    "import matplotlib.pyplot as plt\n",
    "forest_importances = pd.Series(importances, index=[processedData_dataProcessingFeatureNames])\n",
    "\n",
    "fig, ax = plt.subplots()\n",
    "forest_importances.plot.bar(yerr=std, ax=ax)\n",
    "ax.set_title(\"Feature importances using MDI\")\n",
    "ax.set_ylabel(\"Mean decrease in impurity\")\n",
    "fig.tight_layout()"
   ]
  },
  {
   "cell_type": "markdown",
   "id": "aging-welsh",
   "metadata": {},
   "source": [
    "## 4.4 Modeling - XGBoost (OLD, only used for quick testing)"
   ]
  },
  {
   "cell_type": "code",
   "execution_count": 70,
   "id": "endless-insider",
   "metadata": {},
   "outputs": [
    {
     "name": "stderr",
     "output_type": "stream",
     "text": [
      "C:\\Users\\rande\\AppData\\Roaming\\Python\\Python39\\site-packages\\xgboost\\sklearn.py:1146: UserWarning: The use of label encoder in XGBClassifier is deprecated and will be removed in a future release. To remove this warning, do the following: 1) Pass option use_label_encoder=False when constructing XGBClassifier object; and 2) Encode your labels (y) as integers starting with 0, i.e. 0, 1, 2, ..., [num_class - 1].\n",
      "  warnings.warn(label_encoder_deprecation_msg, UserWarning)\n"
     ]
    },
    {
     "name": "stdout",
     "output_type": "stream",
     "text": [
      "[15:18:05] WARNING: C:/Users/Administrator/workspace/xgboost-win64_release_1.4.0/src/learner.cc:1095: Starting in XGBoost 1.3.0, the default evaluation metric used with the objective 'binary:logistic' was changed from 'error' to 'logloss'. Explicitly set eval_metric if you'd like to restore the old behavior.\n",
      "Legend\n",
      "Recall -  measures the fraction of relevant links that are retrieved\n",
      "Precision - measures the fraction of retrieved links that are relevant\n",
      "F-measure - measures the harmonic mean of recall and precision\n",
      "F2-measure - favors recall\n",
      "F0.5-measure - favors precision\n",
      "Average Precision - summarizes a precision-recall curve as the weighted mean of precisions achieved at each threshold\n",
      "\n",
      "   Accuracy  Precision    Recall        F1        F2  F0.5  Average Precision\n",
      "0  0.983709   0.462025  0.744898  0.570312  0.663636   0.5           0.347864\n",
      "\n",
      "--------------------------------------------------------------------\n"
     ]
    },
    {
     "data": {
      "image/png": "[encoded data removed]",
      "text/plain": [
       "<Figure size 432x288 with 1 Axes>"
      ]
     },
     "metadata": {
      "needs_background": "light"
     },
     "output_type": "display_data"
    },
    {
     "data": {
      "image/png": "[encoded data removed]",
      "text/plain": [
       "<Figure size 432x288 with 1 Axes>"
      ]
     },
     "metadata": {
      "needs_background": "light"
     },
     "output_type": "display_data"
    },
    {
     "data": {
      "image/png": "[encoded data removed]",
      "text/plain": [
       "<Figure size 432x288 with 1 Axes>"
      ]
     },
     "metadata": {
      "needs_background": "light"
     },
     "output_type": "display_data"
    }
   ],
   "source": [
    "import xgboost as xgb\n",
    "\n",
    "# Instantiate xgboost\n",
    "GXBoost = xgb.XGBClassifier(#scale_pos_weight=1,\n",
    "                            learning_rate=0.17,\n",
    "                            colsample_bytree = 0.4,\n",
    "                            subsample = 1.0,\n",
    "                            objective='binary:logistic',\n",
    "                            n_estimators=750,\n",
    "                            max_depth=12,\n",
    "                            gamma=0.03,\n",
    "                            n_jobs=-1\n",
    "                           # seed=27\n",
    ")\n",
    "\n",
    "\n",
    "\n",
    "# Train the model on training data\n",
    "GXBoost.fit(modelsData_trainFeatures, modelsData_trainLabels);\n",
    "\n",
    "#Display the model performance    \n",
    "showModelPerformance(trainedModel = GXBoost, \n",
    "                     testFeatures = modelsData_testFeatures, \n",
    "                     testLabels = modelsData_testLabels)"
   ]
  },
  {
   "cell_type": "markdown",
   "id": "remarkable-omega",
   "metadata": {},
   "source": [
    "# Model Pipeline - Light GBM"
   ]
  },
  {
   "cell_type": "code",
   "execution_count": 71,
   "id": "olive-finger",
   "metadata": {},
   "outputs": [
    {
     "name": "stdout",
     "output_type": "stream",
     "text": [
      "Legend\n",
      "Recall -  measures the fraction of relevant links that are retrieved\n",
      "Precision - measures the fraction of retrieved links that are relevant\n",
      "F-measure - measures the harmonic mean of recall and precision\n",
      "F2-measure - favors recall\n",
      "F0.5-measure - favors precision\n",
      "Average Precision - summarizes a precision-recall curve as the weighted mean of precisions achieved at each threshold\n",
      "\n",
      "   Accuracy  Precision    Recall        F1        F2  F0.5  Average Precision\n",
      "0   0.98356   0.460123  0.765306  0.574713  0.675676   0.5           0.355541\n",
      "\n",
      "--------------------------------------------------------------------\n"
     ]
    },
    {
     "data": {
      "image/png": "[encoded data removed]",
      "text/plain": [
       "<Figure size 432x288 with 1 Axes>"
      ]
     },
     "metadata": {
      "needs_background": "light"
     },
     "output_type": "display_data"
    },
    {
     "data": {
      "image/png": "[encoded data removed]",
      "text/plain": [
       "<Figure size 432x288 with 1 Axes>"
      ]
     },
     "metadata": {
      "needs_background": "light"
     },
     "output_type": "display_data"
    },
    {
     "data": {
      "image/png": "[encoded data removed]",
      "text/plain": [
       "<Figure size 432x288 with 1 Axes>"
      ]
     },
     "metadata": {
      "needs_background": "light"
     },
     "output_type": "display_data"
    }
   ],
   "source": [
    "import time\n",
    "import numpy as np\n",
    "from imblearn.pipeline import Pipeline \n",
    "from sklearn.model_selection import StratifiedKFold\n",
    "from sklearn.model_selection import RandomizedSearchCV\n",
    "from sklearn.model_selection import train_test_split\n",
    "from imblearn.over_sampling import SMOTE\n",
    "from imblearn.under_sampling import RandomUnderSampler\n",
    "\n",
    "# Import the model we are using\n",
    "import lightgbm as lgb\n",
    "\n",
    "# Instantiate Light GBM\n",
    "LightGBM_Model = lgb.LGBMClassifier( n_jobs=-1, n_estimators = 500, max_depth = 9)                         \n",
    "\n",
    "# Train the model on training data\n",
    "LightGBM_Model.fit(modelsData_trainFeatures, modelsData_trainLabels);\n",
    "\n",
    "#Display the model performance    \n",
    "showModelPerformance(trainedModel = LightGBM_Model, \n",
    "                     testFeatures = modelsData_testFeatures, \n",
    "                     testLabels = modelsData_testLabels)"
   ]
  },
  {
   "cell_type": "markdown",
   "id": "coastal-cosmetic",
   "metadata": {},
   "source": [
    "# Model - Pipeline for GXBoost"
   ]
  },
  {
   "cell_type": "code",
   "execution_count": 72,
   "id": "recent-scoop",
   "metadata": {},
   "outputs": [
    {
     "ename": "KeyboardInterrupt",
     "evalue": "",
     "output_type": "error",
     "traceback": [
      "\u001b[1;31m---------------------------------------------------------------------------\u001b[0m",
      "\u001b[1;31mKeyboardInterrupt\u001b[0m                         Traceback (most recent call last)",
      "\u001b[1;32m<ipython-input-72-846a76a357ae>\u001b[0m in \u001b[0;36m<module>\u001b[1;34m\u001b[0m\n\u001b[0;32m     42\u001b[0m                             cv = stratified_kfold)\n\u001b[0;32m     43\u001b[0m \u001b[1;33m\u001b[0m\u001b[0m\n\u001b[1;32m---> 44\u001b[1;33m \u001b[0moptimizedGXBoostModel\u001b[0m \u001b[1;33m=\u001b[0m \u001b[0mGXBoostSearch\u001b[0m\u001b[1;33m.\u001b[0m\u001b[0mfit\u001b[0m\u001b[1;33m(\u001b[0m\u001b[0mX_train\u001b[0m\u001b[1;33m,\u001b[0m \u001b[0my_train\u001b[0m\u001b[1;33m)\u001b[0m\u001b[1;33m\u001b[0m\u001b[1;33m\u001b[0m\u001b[0m\n\u001b[0m\u001b[0;32m     45\u001b[0m \u001b[1;33m\u001b[0m\u001b[0m\n\u001b[0;32m     46\u001b[0m \u001b[0melapsed_time\u001b[0m \u001b[1;33m=\u001b[0m \u001b[0mtime\u001b[0m\u001b[1;33m.\u001b[0m\u001b[0mtime\u001b[0m\u001b[1;33m(\u001b[0m\u001b[1;33m)\u001b[0m \u001b[1;33m-\u001b[0m \u001b[0mstart_time\u001b[0m\u001b[1;33m\u001b[0m\u001b[1;33m\u001b[0m\u001b[0m\n",
      "\u001b[1;32mC:\\Python39\\lib\\site-packages\\sklearn\\utils\\validation.py\u001b[0m in \u001b[0;36minner_f\u001b[1;34m(*args, **kwargs)\u001b[0m\n\u001b[0;32m     61\u001b[0m             \u001b[0mextra_args\u001b[0m \u001b[1;33m=\u001b[0m \u001b[0mlen\u001b[0m\u001b[1;33m(\u001b[0m\u001b[0margs\u001b[0m\u001b[1;33m)\u001b[0m \u001b[1;33m-\u001b[0m \u001b[0mlen\u001b[0m\u001b[1;33m(\u001b[0m\u001b[0mall_args\u001b[0m\u001b[1;33m)\u001b[0m\u001b[1;33m\u001b[0m\u001b[1;33m\u001b[0m\u001b[0m\n\u001b[0;32m     62\u001b[0m             \u001b[1;32mif\u001b[0m \u001b[0mextra_args\u001b[0m \u001b[1;33m<=\u001b[0m \u001b[1;36m0\u001b[0m\u001b[1;33m:\u001b[0m\u001b[1;33m\u001b[0m\u001b[1;33m\u001b[0m\u001b[0m\n\u001b[1;32m---> 63\u001b[1;33m                 \u001b[1;32mreturn\u001b[0m \u001b[0mf\u001b[0m\u001b[1;33m(\u001b[0m\u001b[1;33m*\u001b[0m\u001b[0margs\u001b[0m\u001b[1;33m,\u001b[0m \u001b[1;33m**\u001b[0m\u001b[0mkwargs\u001b[0m\u001b[1;33m)\u001b[0m\u001b[1;33m\u001b[0m\u001b[1;33m\u001b[0m\u001b[0m\n\u001b[0m\u001b[0;32m     64\u001b[0m \u001b[1;33m\u001b[0m\u001b[0m\n\u001b[0;32m     65\u001b[0m             \u001b[1;31m# extra_args > 0\u001b[0m\u001b[1;33m\u001b[0m\u001b[1;33m\u001b[0m\u001b[1;33m\u001b[0m\u001b[0m\n",
      "\u001b[1;32mC:\\Python39\\lib\\site-packages\\sklearn\\model_selection\\_search.py\u001b[0m in \u001b[0;36mfit\u001b[1;34m(self, X, y, groups, **fit_params)\u001b[0m\n\u001b[0;32m    839\u001b[0m                 \u001b[1;32mreturn\u001b[0m \u001b[0mresults\u001b[0m\u001b[1;33m\u001b[0m\u001b[1;33m\u001b[0m\u001b[0m\n\u001b[0;32m    840\u001b[0m \u001b[1;33m\u001b[0m\u001b[0m\n\u001b[1;32m--> 841\u001b[1;33m             \u001b[0mself\u001b[0m\u001b[1;33m.\u001b[0m\u001b[0m_run_search\u001b[0m\u001b[1;33m(\u001b[0m\u001b[0mevaluate_candidates\u001b[0m\u001b[1;33m)\u001b[0m\u001b[1;33m\u001b[0m\u001b[1;33m\u001b[0m\u001b[0m\n\u001b[0m\u001b[0;32m    842\u001b[0m \u001b[1;33m\u001b[0m\u001b[0m\n\u001b[0;32m    843\u001b[0m             \u001b[1;31m# multimetric is determined here because in the case of a callable\u001b[0m\u001b[1;33m\u001b[0m\u001b[1;33m\u001b[0m\u001b[1;33m\u001b[0m\u001b[0m\n",
      "\u001b[1;32mC:\\Python39\\lib\\site-packages\\sklearn\\model_selection\\_search.py\u001b[0m in \u001b[0;36m_run_search\u001b[1;34m(self, evaluate_candidates)\u001b[0m\n\u001b[0;32m   1617\u001b[0m     \u001b[1;32mdef\u001b[0m \u001b[0m_run_search\u001b[0m\u001b[1;33m(\u001b[0m\u001b[0mself\u001b[0m\u001b[1;33m,\u001b[0m \u001b[0mevaluate_candidates\u001b[0m\u001b[1;33m)\u001b[0m\u001b[1;33m:\u001b[0m\u001b[1;33m\u001b[0m\u001b[1;33m\u001b[0m\u001b[0m\n\u001b[0;32m   1618\u001b[0m         \u001b[1;34m\"\"\"Search n_iter candidates from param_distributions\"\"\"\u001b[0m\u001b[1;33m\u001b[0m\u001b[1;33m\u001b[0m\u001b[0m\n\u001b[1;32m-> 1619\u001b[1;33m         evaluate_candidates(ParameterSampler(\n\u001b[0m\u001b[0;32m   1620\u001b[0m             \u001b[0mself\u001b[0m\u001b[1;33m.\u001b[0m\u001b[0mparam_distributions\u001b[0m\u001b[1;33m,\u001b[0m \u001b[0mself\u001b[0m\u001b[1;33m.\u001b[0m\u001b[0mn_iter\u001b[0m\u001b[1;33m,\u001b[0m\u001b[1;33m\u001b[0m\u001b[1;33m\u001b[0m\u001b[0m\n\u001b[0;32m   1621\u001b[0m             random_state=self.random_state))\n",
      "\u001b[1;32mC:\\Python39\\lib\\site-packages\\sklearn\\model_selection\\_search.py\u001b[0m in \u001b[0;36mevaluate_candidates\u001b[1;34m(candidate_params, cv, more_results)\u001b[0m\n\u001b[0;32m    793\u001b[0m                               n_splits, n_candidates, n_candidates * n_splits))\n\u001b[0;32m    794\u001b[0m \u001b[1;33m\u001b[0m\u001b[0m\n\u001b[1;32m--> 795\u001b[1;33m                 out = parallel(delayed(_fit_and_score)(clone(base_estimator),\n\u001b[0m\u001b[0;32m    796\u001b[0m                                                        \u001b[0mX\u001b[0m\u001b[1;33m,\u001b[0m \u001b[0my\u001b[0m\u001b[1;33m,\u001b[0m\u001b[1;33m\u001b[0m\u001b[1;33m\u001b[0m\u001b[0m\n\u001b[0;32m    797\u001b[0m                                                        \u001b[0mtrain\u001b[0m\u001b[1;33m=\u001b[0m\u001b[0mtrain\u001b[0m\u001b[1;33m,\u001b[0m \u001b[0mtest\u001b[0m\u001b[1;33m=\u001b[0m\u001b[0mtest\u001b[0m\u001b[1;33m,\u001b[0m\u001b[1;33m\u001b[0m\u001b[1;33m\u001b[0m\u001b[0m\n",
      "\u001b[1;32mC:\\Python39\\lib\\site-packages\\joblib\\parallel.py\u001b[0m in \u001b[0;36m__call__\u001b[1;34m(self, iterable)\u001b[0m\n\u001b[0;32m   1052\u001b[0m \u001b[1;33m\u001b[0m\u001b[0m\n\u001b[0;32m   1053\u001b[0m             \u001b[1;32mwith\u001b[0m \u001b[0mself\u001b[0m\u001b[1;33m.\u001b[0m\u001b[0m_backend\u001b[0m\u001b[1;33m.\u001b[0m\u001b[0mretrieval_context\u001b[0m\u001b[1;33m(\u001b[0m\u001b[1;33m)\u001b[0m\u001b[1;33m:\u001b[0m\u001b[1;33m\u001b[0m\u001b[1;33m\u001b[0m\u001b[0m\n\u001b[1;32m-> 1054\u001b[1;33m                 \u001b[0mself\u001b[0m\u001b[1;33m.\u001b[0m\u001b[0mretrieve\u001b[0m\u001b[1;33m(\u001b[0m\u001b[1;33m)\u001b[0m\u001b[1;33m\u001b[0m\u001b[1;33m\u001b[0m\u001b[0m\n\u001b[0m\u001b[0;32m   1055\u001b[0m             \u001b[1;31m# Make sure that we get a last message telling us we are done\u001b[0m\u001b[1;33m\u001b[0m\u001b[1;33m\u001b[0m\u001b[1;33m\u001b[0m\u001b[0m\n\u001b[0;32m   1056\u001b[0m             \u001b[0melapsed_time\u001b[0m \u001b[1;33m=\u001b[0m \u001b[0mtime\u001b[0m\u001b[1;33m.\u001b[0m\u001b[0mtime\u001b[0m\u001b[1;33m(\u001b[0m\u001b[1;33m)\u001b[0m \u001b[1;33m-\u001b[0m \u001b[0mself\u001b[0m\u001b[1;33m.\u001b[0m\u001b[0m_start_time\u001b[0m\u001b[1;33m\u001b[0m\u001b[1;33m\u001b[0m\u001b[0m\n",
      "\u001b[1;32mC:\\Python39\\lib\\site-packages\\joblib\\parallel.py\u001b[0m in \u001b[0;36mretrieve\u001b[1;34m(self)\u001b[0m\n\u001b[0;32m    931\u001b[0m             \u001b[1;32mtry\u001b[0m\u001b[1;33m:\u001b[0m\u001b[1;33m\u001b[0m\u001b[1;33m\u001b[0m\u001b[0m\n\u001b[0;32m    932\u001b[0m                 \u001b[1;32mif\u001b[0m \u001b[0mgetattr\u001b[0m\u001b[1;33m(\u001b[0m\u001b[0mself\u001b[0m\u001b[1;33m.\u001b[0m\u001b[0m_backend\u001b[0m\u001b[1;33m,\u001b[0m \u001b[1;34m'supports_timeout'\u001b[0m\u001b[1;33m,\u001b[0m \u001b[1;32mFalse\u001b[0m\u001b[1;33m)\u001b[0m\u001b[1;33m:\u001b[0m\u001b[1;33m\u001b[0m\u001b[1;33m\u001b[0m\u001b[0m\n\u001b[1;32m--> 933\u001b[1;33m                     \u001b[0mself\u001b[0m\u001b[1;33m.\u001b[0m\u001b[0m_output\u001b[0m\u001b[1;33m.\u001b[0m\u001b[0mextend\u001b[0m\u001b[1;33m(\u001b[0m\u001b[0mjob\u001b[0m\u001b[1;33m.\u001b[0m\u001b[0mget\u001b[0m\u001b[1;33m(\u001b[0m\u001b[0mtimeout\u001b[0m\u001b[1;33m=\u001b[0m\u001b[0mself\u001b[0m\u001b[1;33m.\u001b[0m\u001b[0mtimeout\u001b[0m\u001b[1;33m)\u001b[0m\u001b[1;33m)\u001b[0m\u001b[1;33m\u001b[0m\u001b[1;33m\u001b[0m\u001b[0m\n\u001b[0m\u001b[0;32m    934\u001b[0m                 \u001b[1;32melse\u001b[0m\u001b[1;33m:\u001b[0m\u001b[1;33m\u001b[0m\u001b[1;33m\u001b[0m\u001b[0m\n\u001b[0;32m    935\u001b[0m                     \u001b[0mself\u001b[0m\u001b[1;33m.\u001b[0m\u001b[0m_output\u001b[0m\u001b[1;33m.\u001b[0m\u001b[0mextend\u001b[0m\u001b[1;33m(\u001b[0m\u001b[0mjob\u001b[0m\u001b[1;33m.\u001b[0m\u001b[0mget\u001b[0m\u001b[1;33m(\u001b[0m\u001b[1;33m)\u001b[0m\u001b[1;33m)\u001b[0m\u001b[1;33m\u001b[0m\u001b[1;33m\u001b[0m\u001b[0m\n",
      "\u001b[1;32mC:\\Python39\\lib\\site-packages\\joblib\\_parallel_backends.py\u001b[0m in \u001b[0;36mwrap_future_result\u001b[1;34m(future, timeout)\u001b[0m\n\u001b[0;32m    540\u001b[0m         AsyncResults.get from multiprocessing.\"\"\"\n\u001b[0;32m    541\u001b[0m         \u001b[1;32mtry\u001b[0m\u001b[1;33m:\u001b[0m\u001b[1;33m\u001b[0m\u001b[1;33m\u001b[0m\u001b[0m\n\u001b[1;32m--> 542\u001b[1;33m             \u001b[1;32mreturn\u001b[0m \u001b[0mfuture\u001b[0m\u001b[1;33m.\u001b[0m\u001b[0mresult\u001b[0m\u001b[1;33m(\u001b[0m\u001b[0mtimeout\u001b[0m\u001b[1;33m=\u001b[0m\u001b[0mtimeout\u001b[0m\u001b[1;33m)\u001b[0m\u001b[1;33m\u001b[0m\u001b[1;33m\u001b[0m\u001b[0m\n\u001b[0m\u001b[0;32m    543\u001b[0m         \u001b[1;32mexcept\u001b[0m \u001b[0mCfTimeoutError\u001b[0m \u001b[1;32mas\u001b[0m \u001b[0me\u001b[0m\u001b[1;33m:\u001b[0m\u001b[1;33m\u001b[0m\u001b[1;33m\u001b[0m\u001b[0m\n\u001b[0;32m    544\u001b[0m             \u001b[1;32mraise\u001b[0m \u001b[0mTimeoutError\u001b[0m \u001b[1;32mfrom\u001b[0m \u001b[0me\u001b[0m\u001b[1;33m\u001b[0m\u001b[1;33m\u001b[0m\u001b[0m\n",
      "\u001b[1;32mC:\\Python39\\lib\\concurrent\\futures\\_base.py\u001b[0m in \u001b[0;36mresult\u001b[1;34m(self, timeout)\u001b[0m\n\u001b[0;32m    433\u001b[0m                 \u001b[1;32mreturn\u001b[0m \u001b[0mself\u001b[0m\u001b[1;33m.\u001b[0m\u001b[0m__get_result\u001b[0m\u001b[1;33m(\u001b[0m\u001b[1;33m)\u001b[0m\u001b[1;33m\u001b[0m\u001b[1;33m\u001b[0m\u001b[0m\n\u001b[0;32m    434\u001b[0m \u001b[1;33m\u001b[0m\u001b[0m\n\u001b[1;32m--> 435\u001b[1;33m             \u001b[0mself\u001b[0m\u001b[1;33m.\u001b[0m\u001b[0m_condition\u001b[0m\u001b[1;33m.\u001b[0m\u001b[0mwait\u001b[0m\u001b[1;33m(\u001b[0m\u001b[0mtimeout\u001b[0m\u001b[1;33m)\u001b[0m\u001b[1;33m\u001b[0m\u001b[1;33m\u001b[0m\u001b[0m\n\u001b[0m\u001b[0;32m    436\u001b[0m \u001b[1;33m\u001b[0m\u001b[0m\n\u001b[0;32m    437\u001b[0m             \u001b[1;32mif\u001b[0m \u001b[0mself\u001b[0m\u001b[1;33m.\u001b[0m\u001b[0m_state\u001b[0m \u001b[1;32min\u001b[0m \u001b[1;33m[\u001b[0m\u001b[0mCANCELLED\u001b[0m\u001b[1;33m,\u001b[0m \u001b[0mCANCELLED_AND_NOTIFIED\u001b[0m\u001b[1;33m]\u001b[0m\u001b[1;33m:\u001b[0m\u001b[1;33m\u001b[0m\u001b[1;33m\u001b[0m\u001b[0m\n",
      "\u001b[1;32mC:\\Python39\\lib\\threading.py\u001b[0m in \u001b[0;36mwait\u001b[1;34m(self, timeout)\u001b[0m\n\u001b[0;32m    310\u001b[0m         \u001b[1;32mtry\u001b[0m\u001b[1;33m:\u001b[0m    \u001b[1;31m# restore state no matter what (e.g., KeyboardInterrupt)\u001b[0m\u001b[1;33m\u001b[0m\u001b[1;33m\u001b[0m\u001b[0m\n\u001b[0;32m    311\u001b[0m             \u001b[1;32mif\u001b[0m \u001b[0mtimeout\u001b[0m \u001b[1;32mis\u001b[0m \u001b[1;32mNone\u001b[0m\u001b[1;33m:\u001b[0m\u001b[1;33m\u001b[0m\u001b[1;33m\u001b[0m\u001b[0m\n\u001b[1;32m--> 312\u001b[1;33m                 \u001b[0mwaiter\u001b[0m\u001b[1;33m.\u001b[0m\u001b[0macquire\u001b[0m\u001b[1;33m(\u001b[0m\u001b[1;33m)\u001b[0m\u001b[1;33m\u001b[0m\u001b[1;33m\u001b[0m\u001b[0m\n\u001b[0m\u001b[0;32m    313\u001b[0m                 \u001b[0mgotit\u001b[0m \u001b[1;33m=\u001b[0m \u001b[1;32mTrue\u001b[0m\u001b[1;33m\u001b[0m\u001b[1;33m\u001b[0m\u001b[0m\n\u001b[0;32m    314\u001b[0m             \u001b[1;32melse\u001b[0m\u001b[1;33m:\u001b[0m\u001b[1;33m\u001b[0m\u001b[1;33m\u001b[0m\u001b[0m\n",
      "\u001b[1;31mKeyboardInterrupt\u001b[0m: "
     ]
    }
   ],
   "source": [
    "import time\n",
    "import numpy as np\n",
    "from imblearn.pipeline import Pipeline \n",
    "from sklearn.model_selection import StratifiedKFold\n",
    "from sklearn.model_selection import RandomizedSearchCV\n",
    "from sklearn.model_selection import train_test_split\n",
    "from imblearn.over_sampling import SMOTE\n",
    "from imblearn.under_sampling import RandomUnderSampler\n",
    "# Import the model we are using\n",
    "from sklearn.ensemble import RandomForestClassifier\n",
    "\n",
    "import xgboost as xgb\n",
    "\n",
    "\n",
    "start_time = time.time()\n",
    "X_train, X_test, y_train, y_test = train_test_split(features,\n",
    "                                                    labels,\n",
    "                                                    test_size=0.2,\n",
    "                                                    stratify=labels)\n",
    "\n",
    "\n",
    "GXBoostPipeline = Pipeline(steps = [['smote', SMOTE(sampling_strategy = 0.1, n_jobs=-1)],\n",
    "                                    ['under', RandomUnderSampler()],\n",
    "                                ['classifier', xgb.XGBClassifier(n_jobs=-1)]])\n",
    "\n",
    "stratified_kfold = StratifiedKFold(n_splits=3,shuffle=True)\n",
    "\n",
    "# define search space\n",
    "space = dict()\n",
    "space['classifier__n_estimators'] = [450, 500, 550, 600, 650, 700, 750, 800, 850, 900]\n",
    "space['classifier__max_depth'] = [8, 9, 10, 11, 12, 13, 14, 15, 16, 17, 18, 19, 20]\n",
    "space['classifier__subsample'] = [0.7, 0.8, 0.9, 1.0]\n",
    "space['classifier__learning_rate'] = [0.17, 0.18, 0.19, 0.2]\n",
    "space['classifier__colsample_bytree'] = [0.4, 0.5, 0.6, 0.7, 0.8, 0.9]\n",
    "space['classifier__gamma'] = [0.01, 0.02, 0.03, 0.04, 0.05]\n",
    "\n",
    "GXBoostSearch = RandomizedSearchCV(estimator = GXBoostPipeline, \n",
    "                            param_distributions=space, \n",
    "                            n_iter=100, \n",
    "                            scoring='recall', \n",
    "                            n_jobs=-1, \n",
    "                            cv = stratified_kfold)\n",
    "\n",
    "optimizedGXBoostModel = GXBoostSearch.fit(X_train, y_train)\n",
    "\n",
    "elapsed_time = time.time() - start_time\n",
    "\n",
    "print(f\"Elapsed time to compute best fit: \"\n",
    "      f\"{elapsed_time:.3f} seconds\")"
   ]
  },
  {
   "cell_type": "code",
   "execution_count": null,
   "id": "indie-sheet",
   "metadata": {},
   "outputs": [],
   "source": [
    "cv_score = optimizedGXBoostModel.best_score_\n",
    "test_score = optimizedGXBoostModel.score(X_test, y_test)\n",
    "print(f'Cross-validation score: {cv_score}\\nTest score: {test_score}')\n",
    "print('Best Hyperparameters: %s' % optimizedGXBoostModel.best_params_)\n",
    "\n",
    "\n",
    "#Display the model performance    \n",
    "showModelPerformance(trainedModel = optimizedGXBoostModel, \n",
    "                     testFeatures = X_test, \n",
    "                     testLabels = y_test)"
   ]
  },
  {
   "cell_type": "markdown",
   "id": "shaped-startup",
   "metadata": {},
   "source": [
    "# Model - Pipeline for Light GBM"
   ]
  },
  {
   "cell_type": "code",
   "execution_count": null,
   "id": "popular-stock",
   "metadata": {},
   "outputs": [],
   "source": [
    "import time\n",
    "import numpy as np\n",
    "from imblearn.pipeline import Pipeline \n",
    "from sklearn.model_selection import StratifiedKFold\n",
    "from sklearn.model_selection import RandomizedSearchCV\n",
    "from sklearn.model_selection import train_test_split\n",
    "from imblearn.over_sampling import SMOTE\n",
    "from imblearn.under_sampling import RandomUnderSampler\n",
    "\n",
    "#Import feature selection stuff\n",
    "from sklearn.svm import LinearSVC\n",
    "from sklearn.feature_selection import SelectKBest, chi2, SelectFromModel\n",
    "\n",
    "# Import the model we are using\n",
    "import lightgbm as lgb\n",
    "\n",
    "\n",
    "start_time = time.time()\n",
    "X_train, X_test, y_train, y_test = train_test_split(features,\n",
    "                                                    labels,\n",
    "                                                    test_size=0.25,\n",
    "                                                    stratify=labels)\n",
    "\n",
    "\n",
    "LightGBMPipeline = Pipeline(steps = [['smote', SMOTE(sampling_strategy = 0.1, n_jobs=-1)],\n",
    "                                    ['under', RandomUnderSampler(sampling_strategy = 0.5)],\n",
    "                                ['classifier', lgb.LGBMClassifier(n_jobs=-1)]])\n",
    "\n",
    "stratified_kfold = StratifiedKFold(n_splits=3,shuffle=True)\n",
    "\n",
    "# define search space\n",
    "space = dict()\n",
    "space['classifier__num_leaves'] = [60, 70, 80, 90, 100]\n",
    "space['classifier__max_depth'] = [5, 6, 7, 8]\n",
    "space['classifier__min_data_in_leaf'] = [250, 500, 750, 1000, 1250, 1500]\n",
    "\n",
    "\n",
    "LightGBMSearch = RandomizedSearchCV(estimator = LightGBMPipeline, \n",
    "                            param_distributions=space, \n",
    "                            n_iter=100, \n",
    "                            scoring='f1', \n",
    "                            n_jobs=-1, \n",
    "                            cv = stratified_kfold)\n",
    "\n",
    "optimizedLightGBMModel = LightGBMSearch.fit(X_train, y_train)\n",
    "\n",
    "elapsed_time = time.time() - start_time\n",
    "\n",
    "print(f\"Elapsed time to compute best fit: \"\n",
    "      f\"{elapsed_time:.3f} seconds\")"
   ]
  },
  {
   "cell_type": "code",
   "execution_count": null,
   "id": "canadian-closing",
   "metadata": {},
   "outputs": [],
   "source": [
    "cv_score = optimizedLightGBMModel.best_score_\n",
    "test_score = optimizedLightGBMModel.score(X_test, y_test)\n",
    "print(f'Cross-validation score: {cv_score}\\nTest score: {test_score}')\n",
    "print('Best Hyperparameters: %s' % optimizedLightGBMModel.best_params_)\n",
    "\n",
    "\n",
    "#Display the model performance    \n",
    "showModelPerformance(trainedModel = optimizedLightGBMModel, \n",
    "                     testFeatures = X_test, \n",
    "                     testLabels = y_test)"
   ]
  },
  {
   "cell_type": "code",
   "execution_count": null,
   "id": "hidden-essay",
   "metadata": {},
   "outputs": [],
   "source": []
  }
 ],
 "metadata": {
  "kernelspec": {
   "display_name": "Python 3",
   "language": "python",
   "name": "python3"
  },
  "language_info": {
   "codemirror_mode": {
    "name": "ipython",
    "version": 3
   },
   "file_extension": ".py",
   "mimetype": "text/x-python",
   "name": "python",
   "nbconvert_exporter": "python",
   "pygments_lexer": "ipython3",
   "version": "3.9.2"
  }
 },
 "nbformat": 4,
 "nbformat_minor": 5
}
